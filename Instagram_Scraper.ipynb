{
 "cells": [
  {
   "cell_type": "markdown",
   "metadata": {
    "colab_type": "text",
    "id": "view-in-github"
   },
   "source": [
    "<a href=\"https://colab.research.google.com/github/ahmadhuzaifa/Instagram-scraper/blob/master/Instagram_Scraper.ipynb\" target=\"_parent\"><img src=\"https://colab.research.google.com/assets/colab-badge.svg\" alt=\"Open In Colab\"/></a>"
   ]
  },
  {
   "cell_type": "markdown",
   "metadata": {
    "colab_type": "text",
    "id": "mYMMeD7PBXIR"
   },
   "source": [
    "#Instagram Public Post Scraper\n",
    "Instagram-scraper is an application written in Python3 that scrapes and downloads instagram posts for puv Use responsibly.\n",
    "\n"
   ]
  },
  {
   "cell_type": "markdown",
   "metadata": {
    "colab_type": "text",
    "id": "ExHm2Lg2BjxZ"
   },
   "source": [
    "##Necessary Libraries\n",
    "This program was written in the language Python3 on Google Colab. Make sure the following are available for the program to run properly:\n",
    "- Selenium (3.141.0+)\n",
    "- chromium-chromedriver"
   ]
  },
  {
   "cell_type": "code",
   "execution_count": 18,
   "metadata": {
    "colab": {
     "base_uri": "https://localhost:8080/",
     "height": 1000
    },
    "colab_type": "code",
    "id": "gCTxXxmmyVi2",
    "outputId": "3f59fecf-efba-4934-f431-fadb7a873492"
   },
   "outputs": [
    {
     "name": "stdout",
     "output_type": "stream",
     "text": [
      "Requirement already satisfied: selenium in c:\\users\\imvee\\appdata\\local\\packages\\pythonsoftwarefoundation.python.3.9_qbz5n2kfra8p0\\localcache\\local-packages\\python39\\site-packages (4.4.3)\n",
      "Requirement already satisfied: trio-websocket~=0.9 in c:\\users\\imvee\\appdata\\local\\packages\\pythonsoftwarefoundation.python.3.9_qbz5n2kfra8p0\\localcache\\local-packages\\python39\\site-packages (from selenium) (0.9.2)\n",
      "Requirement already satisfied: trio~=0.17 in c:\\users\\imvee\\appdata\\local\\packages\\pythonsoftwarefoundation.python.3.9_qbz5n2kfra8p0\\localcache\\local-packages\\python39\\site-packages (from selenium) (0.21.0)\n",
      "Requirement already satisfied: certifi>=2021.10.8 in c:\\users\\imvee\\appdata\\local\\packages\\pythonsoftwarefoundation.python.3.9_qbz5n2kfra8p0\\localcache\\local-packages\\python39\\site-packages (from selenium) (2022.6.15)\n",
      "Requirement already satisfied: urllib3[socks]~=1.26 in c:\\users\\imvee\\appdata\\local\\packages\\pythonsoftwarefoundation.python.3.9_qbz5n2kfra8p0\\localcache\\local-packages\\python39\\site-packages (from selenium) (1.26.6)\n",
      "Requirement already satisfied: sortedcontainers in c:\\users\\imvee\\appdata\\local\\packages\\pythonsoftwarefoundation.python.3.9_qbz5n2kfra8p0\\localcache\\local-packages\\python39\\site-packages (from trio~=0.17->selenium) (2.4.0)\n",
      "Requirement already satisfied: async-generator>=1.9 in c:\\users\\imvee\\appdata\\local\\packages\\pythonsoftwarefoundation.python.3.9_qbz5n2kfra8p0\\localcache\\local-packages\\python39\\site-packages (from trio~=0.17->selenium) (1.10)\n",
      "Requirement already satisfied: sniffio in c:\\users\\imvee\\appdata\\local\\packages\\pythonsoftwarefoundation.python.3.9_qbz5n2kfra8p0\\localcache\\local-packages\\python39\\site-packages (from trio~=0.17->selenium) (1.2.0)\n",
      "Requirement already satisfied: cffi>=1.14 in c:\\users\\imvee\\appdata\\local\\packages\\pythonsoftwarefoundation.python.3.9_qbz5n2kfra8p0\\localcache\\local-packages\\python39\\site-packages (from trio~=0.17->selenium) (1.14.6)\n",
      "Requirement already satisfied: outcome in c:\\users\\imvee\\appdata\\local\\packages\\pythonsoftwarefoundation.python.3.9_qbz5n2kfra8p0\\localcache\\local-packages\\python39\\site-packages (from trio~=0.17->selenium) (1.2.0)\n",
      "Requirement already satisfied: attrs>=19.2.0 in c:\\users\\imvee\\appdata\\local\\packages\\pythonsoftwarefoundation.python.3.9_qbz5n2kfra8p0\\localcache\\local-packages\\python39\\site-packages (from trio~=0.17->selenium) (21.2.0)\n",
      "Requirement already satisfied: idna in c:\\users\\imvee\\appdata\\local\\packages\\pythonsoftwarefoundation.python.3.9_qbz5n2kfra8p0\\localcache\\local-packages\\python39\\site-packages (from trio~=0.17->selenium) (3.2)\n",
      "Requirement already satisfied: wsproto>=0.14 in c:\\users\\imvee\\appdata\\local\\packages\\pythonsoftwarefoundation.python.3.9_qbz5n2kfra8p0\\localcache\\local-packages\\python39\\site-packages (from trio-websocket~=0.9->selenium) (1.2.0)\n",
      "Requirement already satisfied: PySocks!=1.5.7,<2.0,>=1.5.6 in c:\\users\\imvee\\appdata\\local\\packages\\pythonsoftwarefoundation.python.3.9_qbz5n2kfra8p0\\localcache\\local-packages\\python39\\site-packages (from urllib3[socks]~=1.26->selenium) (1.7.1)\n",
      "Requirement already satisfied: pycparser in c:\\users\\imvee\\appdata\\local\\packages\\pythonsoftwarefoundation.python.3.9_qbz5n2kfra8p0\\localcache\\local-packages\\python39\\site-packages (from cffi>=1.14->trio~=0.17->selenium) (2.20)\n",
      "Requirement already satisfied: h11<1,>=0.9.0 in c:\\users\\imvee\\appdata\\local\\packages\\pythonsoftwarefoundation.python.3.9_qbz5n2kfra8p0\\localcache\\local-packages\\python39\\site-packages (from wsproto>=0.14->trio-websocket~=0.9->selenium) (0.13.0)\n",
      "Requirement already satisfied: selenium in c:\\users\\imvee\\appdata\\local\\packages\\pythonsoftwarefoundation.python.3.9_qbz5n2kfra8p0\\localcache\\local-packages\\python39\\site-packages (4.4.3)\n",
      "Requirement already satisfied: urllib3[socks]~=1.26 in c:\\users\\imvee\\appdata\\local\\packages\\pythonsoftwarefoundation.python.3.9_qbz5n2kfra8p0\\localcache\\local-packages\\python39\\site-packages (from selenium) (1.26.6)\n",
      "Requirement already satisfied: trio~=0.17 in c:\\users\\imvee\\appdata\\local\\packages\\pythonsoftwarefoundation.python.3.9_qbz5n2kfra8p0\\localcache\\local-packages\\python39\\site-packages (from selenium) (0.21.0)\n",
      "Requirement already satisfied: trio-websocket~=0.9 in c:\\users\\imvee\\appdata\\local\\packages\\pythonsoftwarefoundation.python.3.9_qbz5n2kfra8p0\\localcache\\local-packages\\python39\\site-packages (from selenium) (0.9.2)\n",
      "Requirement already satisfied: certifi>=2021.10.8 in c:\\users\\imvee\\appdata\\local\\packages\\pythonsoftwarefoundation.python.3.9_qbz5n2kfra8p0\\localcache\\local-packages\\python39\\site-packages (from selenium) (2022.6.15)\n",
      "Requirement already satisfied: cffi>=1.14 in c:\\users\\imvee\\appdata\\local\\packages\\pythonsoftwarefoundation.python.3.9_qbz5n2kfra8p0\\localcache\\local-packages\\python39\\site-packages (from trio~=0.17->selenium) (1.14.6)\n",
      "Requirement already satisfied: sortedcontainers in c:\\users\\imvee\\appdata\\local\\packages\\pythonsoftwarefoundation.python.3.9_qbz5n2kfra8p0\\localcache\\local-packages\\python39\\site-packages (from trio~=0.17->selenium) (2.4.0)\n",
      "Requirement already satisfied: attrs>=19.2.0 in c:\\users\\imvee\\appdata\\local\\packages\\pythonsoftwarefoundation.python.3.9_qbz5n2kfra8p0\\localcache\\local-packages\\python39\\site-packages (from trio~=0.17->selenium) (21.2.0)\n",
      "Requirement already satisfied: outcome in c:\\users\\imvee\\appdata\\local\\packages\\pythonsoftwarefoundation.python.3.9_qbz5n2kfra8p0\\localcache\\local-packages\\python39\\site-packages (from trio~=0.17->selenium) (1.2.0)\n",
      "Requirement already satisfied: async-generator>=1.9 in c:\\users\\imvee\\appdata\\local\\packages\\pythonsoftwarefoundation.python.3.9_qbz5n2kfra8p0\\localcache\\local-packages\\python39\\site-packages (from trio~=0.17->selenium) (1.10)\n",
      "Requirement already satisfied: sniffio in c:\\users\\imvee\\appdata\\local\\packages\\pythonsoftwarefoundation.python.3.9_qbz5n2kfra8p0\\localcache\\local-packages\\python39\\site-packages (from trio~=0.17->selenium) (1.2.0)\n",
      "Requirement already satisfied: idna in c:\\users\\imvee\\appdata\\local\\packages\\pythonsoftwarefoundation.python.3.9_qbz5n2kfra8p0\\localcache\\local-packages\\python39\\site-packages (from trio~=0.17->selenium) (3.2)\n",
      "Requirement already satisfied: wsproto>=0.14 in c:\\users\\imvee\\appdata\\local\\packages\\pythonsoftwarefoundation.python.3.9_qbz5n2kfra8p0\\localcache\\local-packages\\python39\\site-packages (from trio-websocket~=0.9->selenium) (1.2.0)\n",
      "Requirement already satisfied: PySocks!=1.5.7,<2.0,>=1.5.6 in c:\\users\\imvee\\appdata\\local\\packages\\pythonsoftwarefoundation.python.3.9_qbz5n2kfra8p0\\localcache\\local-packages\\python39\\site-packages (from urllib3[socks]~=1.26->selenium) (1.7.1)\n",
      "Requirement already satisfied: pycparser in c:\\users\\imvee\\appdata\\local\\packages\\pythonsoftwarefoundation.python.3.9_qbz5n2kfra8p0\\localcache\\local-packages\\python39\\site-packages (from cffi>=1.14->trio~=0.17->selenium) (2.20)\n",
      "Requirement already satisfied: h11<1,>=0.9.0 in c:\\users\\imvee\\appdata\\local\\packages\\pythonsoftwarefoundation.python.3.9_qbz5n2kfra8p0\\localcache\\local-packages\\python39\\site-packages (from wsproto>=0.14->trio-websocket~=0.9->selenium) (0.13.0)\n",
      "Requirement already satisfied: chromedriver-autoinstaller in c:\\users\\imvee\\appdata\\local\\packages\\pythonsoftwarefoundation.python.3.9_qbz5n2kfra8p0\\localcache\\local-packages\\python39\\site-packages (0.4.0)\n",
      "The syntax of the command is incorrect.\n",
      "selenium Version =  4.4.3\n"
     ]
    }
   ],
   "source": [
    "!pip3 install selenium\n",
    "!pip install selenium\n",
    "!pip install chromedriver-autoinstaller\n",
    "!copy /usr/lib/chromium-browser/chromedriver /usr/bin\n",
    "\n",
    "import sys\n",
    "import time \n",
    "import selenium \n",
    "\n",
    "sys.path.insert(0,'/usr/lib/chromium-browser/chromedriver')\n",
    "print(\"selenium Version = \", selenium.__version__)"
   ]
  },
  {
   "cell_type": "code",
   "execution_count": 19,
   "metadata": {},
   "outputs": [
    {
     "name": "stdout",
     "output_type": "stream",
     "text": [
      "Requirement already satisfied: webdriver-manager in c:\\users\\imvee\\appdata\\local\\packages\\pythonsoftwarefoundation.python.3.9_qbz5n2kfra8p0\\localcache\\local-packages\\python39\\site-packages (3.8.3)\n",
      "Requirement already satisfied: requests in c:\\users\\imvee\\appdata\\local\\packages\\pythonsoftwarefoundation.python.3.9_qbz5n2kfra8p0\\localcache\\local-packages\\python39\\site-packages (from webdriver-manager) (2.28.1)\n",
      "Requirement already satisfied: tqdm in c:\\users\\imvee\\appdata\\local\\packages\\pythonsoftwarefoundation.python.3.9_qbz5n2kfra8p0\\localcache\\local-packages\\python39\\site-packages (from webdriver-manager) (4.62.0)\n",
      "Requirement already satisfied: python-dotenv in c:\\users\\imvee\\appdata\\local\\packages\\pythonsoftwarefoundation.python.3.9_qbz5n2kfra8p0\\localcache\\local-packages\\python39\\site-packages (from webdriver-manager) (0.21.0)\n",
      "Requirement already satisfied: idna<4,>=2.5 in c:\\users\\imvee\\appdata\\local\\packages\\pythonsoftwarefoundation.python.3.9_qbz5n2kfra8p0\\localcache\\local-packages\\python39\\site-packages (from requests->webdriver-manager) (3.2)\n",
      "Requirement already satisfied: charset-normalizer<3,>=2 in c:\\users\\imvee\\appdata\\local\\packages\\pythonsoftwarefoundation.python.3.9_qbz5n2kfra8p0\\localcache\\local-packages\\python39\\site-packages (from requests->webdriver-manager) (2.0.3)\n",
      "Requirement already satisfied: urllib3<1.27,>=1.21.1 in c:\\users\\imvee\\appdata\\local\\packages\\pythonsoftwarefoundation.python.3.9_qbz5n2kfra8p0\\localcache\\local-packages\\python39\\site-packages (from requests->webdriver-manager) (1.26.6)\n",
      "Requirement already satisfied: certifi>=2017.4.17 in c:\\users\\imvee\\appdata\\local\\packages\\pythonsoftwarefoundation.python.3.9_qbz5n2kfra8p0\\localcache\\local-packages\\python39\\site-packages (from requests->webdriver-manager) (2022.6.15)\n",
      "Requirement already satisfied: colorama in c:\\users\\imvee\\appdata\\local\\packages\\pythonsoftwarefoundation.python.3.9_qbz5n2kfra8p0\\localcache\\local-packages\\python39\\site-packages (from tqdm->webdriver-manager) (0.4.4)\n"
     ]
    }
   ],
   "source": [
    "!pip install webdriver-manager"
   ]
  },
  {
   "cell_type": "code",
   "execution_count": 20,
   "metadata": {},
   "outputs": [
    {
     "name": "stderr",
     "output_type": "stream",
     "text": [
      "C:\\Users\\imvee\\AppData\\Local\\Temp/ipykernel_14620/2160715986.py:4: DeprecationWarning: executable_path has been deprecated, please pass in a Service object\n",
      "  driver = webdriver.Chrome(ChromeDriverManager().install())\n"
     ]
    }
   ],
   "source": [
    "from selenium import webdriver\n",
    "from webdriver_manager.chrome import ChromeDriverManager\n",
    "\n",
    "driver = webdriver.Chrome(ChromeDriverManager().install())"
   ]
  },
  {
   "cell_type": "code",
   "execution_count": 21,
   "metadata": {
    "colab": {
     "base_uri": "https://localhost:8080/",
     "height": 51
    },
    "colab_type": "code",
    "id": "w00dkB5TyXf4",
    "outputId": "37be6939-d176-4428-b50b-522d997d17a3"
   },
   "outputs": [
    {
     "name": "stderr",
     "output_type": "stream",
     "text": [
      "C:\\Users\\imvee\\AppData\\Local\\Temp/ipykernel_14620/2162131179.py:7: DeprecationWarning: executable_path has been deprecated, please pass in a Service object\n",
      "  browser = webdriver.Chrome(ChromeDriverManager().install())\n"
     ]
    }
   ],
   "source": [
    "from selenium import webdriver\n",
    "chrome_options = webdriver.ChromeOptions()\n",
    "chrome_options.add_argument('--headless')\n",
    "chrome_options.add_argument('--no-sandbox')\n",
    "chrome_options.add_argument('--disable-dev-shm-usage')\n",
    "# browser = webdriver.Chrome('chromedriver',chrome_options=chrome_options)\n",
    "browser = webdriver.Chrome(ChromeDriverManager().install())\n",
    "hashtag='food'\n",
    "# browser.get('https://www.instagram.com/explore/tags/'+hashtag)\n",
    "Pagelength = browser.execute_script(\"window.scrollTo(0, document.body.scrollHeight);\")"
   ]
  },
  {
   "cell_type": "code",
   "execution_count": 22,
   "metadata": {
    "colab": {},
    "colab_type": "code",
    "id": "xVbtcusFCctP"
   },
   "outputs": [],
   "source": [
    "import time\n",
    "import csv\n",
    "import re\n",
    "from selenium import webdriver\n",
    "from selenium.webdriver.common.keys import Keys\n",
    "\n",
    "chrome_options = webdriver.ChromeOptions()\n",
    "chrome_options.add_argument('--headless')\n",
    "chrome_options.add_argument('--no-sandbox')\n",
    "chrome_options.add_argument('--disable-dev-shm-usage')"
   ]
  },
  {
   "cell_type": "code",
   "execution_count": 23,
   "metadata": {
    "colab": {},
    "colab_type": "code",
    "id": "H2GypIMw3VAK"
   },
   "outputs": [],
   "source": [
    "class InstagramBot():\n",
    "    def __init__(self):\n",
    "      self.chrome_options = webdriver.ChromeOptions()\n",
    "      self.browser = webdriver.Chrome('chromedriver',chrome_options=chrome_options)\n",
    "      self.csvScrapedData = [[\"description\", \"weight\", \"location\", \"user\", \"time\", \"image\"]]\n",
    "      self.hashtag = \"\"\n",
    "      \n",
    "    def signIn(self, email, password):\n",
    "      print(\"Signing In\")\n",
    "      self.email = email\n",
    "      self.password = password\n",
    "      self.browser.get('https://www.instagram.com/accounts/login/')\n",
    "      emailInput = self.browser.find_elements_by_css_selector('form input')[0]\n",
    "      passwordInput = self.browser.find_elements_by_css_selector('form input')[1]\n",
    "      emailInput.send_keys(self.email)\n",
    "      passwordInput.send_keys(self.password)\n",
    "      passwordInput.send_keys(Keys.ENTER)\n",
    "      time.sleep(2)\n",
    "    \n",
    "    def scrape(self, url):\n",
    "      self.browser.get(url)\n",
    "      self.browser.execute_script(\"window.scrollTo(0, document.body.scrollHeight);\")\n",
    "      elements = self.browser.find_elements_by_xpath(\"//div[@class='v1Nh3 kIKUG  _bz0w']\")\n",
    "      hrefElements = self.browser.find_elements_by_xpath(\"//div[@class='v1Nh3 kIKUG  _bz0w']/a\")\n",
    "      elements_link = [x.get_attribute(\"href\") for x in hrefElements]\n",
    "      for elements in elements_link:\n",
    "        self.scrapePost(elements)\n",
    " \n",
    "    def scrapePost(self, url):\n",
    "      self.browser.get(url)\n",
    "      print(\"Scraping Post: \" + url)\n",
    "      try: \n",
    "        location_element = self.browser.find_element_by_xpath(\"//a[@class='O4GlU']\").text\n",
    "        location_element = location_element.replace(\",\", \" \")\n",
    "        user_element = self.browser.find_element_by_xpath(\"//a[@class='FPmhX notranslate nJAzx']\")\n",
    "        user_element_text = user_element.text\n",
    "        user_element_text = user_element_text.replace(\",\", \" \")\n",
    "        user_element_link = user_element.get_attribute(\"href\")\n",
    "        try:\n",
    "          desc_element = self.browser.find_element_by_xpath(\"//div[@class='C4VMK']/span\")\n",
    "          desc_text = desc_element.text\n",
    "          desc_text = desc_text.replace(\"\\n\", \" \")\n",
    "          desc_text = desc_text.replace(\",\", \" \")\n",
    "        except:\n",
    "          desc_text = \" \"\n",
    "          pass\n",
    "        try: \n",
    "          timestamp_element = self.browser.find_element_by_xpath(\"//div[@class='k_Q0X NnvRN']/a/time\")\n",
    "          timestamp = timestamp_element.get_attribute(\"datetime\")\n",
    "          timestamp = timestamp.replace(\"\\n\", \" \")\n",
    "          timestamp = timestamp.replace(\",\", \" \")\n",
    "        except:\n",
    "          timestamp = \" \"\n",
    "          pass    \n",
    "        try:\n",
    "          likes_element = self.browser.find_element_by_xpath(\"//a[@class='zV_Nj']/span\").text\n",
    "          likes_element = likes_element.replace(\",\", \"\")\n",
    "          no_of_likes = int(likes_element)\n",
    "          followerCount = self.findFollowerCount(user_element_link)\n",
    "          weight = no_of_likes/followerCount\n",
    "        except:\n",
    "          weight = 0\n",
    "          pass\n",
    "        image_url = self.findImage()\n",
    "        self.scrapedData = [desc_text, weight ,location_element, user_element_text, timestamp, image_url]\n",
    "        print(self.scrapedData)\n",
    "        self.csvScrapedData.append(self.scrapedData)\n",
    "      except:\n",
    "        pass\n",
    "      \n",
    "       \n",
    "    def findImage(self):\n",
    "      image_element = self.browser.find_element_by_xpath(\"//div[@class='KL4Bh']/img\")\n",
    "      image_element_link = image_element.get_attribute(\"src\")\n",
    "      return image_element_link\n",
    "\n",
    "   \n",
    "    def findFollowerCount(self, userURL):\n",
    "      self.browser.get(userURL)\n",
    "      followers_count_int = 0 \n",
    "      try:\n",
    "        count_element = self.browser.find_elements_by_xpath(\"//span[@class='g47SY ']\")\n",
    "        followers_count = count_element[1].get_attribute(\"title\")\n",
    "        followers_count = followers_count.replace(\",\", \"\")\n",
    "        followers_count_int = int(followers_count)\n",
    "      except:\n",
    "          pass    \n",
    "      return followers_count_int\n",
    "    \n",
    "    \n",
    "    def scrapeWithHashtags(self, hashtags):\n",
    "      for hashtag in hashtags:\n",
    "        self.hashtag = hashtag\n",
    "        print(\"-----------Scraping the hashtag '\" + hashtag +\"' -----------\")\n",
    "        url = 'https://www.instagram.com/explore/tags/' + hashtag\n",
    "        self.scrape(url)\n",
    "        \n",
    "    def exportCSVFile(self):\n",
    "      csv.register_dialect('myDialect', quoting=csv.QUOTE_ALL, skipinitialspace=True)\n",
    "      with open('csvScrapedData.csv', 'w') as f:\n",
    "        writer = csv.writer(f, dialect='myDialect')\n",
    "        for row in self.csvScrapedData:\n",
    "          writer.writerow(row)\n",
    "      f.close()\n",
    "      \n"
   ]
  },
  {
   "cell_type": "code",
   "execution_count": null,
   "metadata": {
    "colab": {
     "base_uri": "https://localhost:8080/",
     "height": 867
    },
    "colab_type": "code",
    "id": "sxQ3i-0llcDd",
    "outputId": "e3628f92-273e-4137-b569-5e69e64e6530"
   },
   "outputs": [],
   "source": [
    "scrape_type = input(\"Do you want to scrape any private posts [y/n]:\\n\")\n",
    "hashtags = ['dog']\n",
    "bot = InstagramBot()\n",
    "\n",
    "if scrape_type == \"y\":\n",
    "  username = input(\"What's your email?\\n\")\n",
    "  password = input(\"What's your password?\\n\")\n",
    "  bot.signIn(username, password)\n",
    "elif scrape_type == \"n\":\n",
    "  pass\n",
    "else:\n",
    "  sys.exit(\"No valid Input\")\n",
    "\n",
    "bot.scrapeWithHashtags(hashtags)\n",
    "bot.exportCSVFile()\n"
   ]
  }
 ],
 "metadata": {
  "colab": {
   "collapsed_sections": [],
   "include_colab_link": true,
   "name": "Instagram Scraper.ipynb",
   "provenance": [],
   "toc_visible": true
  },
  "kernelspec": {
   "display_name": "Python 3 (ipykernel)",
   "language": "python",
   "name": "python3"
  },
  "language_info": {
   "codemirror_mode": {
    "name": "ipython",
    "version": 3
   },
   "file_extension": ".py",
   "mimetype": "text/x-python",
   "name": "python",
   "nbconvert_exporter": "python",
   "pygments_lexer": "ipython3",
   "version": "3.9.13"
  }
 },
 "nbformat": 4,
 "nbformat_minor": 1
}
