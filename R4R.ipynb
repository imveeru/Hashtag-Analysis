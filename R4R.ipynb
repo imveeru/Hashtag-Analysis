{
 "cells": [
  {
   "cell_type": "markdown",
   "id": "241a4fd8",
   "metadata": {},
   "source": [
    "# Hashtag Analysis"
   ]
  },
  {
   "cell_type": "markdown",
   "id": "9eda20bc",
   "metadata": {},
   "source": [
    "## Importing Packages"
   ]
  },
  {
   "cell_type": "code",
   "execution_count": 1,
   "id": "d3a2c643",
   "metadata": {},
   "outputs": [
    {
     "name": "stderr",
     "output_type": "stream",
     "text": [
      "Using state Tamil Nadu server backend.\n"
     ]
    }
   ],
   "source": [
    "import tweepy\n",
    "import configparser\n",
    "import pandas as pd\n",
    "import translators as ts"
   ]
  },
  {
   "cell_type": "markdown",
   "id": "33e55eeb",
   "metadata": {},
   "source": [
    "## Initial Configurations"
   ]
  },
  {
   "cell_type": "code",
   "execution_count": 2,
   "id": "2efad5a2",
   "metadata": {},
   "outputs": [
    {
     "data": {
      "text/plain": [
       "['config.ini']"
      ]
     },
     "execution_count": 2,
     "metadata": {},
     "output_type": "execute_result"
    }
   ],
   "source": [
    "config = configparser.ConfigParser()\n",
    "config.read('config.ini')"
   ]
  },
  {
   "cell_type": "code",
   "execution_count": 3,
   "id": "6db0eade",
   "metadata": {},
   "outputs": [],
   "source": [
    "api_key = config['twitter']['api_key']\n",
    "api_key_secret = config['twitter']['api_key_secret']"
   ]
  },
  {
   "cell_type": "code",
   "execution_count": 4,
   "id": "98673dd3",
   "metadata": {
    "scrolled": false
   },
   "outputs": [],
   "source": [
    "auth = tweepy.OAuth2AppHandler(\n",
    "    api_key ,\n",
    "    api_key_secret\n",
    ")\n",
    "api = tweepy.API(auth)"
   ]
  },
  {
   "cell_type": "markdown",
   "id": "4bf5a5ef",
   "metadata": {},
   "source": [
    "## Fetching Data"
   ]
  },
  {
   "cell_type": "code",
   "execution_count": 17,
   "id": "da110812",
   "metadata": {},
   "outputs": [],
   "source": [
    "keywords = '#Ready4Rishi'\n",
    "limit=30000"
   ]
  },
  {
   "cell_type": "code",
   "execution_count": 18,
   "id": "3a0189c6",
   "metadata": {},
   "outputs": [],
   "source": [
    "tweets = tweepy.Cursor(api.search_tweets, q=keywords, count=100, tweet_mode='extended').items(limit)"
   ]
  },
  {
   "cell_type": "code",
   "execution_count": 19,
   "id": "7949635f",
   "metadata": {},
   "outputs": [
    {
     "data": {
      "text/plain": [
       "<tweepy.cursor.ItemIterator at 0x1be0c801400>"
      ]
     },
     "execution_count": 19,
     "metadata": {},
     "output_type": "execute_result"
    }
   ],
   "source": [
    "tweets"
   ]
  },
  {
   "cell_type": "code",
   "execution_count": 20,
   "id": "09dca9ee",
   "metadata": {},
   "outputs": [],
   "source": [
    "columns = ['UserID', 'Name', 'Tweet', 'Mentions','Created At','Retweet', 'Likes','Location', 'Translated']\n",
    "data = []"
   ]
  },
  {
   "cell_type": "code",
   "execution_count": null,
   "id": "6e23103e",
   "metadata": {
    "scrolled": false
   },
   "outputs": [],
   "source": [
    "for tweet in tweets:\n",
    "    #print(tweet._json)\n",
    "    tweet_mentions=[]\n",
    "    a=tweet.entities\n",
    "    data.append([tweet.user.screen_name, tweet.user.name, tweet.full_text, tweet.entities, tweet.created_at, None, tweet.favorite_count, tweet.user._json[\"location\"],None])"
   ]
  },
  {
   "cell_type": "code",
   "execution_count": null,
   "id": "921332f1",
   "metadata": {
    "scrolled": true
   },
   "outputs": [],
   "source": [
    "df = pd.DataFrame(data, columns=columns)\n",
    "df.head(3)"
   ]
  },
  {
   "cell_type": "code",
   "execution_count": null,
   "id": "7ce9ff87",
   "metadata": {
    "scrolled": false
   },
   "outputs": [],
   "source": [
    "#data"
   ]
  },
  {
   "cell_type": "markdown",
   "id": "dbfb201f",
   "metadata": {},
   "source": [
    "## Extracting User Mentions and Retweet Status"
   ]
  },
  {
   "cell_type": "code",
   "execution_count": null,
   "id": "76348a52",
   "metadata": {},
   "outputs": [],
   "source": [
    "for i in range(len(data)):\n",
    "    \n",
    "    #extracting mentions\n",
    "    \n",
    "    tempMention=[data[i][3]['user_mentions'][j]['name'] for j in range(len(data[i][3]['user_mentions']))]\n",
    "    #print(tempMention)\n",
    "    data[i][3]=tempMention\n",
    "    \n",
    "    #extracting retweet status and updating tweet content\n",
    "    tempTxt=data[i][2][:2]\n",
    "    if tempTxt==\"RT\":\n",
    "        data[i][5]=1\n",
    "        data[i][2]=data[i][2][3:]\n",
    "    else:\n",
    "        data[i][5]=0\n",
    "        "
   ]
  },
  {
   "cell_type": "code",
   "execution_count": null,
   "id": "e26002ad",
   "metadata": {},
   "outputs": [],
   "source": [
    "df = pd.DataFrame(data, columns=columns)\n",
    "df"
   ]
  },
  {
   "cell_type": "code",
   "execution_count": null,
   "id": "9a523d09",
   "metadata": {},
   "outputs": [],
   "source": [
    "df.to_csv('twitter_data_r4r.csv')"
   ]
  }
 ],
 "metadata": {
  "kernelspec": {
   "display_name": "Python 3 (ipykernel)",
   "language": "python",
   "name": "python3"
  },
  "language_info": {
   "codemirror_mode": {
    "name": "ipython",
    "version": 3
   },
   "file_extension": ".py",
   "mimetype": "text/x-python",
   "name": "python",
   "nbconvert_exporter": "python",
   "pygments_lexer": "ipython3",
   "version": "3.9.13"
  }
 },
 "nbformat": 4,
 "nbformat_minor": 5
}
