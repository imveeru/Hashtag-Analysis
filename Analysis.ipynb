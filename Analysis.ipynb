{
 "cells": [
  {
   "cell_type": "markdown",
   "id": "0795b2f8",
   "metadata": {},
   "source": [
    "# Analysis of Extracted Data"
   ]
  },
  {
   "cell_type": "markdown",
   "id": "73857a5a",
   "metadata": {},
   "source": [
    "### Importing the CSV"
   ]
  },
  {
   "cell_type": "code",
   "execution_count": 138,
   "id": "cbd70274",
   "metadata": {},
   "outputs": [],
   "source": [
    "import pandas as pd\n",
    "import numpy as np\n",
    "import matplotlib.pyplot as plt"
   ]
  },
  {
   "cell_type": "code",
   "execution_count": 139,
   "id": "a449496c",
   "metadata": {},
   "outputs": [],
   "source": [
    "tweet_df=pd.read_csv('twitter_data.csv')"
   ]
  },
  {
   "cell_type": "code",
   "execution_count": 140,
   "id": "e57035b6",
   "metadata": {},
   "outputs": [
    {
     "data": {
      "text/html": [
       "<div>\n",
       "<style scoped>\n",
       "    .dataframe tbody tr th:only-of-type {\n",
       "        vertical-align: middle;\n",
       "    }\n",
       "\n",
       "    .dataframe tbody tr th {\n",
       "        vertical-align: top;\n",
       "    }\n",
       "\n",
       "    .dataframe thead th {\n",
       "        text-align: right;\n",
       "    }\n",
       "</style>\n",
       "<table border=\"1\" class=\"dataframe\">\n",
       "  <thead>\n",
       "    <tr style=\"text-align: right;\">\n",
       "      <th></th>\n",
       "      <th>Unnamed: 0</th>\n",
       "      <th>UserID</th>\n",
       "      <th>Name</th>\n",
       "      <th>Tweet</th>\n",
       "      <th>Mentions</th>\n",
       "      <th>Created At</th>\n",
       "      <th>Retweet</th>\n",
       "      <th>Likes</th>\n",
       "      <th>Location</th>\n",
       "    </tr>\n",
       "  </thead>\n",
       "  <tbody>\n",
       "    <tr>\n",
       "      <th>0</th>\n",
       "      <td>0</td>\n",
       "      <td>5125_uttam</td>\n",
       "      <td>UTTAM SALUNKE</td>\n",
       "      <td>@VanchitRuttank: #HarGharTiranga \\nहा राष्ट्री...</td>\n",
       "      <td>['वंचित वृत्तांक अधिकृत', 'Prakash Ambedkar']</td>\n",
       "      <td>2022-09-02 19:00:51+00:00</td>\n",
       "      <td>1</td>\n",
       "      <td>0</td>\n",
       "      <td>NaN</td>\n",
       "    </tr>\n",
       "    <tr>\n",
       "      <th>1</th>\n",
       "      <td>1</td>\n",
       "      <td>Sangeeta_IND92</td>\n",
       "      <td>Sangeeta Tiwari</td>\n",
       "      <td>@AbhishektiBJP: #HarGharTiranga ....तिरंगा हमा...</td>\n",
       "      <td>['Abhishek Tiwari']</td>\n",
       "      <td>2022-09-02 18:57:07+00:00</td>\n",
       "      <td>1</td>\n",
       "      <td>0</td>\n",
       "      <td>NaN</td>\n",
       "    </tr>\n",
       "    <tr>\n",
       "      <th>2</th>\n",
       "      <td>2</td>\n",
       "      <td>profpicturebot</td>\n",
       "      <td>Bot</td>\n",
       "      <td>@AbhishektiBJP: #NewProfilePic\\n\"तिरंगा हमें ज...</td>\n",
       "      <td>['Abhishek Tiwari']</td>\n",
       "      <td>2022-09-02 18:57:04+00:00</td>\n",
       "      <td>1</td>\n",
       "      <td>0</td>\n",
       "      <td>location</td>\n",
       "    </tr>\n",
       "    <tr>\n",
       "      <th>3</th>\n",
       "      <td>3</td>\n",
       "      <td>Sangeeta_IND92</td>\n",
       "      <td>Sangeeta Tiwari</td>\n",
       "      <td>@AbhishektiBJP: #NewProfilePic\\n\"तिरंगा हमें ज...</td>\n",
       "      <td>['Abhishek Tiwari']</td>\n",
       "      <td>2022-09-02 18:57:01+00:00</td>\n",
       "      <td>1</td>\n",
       "      <td>0</td>\n",
       "      <td>NaN</td>\n",
       "    </tr>\n",
       "    <tr>\n",
       "      <th>4</th>\n",
       "      <td>4</td>\n",
       "      <td>Sangeeta_IND92</td>\n",
       "      <td>Sangeeta Tiwari</td>\n",
       "      <td>@AbhishektiBJP: भारत के राष्ट्रीय ध्वज के रचना...</td>\n",
       "      <td>['Abhishek Tiwari']</td>\n",
       "      <td>2022-09-02 18:56:50+00:00</td>\n",
       "      <td>1</td>\n",
       "      <td>0</td>\n",
       "      <td>NaN</td>\n",
       "    </tr>\n",
       "  </tbody>\n",
       "</table>\n",
       "</div>"
      ],
      "text/plain": [
       "   Unnamed: 0          UserID             Name  \\\n",
       "0           0      5125_uttam    UTTAM SALUNKE   \n",
       "1           1  Sangeeta_IND92  Sangeeta Tiwari   \n",
       "2           2  profpicturebot              Bot   \n",
       "3           3  Sangeeta_IND92  Sangeeta Tiwari   \n",
       "4           4  Sangeeta_IND92  Sangeeta Tiwari   \n",
       "\n",
       "                                               Tweet  \\\n",
       "0  @VanchitRuttank: #HarGharTiranga \\nहा राष्ट्री...   \n",
       "1  @AbhishektiBJP: #HarGharTiranga ....तिरंगा हमा...   \n",
       "2  @AbhishektiBJP: #NewProfilePic\\n\"तिरंगा हमें ज...   \n",
       "3  @AbhishektiBJP: #NewProfilePic\\n\"तिरंगा हमें ज...   \n",
       "4  @AbhishektiBJP: भारत के राष्ट्रीय ध्वज के रचना...   \n",
       "\n",
       "                                        Mentions                 Created At  \\\n",
       "0  ['वंचित वृत्तांक अधिकृत', 'Prakash Ambedkar']  2022-09-02 19:00:51+00:00   \n",
       "1                            ['Abhishek Tiwari']  2022-09-02 18:57:07+00:00   \n",
       "2                            ['Abhishek Tiwari']  2022-09-02 18:57:04+00:00   \n",
       "3                            ['Abhishek Tiwari']  2022-09-02 18:57:01+00:00   \n",
       "4                            ['Abhishek Tiwari']  2022-09-02 18:56:50+00:00   \n",
       "\n",
       "   Retweet  Likes  Location  \n",
       "0        1      0       NaN  \n",
       "1        1      0       NaN  \n",
       "2        1      0  location  \n",
       "3        1      0       NaN  \n",
       "4        1      0       NaN  "
      ]
     },
     "execution_count": 140,
     "metadata": {},
     "output_type": "execute_result"
    }
   ],
   "source": [
    "tweet_df.head()"
   ]
  },
  {
   "cell_type": "code",
   "execution_count": 141,
   "id": "c95325db",
   "metadata": {},
   "outputs": [],
   "source": [
    "#tweet_df[\"Mentions\"]=tweet_df[\"Mentions\"].apply(lambda d: d[1:-1])"
   ]
  },
  {
   "cell_type": "code",
   "execution_count": 142,
   "id": "e44c7e9e",
   "metadata": {},
   "outputs": [
    {
     "data": {
      "text/plain": [
       "(35947, 9)"
      ]
     },
     "execution_count": 142,
     "metadata": {},
     "output_type": "execute_result"
    }
   ],
   "source": [
    "tweet_df.shape"
   ]
  },
  {
   "cell_type": "code",
   "execution_count": 143,
   "id": "d47670cf",
   "metadata": {},
   "outputs": [
    {
     "data": {
      "text/plain": [
       "4945"
      ]
     },
     "execution_count": 143,
     "metadata": {},
     "output_type": "execute_result"
    }
   ],
   "source": [
    "max(tweet_df[\"Likes\"].values)"
   ]
  },
  {
   "cell_type": "code",
   "execution_count": 144,
   "id": "dc31a752",
   "metadata": {},
   "outputs": [
    {
     "data": {
      "text/plain": [
       "BaramullaNyk       1535\n",
       "YuvaGurdaspur      1215\n",
       "NYKAnantnag         886\n",
       "Andhravilasnews     752\n",
       "nyk_budgam          550\n",
       "                   ... \n",
       "sandeep30766558       1\n",
       "Aaaaaaa48043398       1\n",
       "onlyiffat             1\n",
       "rpfpchgyd             1\n",
       "BharatPhonde5         1\n",
       "Name: UserID, Length: 12253, dtype: int64"
      ]
     },
     "execution_count": 144,
     "metadata": {},
     "output_type": "execute_result"
    }
   ],
   "source": [
    "tweet_df[\"UserID\"].value_counts()"
   ]
  },
  {
   "cell_type": "code",
   "execution_count": 145,
   "id": "ad1c0323",
   "metadata": {},
   "outputs": [
    {
     "data": {
      "text/plain": [
       "['Narendra Modi']                     2609\n",
       "['NYKS India']                        1932\n",
       "[]                                    1672\n",
       "['Dera Sacha Sauda']                   901\n",
       "['Amrit Mahotsav']                     814\n",
       "['Pawan Kalyan', 'Amrit Mahotsav']     489\n",
       "['SMG Haryana']                        448\n",
       "['Mahesh Babu']                        432\n",
       "['Bhāratvarṣam']                       399\n",
       "['Blue Chip']                          365\n",
       "Name: Mentions, dtype: int64"
      ]
     },
     "execution_count": 145,
     "metadata": {},
     "output_type": "execute_result"
    }
   ],
   "source": [
    "top_mentions=tweet_df[\"Mentions\"].value_counts()[:10]\n",
    "top_mentions"
   ]
  },
  {
   "cell_type": "code",
   "execution_count": 146,
   "id": "9d4899fd",
   "metadata": {},
   "outputs": [
    {
     "data": {
      "text/plain": [
       "1    33680\n",
       "0     2267\n",
       "Name: Retweet, dtype: int64"
      ]
     },
     "execution_count": 146,
     "metadata": {},
     "output_type": "execute_result"
    }
   ],
   "source": [
    "tweet_df[\"Retweet\"].value_counts()"
   ]
  },
  {
   "cell_type": "code",
   "execution_count": 147,
   "id": "867f3a67",
   "metadata": {},
   "outputs": [
    {
     "data": {
      "text/plain": [
       "BaramullaNyk       1535\n",
       "YuvaGurdaspur      1215\n",
       "NYKAnantnag         886\n",
       "Andhravilasnews     752\n",
       "nyk_budgam          550\n",
       "RahulVerma1971      504\n",
       "nyks_doda           488\n",
       "therkmalviya        473\n",
       "nykkinnaur          399\n",
       "JammuNehru          363\n",
       "Name: UserID, dtype: int64"
      ]
     },
     "execution_count": 147,
     "metadata": {},
     "output_type": "execute_result"
    }
   ],
   "source": [
    "topUsers=tweet_df[\"UserID\"].value_counts()[:10]\n",
    "topUsers"
   ]
  },
  {
   "cell_type": "markdown",
   "id": "f1ebd3a1",
   "metadata": {},
   "source": [
    "### Visualizing Data"
   ]
  },
  {
   "cell_type": "code",
   "execution_count": 148,
   "id": "c31e8baf",
   "metadata": {},
   "outputs": [
    {
     "data": {
      "image/png": "[encoded data removed]",
      "text/plain": [
       "<Figure size 864x432 with 1 Axes>"
      ]
     },
     "metadata": {
      "needs_background": "light"
     },
     "output_type": "display_data"
    }
   ],
   "source": [
    "plt.figure(figsize=(12,6))\n",
    "topUsers.plot.bar();\n",
    "plt.title(\"Users with most no. of Tweets\")\n",
    "plt.show()"
   ]
  },
  {
   "cell_type": "code",
   "execution_count": 149,
   "id": "8c8be705",
   "metadata": {},
   "outputs": [
    {
     "data": {
      "image/png": "[encoded data removed]",
      "text/plain": [
       "<Figure size 864x432 with 1 Axes>"
      ]
     },
     "metadata": {
      "needs_background": "light"
     },
     "output_type": "display_data"
    }
   ],
   "source": [
    "plt.figure(figsize=(12,6))\n",
    "top_mentions.plot.bar();\n",
    "plt.title(\"Users with most no. of Mentions\")\n",
    "plt.show()"
   ]
  },
  {
   "cell_type": "code",
   "execution_count": 150,
   "id": "d75ae320",
   "metadata": {},
   "outputs": [
    {
     "data": {
      "image/png": "[encoded data removed]",
      "text/plain": [
       "<Figure size 864x432 with 1 Axes>"
      ]
     },
     "metadata": {
      "needs_background": "light"
     },
     "output_type": "display_data"
    }
   ],
   "source": [
    "rtVsT=tweet_df[\"Retweet\"].value_counts()\n",
    "plt.figure(figsize=(12,6))\n",
    "rtVsT.plot.bar();\n",
    "plt.title(\"Retweet Vs Normal Tweet\")\n",
    "plt.show()"
   ]
  },
  {
   "cell_type": "markdown",
   "id": "d336ebdd",
   "metadata": {},
   "source": [
    "## Translating"
   ]
  },
  {
   "cell_type": "code",
   "execution_count": 151,
   "id": "b95a94c3",
   "metadata": {},
   "outputs": [],
   "source": [
    "from googletrans import Translator"
   ]
  },
  {
   "cell_type": "code",
   "execution_count": 152,
   "id": "6097f9b1",
   "metadata": {},
   "outputs": [],
   "source": [
    "translator=Translator()"
   ]
  },
  {
   "cell_type": "code",
   "execution_count": 153,
   "id": "6423fb64",
   "metadata": {},
   "outputs": [],
   "source": [
    "from deep_translator import GoogleTranslator"
   ]
  },
  {
   "cell_type": "code",
   "execution_count": 154,
   "id": "7e836660",
   "metadata": {},
   "outputs": [
    {
     "data": {
      "text/plain": [
       "'keep it up, you are awesome'"
      ]
     },
     "execution_count": 154,
     "metadata": {},
     "output_type": "execute_result"
    }
   ],
   "source": [
    "GoogleTranslator(source='auto', target='en').translate(\"keep it up, you are awesome\")"
   ]
  },
  {
   "cell_type": "code",
   "execution_count": 155,
   "id": "6ca1031b",
   "metadata": {},
   "outputs": [],
   "source": [
    "translated_tweets=[]"
   ]
  },
  {
   "cell_type": "code",
   "execution_count": 156,
   "id": "b9b444f4",
   "metadata": {},
   "outputs": [
    {
     "data": {
      "text/plain": [
       "35947"
      ]
     },
     "execution_count": 156,
     "metadata": {},
     "output_type": "execute_result"
    }
   ],
   "source": [
    "tweets_text=np.array(tweet_df[\"Tweet\"])\n",
    "len(tweets_text)"
   ]
  },
  {
   "cell_type": "code",
   "execution_count": 157,
   "id": "30bb1547",
   "metadata": {},
   "outputs": [],
   "source": [
    "from translate import Translator"
   ]
  },
  {
   "cell_type": "code",
   "execution_count": 158,
   "id": "e5f84c45",
   "metadata": {},
   "outputs": [],
   "source": [
    "translator= Translator(to_lang=\"en\")"
   ]
  },
  {
   "cell_type": "code",
   "execution_count": 159,
   "id": "2d5816de",
   "metadata": {},
   "outputs": [
    {
     "name": "stdout",
     "output_type": "stream",
     "text": [
      "Wall time: 20 ms\n"
     ]
    }
   ],
   "source": [
    "%%time\n",
    "for i in range(len(tweets_text)):\n",
    "    translated=translator.translate(tweets_text[i])\n",
    "    translated_tweets.append(translated)"
   ]
  },
  {
   "cell_type": "code",
   "execution_count": 160,
   "id": "8f0df16e",
   "metadata": {},
   "outputs": [
    {
     "data": {
      "text/plain": [
       "35947"
      ]
     },
     "execution_count": 160,
     "metadata": {},
     "output_type": "execute_result"
    }
   ],
   "source": [
    "len(translated_tweets)"
   ]
  },
  {
   "cell_type": "code",
   "execution_count": 161,
   "id": "09c8aea6",
   "metadata": {},
   "outputs": [],
   "source": [
    "from vaderSentiment.vaderSentiment import SentimentIntensityAnalyzer\n",
    "sentiment = SentimentIntensityAnalyzer()"
   ]
  },
  {
   "cell_type": "code",
   "execution_count": 162,
   "id": "6ab8165e",
   "metadata": {},
   "outputs": [],
   "source": [
    "sentiments=[]\n",
    "for i in range(len(translated_tweets)):\n",
    "    sent=sentiment.polarity_scores(translated_tweets[i])\n",
    "    if sent[\"compound\"]>=0.05:\n",
    "        res=\"Positive\"\n",
    "    elif sent[\"compound\"]<=-0.05:\n",
    "        res=\"Negative\"\n",
    "    else:\n",
    "        res=\"Neutral\"\n",
    "    sentiments.append(res)"
   ]
  },
  {
   "cell_type": "code",
   "execution_count": 163,
   "id": "9fd7eadd",
   "metadata": {},
   "outputs": [],
   "source": [
    "labels,values=np.unique(sentiments,return_counts=True)"
   ]
  },
  {
   "cell_type": "code",
   "execution_count": 164,
   "id": "1cc861b9",
   "metadata": {},
   "outputs": [
    {
     "data": {
      "text/plain": [
       "array(['Negative', 'Neutral', 'Positive'], dtype='<U8')"
      ]
     },
     "execution_count": 164,
     "metadata": {},
     "output_type": "execute_result"
    }
   ],
   "source": [
    "labels"
   ]
  },
  {
   "cell_type": "code",
   "execution_count": 165,
   "id": "a564e70d",
   "metadata": {},
   "outputs": [
    {
     "data": {
      "text/plain": [
       "array([ 1978, 22879, 11090], dtype=int64)"
      ]
     },
     "execution_count": 165,
     "metadata": {},
     "output_type": "execute_result"
    }
   ],
   "source": [
    "values"
   ]
  },
  {
   "cell_type": "code",
   "execution_count": 166,
   "id": "92e21c75",
   "metadata": {},
   "outputs": [
    {
     "name": "stdout",
     "output_type": "stream",
     "text": [
      "Negative\n",
      "Neutral\n",
      "Positive\n"
     ]
    }
   ],
   "source": [
    "new_labels=[]\n",
    "for i in range(len(labels)):\n",
    "    pct=values[i]/len(translated_tweets)\n",
    "    pct*=100\n",
    "    new_labels.append(f'{labels[i]} - {str(round(pct,2))}%')\n",
    "    print(labels[i])"
   ]
  },
  {
   "cell_type": "code",
   "execution_count": 167,
   "id": "df4ab4dd",
   "metadata": {},
   "outputs": [
    {
     "data": {
      "text/plain": [
       "['Negative - 5.5%', 'Neutral - 63.65%', 'Positive - 30.85%']"
      ]
     },
     "execution_count": 167,
     "metadata": {},
     "output_type": "execute_result"
    }
   ],
   "source": [
    "new_labels"
   ]
  },
  {
   "cell_type": "code",
   "execution_count": 168,
   "id": "17d6c38b",
   "metadata": {},
   "outputs": [
    {
     "data": {
      "image/png": "[encoded data removed]",
      "text/plain": [
       "<Figure size 720x720 with 1 Axes>"
      ]
     },
     "metadata": {},
     "output_type": "display_data"
    }
   ],
   "source": [
    "plt.figure(figsize=(10,10))\n",
    "plt.pie(values,labels=new_labels)\n",
    "plt.legend()\n",
    "plt.title(\"Sentiment Analysis of Tweets\")\n",
    "plt.show()"
   ]
  },
  {
   "cell_type": "markdown",
   "id": "6e83a4c5",
   "metadata": {},
   "source": [
    "### Using NetworkX"
   ]
  },
  {
   "cell_type": "code",
   "execution_count": 169,
   "id": "25fe3777",
   "metadata": {},
   "outputs": [],
   "source": [
    "import networkx as nx"
   ]
  },
  {
   "cell_type": "code",
   "execution_count": 170,
   "id": "c694900d",
   "metadata": {},
   "outputs": [],
   "source": [
    "G = nx.Graph()"
   ]
  },
  {
   "cell_type": "code",
   "execution_count": 171,
   "id": "3a2a54d4",
   "metadata": {
    "scrolled": false
   },
   "outputs": [
    {
     "data": {
      "text/plain": [
       "12253"
      ]
     },
     "execution_count": 171,
     "metadata": {},
     "output_type": "execute_result"
    }
   ],
   "source": [
    "NODES=list(set(tweet_df[\"UserID\"]))\n",
    "len(NODES)"
   ]
  },
  {
   "cell_type": "code",
   "execution_count": 172,
   "id": "80b1d226",
   "metadata": {},
   "outputs": [],
   "source": [
    "G.add_nodes_from(NODES)"
   ]
  },
  {
   "cell_type": "code",
   "execution_count": 173,
   "id": "d079737b",
   "metadata": {},
   "outputs": [
    {
     "data": {
      "text/plain": [
       "'वंचित वृत्तांक अधिकृत'"
      ]
     },
     "execution_count": 173,
     "metadata": {},
     "output_type": "execute_result"
    }
   ],
   "source": [
    "tweet_df.iloc[0][\"Mentions\"][1:-1].split(',')[0][1:-1]"
   ]
  },
  {
   "cell_type": "code",
   "execution_count": 174,
   "id": "90bf84ce",
   "metadata": {
    "scrolled": false
   },
   "outputs": [],
   "source": [
    "\n",
    "\n",
    "EDGES=[]\n",
    "\n",
    "for i in range(tweet_df.shape[0]):\n",
    "    temp_edges=[]\n",
    "    tweeted_user=tweet_df.iloc[i][\"UserID\"]\n",
    "    mentions=tweet_df.iloc[i][\"Mentions\"][1:-1].split(',')\n",
    "    for m in mentions:\n",
    "        temp_edges.append((tweeted_user,m[1:-1]))\n",
    "    EDGES.extend(temp_edges)\n",
    "\n"
   ]
  },
  {
   "cell_type": "code",
   "execution_count": 175,
   "id": "08757247",
   "metadata": {
    "scrolled": false
   },
   "outputs": [],
   "source": [
    "G.add_edges_from(EDGES)"
   ]
  },
  {
   "cell_type": "code",
   "execution_count": 176,
   "id": "d8ac44fa",
   "metadata": {},
   "outputs": [
    {
     "data": {
      "text/plain": [
       "25550"
      ]
     },
     "execution_count": 176,
     "metadata": {},
     "output_type": "execute_result"
    }
   ],
   "source": [
    "len(G.edges)"
   ]
  },
  {
   "cell_type": "markdown",
   "id": "ea1f0060",
   "metadata": {},
   "source": [
    "## Metrics"
   ]
  },
  {
   "cell_type": "markdown",
   "id": "7e394acc",
   "metadata": {},
   "source": [
    "### Closeness Centrality"
   ]
  },
  {
   "cell_type": "code",
   "execution_count": 177,
   "id": "62cc0cb4",
   "metadata": {
    "scrolled": false
   },
   "outputs": [],
   "source": [
    "closeness_centrality=nx.closeness_centrality(G)"
   ]
  },
  {
   "cell_type": "code",
   "execution_count": 178,
   "id": "9079b93c",
   "metadata": {},
   "outputs": [],
   "source": [
    "sorted_cc = sorted(closeness_centrality.items(), key = lambda kv: kv[1],reverse=True)"
   ]
  },
  {
   "cell_type": "code",
   "execution_count": 179,
   "id": "960649ad",
   "metadata": {},
   "outputs": [
    {
     "data": {
      "text/plain": [
       "[('Narendra Modi', 0.24997409813787205),\n",
       " ('RahulVerma1971', 0.24691931307635356),\n",
       " ('nyk_budgam', 0.23435469564049696),\n",
       " (\"'Narendra Modi\", 0.22440592059834333),\n",
       " ('nyks_doda', 0.22155725712828334),\n",
       " ('YuvaSbs', 0.21981089349643382),\n",
       " ('therkmalviya', 0.2171095757343814),\n",
       " ('Nykuttarkashi', 0.2153178006166518),\n",
       " ('rdnss_kolkata', 0.21529948271281776),\n",
       " (\"'Amrit Mahotsav\", 0.21434215038094492)]"
      ]
     },
     "execution_count": 179,
     "metadata": {},
     "output_type": "execute_result"
    }
   ],
   "source": [
    "sorted_cc[:10]"
   ]
  },
  {
   "cell_type": "code",
   "execution_count": 180,
   "id": "43794984",
   "metadata": {},
   "outputs": [],
   "source": [
    "def plot_metrics_bar(metrics,title):\n",
    "    x_val = [x[0] for x in metrics[:10]]\n",
    "    y_val = [x[1] for x in metrics[:10]]\n",
    "    plt.figure(figsize=(10,6))\n",
    "    plt.bar(x_val,y_val)\n",
    "    plt.xticks(rotation=45)\n",
    "    plt.title(title);\n",
    "    plt.savefig(f'plot_of_{title}.png')"
   ]
  },
  {
   "cell_type": "code",
   "execution_count": 181,
   "id": "11ef067c",
   "metadata": {},
   "outputs": [
    {
     "data": {
      "image/png": "[encoded data removed]",
      "text/plain": [
       "<Figure size 720x432 with 1 Axes>"
      ]
     },
     "metadata": {
      "needs_background": "light"
     },
     "output_type": "display_data"
    }
   ],
   "source": [
    "plot_metrics_bar(sorted_cc,\"ClosenessCentrality\")"
   ]
  },
  {
   "cell_type": "markdown",
   "id": "ab0dc89a",
   "metadata": {},
   "source": [
    "### Number of nodes and edges"
   ]
  },
  {
   "cell_type": "code",
   "execution_count": 182,
   "id": "bd78ef11",
   "metadata": {},
   "outputs": [
    {
     "data": {
      "text/plain": [
       "16742"
      ]
     },
     "execution_count": 182,
     "metadata": {},
     "output_type": "execute_result"
    }
   ],
   "source": [
    "nodes_list=G.nodes\n",
    "len(nodes_list)"
   ]
  },
  {
   "cell_type": "code",
   "execution_count": 183,
   "id": "dd173205",
   "metadata": {},
   "outputs": [
    {
     "data": {
      "text/plain": [
       "25550"
      ]
     },
     "execution_count": 183,
     "metadata": {},
     "output_type": "execute_result"
    }
   ],
   "source": [
    "edges_list=G.edges\n",
    "len(edges_list)"
   ]
  },
  {
   "cell_type": "markdown",
   "id": "b0c74a63",
   "metadata": {},
   "source": [
    "### Degree"
   ]
  },
  {
   "cell_type": "code",
   "execution_count": 184,
   "id": "58e35ac4",
   "metadata": {
    "scrolled": false
   },
   "outputs": [
    {
     "data": {
      "text/plain": [
       "[('Narendra Modi', 1870),\n",
       " (\"'Narendra Modi\", 492),\n",
       " ('', 454),\n",
       " ('SMG Haryana', 404),\n",
       " ('Bhāratvarṣam', 398),\n",
       " (\"'Amrit Mahotsav\", 385),\n",
       " ('Pawan Kalyan', 353),\n",
       " (\"'Jay Shah\", 316),\n",
       " ('Mahesh Babu', 315),\n",
       " ('Amrit Mahotsav', 308)]"
      ]
     },
     "execution_count": 184,
     "metadata": {},
     "output_type": "execute_result"
    }
   ],
   "source": [
    "degree=sorted(nx.degree(G),key=lambda x:x[1],reverse=True)\n",
    "degree[0:10]"
   ]
  },
  {
   "cell_type": "code",
   "execution_count": 185,
   "id": "cdc55726",
   "metadata": {},
   "outputs": [
    {
     "data": {
      "image/png": "[encoded data removed]",
      "text/plain": [
       "<Figure size 720x432 with 1 Axes>"
      ]
     },
     "metadata": {
      "needs_background": "light"
     },
     "output_type": "display_data"
    }
   ],
   "source": [
    "plot_metrics_bar(degree,\"Degree\")"
   ]
  },
  {
   "cell_type": "markdown",
   "id": "dbdd0db0",
   "metadata": {},
   "source": [
    "### Betweeness Centrality"
   ]
  },
  {
   "cell_type": "code",
   "execution_count": null,
   "id": "27e3cf46",
   "metadata": {},
   "outputs": [],
   "source": [
    "betweeness_centrality=sorted(nx.betweenness_centrality(G, normalized=True).items(), key=lambda x:x[1], reverse=True)\n",
    "betweeness_centrality[0:10]"
   ]
  },
  {
   "cell_type": "code",
   "execution_count": null,
   "id": "6cd1f50b",
   "metadata": {},
   "outputs": [],
   "source": [
    "plot_metrics_bar(betweeness_centrality,\"BetweenessCentrality\")"
   ]
  },
  {
   "cell_type": "markdown",
   "id": "aa3d655a",
   "metadata": {},
   "source": [
    "## Visualizing"
   ]
  },
  {
   "cell_type": "code",
   "execution_count": null,
   "id": "e8f39ca4",
   "metadata": {},
   "outputs": [],
   "source": [
    "%%time\n",
    "plt.figure(figsize=(50,50))\n",
    "nx.draw(G)\n",
    "plt.savefig(\"Twitter_NW_small.png\")"
   ]
  },
  {
   "cell_type": "code",
   "execution_count": null,
   "id": "ae62dec8",
   "metadata": {},
   "outputs": [],
   "source": [
    "nx.write_graphml_lxml(G,\"twitter_hgt.graphml\")"
   ]
  },
  {
   "cell_type": "code",
   "execution_count": null,
   "id": "486a49ad",
   "metadata": {},
   "outputs": [],
   "source": [
    "nx.write_gml(G, \"test.gml\")"
   ]
  },
  {
   "cell_type": "markdown",
   "id": "095f7dea",
   "metadata": {},
   "source": [
    "### Degree Assortativity"
   ]
  },
  {
   "cell_type": "code",
   "execution_count": null,
   "id": "bb12b911",
   "metadata": {},
   "outputs": [],
   "source": [
    "deg_assortativity=nx.degree_assortativity_coefficient(G)"
   ]
  },
  {
   "cell_type": "code",
   "execution_count": null,
   "id": "9a325454",
   "metadata": {},
   "outputs": [],
   "source": [
    "deg_assortativity"
   ]
  },
  {
   "cell_type": "markdown",
   "id": "c7488512",
   "metadata": {},
   "source": [
    "### Density"
   ]
  },
  {
   "cell_type": "code",
   "execution_count": null,
   "id": "f6d54935",
   "metadata": {},
   "outputs": [],
   "source": [
    "density=nx.density(G)\n",
    "density"
   ]
  },
  {
   "cell_type": "markdown",
   "id": "a9eaae2d",
   "metadata": {},
   "source": [
    "### Center"
   ]
  },
  {
   "cell_type": "code",
   "execution_count": null,
   "id": "bf6071cf",
   "metadata": {},
   "outputs": [],
   "source": [
    "center=nx.center(G)"
   ]
  },
  {
   "cell_type": "markdown",
   "id": "e98af472",
   "metadata": {},
   "source": [
    "### Diameter"
   ]
  },
  {
   "cell_type": "code",
   "execution_count": null,
   "id": "a24f8fa9",
   "metadata": {},
   "outputs": [],
   "source": [
    "diameter=nx.diameter(G)"
   ]
  },
  {
   "cell_type": "markdown",
   "id": "22b4cdba",
   "metadata": {},
   "source": [
    "### Eccentricity"
   ]
  },
  {
   "cell_type": "code",
   "execution_count": null,
   "id": "7eaeae9c",
   "metadata": {},
   "outputs": [],
   "source": [
    "ecc=nx.eccentricity(G)\n",
    "ecc"
   ]
  },
  {
   "cell_type": "markdown",
   "id": "b0d288d6",
   "metadata": {},
   "source": [
    "### Maximum Independent Set"
   ]
  },
  {
   "cell_type": "code",
   "execution_count": null,
   "id": "9f504314",
   "metadata": {},
   "outputs": [],
   "source": [
    "max_clique=nx.max_clique(G)\n",
    "max_clique"
   ]
  },
  {
   "cell_type": "markdown",
   "id": "6538dca7",
   "metadata": {},
   "source": [
    "### Katz centrality"
   ]
  },
  {
   "cell_type": "code",
   "execution_count": null,
   "id": "86ac809b",
   "metadata": {},
   "outputs": [],
   "source": [
    "katz_centrality=sorted(nx.katz_centrality_numpy(G).items(),key=lambda x:x[1], reverse=True)\n",
    "katz_centrality[0:10]"
   ]
  },
  {
   "cell_type": "code",
   "execution_count": null,
   "id": "3a8fbb22",
   "metadata": {},
   "outputs": [],
   "source": [
    "plot_metrics_bar(katz_centrality,\"KatzCentrality\")"
   ]
  },
  {
   "cell_type": "markdown",
   "id": "e82d67fc",
   "metadata": {},
   "source": [
    "### Eigen Vector centrality"
   ]
  },
  {
   "cell_type": "code",
   "execution_count": null,
   "id": "eb09f4cf",
   "metadata": {},
   "outputs": [],
   "source": [
    "e_vec_centrality=sorted(nx.eigenvector_centrality_numpy(G).items(),key=lambda x:x[1], reverse=True)\n",
    "e_vec_centrality[0:10]"
   ]
  },
  {
   "cell_type": "code",
   "execution_count": null,
   "id": "ff0cd586",
   "metadata": {},
   "outputs": [],
   "source": [
    "plot_metrics_bar(e_vec_centrality,\"EigenVectorCentrality\")"
   ]
  },
  {
   "cell_type": "markdown",
   "id": "6278af93",
   "metadata": {},
   "source": [
    "### Page Rank"
   ]
  },
  {
   "cell_type": "code",
   "execution_count": null,
   "id": "c7c846a6",
   "metadata": {
    "scrolled": false
   },
   "outputs": [],
   "source": [
    "pg_rank=sorted(nx.pagerank(G).items(),key=lambda x:x[1], reverse=True)\n",
    "pg_rank[0:10]"
   ]
  },
  {
   "cell_type": "code",
   "execution_count": null,
   "id": "1a0e6404",
   "metadata": {},
   "outputs": [],
   "source": [
    "plot_metrics_bar(pg_rank,\"PageRank\")"
   ]
  },
  {
   "cell_type": "markdown",
   "id": "3e0227eb",
   "metadata": {},
   "source": [
    "### Wordcloud"
   ]
  },
  {
   "cell_type": "code",
   "execution_count": null,
   "id": "c256c420",
   "metadata": {},
   "outputs": [],
   "source": [
    "from wordcloud import WordCloud"
   ]
  },
  {
   "cell_type": "code",
   "execution_count": null,
   "id": "5804375e",
   "metadata": {},
   "outputs": [],
   "source": [
    "text = \" \".join(tweet.split()[1] for tweet in tweet_df.Tweet)"
   ]
  },
  {
   "cell_type": "code",
   "execution_count": null,
   "id": "880f513f",
   "metadata": {},
   "outputs": [],
   "source": [
    "import re\n",
    "regex = re.compile('[^\\sa-zA-Z0-9]')"
   ]
  },
  {
   "cell_type": "code",
   "execution_count": null,
   "id": "afde26f2",
   "metadata": {},
   "outputs": [],
   "source": [
    "new_text=regex.sub('', text)\n",
    "print(len(new_text))"
   ]
  },
  {
   "cell_type": "code",
   "execution_count": null,
   "id": "603709f5",
   "metadata": {},
   "outputs": [],
   "source": [
    "len(text)"
   ]
  },
  {
   "cell_type": "code",
   "execution_count": null,
   "id": "ae20a718",
   "metadata": {},
   "outputs": [],
   "source": [
    "text_arr=new_text.split(' ')\n",
    "print(len(text_arr))\n",
    "for i,text in enumerate(text_arr):\n",
    "    if len(text)<1:\n",
    "        text_arr.pop(i)\n",
    "print(len(text_arr))\n",
    "unique, counts = np.unique(text_arr, return_counts=True)\n",
    "\n",
    "updated_text=\" \".join(text_arr)"
   ]
  },
  {
   "cell_type": "code",
   "execution_count": null,
   "id": "2525aab5",
   "metadata": {},
   "outputs": [],
   "source": [
    "word_count_df=pd.DataFrame({\n",
    "    'word':unique,\n",
    "    'count':[int(count) for count in counts]\n",
    "})\n",
    "word_count_df.sort_values('count')"
   ]
  },
  {
   "cell_type": "code",
   "execution_count": null,
   "id": "719bcb74",
   "metadata": {},
   "outputs": [],
   "source": [
    "word_cloud = WordCloud(width=1400, height=800,collocations = False, background_color = 'white').generate(updated_text)"
   ]
  },
  {
   "cell_type": "code",
   "execution_count": null,
   "id": "8ca4931b",
   "metadata": {
    "scrolled": false
   },
   "outputs": [],
   "source": [
    "plt.figure(figsize=(20,20))\n",
    "plt.imshow(word_cloud, interpolation='bilinear')\n",
    "plt.axis(\"off\")\n",
    "plt.savefig(\"word_cloud.png\")\n",
    "plt.show()"
   ]
  }
 ],
 "metadata": {
  "kernelspec": {
   "display_name": "Python 3 (ipykernel)",
   "language": "python",
   "name": "python3"
  },
  "language_info": {
   "codemirror_mode": {
    "name": "ipython",
    "version": 3
   },
   "file_extension": ".py",
   "mimetype": "text/x-python",
   "name": "python",
   "nbconvert_exporter": "python",
   "pygments_lexer": "ipython3",
   "version": "3.9.13"
  }
 },
 "nbformat": 4,
 "nbformat_minor": 5
}
