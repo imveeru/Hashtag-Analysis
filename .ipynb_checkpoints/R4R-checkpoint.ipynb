{
 "cells": [
  {
   "cell_type": "markdown",
   "id": "241a4fd8",
   "metadata": {},
   "source": [
    "# Hashtag Analysis"
   ]
  },
  {
   "cell_type": "markdown",
   "id": "9eda20bc",
   "metadata": {},
   "source": [
    "## Importing Packages"
   ]
  },
  {
   "cell_type": "code",
   "execution_count": 28,
   "id": "d3a2c643",
   "metadata": {},
   "outputs": [],
   "source": [
    "import tweepy\n",
    "import configparser\n",
    "import pandas as pd\n",
    "import translators as ts"
   ]
  },
  {
   "cell_type": "markdown",
   "id": "33e55eeb",
   "metadata": {},
   "source": [
    "## Initial Configurations"
   ]
  },
  {
   "cell_type": "code",
   "execution_count": 29,
   "id": "2efad5a2",
   "metadata": {},
   "outputs": [
    {
     "data": {
      "text/plain": [
       "['config.ini']"
      ]
     },
     "execution_count": 29,
     "metadata": {},
     "output_type": "execute_result"
    }
   ],
   "source": [
    "config = configparser.ConfigParser()\n",
    "config.read('config.ini')"
   ]
  },
  {
   "cell_type": "code",
   "execution_count": 30,
   "id": "6db0eade",
   "metadata": {},
   "outputs": [],
   "source": [
    "api_key = config['twitter']['api_key']\n",
    "api_key_secret = config['twitter']['api_key_secret']"
   ]
  },
  {
   "cell_type": "code",
   "execution_count": 31,
   "id": "98673dd3",
   "metadata": {
    "scrolled": false
   },
   "outputs": [],
   "source": [
    "auth = tweepy.OAuth2AppHandler(\n",
    "    api_key ,\n",
    "    api_key_secret\n",
    ")\n",
    "api = tweepy.API(auth)"
   ]
  },
  {
   "cell_type": "markdown",
   "id": "4bf5a5ef",
   "metadata": {},
   "source": [
    "## Fetching Data"
   ]
  },
  {
   "cell_type": "code",
   "execution_count": 32,
   "id": "da110812",
   "metadata": {},
   "outputs": [],
   "source": [
    "keywords = '#Ready4Rishi'\n",
    "limit=30000"
   ]
  },
  {
   "cell_type": "code",
   "execution_count": 33,
   "id": "3a0189c6",
   "metadata": {},
   "outputs": [],
   "source": [
    "tweets = tweepy.Cursor(api.search_tweets, q=keywords, count=100, tweet_mode='extended').items(limit)"
   ]
  },
  {
   "cell_type": "code",
   "execution_count": 34,
   "id": "7949635f",
   "metadata": {},
   "outputs": [
    {
     "data": {
      "text/plain": [
       "<tweepy.cursor.ItemIterator at 0x1be2131a460>"
      ]
     },
     "execution_count": 34,
     "metadata": {},
     "output_type": "execute_result"
    }
   ],
   "source": [
    "tweets"
   ]
  },
  {
   "cell_type": "code",
   "execution_count": 35,
   "id": "09dca9ee",
   "metadata": {},
   "outputs": [],
   "source": [
    "columns = ['UserID', 'Name', 'Tweet', 'Mentions','Created At','Retweet', 'Likes','Location', 'Translated']\n",
    "data = []"
   ]
  },
  {
   "cell_type": "code",
   "execution_count": 36,
   "id": "6e23103e",
   "metadata": {
    "scrolled": false
   },
   "outputs": [],
   "source": [
    "for tweet in tweets:\n",
    "    #print(tweet._json)\n",
    "    tweet_mentions=[]\n",
    "    a=tweet.entities\n",
    "    data.append([tweet.user.screen_name, tweet.user.name, tweet.full_text, tweet.entities, tweet.created_at, None, tweet.favorite_count, tweet.user._json[\"location\"],None])"
   ]
  },
  {
   "cell_type": "code",
   "execution_count": 37,
   "id": "921332f1",
   "metadata": {
    "scrolled": true
   },
   "outputs": [
    {
     "data": {
      "text/html": [
       "<div>\n",
       "<style scoped>\n",
       "    .dataframe tbody tr th:only-of-type {\n",
       "        vertical-align: middle;\n",
       "    }\n",
       "\n",
       "    .dataframe tbody tr th {\n",
       "        vertical-align: top;\n",
       "    }\n",
       "\n",
       "    .dataframe thead th {\n",
       "        text-align: right;\n",
       "    }\n",
       "</style>\n",
       "<table border=\"1\" class=\"dataframe\">\n",
       "  <thead>\n",
       "    <tr style=\"text-align: right;\">\n",
       "      <th></th>\n",
       "      <th>UserID</th>\n",
       "      <th>Name</th>\n",
       "      <th>Tweet</th>\n",
       "      <th>Mentions</th>\n",
       "      <th>Created At</th>\n",
       "      <th>Retweet</th>\n",
       "      <th>Likes</th>\n",
       "      <th>Location</th>\n",
       "      <th>Translated</th>\n",
       "    </tr>\n",
       "  </thead>\n",
       "  <tbody>\n",
       "    <tr>\n",
       "      <th>0</th>\n",
       "      <td>tworrentt</td>\n",
       "      <td>tworrentt.nft</td>\n",
       "      <td>RT @RishiSunak: With just one week to go, I'm ...</td>\n",
       "      <td>{'hashtags': [], 'symbols': [], 'user_mentions...</td>\n",
       "      <td>2022-11-06 17:57:39+00:00</td>\n",
       "      <td>None</td>\n",
       "      <td>0</td>\n",
       "      <td>Lao People'S Democratic Republic</td>\n",
       "      <td>None</td>\n",
       "    </tr>\n",
       "    <tr>\n",
       "      <th>1</th>\n",
       "      <td>tribxutedl</td>\n",
       "      <td>tribxutedl.eth</td>\n",
       "      <td>RT @RishiSunak: \"I have been clear that the pr...</td>\n",
       "      <td>{'hashtags': [], 'symbols': [], 'user_mentions...</td>\n",
       "      <td>2022-11-06 17:55:57+00:00</td>\n",
       "      <td>None</td>\n",
       "      <td>0</td>\n",
       "      <td>Korea, Republic of</td>\n",
       "      <td>None</td>\n",
       "    </tr>\n",
       "    <tr>\n",
       "      <th>2</th>\n",
       "      <td>yexovilpton</td>\n",
       "      <td>Yexovilpton.eth</td>\n",
       "      <td>RT @Ready4Rishi: This evening is the final hus...</td>\n",
       "      <td>{'hashtags': [], 'symbols': [], 'user_mentions...</td>\n",
       "      <td>2022-11-06 17:22:59+00:00</td>\n",
       "      <td>None</td>\n",
       "      <td>0</td>\n",
       "      <td>Belize</td>\n",
       "      <td>None</td>\n",
       "    </tr>\n",
       "  </tbody>\n",
       "</table>\n",
       "</div>"
      ],
      "text/plain": [
       "        UserID             Name  \\\n",
       "0    tworrentt    tworrentt.nft   \n",
       "1   tribxutedl   tribxutedl.eth   \n",
       "2  yexovilpton  Yexovilpton.eth   \n",
       "\n",
       "                                               Tweet  \\\n",
       "0  RT @RishiSunak: With just one week to go, I'm ...   \n",
       "1  RT @RishiSunak: \"I have been clear that the pr...   \n",
       "2  RT @Ready4Rishi: This evening is the final hus...   \n",
       "\n",
       "                                            Mentions  \\\n",
       "0  {'hashtags': [], 'symbols': [], 'user_mentions...   \n",
       "1  {'hashtags': [], 'symbols': [], 'user_mentions...   \n",
       "2  {'hashtags': [], 'symbols': [], 'user_mentions...   \n",
       "\n",
       "                 Created At Retweet  Likes                          Location  \\\n",
       "0 2022-11-06 17:57:39+00:00    None      0  Lao People'S Democratic Republic   \n",
       "1 2022-11-06 17:55:57+00:00    None      0                Korea, Republic of   \n",
       "2 2022-11-06 17:22:59+00:00    None      0                            Belize   \n",
       "\n",
       "  Translated  \n",
       "0       None  \n",
       "1       None  \n",
       "2       None  "
      ]
     },
     "execution_count": 37,
     "metadata": {},
     "output_type": "execute_result"
    }
   ],
   "source": [
    "df = pd.DataFrame(data, columns=columns)\n",
    "df.head(3)"
   ]
  },
  {
   "cell_type": "code",
   "execution_count": 38,
   "id": "7ce9ff87",
   "metadata": {
    "scrolled": false
   },
   "outputs": [],
   "source": [
    "#data"
   ]
  },
  {
   "cell_type": "markdown",
   "id": "dbfb201f",
   "metadata": {},
   "source": [
    "## Extracting User Mentions and Retweet Status"
   ]
  },
  {
   "cell_type": "code",
   "execution_count": 39,
   "id": "76348a52",
   "metadata": {},
   "outputs": [],
   "source": [
    "for i in range(len(data)):\n",
    "    \n",
    "    #extracting mentions\n",
    "    \n",
    "    tempMention=[data[i][3]['user_mentions'][j]['name'] for j in range(len(data[i][3]['user_mentions']))]\n",
    "    #print(tempMention)\n",
    "    data[i][3]=tempMention\n",
    "    \n",
    "    #extracting retweet status and updating tweet content\n",
    "    tempTxt=data[i][2][:2]\n",
    "    if tempTxt==\"RT\":\n",
    "        data[i][5]=1\n",
    "        data[i][2]=data[i][2][3:]\n",
    "    else:\n",
    "        data[i][5]=0\n",
    "        "
   ]
  },
  {
   "cell_type": "code",
   "execution_count": 40,
   "id": "e26002ad",
   "metadata": {},
   "outputs": [
    {
     "data": {
      "text/html": [
       "<div>\n",
       "<style scoped>\n",
       "    .dataframe tbody tr th:only-of-type {\n",
       "        vertical-align: middle;\n",
       "    }\n",
       "\n",
       "    .dataframe tbody tr th {\n",
       "        vertical-align: top;\n",
       "    }\n",
       "\n",
       "    .dataframe thead th {\n",
       "        text-align: right;\n",
       "    }\n",
       "</style>\n",
       "<table border=\"1\" class=\"dataframe\">\n",
       "  <thead>\n",
       "    <tr style=\"text-align: right;\">\n",
       "      <th></th>\n",
       "      <th>UserID</th>\n",
       "      <th>Name</th>\n",
       "      <th>Tweet</th>\n",
       "      <th>Mentions</th>\n",
       "      <th>Created At</th>\n",
       "      <th>Retweet</th>\n",
       "      <th>Likes</th>\n",
       "      <th>Location</th>\n",
       "      <th>Translated</th>\n",
       "    </tr>\n",
       "  </thead>\n",
       "  <tbody>\n",
       "    <tr>\n",
       "      <th>0</th>\n",
       "      <td>tworrentt</td>\n",
       "      <td>tworrentt.nft</td>\n",
       "      <td>@RishiSunak: With just one week to go, I'm get...</td>\n",
       "      <td>[Rishi Sunak, Conservatives]</td>\n",
       "      <td>2022-11-06 17:57:39+00:00</td>\n",
       "      <td>1</td>\n",
       "      <td>0</td>\n",
       "      <td>Lao People'S Democratic Republic</td>\n",
       "      <td>None</td>\n",
       "    </tr>\n",
       "    <tr>\n",
       "      <th>1</th>\n",
       "      <td>tribxutedl</td>\n",
       "      <td>tribxutedl.eth</td>\n",
       "      <td>@RishiSunak: \"I have been clear that the prior...</td>\n",
       "      <td>[Rishi Sunak]</td>\n",
       "      <td>2022-11-06 17:55:57+00:00</td>\n",
       "      <td>1</td>\n",
       "      <td>0</td>\n",
       "      <td>Korea, Republic of</td>\n",
       "      <td>None</td>\n",
       "    </tr>\n",
       "    <tr>\n",
       "      <th>2</th>\n",
       "      <td>yexovilpton</td>\n",
       "      <td>Yexovilpton.eth</td>\n",
       "      <td>@Ready4Rishi: This evening is the final hustin...</td>\n",
       "      <td>[Ready 4 Rishi, Conservatives]</td>\n",
       "      <td>2022-11-06 17:22:59+00:00</td>\n",
       "      <td>1</td>\n",
       "      <td>0</td>\n",
       "      <td>Belize</td>\n",
       "      <td>None</td>\n",
       "    </tr>\n",
       "    <tr>\n",
       "      <th>3</th>\n",
       "      <td>bgeakeri</td>\n",
       "      <td>bgeakeri.eth</td>\n",
       "      <td>@RishiSunak: Voting is now closed 🗳\\n\\nThank y...</td>\n",
       "      <td>[Rishi Sunak]</td>\n",
       "      <td>2022-11-06 16:37:29+00:00</td>\n",
       "      <td>1</td>\n",
       "      <td>0</td>\n",
       "      <td>Guadeloupe</td>\n",
       "      <td>None</td>\n",
       "    </tr>\n",
       "    <tr>\n",
       "      <th>4</th>\n",
       "      <td>braggserl</td>\n",
       "      <td>braggserl.eth</td>\n",
       "      <td>@Ready4Rishi: 💬\"We've got to look after the mo...</td>\n",
       "      <td>[Ready 4 Rishi]</td>\n",
       "      <td>2022-11-06 16:28:46+00:00</td>\n",
       "      <td>1</td>\n",
       "      <td>0</td>\n",
       "      <td>Germany</td>\n",
       "      <td>None</td>\n",
       "    </tr>\n",
       "    <tr>\n",
       "      <th>...</th>\n",
       "      <td>...</td>\n",
       "      <td>...</td>\n",
       "      <td>...</td>\n",
       "      <td>...</td>\n",
       "      <td>...</td>\n",
       "      <td>...</td>\n",
       "      <td>...</td>\n",
       "      <td>...</td>\n",
       "      <td>...</td>\n",
       "    </tr>\n",
       "    <tr>\n",
       "      <th>175</th>\n",
       "      <td>RajaGujjar9983</td>\n",
       "      <td>Raja G</td>\n",
       "      <td>@RishiSunak: Six weeks on the road and I’ve lo...</td>\n",
       "      <td>[Rishi Sunak]</td>\n",
       "      <td>2022-10-28 23:49:10+00:00</td>\n",
       "      <td>1</td>\n",
       "      <td>0</td>\n",
       "      <td></td>\n",
       "      <td>None</td>\n",
       "    </tr>\n",
       "    <tr>\n",
       "      <th>176</th>\n",
       "      <td>blckchidon3</td>\n",
       "      <td>NIGERIANS 4 GOOD GOVERNANCE 🇳🇬</td>\n",
       "      <td>@RishiSunak: Six weeks on the road and I’ve lo...</td>\n",
       "      <td>[Rishi Sunak]</td>\n",
       "      <td>2022-10-28 22:37:34+00:00</td>\n",
       "      <td>1</td>\n",
       "      <td>0</td>\n",
       "      <td>Nigeria</td>\n",
       "      <td>None</td>\n",
       "    </tr>\n",
       "    <tr>\n",
       "      <th>177</th>\n",
       "      <td>caravaggio12</td>\n",
       "      <td>Alf- EUFan Free PALESTINE- 🇺🇦 #IstandWithUkraine</td>\n",
       "      <td>@TruthToPowerTV: Braverman's ludicrous appoint...</td>\n",
       "      <td>[Truth To Power Ⓥ🇪🇺 Tofu Eating Wokerati]</td>\n",
       "      <td>2022-10-28 22:14:28+00:00</td>\n",
       "      <td>1</td>\n",
       "      <td>0</td>\n",
       "      <td>South West England</td>\n",
       "      <td>None</td>\n",
       "    </tr>\n",
       "    <tr>\n",
       "      <th>178</th>\n",
       "      <td>RobSmit10552021</td>\n",
       "      <td>Rob Smith</td>\n",
       "      <td>@TruthToPowerTV: Braverman's ludicrous appoint...</td>\n",
       "      <td>[Truth To Power Ⓥ🇪🇺 Tofu Eating Wokerati]</td>\n",
       "      <td>2022-10-28 22:08:14+00:00</td>\n",
       "      <td>1</td>\n",
       "      <td>0</td>\n",
       "      <td></td>\n",
       "      <td>None</td>\n",
       "    </tr>\n",
       "    <tr>\n",
       "      <th>179</th>\n",
       "      <td>popstoke</td>\n",
       "      <td>tee gee#FBPE#FBPPR💙#FBPA#GeneralElectionNow</td>\n",
       "      <td>@TruthToPowerTV: Braverman's ludicrous appoint...</td>\n",
       "      <td>[Truth To Power Ⓥ🇪🇺 Tofu Eating Wokerati]</td>\n",
       "      <td>2022-10-28 21:39:50+00:00</td>\n",
       "      <td>1</td>\n",
       "      <td>0</td>\n",
       "      <td></td>\n",
       "      <td>None</td>\n",
       "    </tr>\n",
       "  </tbody>\n",
       "</table>\n",
       "<p>180 rows × 9 columns</p>\n",
       "</div>"
      ],
      "text/plain": [
       "              UserID                                              Name  \\\n",
       "0          tworrentt                                     tworrentt.nft   \n",
       "1         tribxutedl                                    tribxutedl.eth   \n",
       "2        yexovilpton                                   Yexovilpton.eth   \n",
       "3           bgeakeri                                      bgeakeri.eth   \n",
       "4          braggserl                                     braggserl.eth   \n",
       "..               ...                                               ...   \n",
       "175   RajaGujjar9983                                            Raja G   \n",
       "176      blckchidon3                    NIGERIANS 4 GOOD GOVERNANCE 🇳🇬   \n",
       "177     caravaggio12  Alf- EUFan Free PALESTINE- 🇺🇦 #IstandWithUkraine   \n",
       "178  RobSmit10552021                                         Rob Smith   \n",
       "179         popstoke       tee gee#FBPE#FBPPR💙#FBPA#GeneralElectionNow   \n",
       "\n",
       "                                                 Tweet  \\\n",
       "0    @RishiSunak: With just one week to go, I'm get...   \n",
       "1    @RishiSunak: \"I have been clear that the prior...   \n",
       "2    @Ready4Rishi: This evening is the final hustin...   \n",
       "3    @RishiSunak: Voting is now closed 🗳\\n\\nThank y...   \n",
       "4    @Ready4Rishi: 💬\"We've got to look after the mo...   \n",
       "..                                                 ...   \n",
       "175  @RishiSunak: Six weeks on the road and I’ve lo...   \n",
       "176  @RishiSunak: Six weeks on the road and I’ve lo...   \n",
       "177  @TruthToPowerTV: Braverman's ludicrous appoint...   \n",
       "178  @TruthToPowerTV: Braverman's ludicrous appoint...   \n",
       "179  @TruthToPowerTV: Braverman's ludicrous appoint...   \n",
       "\n",
       "                                      Mentions                Created At  \\\n",
       "0                 [Rishi Sunak, Conservatives] 2022-11-06 17:57:39+00:00   \n",
       "1                                [Rishi Sunak] 2022-11-06 17:55:57+00:00   \n",
       "2               [Ready 4 Rishi, Conservatives] 2022-11-06 17:22:59+00:00   \n",
       "3                                [Rishi Sunak] 2022-11-06 16:37:29+00:00   \n",
       "4                              [Ready 4 Rishi] 2022-11-06 16:28:46+00:00   \n",
       "..                                         ...                       ...   \n",
       "175                              [Rishi Sunak] 2022-10-28 23:49:10+00:00   \n",
       "176                              [Rishi Sunak] 2022-10-28 22:37:34+00:00   \n",
       "177  [Truth To Power Ⓥ🇪🇺 Tofu Eating Wokerati] 2022-10-28 22:14:28+00:00   \n",
       "178  [Truth To Power Ⓥ🇪🇺 Tofu Eating Wokerati] 2022-10-28 22:08:14+00:00   \n",
       "179  [Truth To Power Ⓥ🇪🇺 Tofu Eating Wokerati] 2022-10-28 21:39:50+00:00   \n",
       "\n",
       "     Retweet  Likes                          Location Translated  \n",
       "0          1      0  Lao People'S Democratic Republic       None  \n",
       "1          1      0                Korea, Republic of       None  \n",
       "2          1      0                            Belize       None  \n",
       "3          1      0                        Guadeloupe       None  \n",
       "4          1      0                           Germany       None  \n",
       "..       ...    ...                               ...        ...  \n",
       "175        1      0                                         None  \n",
       "176        1      0                           Nigeria       None  \n",
       "177        1      0                South West England       None  \n",
       "178        1      0                                         None  \n",
       "179        1      0                                         None  \n",
       "\n",
       "[180 rows x 9 columns]"
      ]
     },
     "execution_count": 40,
     "metadata": {},
     "output_type": "execute_result"
    }
   ],
   "source": [
    "df = pd.DataFrame(data, columns=columns)\n",
    "df"
   ]
  },
  {
   "cell_type": "code",
   "execution_count": 41,
   "id": "9a523d09",
   "metadata": {},
   "outputs": [],
   "source": [
    "df.to_csv('twitter_data_r4r.csv')"
   ]
  }
 ],
 "metadata": {
  "kernelspec": {
   "display_name": "Python 3 (ipykernel)",
   "language": "python",
   "name": "python3"
  },
  "language_info": {
   "codemirror_mode": {
    "name": "ipython",
    "version": 3
   },
   "file_extension": ".py",
   "mimetype": "text/x-python",
   "name": "python",
   "nbconvert_exporter": "python",
   "pygments_lexer": "ipython3",
   "version": "3.9.13"
  }
 },
 "nbformat": 4,
 "nbformat_minor": 5
}
