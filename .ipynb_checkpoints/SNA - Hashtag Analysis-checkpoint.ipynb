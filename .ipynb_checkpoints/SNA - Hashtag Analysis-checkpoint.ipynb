{
 "cells": [
  {
   "cell_type": "markdown",
   "id": "241a4fd8",
   "metadata": {},
   "source": [
    "# Hashtag Analysis"
   ]
  },
  {
   "cell_type": "markdown",
   "id": "9eda20bc",
   "metadata": {},
   "source": [
    "## Importing Packages"
   ]
  },
  {
   "cell_type": "code",
   "execution_count": 50,
   "id": "d3a2c643",
   "metadata": {},
   "outputs": [],
   "source": [
    "import tweepy\n",
    "import configparser\n",
    "import pandas as pd"
   ]
  },
  {
   "cell_type": "markdown",
   "id": "33e55eeb",
   "metadata": {},
   "source": [
    "## Initial Configurations"
   ]
  },
  {
   "cell_type": "code",
   "execution_count": 51,
   "id": "2efad5a2",
   "metadata": {},
   "outputs": [
    {
     "data": {
      "text/plain": [
       "['config.ini']"
      ]
     },
     "execution_count": 51,
     "metadata": {},
     "output_type": "execute_result"
    }
   ],
   "source": [
    "config = configparser.ConfigParser()\n",
    "config.read('config.ini')"
   ]
  },
  {
   "cell_type": "code",
   "execution_count": 52,
   "id": "6db0eade",
   "metadata": {},
   "outputs": [],
   "source": [
    "api_key = config['twitter']['api_key']\n",
    "api_key_secret = config['twitter']['api_key_secret']"
   ]
  },
  {
   "cell_type": "code",
   "execution_count": 53,
   "id": "98673dd3",
   "metadata": {
    "scrolled": false
   },
   "outputs": [],
   "source": [
    "auth = tweepy.OAuth2AppHandler(\n",
    "    api_key ,\n",
    "    api_key_secret\n",
    ")\n",
    "api = tweepy.API(auth)"
   ]
  },
  {
   "cell_type": "markdown",
   "id": "4bf5a5ef",
   "metadata": {},
   "source": [
    "## Fetching Data"
   ]
  },
  {
   "cell_type": "code",
   "execution_count": 54,
   "id": "da110812",
   "metadata": {},
   "outputs": [],
   "source": [
    "keywords = '#HarGharTiranga'\n",
    "limit=10000"
   ]
  },
  {
   "cell_type": "code",
   "execution_count": 55,
   "id": "3a0189c6",
   "metadata": {},
   "outputs": [],
   "source": [
    "tweets = tweepy.Cursor(api.search_tweets, q=keywords, count=100, tweet_mode='extended').items(limit)"
   ]
  },
  {
   "cell_type": "code",
   "execution_count": 56,
   "id": "7949635f",
   "metadata": {},
   "outputs": [
    {
     "data": {
      "text/plain": [
       "<tweepy.cursor.ItemIterator at 0x29d804e5190>"
      ]
     },
     "execution_count": 56,
     "metadata": {},
     "output_type": "execute_result"
    }
   ],
   "source": [
    "tweets"
   ]
  },
  {
   "cell_type": "code",
   "execution_count": 57,
   "id": "09dca9ee",
   "metadata": {},
   "outputs": [],
   "source": [
    "columns = ['UserID', 'Name', 'Tweet', 'Mentions','Created At','Retweet', 'Likes','Location']\n",
    "data = []"
   ]
  },
  {
   "cell_type": "code",
   "execution_count": 58,
   "id": "6e23103e",
   "metadata": {
    "scrolled": false
   },
   "outputs": [],
   "source": [
    "for tweet in tweets:\n",
    "    #print(tweet._json)\n",
    "    tweet_mentions=[]\n",
    "    a=tweet.entities\n",
    "#     print(a[0][3]['user_mentions'])\n",
    "    data.append([tweet.user.screen_name, tweet.user.name, tweet.full_text, tweet.entities, tweet.created_at, None, tweet.favorite_count, tweet.user._json[\"location\"]])"
   ]
  },
  {
   "cell_type": "code",
   "execution_count": 59,
   "id": "921332f1",
   "metadata": {
    "scrolled": true
   },
   "outputs": [
    {
     "data": {
      "text/html": [
       "<div>\n",
       "<style scoped>\n",
       "    .dataframe tbody tr th:only-of-type {\n",
       "        vertical-align: middle;\n",
       "    }\n",
       "\n",
       "    .dataframe tbody tr th {\n",
       "        vertical-align: top;\n",
       "    }\n",
       "\n",
       "    .dataframe thead th {\n",
       "        text-align: right;\n",
       "    }\n",
       "</style>\n",
       "<table border=\"1\" class=\"dataframe\">\n",
       "  <thead>\n",
       "    <tr style=\"text-align: right;\">\n",
       "      <th></th>\n",
       "      <th>UserID</th>\n",
       "      <th>Name</th>\n",
       "      <th>Tweet</th>\n",
       "      <th>Mentions</th>\n",
       "      <th>Created At</th>\n",
       "      <th>Retweet</th>\n",
       "      <th>Likes</th>\n",
       "      <th>Location</th>\n",
       "    </tr>\n",
       "  </thead>\n",
       "  <tbody>\n",
       "    <tr>\n",
       "      <th>0</th>\n",
       "      <td>BikramS32589057</td>\n",
       "      <td>Bikram Singh</td>\n",
       "      <td>RT @Heroofkashmir: Across the country our Tira...</td>\n",
       "      <td>{'hashtags': [], 'symbols': [], 'user_mentions...</td>\n",
       "      <td>2022-08-19 16:10:19+00:00</td>\n",
       "      <td>None</td>\n",
       "      <td>0</td>\n",
       "      <td></td>\n",
       "    </tr>\n",
       "    <tr>\n",
       "      <th>1</th>\n",
       "      <td>Mohdkas66160822</td>\n",
       "      <td>Mohd kashif</td>\n",
       "      <td>RT @munawar0018: Jahan mai yaad rahe tu 🇮🇳 hap...</td>\n",
       "      <td>{'hashtags': [{'text': 'india', 'indices': [70...</td>\n",
       "      <td>2022-08-19 16:10:16+00:00</td>\n",
       "      <td>None</td>\n",
       "      <td>0</td>\n",
       "      <td></td>\n",
       "    </tr>\n",
       "    <tr>\n",
       "      <th>2</th>\n",
       "      <td>BabarAl83836207</td>\n",
       "      <td>Babar Ali</td>\n",
       "      <td>RT @DALuv_e_Kashmir: Beauty of #NayaKashmir is...</td>\n",
       "      <td>{'hashtags': [{'text': 'NayaKashmir', 'indices...</td>\n",
       "      <td>2022-08-19 16:10:14+00:00</td>\n",
       "      <td>None</td>\n",
       "      <td>0</td>\n",
       "      <td></td>\n",
       "    </tr>\n",
       "  </tbody>\n",
       "</table>\n",
       "</div>"
      ],
      "text/plain": [
       "            UserID          Name  \\\n",
       "0  BikramS32589057  Bikram Singh   \n",
       "1  Mohdkas66160822   Mohd kashif   \n",
       "2  BabarAl83836207     Babar Ali   \n",
       "\n",
       "                                               Tweet  \\\n",
       "0  RT @Heroofkashmir: Across the country our Tira...   \n",
       "1  RT @munawar0018: Jahan mai yaad rahe tu 🇮🇳 hap...   \n",
       "2  RT @DALuv_e_Kashmir: Beauty of #NayaKashmir is...   \n",
       "\n",
       "                                            Mentions  \\\n",
       "0  {'hashtags': [], 'symbols': [], 'user_mentions...   \n",
       "1  {'hashtags': [{'text': 'india', 'indices': [70...   \n",
       "2  {'hashtags': [{'text': 'NayaKashmir', 'indices...   \n",
       "\n",
       "                 Created At Retweet  Likes Location  \n",
       "0 2022-08-19 16:10:19+00:00    None      0           \n",
       "1 2022-08-19 16:10:16+00:00    None      0           \n",
       "2 2022-08-19 16:10:14+00:00    None      0           "
      ]
     },
     "execution_count": 59,
     "metadata": {},
     "output_type": "execute_result"
    }
   ],
   "source": [
    "df = pd.DataFrame(data, columns=columns)\n",
    "df.head(3)"
   ]
  },
  {
   "cell_type": "code",
   "execution_count": 60,
   "id": "7ce9ff87",
   "metadata": {
    "scrolled": false
   },
   "outputs": [],
   "source": [
    "#data"
   ]
  },
  {
   "cell_type": "markdown",
   "id": "dbfb201f",
   "metadata": {},
   "source": [
    "## Extracting User Mentions and Retweet Status"
   ]
  },
  {
   "cell_type": "code",
   "execution_count": 61,
   "id": "76348a52",
   "metadata": {},
   "outputs": [],
   "source": [
    "for i in range(len(data)):\n",
    "    \n",
    "    #extracting mentions\n",
    "    \n",
    "    tempMention=[data[i][3]['user_mentions'][j]['name'] for j in range(len(data[i][3]['user_mentions']))]\n",
    "    #print(tempMention)\n",
    "    data[i][3]=tempMention\n",
    "    \n",
    "    #extracting retweet status and updating tweet content\n",
    "    tempTxt=data[i][2][:2]\n",
    "    if tempTxt==\"RT\":\n",
    "        data[i][5]=1\n",
    "        data[i][2]=data[i][2][3:]\n",
    "    else:\n",
    "        data[i][5]=0"
   ]
  },
  {
   "cell_type": "code",
   "execution_count": 62,
   "id": "e26002ad",
   "metadata": {},
   "outputs": [
    {
     "data": {
      "text/html": [
       "<div>\n",
       "<style scoped>\n",
       "    .dataframe tbody tr th:only-of-type {\n",
       "        vertical-align: middle;\n",
       "    }\n",
       "\n",
       "    .dataframe tbody tr th {\n",
       "        vertical-align: top;\n",
       "    }\n",
       "\n",
       "    .dataframe thead th {\n",
       "        text-align: right;\n",
       "    }\n",
       "</style>\n",
       "<table border=\"1\" class=\"dataframe\">\n",
       "  <thead>\n",
       "    <tr style=\"text-align: right;\">\n",
       "      <th></th>\n",
       "      <th>UserID</th>\n",
       "      <th>Name</th>\n",
       "      <th>Tweet</th>\n",
       "      <th>Mentions</th>\n",
       "      <th>Created At</th>\n",
       "      <th>Retweet</th>\n",
       "      <th>Likes</th>\n",
       "      <th>Location</th>\n",
       "    </tr>\n",
       "  </thead>\n",
       "  <tbody>\n",
       "    <tr>\n",
       "      <th>0</th>\n",
       "      <td>BikramS32589057</td>\n",
       "      <td>Bikram Singh</td>\n",
       "      <td>@Heroofkashmir: Across the country our Tiranga...</td>\n",
       "      <td>[Freedom Fighter]</td>\n",
       "      <td>2022-08-19 16:10:19+00:00</td>\n",
       "      <td>1</td>\n",
       "      <td>0</td>\n",
       "      <td></td>\n",
       "    </tr>\n",
       "    <tr>\n",
       "      <th>1</th>\n",
       "      <td>Mohdkas66160822</td>\n",
       "      <td>Mohd kashif</td>\n",
       "      <td>@munawar0018: Jahan mai yaad rahe tu 🇮🇳 happy ...</td>\n",
       "      <td>[munawar faruqui]</td>\n",
       "      <td>2022-08-19 16:10:16+00:00</td>\n",
       "      <td>1</td>\n",
       "      <td>0</td>\n",
       "      <td></td>\n",
       "    </tr>\n",
       "    <tr>\n",
       "      <th>2</th>\n",
       "      <td>BabarAl83836207</td>\n",
       "      <td>Babar Ali</td>\n",
       "      <td>@DALuv_e_Kashmir: Beauty of #NayaKashmir is st...</td>\n",
       "      <td>[Arshi🍁Wani☃️Kaaju🌏]</td>\n",
       "      <td>2022-08-19 16:10:14+00:00</td>\n",
       "      <td>1</td>\n",
       "      <td>0</td>\n",
       "      <td></td>\n",
       "    </tr>\n",
       "    <tr>\n",
       "      <th>3</th>\n",
       "      <td>AyushBhankhar</td>\n",
       "      <td>Ayush Bhankhar</td>\n",
       "      <td>@DSSNewsUpdates: DSS volunteers are proudly co...</td>\n",
       "      <td>[Dera Sacha Sauda]</td>\n",
       "      <td>2022-08-19 16:10:08+00:00</td>\n",
       "      <td>1</td>\n",
       "      <td>0</td>\n",
       "      <td></td>\n",
       "    </tr>\n",
       "    <tr>\n",
       "      <th>4</th>\n",
       "      <td>Paramje39258070</td>\n",
       "      <td>Paramjeet Saini</td>\n",
       "      <td>@officialmsgfans: While hoisting the flag, fol...</td>\n",
       "      <td>[MSG Fan Club]</td>\n",
       "      <td>2022-08-19 16:09:55+00:00</td>\n",
       "      <td>1</td>\n",
       "      <td>0</td>\n",
       "      <td></td>\n",
       "    </tr>\n",
       "    <tr>\n",
       "      <th>...</th>\n",
       "      <td>...</td>\n",
       "      <td>...</td>\n",
       "      <td>...</td>\n",
       "      <td>...</td>\n",
       "      <td>...</td>\n",
       "      <td>...</td>\n",
       "      <td>...</td>\n",
       "      <td>...</td>\n",
       "    </tr>\n",
       "    <tr>\n",
       "      <th>9995</th>\n",
       "      <td>MirMohs14911829</td>\n",
       "      <td>Syed Tarkaan</td>\n",
       "      <td>#HarGharTiranga\\n#MeraTirangaMeriShaan\\n#Kashm...</td>\n",
       "      <td>[]</td>\n",
       "      <td>2022-08-19 02:36:25+00:00</td>\n",
       "      <td>0</td>\n",
       "      <td>0</td>\n",
       "      <td></td>\n",
       "    </tr>\n",
       "    <tr>\n",
       "      <th>9996</th>\n",
       "      <td>SartajPal3</td>\n",
       "      <td>rangga kabaddi</td>\n",
       "      <td>@DALuv_e_Kashmir: Pari Mahal, #Kashmir is gett...</td>\n",
       "      <td>[Arshi🍁Wani☃️Kaaju🌏]</td>\n",
       "      <td>2022-08-19 02:36:24+00:00</td>\n",
       "      <td>1</td>\n",
       "      <td>0</td>\n",
       "      <td></td>\n",
       "    </tr>\n",
       "    <tr>\n",
       "      <th>9997</th>\n",
       "      <td>MirMohs14911829</td>\n",
       "      <td>Syed Tarkaan</td>\n",
       "      <td>#HarGharTiranga\\n#MeraTirangaMeriShaan\\n#Kashm...</td>\n",
       "      <td>[]</td>\n",
       "      <td>2022-08-19 02:36:18+00:00</td>\n",
       "      <td>0</td>\n",
       "      <td>0</td>\n",
       "      <td></td>\n",
       "    </tr>\n",
       "    <tr>\n",
       "      <th>9998</th>\n",
       "      <td>SartajPal3</td>\n",
       "      <td>rangga kabaddi</td>\n",
       "      <td>@ChinarcorpsIA: Wreath laying at Chinar War Me...</td>\n",
       "      <td>[Chinar Corps🍁 - Indian Army]</td>\n",
       "      <td>2022-08-19 02:36:15+00:00</td>\n",
       "      <td>1</td>\n",
       "      <td>0</td>\n",
       "      <td></td>\n",
       "    </tr>\n",
       "    <tr>\n",
       "      <th>9999</th>\n",
       "      <td>MirMohs14911829</td>\n",
       "      <td>Syed Tarkaan</td>\n",
       "      <td>#HarGharTiranga\\n#MeraTirangaMeriShaan\\n#Kashm...</td>\n",
       "      <td>[]</td>\n",
       "      <td>2022-08-19 02:36:14+00:00</td>\n",
       "      <td>0</td>\n",
       "      <td>0</td>\n",
       "      <td></td>\n",
       "    </tr>\n",
       "  </tbody>\n",
       "</table>\n",
       "<p>10000 rows × 8 columns</p>\n",
       "</div>"
      ],
      "text/plain": [
       "               UserID             Name  \\\n",
       "0     BikramS32589057     Bikram Singh   \n",
       "1     Mohdkas66160822      Mohd kashif   \n",
       "2     BabarAl83836207        Babar Ali   \n",
       "3       AyushBhankhar   Ayush Bhankhar   \n",
       "4     Paramje39258070  Paramjeet Saini   \n",
       "...               ...              ...   \n",
       "9995  MirMohs14911829     Syed Tarkaan   \n",
       "9996       SartajPal3   rangga kabaddi   \n",
       "9997  MirMohs14911829     Syed Tarkaan   \n",
       "9998       SartajPal3   rangga kabaddi   \n",
       "9999  MirMohs14911829     Syed Tarkaan   \n",
       "\n",
       "                                                  Tweet  \\\n",
       "0     @Heroofkashmir: Across the country our Tiranga...   \n",
       "1     @munawar0018: Jahan mai yaad rahe tu 🇮🇳 happy ...   \n",
       "2     @DALuv_e_Kashmir: Beauty of #NayaKashmir is st...   \n",
       "3     @DSSNewsUpdates: DSS volunteers are proudly co...   \n",
       "4     @officialmsgfans: While hoisting the flag, fol...   \n",
       "...                                                 ...   \n",
       "9995  #HarGharTiranga\\n#MeraTirangaMeriShaan\\n#Kashm...   \n",
       "9996  @DALuv_e_Kashmir: Pari Mahal, #Kashmir is gett...   \n",
       "9997  #HarGharTiranga\\n#MeraTirangaMeriShaan\\n#Kashm...   \n",
       "9998  @ChinarcorpsIA: Wreath laying at Chinar War Me...   \n",
       "9999  #HarGharTiranga\\n#MeraTirangaMeriShaan\\n#Kashm...   \n",
       "\n",
       "                           Mentions                Created At  Retweet  Likes  \\\n",
       "0                 [Freedom Fighter] 2022-08-19 16:10:19+00:00        1      0   \n",
       "1                 [munawar faruqui] 2022-08-19 16:10:16+00:00        1      0   \n",
       "2              [Arshi🍁Wani☃️Kaaju🌏] 2022-08-19 16:10:14+00:00        1      0   \n",
       "3                [Dera Sacha Sauda] 2022-08-19 16:10:08+00:00        1      0   \n",
       "4                    [MSG Fan Club] 2022-08-19 16:09:55+00:00        1      0   \n",
       "...                             ...                       ...      ...    ...   \n",
       "9995                             [] 2022-08-19 02:36:25+00:00        0      0   \n",
       "9996           [Arshi🍁Wani☃️Kaaju🌏] 2022-08-19 02:36:24+00:00        1      0   \n",
       "9997                             [] 2022-08-19 02:36:18+00:00        0      0   \n",
       "9998  [Chinar Corps🍁 - Indian Army] 2022-08-19 02:36:15+00:00        1      0   \n",
       "9999                             [] 2022-08-19 02:36:14+00:00        0      0   \n",
       "\n",
       "     Location  \n",
       "0              \n",
       "1              \n",
       "2              \n",
       "3              \n",
       "4              \n",
       "...       ...  \n",
       "9995           \n",
       "9996           \n",
       "9997           \n",
       "9998           \n",
       "9999           \n",
       "\n",
       "[10000 rows x 8 columns]"
      ]
     },
     "execution_count": 62,
     "metadata": {},
     "output_type": "execute_result"
    }
   ],
   "source": [
    "df = pd.DataFrame(data, columns=columns)\n",
    "df"
   ]
  },
  {
   "cell_type": "code",
   "execution_count": 63,
   "id": "9a523d09",
   "metadata": {},
   "outputs": [],
   "source": [
    "df.to_csv('twitter_data.csv')"
   ]
  },
  {
   "cell_type": "code",
   "execution_count": 64,
   "id": "60c8947b",
   "metadata": {},
   "outputs": [
    {
     "data": {
      "text/plain": [
       "nykkinnaur         152\n",
       "gujaratbjp148      110\n",
       "Andhravilasnews     98\n",
       "Inkhuanguang_RD     93\n",
       "AditiRa1502         91\n",
       "                  ... \n",
       "RebellionTweet       1\n",
       "premkumar11221       1\n",
       "Sasmita53390763      1\n",
       "LipikaD83227508      1\n",
       "SudhaBrijvasi        1\n",
       "Name: UserID, Length: 3855, dtype: int64"
      ]
     },
     "execution_count": 64,
     "metadata": {},
     "output_type": "execute_result"
    }
   ],
   "source": [
    "df[\"UserID\"].value_counts()"
   ]
  },
  {
   "cell_type": "code",
   "execution_count": 65,
   "id": "5651f3de",
   "metadata": {},
   "outputs": [
    {
     "data": {
      "text/plain": [
       "1    9480\n",
       "0     520\n",
       "Name: Retweet, dtype: int64"
      ]
     },
     "execution_count": 65,
     "metadata": {},
     "output_type": "execute_result"
    }
   ],
   "source": [
    "df[\"Retweet\"].value_counts()"
   ]
  },
  {
   "cell_type": "markdown",
   "id": "ceb282a5",
   "metadata": {},
   "source": [
    "## Visualizing data"
   ]
  },
  {
   "cell_type": "code",
   "execution_count": 70,
   "id": "1454c85d",
   "metadata": {},
   "outputs": [
    {
     "data": {
      "text/plain": [
       "nykkinnaur         152\n",
       "gujaratbjp148      110\n",
       "Andhravilasnews     98\n",
       "Inkhuanguang_RD     93\n",
       "AditiRa1502         91\n",
       "KapurthalaNyk       88\n",
       "Heemraj19           73\n",
       "Nykuttarkashi       69\n",
       "LaxmanM64061588     68\n",
       "RohitBillawar       67\n",
       "Name: UserID, dtype: int64"
      ]
     },
     "execution_count": 70,
     "metadata": {},
     "output_type": "execute_result"
    }
   ],
   "source": [
    "topUsers=df[\"UserID\"].value_counts()[:10]\n",
    "topUsers"
   ]
  },
  {
   "cell_type": "code",
   "execution_count": 69,
   "id": "32811851",
   "metadata": {},
   "outputs": [],
   "source": [
    "import matplotlib.pyplot as plt"
   ]
  },
  {
   "cell_type": "code",
   "execution_count": 81,
   "id": "bb16e031",
   "metadata": {},
   "outputs": [
    {
     "data": {
      "image/png": "[encoded data removed]",
      "text/plain": [
       "<Figure size 864x432 with 1 Axes>"
      ]
     },
     "metadata": {
      "needs_background": "light"
     },
     "output_type": "display_data"
    }
   ],
   "source": [
    "plt.figure(figsize=(12,6))\n",
    "topUsers.plot.bar();\n",
    "plt.title(\"Users with most no. of Tweets\")\n",
    "plt.show()"
   ]
  },
  {
   "cell_type": "code",
   "execution_count": 82,
   "id": "d6efb6e9",
   "metadata": {},
   "outputs": [
    {
     "data": {
      "image/png": "[encoded data removed]",
      "text/plain": [
       "<Figure size 864x432 with 1 Axes>"
      ]
     },
     "metadata": {
      "needs_background": "light"
     },
     "output_type": "display_data"
    }
   ],
   "source": [
    "rtVsT=df[\"Retweet\"].value_counts()\n",
    "plt.figure(figsize=(12,6))\n",
    "rtVsT.plot.bar();\n",
    "plt.title(\"Retweet Vs Normal Tweet\")\n",
    "plt.show()"
   ]
  },
  {
   "cell_type": "code",
   "execution_count": null,
   "id": "71a1ec8e",
   "metadata": {},
   "outputs": [],
   "source": []
  }
 ],
 "metadata": {
  "kernelspec": {
   "display_name": "Python 3 (ipykernel)",
   "language": "python",
   "name": "python3"
  },
  "language_info": {
   "codemirror_mode": {
    "name": "ipython",
    "version": 3
   },
   "file_extension": ".py",
   "mimetype": "text/x-python",
   "name": "python",
   "nbconvert_exporter": "python",
   "pygments_lexer": "ipython3",
   "version": "3.9.13"
  }
 },
 "nbformat": 4,
 "nbformat_minor": 5
}
