{
 "cells": [
  {
   "cell_type": "markdown",
   "id": "241a4fd8",
   "metadata": {},
   "source": [
    "# Hashtag Analysis"
   ]
  },
  {
   "cell_type": "markdown",
   "id": "9eda20bc",
   "metadata": {},
   "source": [
    "## Importing Packages"
   ]
  },
  {
   "cell_type": "code",
   "execution_count": 10,
   "id": "d3a2c643",
   "metadata": {},
   "outputs": [],
   "source": [
    "import tweepy\n",
    "import configparser\n",
    "import pandas as pd"
   ]
  },
  {
   "cell_type": "markdown",
   "id": "33e55eeb",
   "metadata": {},
   "source": [
    "## Initial Configurations"
   ]
  },
  {
   "cell_type": "code",
   "execution_count": 11,
   "id": "2efad5a2",
   "metadata": {},
   "outputs": [
    {
     "data": {
      "text/plain": [
       "['config.ini']"
      ]
     },
     "execution_count": 11,
     "metadata": {},
     "output_type": "execute_result"
    }
   ],
   "source": [
    "config = configparser.ConfigParser()\n",
    "config.read('config.ini')"
   ]
  },
  {
   "cell_type": "code",
   "execution_count": 12,
   "id": "6db0eade",
   "metadata": {},
   "outputs": [],
   "source": [
    "api_key = config['twitter']['api_key']\n",
    "api_key_secret = config['twitter']['api_key_secret']"
   ]
  },
  {
   "cell_type": "code",
   "execution_count": 13,
   "id": "98673dd3",
   "metadata": {
    "scrolled": false
   },
   "outputs": [],
   "source": [
    "auth = tweepy.OAuth2AppHandler(\n",
    "    api_key ,\n",
    "    api_key_secret\n",
    ")\n",
    "api = tweepy.API(auth)"
   ]
  },
  {
   "cell_type": "markdown",
   "id": "4bf5a5ef",
   "metadata": {},
   "source": [
    "## Fetching Data"
   ]
  },
  {
   "cell_type": "code",
   "execution_count": 14,
   "id": "da110812",
   "metadata": {},
   "outputs": [],
   "source": [
    "keywords = '#HarGharTiranga'\n",
    "limit=1000"
   ]
  },
  {
   "cell_type": "code",
   "execution_count": 15,
   "id": "3a0189c6",
   "metadata": {},
   "outputs": [],
   "source": [
    "tweets = tweepy.Cursor(api.search_tweets, q=keywords, count=100, tweet_mode='extended').items(limit)"
   ]
  },
  {
   "cell_type": "code",
   "execution_count": 16,
   "id": "7949635f",
   "metadata": {},
   "outputs": [
    {
     "data": {
      "text/plain": [
       "<tweepy.cursor.ItemIterator at 0x29cbb770610>"
      ]
     },
     "execution_count": 16,
     "metadata": {},
     "output_type": "execute_result"
    }
   ],
   "source": [
    "tweets"
   ]
  },
  {
   "cell_type": "code",
   "execution_count": 17,
   "id": "09dca9ee",
   "metadata": {},
   "outputs": [],
   "source": [
    "columns = ['UserID', 'Name', 'Tweet', 'Mentions','Created At','Retweet', 'Likes','Location']\n",
    "data = []"
   ]
  },
  {
   "cell_type": "code",
   "execution_count": 18,
   "id": "6e23103e",
   "metadata": {
    "scrolled": false
   },
   "outputs": [],
   "source": [
    "for tweet in tweets:\n",
    "    #print(tweet._json)\n",
    "    tweet_mentions=[]\n",
    "    a=tweet.entities\n",
    "#     print(a[0][3]['user_mentions'])\n",
    "    data.append([tweet.user.screen_name, tweet.user.name, tweet.full_text, tweet.entities, tweet.created_at, None, tweet.favorite_count, tweet.user._json[\"location\"]])"
   ]
  },
  {
   "cell_type": "code",
   "execution_count": 19,
   "id": "921332f1",
   "metadata": {
    "scrolled": true
   },
   "outputs": [
    {
     "data": {
      "text/html": [
       "<div>\n",
       "<style scoped>\n",
       "    .dataframe tbody tr th:only-of-type {\n",
       "        vertical-align: middle;\n",
       "    }\n",
       "\n",
       "    .dataframe tbody tr th {\n",
       "        vertical-align: top;\n",
       "    }\n",
       "\n",
       "    .dataframe thead th {\n",
       "        text-align: right;\n",
       "    }\n",
       "</style>\n",
       "<table border=\"1\" class=\"dataframe\">\n",
       "  <thead>\n",
       "    <tr style=\"text-align: right;\">\n",
       "      <th></th>\n",
       "      <th>UserID</th>\n",
       "      <th>Name</th>\n",
       "      <th>Tweet</th>\n",
       "      <th>Mentions</th>\n",
       "      <th>Created At</th>\n",
       "      <th>Retweet</th>\n",
       "      <th>Likes</th>\n",
       "      <th>Location</th>\n",
       "    </tr>\n",
       "  </thead>\n",
       "  <tbody>\n",
       "    <tr>\n",
       "      <th>0</th>\n",
       "      <td>Proddatur143</td>\n",
       "      <td>D.Jeelan(Dadagari) Fan's</td>\n",
       "      <td>RT @djeelanbasha: #HappyIndependenceDay \\n#Hap...</td>\n",
       "      <td>{'hashtags': [{'text': 'HappyIndependenceDay',...</td>\n",
       "      <td>2022-08-19 15:42:13+00:00</td>\n",
       "      <td>None</td>\n",
       "      <td>0</td>\n",
       "      <td>India</td>\n",
       "    </tr>\n",
       "    <tr>\n",
       "      <th>1</th>\n",
       "      <td>ChandavariEr</td>\n",
       "      <td>Er Rani Chandavari</td>\n",
       "      <td>RT @BJPMM4UP: \"हर घर तिरंगा\" अभियान के निमित्त...</td>\n",
       "      <td>{'hashtags': [], 'symbols': [], 'user_mentions...</td>\n",
       "      <td>2022-08-19 15:42:13+00:00</td>\n",
       "      <td>None</td>\n",
       "      <td>0</td>\n",
       "      <td></td>\n",
       "    </tr>\n",
       "    <tr>\n",
       "      <th>2</th>\n",
       "      <td>NykbilaspurHP</td>\n",
       "      <td>NYK_BILASPUR_HP</td>\n",
       "      <td>RT @BijnorNyk: नेहरू युवा केन्द्र बिजनौर द्वार...</td>\n",
       "      <td>{'hashtags': [], 'symbols': [], 'user_mentions...</td>\n",
       "      <td>2022-08-19 15:42:12+00:00</td>\n",
       "      <td>None</td>\n",
       "      <td>0</td>\n",
       "      <td></td>\n",
       "    </tr>\n",
       "    <tr>\n",
       "      <th>3</th>\n",
       "      <td>NykbilaspurHP</td>\n",
       "      <td>NYK_BILASPUR_HP</td>\n",
       "      <td>RT @YASMinistry: Some more glimpses of the #Ha...</td>\n",
       "      <td>{'hashtags': [{'text': 'HarGharTiranga', 'indi...</td>\n",
       "      <td>2022-08-19 15:42:10+00:00</td>\n",
       "      <td>None</td>\n",
       "      <td>0</td>\n",
       "      <td></td>\n",
       "    </tr>\n",
       "    <tr>\n",
       "      <th>4</th>\n",
       "      <td>NykbilaspurHP</td>\n",
       "      <td>NYK_BILASPUR_HP</td>\n",
       "      <td>RT @BandaNyk: नेहरू युवा केन्द्र बाँदा (उ.प्र)...</td>\n",
       "      <td>{'hashtags': [], 'symbols': [], 'user_mentions...</td>\n",
       "      <td>2022-08-19 15:42:05+00:00</td>\n",
       "      <td>None</td>\n",
       "      <td>0</td>\n",
       "      <td></td>\n",
       "    </tr>\n",
       "    <tr>\n",
       "      <th>...</th>\n",
       "      <td>...</td>\n",
       "      <td>...</td>\n",
       "      <td>...</td>\n",
       "      <td>...</td>\n",
       "      <td>...</td>\n",
       "      <td>...</td>\n",
       "      <td>...</td>\n",
       "      <td>...</td>\n",
       "    </tr>\n",
       "    <tr>\n",
       "      <th>995</th>\n",
       "      <td>UnaNYKHP</td>\n",
       "      <td>Nehru Yuva Kendra Una</td>\n",
       "      <td>RT @Nyksindia: कर सलाम तिरंगे को जिससे हमारी श...</td>\n",
       "      <td>{'hashtags': [{'text': 'harGharTiranga', 'indi...</td>\n",
       "      <td>2022-08-19 14:24:59+00:00</td>\n",
       "      <td>None</td>\n",
       "      <td>0</td>\n",
       "      <td>Una, India</td>\n",
       "    </tr>\n",
       "    <tr>\n",
       "      <th>996</th>\n",
       "      <td>Pankaji82007504</td>\n",
       "      <td>Pankaj insan</td>\n",
       "      <td>RT @ShallanBabal: मानवता भलाई कार्य कर अपने पू...</td>\n",
       "      <td>{'hashtags': [{'text': 'AuspiciousAugust', 'in...</td>\n",
       "      <td>2022-08-19 14:24:55+00:00</td>\n",
       "      <td>None</td>\n",
       "      <td>0</td>\n",
       "      <td>kalka,पंचकुला, भारत</td>\n",
       "    </tr>\n",
       "    <tr>\n",
       "      <th>997</th>\n",
       "      <td>SivaNaidusdurg</td>\n",
       "      <td>Siva Naidu</td>\n",
       "      <td>RT @PawanKalyan: I salute to my Nation &amp;amp; m...</td>\n",
       "      <td>{'hashtags': [], 'symbols': [], 'user_mentions...</td>\n",
       "      <td>2022-08-19 14:24:51+00:00</td>\n",
       "      <td>None</td>\n",
       "      <td>0</td>\n",
       "      <td>Kakinada, India</td>\n",
       "    </tr>\n",
       "    <tr>\n",
       "      <th>998</th>\n",
       "      <td>mahilamorchasrs</td>\n",
       "      <td>Office of Nitasha Rakesh Sihag</td>\n",
       "      <td>RT @nitasha_rakesh: आजादी की 75वीं वर्षगांठ के...</td>\n",
       "      <td>{'hashtags': [{'text': 'HarGharTiranga', 'indi...</td>\n",
       "      <td>2022-08-19 14:24:47+00:00</td>\n",
       "      <td>None</td>\n",
       "      <td>0</td>\n",
       "      <td></td>\n",
       "    </tr>\n",
       "    <tr>\n",
       "      <th>999</th>\n",
       "      <td>Pankaji82007504</td>\n",
       "      <td>Pankaj insan</td>\n",
       "      <td>RT @ramchander_insa: Divine ambience during #B...</td>\n",
       "      <td>{'hashtags': [{'text': 'BirthMonthOfMSG', 'ind...</td>\n",
       "      <td>2022-08-19 14:24:46+00:00</td>\n",
       "      <td>None</td>\n",
       "      <td>0</td>\n",
       "      <td>kalka,पंचकुला, भारत</td>\n",
       "    </tr>\n",
       "  </tbody>\n",
       "</table>\n",
       "<p>1000 rows × 8 columns</p>\n",
       "</div>"
      ],
      "text/plain": [
       "              UserID                            Name  \\\n",
       "0       Proddatur143        D.Jeelan(Dadagari) Fan's   \n",
       "1       ChandavariEr              Er Rani Chandavari   \n",
       "2      NykbilaspurHP                 NYK_BILASPUR_HP   \n",
       "3      NykbilaspurHP                 NYK_BILASPUR_HP   \n",
       "4      NykbilaspurHP                 NYK_BILASPUR_HP   \n",
       "..               ...                             ...   \n",
       "995         UnaNYKHP           Nehru Yuva Kendra Una   \n",
       "996  Pankaji82007504                    Pankaj insan   \n",
       "997   SivaNaidusdurg                      Siva Naidu   \n",
       "998  mahilamorchasrs  Office of Nitasha Rakesh Sihag   \n",
       "999  Pankaji82007504                    Pankaj insan   \n",
       "\n",
       "                                                 Tweet  \\\n",
       "0    RT @djeelanbasha: #HappyIndependenceDay \\n#Hap...   \n",
       "1    RT @BJPMM4UP: \"हर घर तिरंगा\" अभियान के निमित्त...   \n",
       "2    RT @BijnorNyk: नेहरू युवा केन्द्र बिजनौर द्वार...   \n",
       "3    RT @YASMinistry: Some more glimpses of the #Ha...   \n",
       "4    RT @BandaNyk: नेहरू युवा केन्द्र बाँदा (उ.प्र)...   \n",
       "..                                                 ...   \n",
       "995  RT @Nyksindia: कर सलाम तिरंगे को जिससे हमारी श...   \n",
       "996  RT @ShallanBabal: मानवता भलाई कार्य कर अपने पू...   \n",
       "997  RT @PawanKalyan: I salute to my Nation &amp; m...   \n",
       "998  RT @nitasha_rakesh: आजादी की 75वीं वर्षगांठ के...   \n",
       "999  RT @ramchander_insa: Divine ambience during #B...   \n",
       "\n",
       "                                              Mentions  \\\n",
       "0    {'hashtags': [{'text': 'HappyIndependenceDay',...   \n",
       "1    {'hashtags': [], 'symbols': [], 'user_mentions...   \n",
       "2    {'hashtags': [], 'symbols': [], 'user_mentions...   \n",
       "3    {'hashtags': [{'text': 'HarGharTiranga', 'indi...   \n",
       "4    {'hashtags': [], 'symbols': [], 'user_mentions...   \n",
       "..                                                 ...   \n",
       "995  {'hashtags': [{'text': 'harGharTiranga', 'indi...   \n",
       "996  {'hashtags': [{'text': 'AuspiciousAugust', 'in...   \n",
       "997  {'hashtags': [], 'symbols': [], 'user_mentions...   \n",
       "998  {'hashtags': [{'text': 'HarGharTiranga', 'indi...   \n",
       "999  {'hashtags': [{'text': 'BirthMonthOfMSG', 'ind...   \n",
       "\n",
       "                   Created At Retweet  Likes             Location  \n",
       "0   2022-08-19 15:42:13+00:00    None      0                India  \n",
       "1   2022-08-19 15:42:13+00:00    None      0                       \n",
       "2   2022-08-19 15:42:12+00:00    None      0                       \n",
       "3   2022-08-19 15:42:10+00:00    None      0                       \n",
       "4   2022-08-19 15:42:05+00:00    None      0                       \n",
       "..                        ...     ...    ...                  ...  \n",
       "995 2022-08-19 14:24:59+00:00    None      0           Una, India  \n",
       "996 2022-08-19 14:24:55+00:00    None      0  kalka,पंचकुला, भारत  \n",
       "997 2022-08-19 14:24:51+00:00    None      0      Kakinada, India  \n",
       "998 2022-08-19 14:24:47+00:00    None      0                       \n",
       "999 2022-08-19 14:24:46+00:00    None      0  kalka,पंचकुला, भारत  \n",
       "\n",
       "[1000 rows x 8 columns]"
      ]
     },
     "execution_count": 19,
     "metadata": {},
     "output_type": "execute_result"
    }
   ],
   "source": [
    "df = pd.DataFrame(data, columns=columns)\n",
    "df.head()"
   ]
  },
  {
   "cell_type": "code",
   "execution_count": 23,
   "id": "7ce9ff87",
   "metadata": {
    "scrolled": false
   },
   "outputs": [],
   "source": [
    "#data"
   ]
  },
  {
   "cell_type": "markdown",
   "id": "dbfb201f",
   "metadata": {},
   "source": [
    "## Extracting User Mentions and Retweet Status"
   ]
  },
  {
   "cell_type": "code",
   "execution_count": 21,
   "id": "76348a52",
   "metadata": {},
   "outputs": [],
   "source": [
    "for i in range(len(data)):\n",
    "    \n",
    "    #extracting mentions\n",
    "    \n",
    "    tempMention=[data[i][3]['user_mentions'][j]['name'] for j in range(len(data[i][3]['user_mentions']))]\n",
    "    #print(tempMention)\n",
    "    data[i][3]=tempMention\n",
    "    \n",
    "    #extracting retweet status and updating tweet content\n",
    "    tempTxt=data[i][2][:2]\n",
    "    if tempTxt==\"RT\":\n",
    "        data[i][5]=1\n",
    "        data[i][2]=data[i][2][3:]\n",
    "    else:\n",
    "        data[i][5]=0"
   ]
  },
  {
   "cell_type": "code",
   "execution_count": 22,
   "id": "e26002ad",
   "metadata": {},
   "outputs": [
    {
     "data": {
      "text/html": [
       "<div>\n",
       "<style scoped>\n",
       "    .dataframe tbody tr th:only-of-type {\n",
       "        vertical-align: middle;\n",
       "    }\n",
       "\n",
       "    .dataframe tbody tr th {\n",
       "        vertical-align: top;\n",
       "    }\n",
       "\n",
       "    .dataframe thead th {\n",
       "        text-align: right;\n",
       "    }\n",
       "</style>\n",
       "<table border=\"1\" class=\"dataframe\">\n",
       "  <thead>\n",
       "    <tr style=\"text-align: right;\">\n",
       "      <th></th>\n",
       "      <th>UserID</th>\n",
       "      <th>Name</th>\n",
       "      <th>Tweet</th>\n",
       "      <th>Mentions</th>\n",
       "      <th>Created At</th>\n",
       "      <th>Retweet</th>\n",
       "      <th>Likes</th>\n",
       "      <th>Location</th>\n",
       "    </tr>\n",
       "  </thead>\n",
       "  <tbody>\n",
       "    <tr>\n",
       "      <th>0</th>\n",
       "      <td>Proddatur143</td>\n",
       "      <td>D.Jeelan(Dadagari) Fan's</td>\n",
       "      <td>@djeelanbasha: #HappyIndependenceDay \\n#HappyI...</td>\n",
       "      <td>[D.Jeelan(Dadagari)]</td>\n",
       "      <td>2022-08-19 15:42:13+00:00</td>\n",
       "      <td>1</td>\n",
       "      <td>0</td>\n",
       "      <td>India</td>\n",
       "    </tr>\n",
       "    <tr>\n",
       "      <th>1</th>\n",
       "      <td>ChandavariEr</td>\n",
       "      <td>Er Rani Chandavari</td>\n",
       "      <td>@BJPMM4UP: \"हर घर तिरंगा\" अभियान के निमित्त मह...</td>\n",
       "      <td>[BJP Mahila Morcha, UP, Geeta Shakya🇮🇳]</td>\n",
       "      <td>2022-08-19 15:42:13+00:00</td>\n",
       "      <td>1</td>\n",
       "      <td>0</td>\n",
       "      <td></td>\n",
       "    </tr>\n",
       "    <tr>\n",
       "      <th>2</th>\n",
       "      <td>NykbilaspurHP</td>\n",
       "      <td>NYK_BILASPUR_HP</td>\n",
       "      <td>@BijnorNyk: नेहरू युवा केन्द्र बिजनौर द्वारा ह...</td>\n",
       "      <td>[NYK BIJNOR]</td>\n",
       "      <td>2022-08-19 15:42:12+00:00</td>\n",
       "      <td>1</td>\n",
       "      <td>0</td>\n",
       "      <td></td>\n",
       "    </tr>\n",
       "    <tr>\n",
       "      <th>3</th>\n",
       "      <td>NykbilaspurHP</td>\n",
       "      <td>NYK_BILASPUR_HP</td>\n",
       "      <td>@YASMinistry: Some more glimpses of the #HarGh...</td>\n",
       "      <td>[YAS Ministry]</td>\n",
       "      <td>2022-08-19 15:42:10+00:00</td>\n",
       "      <td>1</td>\n",
       "      <td>0</td>\n",
       "      <td></td>\n",
       "    </tr>\n",
       "    <tr>\n",
       "      <th>4</th>\n",
       "      <td>NykbilaspurHP</td>\n",
       "      <td>NYK_BILASPUR_HP</td>\n",
       "      <td>@BandaNyk: नेहरू युवा केन्द्र बाँदा (उ.प्र) द्...</td>\n",
       "      <td>[NYK Banda]</td>\n",
       "      <td>2022-08-19 15:42:05+00:00</td>\n",
       "      <td>1</td>\n",
       "      <td>0</td>\n",
       "      <td></td>\n",
       "    </tr>\n",
       "    <tr>\n",
       "      <th>...</th>\n",
       "      <td>...</td>\n",
       "      <td>...</td>\n",
       "      <td>...</td>\n",
       "      <td>...</td>\n",
       "      <td>...</td>\n",
       "      <td>...</td>\n",
       "      <td>...</td>\n",
       "      <td>...</td>\n",
       "    </tr>\n",
       "    <tr>\n",
       "      <th>995</th>\n",
       "      <td>UnaNYKHP</td>\n",
       "      <td>Nehru Yuva Kendra Una</td>\n",
       "      <td>@Nyksindia: कर सलाम तिरंगे को जिससे हमारी शान ...</td>\n",
       "      <td>[NYKS India, YAS Ministry, Amrit Mahotsav]</td>\n",
       "      <td>2022-08-19 14:24:59+00:00</td>\n",
       "      <td>1</td>\n",
       "      <td>0</td>\n",
       "      <td>Una, India</td>\n",
       "    </tr>\n",
       "    <tr>\n",
       "      <th>996</th>\n",
       "      <td>Pankaji82007504</td>\n",
       "      <td>Pankaj insan</td>\n",
       "      <td>@ShallanBabal: मानवता भलाई कार्य कर अपने पूज्य...</td>\n",
       "      <td>[Babal Shallan]</td>\n",
       "      <td>2022-08-19 14:24:55+00:00</td>\n",
       "      <td>1</td>\n",
       "      <td>0</td>\n",
       "      <td>kalka,पंचकुला, भारत</td>\n",
       "    </tr>\n",
       "    <tr>\n",
       "      <th>997</th>\n",
       "      <td>SivaNaidusdurg</td>\n",
       "      <td>Siva Naidu</td>\n",
       "      <td>@PawanKalyan: I salute to my Nation &amp;amp; my H...</td>\n",
       "      <td>[Pawan Kalyan, Amrit Mahotsav]</td>\n",
       "      <td>2022-08-19 14:24:51+00:00</td>\n",
       "      <td>1</td>\n",
       "      <td>0</td>\n",
       "      <td>Kakinada, India</td>\n",
       "    </tr>\n",
       "    <tr>\n",
       "      <th>998</th>\n",
       "      <td>mahilamorchasrs</td>\n",
       "      <td>Office of Nitasha Rakesh Sihag</td>\n",
       "      <td>@nitasha_rakesh: आजादी की 75वीं वर्षगांठ के अव...</td>\n",
       "      <td>[Nitasha Rakesh Sihag]</td>\n",
       "      <td>2022-08-19 14:24:47+00:00</td>\n",
       "      <td>1</td>\n",
       "      <td>0</td>\n",
       "      <td></td>\n",
       "    </tr>\n",
       "    <tr>\n",
       "      <th>999</th>\n",
       "      <td>Pankaji82007504</td>\n",
       "      <td>Pankaj insan</td>\n",
       "      <td>@ramchander_insa: Divine ambience during #Birt...</td>\n",
       "      <td>[रामचंद्र इन्सां 🙏इंसानियत बचाओ]</td>\n",
       "      <td>2022-08-19 14:24:46+00:00</td>\n",
       "      <td>1</td>\n",
       "      <td>0</td>\n",
       "      <td>kalka,पंचकुला, भारत</td>\n",
       "    </tr>\n",
       "  </tbody>\n",
       "</table>\n",
       "<p>1000 rows × 8 columns</p>\n",
       "</div>"
      ],
      "text/plain": [
       "              UserID                            Name  \\\n",
       "0       Proddatur143        D.Jeelan(Dadagari) Fan's   \n",
       "1       ChandavariEr              Er Rani Chandavari   \n",
       "2      NykbilaspurHP                 NYK_BILASPUR_HP   \n",
       "3      NykbilaspurHP                 NYK_BILASPUR_HP   \n",
       "4      NykbilaspurHP                 NYK_BILASPUR_HP   \n",
       "..               ...                             ...   \n",
       "995         UnaNYKHP           Nehru Yuva Kendra Una   \n",
       "996  Pankaji82007504                    Pankaj insan   \n",
       "997   SivaNaidusdurg                      Siva Naidu   \n",
       "998  mahilamorchasrs  Office of Nitasha Rakesh Sihag   \n",
       "999  Pankaji82007504                    Pankaj insan   \n",
       "\n",
       "                                                 Tweet  \\\n",
       "0    @djeelanbasha: #HappyIndependenceDay \\n#HappyI...   \n",
       "1    @BJPMM4UP: \"हर घर तिरंगा\" अभियान के निमित्त मह...   \n",
       "2    @BijnorNyk: नेहरू युवा केन्द्र बिजनौर द्वारा ह...   \n",
       "3    @YASMinistry: Some more glimpses of the #HarGh...   \n",
       "4    @BandaNyk: नेहरू युवा केन्द्र बाँदा (उ.प्र) द्...   \n",
       "..                                                 ...   \n",
       "995  @Nyksindia: कर सलाम तिरंगे को जिससे हमारी शान ...   \n",
       "996  @ShallanBabal: मानवता भलाई कार्य कर अपने पूज्य...   \n",
       "997  @PawanKalyan: I salute to my Nation &amp; my H...   \n",
       "998  @nitasha_rakesh: आजादी की 75वीं वर्षगांठ के अव...   \n",
       "999  @ramchander_insa: Divine ambience during #Birt...   \n",
       "\n",
       "                                       Mentions                Created At  \\\n",
       "0                          [D.Jeelan(Dadagari)] 2022-08-19 15:42:13+00:00   \n",
       "1       [BJP Mahila Morcha, UP, Geeta Shakya🇮🇳] 2022-08-19 15:42:13+00:00   \n",
       "2                                  [NYK BIJNOR] 2022-08-19 15:42:12+00:00   \n",
       "3                                [YAS Ministry] 2022-08-19 15:42:10+00:00   \n",
       "4                                   [NYK Banda] 2022-08-19 15:42:05+00:00   \n",
       "..                                          ...                       ...   \n",
       "995  [NYKS India, YAS Ministry, Amrit Mahotsav] 2022-08-19 14:24:59+00:00   \n",
       "996                             [Babal Shallan] 2022-08-19 14:24:55+00:00   \n",
       "997              [Pawan Kalyan, Amrit Mahotsav] 2022-08-19 14:24:51+00:00   \n",
       "998                      [Nitasha Rakesh Sihag] 2022-08-19 14:24:47+00:00   \n",
       "999            [रामचंद्र इन्सां 🙏इंसानियत बचाओ] 2022-08-19 14:24:46+00:00   \n",
       "\n",
       "     Retweet  Likes             Location  \n",
       "0          1      0                India  \n",
       "1          1      0                       \n",
       "2          1      0                       \n",
       "3          1      0                       \n",
       "4          1      0                       \n",
       "..       ...    ...                  ...  \n",
       "995        1      0           Una, India  \n",
       "996        1      0  kalka,पंचकुला, भारत  \n",
       "997        1      0      Kakinada, India  \n",
       "998        1      0                       \n",
       "999        1      0  kalka,पंचकुला, भारत  \n",
       "\n",
       "[1000 rows x 8 columns]"
      ]
     },
     "execution_count": 22,
     "metadata": {},
     "output_type": "execute_result"
    }
   ],
   "source": [
    "df = pd.DataFrame(data, columns=columns)\n",
    "df"
   ]
  },
  {
   "cell_type": "code",
   "execution_count": 28,
   "id": "7e5d8d06",
   "metadata": {},
   "outputs": [
    {
     "data": {
      "text/plain": [
       "AditiRa1502        91\n",
       "YuvaJalandhar      44\n",
       "NykbilaspurHP      43\n",
       "abhisagar6798      40\n",
       "SumitSi10104717    34\n",
       "                   ..\n",
       "BhabagrahiRan10     1\n",
       "PavanKu27698631     1\n",
       "dilkasukooon        1\n",
       "ashish05870         1\n",
       "mahilamorchasrs     1\n",
       "Name: UserID, Length: 348, dtype: int64"
      ]
     },
     "execution_count": 28,
     "metadata": {},
     "output_type": "execute_result"
    }
   ],
   "source": [
    "df[\"UserID\"].value_counts()"
   ]
  },
  {
   "cell_type": "code",
   "execution_count": 29,
   "id": "d2cb45ba",
   "metadata": {},
   "outputs": [
    {
     "data": {
      "text/plain": [
       "1    954\n",
       "0     46\n",
       "Name: Retweet, dtype: int64"
      ]
     },
     "execution_count": 29,
     "metadata": {},
     "output_type": "execute_result"
    }
   ],
   "source": [
    "df[\"Retweet\"].value_counts()"
   ]
  },
  {
   "cell_type": "code",
   "execution_count": null,
   "id": "a8f55f8f",
   "metadata": {},
   "outputs": [],
   "source": []
  }
 ],
 "metadata": {
  "kernelspec": {
   "display_name": "Python 3 (ipykernel)",
   "language": "python",
   "name": "python3"
  },
  "language_info": {
   "codemirror_mode": {
    "name": "ipython",
    "version": 3
   },
   "file_extension": ".py",
   "mimetype": "text/x-python",
   "name": "python",
   "nbconvert_exporter": "python",
   "pygments_lexer": "ipython3",
   "version": "3.9.13"
  }
 },
 "nbformat": 4,
 "nbformat_minor": 5
}
