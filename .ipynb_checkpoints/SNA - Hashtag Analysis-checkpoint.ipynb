{
 "cells": [
  {
   "cell_type": "markdown",
   "id": "0c9de696",
   "metadata": {},
   "source": [
    "# Hashtag Analysis"
   ]
  },
  {
   "cell_type": "markdown",
   "id": "1c52fdca",
   "metadata": {},
   "source": [
    "## Importing Packages"
   ]
  },
  {
   "cell_type": "code",
   "execution_count": 246,
   "id": "d3a2c643",
   "metadata": {},
   "outputs": [],
   "source": [
    "import tweepy\n",
    "import configparser\n",
    "import pandas as pd"
   ]
  },
  {
   "cell_type": "markdown",
   "id": "7e759f35",
   "metadata": {},
   "source": [
    "## Initial Configurations"
   ]
  },
  {
   "cell_type": "code",
   "execution_count": 247,
   "id": "2efad5a2",
   "metadata": {},
   "outputs": [
    {
     "data": {
      "text/plain": [
       "['config.ini']"
      ]
     },
     "execution_count": 247,
     "metadata": {},
     "output_type": "execute_result"
    }
   ],
   "source": [
    "config = configparser.ConfigParser()\n",
    "config.read('config.ini')"
   ]
  },
  {
   "cell_type": "code",
   "execution_count": 248,
   "id": "6db0eade",
   "metadata": {},
   "outputs": [],
   "source": [
    "api_key = config['twitter']['api_key']\n",
    "api_key_secret = config['twitter']['api_key_secret']"
   ]
  },
  {
   "cell_type": "code",
   "execution_count": 249,
   "id": "98673dd3",
   "metadata": {
    "scrolled": false
   },
   "outputs": [],
   "source": [
    "auth = tweepy.OAuth2AppHandler(\n",
    "    api_key ,\n",
    "    api_key_secret\n",
    ")\n",
    "api = tweepy.API(auth)"
   ]
  },
  {
   "cell_type": "markdown",
   "id": "d77af204",
   "metadata": {},
   "source": [
    "## Fetching Data"
   ]
  },
  {
   "cell_type": "code",
   "execution_count": 250,
   "id": "da110812",
   "metadata": {},
   "outputs": [],
   "source": [
    "keywords = '#HarGharTiranga'\n",
    "limit=1"
   ]
  },
  {
   "cell_type": "code",
   "execution_count": 251,
   "id": "3a0189c6",
   "metadata": {},
   "outputs": [],
   "source": [
    "tweets = tweepy.Cursor(api.search_tweets, q=keywords, count=100, tweet_mode='extended').items(limit)"
   ]
  },
  {
   "cell_type": "code",
   "execution_count": 252,
   "id": "7949635f",
   "metadata": {},
   "outputs": [
    {
     "data": {
      "text/plain": [
       "<tweepy.cursor.ItemIterator at 0x280ae19f850>"
      ]
     },
     "execution_count": 252,
     "metadata": {},
     "output_type": "execute_result"
    }
   ],
   "source": [
    "tweets"
   ]
  },
  {
   "cell_type": "code",
   "execution_count": 253,
   "id": "09dca9ee",
   "metadata": {},
   "outputs": [],
   "source": [
    "columns = ['UserID', 'Name', 'Tweet', 'Mentions','Created At','Retweet']\n",
    "data = []"
   ]
  },
  {
   "cell_type": "code",
   "execution_count": 254,
   "id": "6e23103e",
   "metadata": {
    "scrolled": false
   },
   "outputs": [
    {
     "name": "stdout",
     "output_type": "stream",
     "text": [
      "User(_api=<tweepy.api.API object at 0x00000280AE1AB340>, _json={'id': 1390692819119968260, 'id_str': '1390692819119968260', 'name': 'jatt saab', 'screen_name': 'Shubham40918010', 'location': 'Jammu & Kashmir', 'description': 'avoid all except our blood relation', 'url': None, 'entities': {'description': {'urls': []}}, 'protected': False, 'followers_count': 466, 'friends_count': 479, 'listed_count': 0, 'created_at': 'Fri May 07 15:39:58 +0000 2021', 'favourites_count': 2219, 'utc_offset': None, 'time_zone': None, 'geo_enabled': False, 'verified': False, 'statuses_count': 1776, 'lang': None, 'contributors_enabled': False, 'is_translator': False, 'is_translation_enabled': False, 'profile_background_color': 'F5F8FA', 'profile_background_image_url': None, 'profile_background_image_url_https': None, 'profile_background_tile': False, 'profile_image_url': 'http://pbs.twimg.com/profile_images/1422881340265930755/wEhqGR12_normal.jpg', 'profile_image_url_https': 'https://pbs.twimg.com/profile_images/1422881340265930755/wEhqGR12_normal.jpg', 'profile_link_color': '1DA1F2', 'profile_sidebar_border_color': 'C0DEED', 'profile_sidebar_fill_color': 'DDEEF6', 'profile_text_color': '333333', 'profile_use_background_image': True, 'has_extended_profile': True, 'default_profile': True, 'default_profile_image': False, 'following': None, 'follow_request_sent': None, 'notifications': None, 'translator_type': 'none', 'withheld_in_countries': []}, id=1390692819119968260, id_str='1390692819119968260', name='jatt saab', screen_name='Shubham40918010', location='Jammu & Kashmir', description='avoid all except our blood relation', url=None, entities={'description': {'urls': []}}, protected=False, followers_count=466, friends_count=479, listed_count=0, created_at=datetime.datetime(2021, 5, 7, 15, 39, 58, tzinfo=datetime.timezone.utc), favourites_count=2219, utc_offset=None, time_zone=None, geo_enabled=False, verified=False, statuses_count=1776, lang=None, contributors_enabled=False, is_translator=False, is_translation_enabled=False, profile_background_color='F5F8FA', profile_background_image_url=None, profile_background_image_url_https=None, profile_background_tile=False, profile_image_url='http://pbs.twimg.com/profile_images/1422881340265930755/wEhqGR12_normal.jpg', profile_image_url_https='https://pbs.twimg.com/profile_images/1422881340265930755/wEhqGR12_normal.jpg', profile_link_color='1DA1F2', profile_sidebar_border_color='C0DEED', profile_sidebar_fill_color='DDEEF6', profile_text_color='333333', profile_use_background_image=True, has_extended_profile=True, default_profile=True, default_profile_image=False, following=False, follow_request_sent=None, notifications=None, translator_type='none', withheld_in_countries=[])\n"
     ]
    }
   ],
   "source": [
    "for tweet in tweets:\n",
    "    print(tweet.user)\n",
    "    tweet_mentions=[]\n",
    "    a=tweet.entities\n",
    "#     print(a[0][3]['user_mentions'])\n",
    "    data.append([tweet.user.screen_name, tweet.user.name, tweet.full_text, tweet.entities,tweet._json[\"created_at\"], None])"
   ]
  },
  {
   "cell_type": "code",
   "execution_count": 255,
   "id": "921332f1",
   "metadata": {},
   "outputs": [
    {
     "data": {
      "text/html": [
       "<div>\n",
       "<style scoped>\n",
       "    .dataframe tbody tr th:only-of-type {\n",
       "        vertical-align: middle;\n",
       "    }\n",
       "\n",
       "    .dataframe tbody tr th {\n",
       "        vertical-align: top;\n",
       "    }\n",
       "\n",
       "    .dataframe thead th {\n",
       "        text-align: right;\n",
       "    }\n",
       "</style>\n",
       "<table border=\"1\" class=\"dataframe\">\n",
       "  <thead>\n",
       "    <tr style=\"text-align: right;\">\n",
       "      <th></th>\n",
       "      <th>UserID</th>\n",
       "      <th>Name</th>\n",
       "      <th>Tweet</th>\n",
       "      <th>Mentions</th>\n",
       "      <th>Created At</th>\n",
       "      <th>Retweet</th>\n",
       "    </tr>\n",
       "  </thead>\n",
       "  <tbody>\n",
       "    <tr>\n",
       "      <th>0</th>\n",
       "      <td>Shubham40918010</td>\n",
       "      <td>jatt saab</td>\n",
       "      <td>RT @Shaurya121095: #MadeInKashmirTiranga makin...</td>\n",
       "      <td>{'hashtags': [{'text': 'MadeInKashmirTiranga',...</td>\n",
       "      <td>Fri Aug 19 15:12:33 +0000 2022</td>\n",
       "      <td>None</td>\n",
       "    </tr>\n",
       "  </tbody>\n",
       "</table>\n",
       "</div>"
      ],
      "text/plain": [
       "            UserID       Name  \\\n",
       "0  Shubham40918010  jatt saab   \n",
       "\n",
       "                                               Tweet  \\\n",
       "0  RT @Shaurya121095: #MadeInKashmirTiranga makin...   \n",
       "\n",
       "                                            Mentions  \\\n",
       "0  {'hashtags': [{'text': 'MadeInKashmirTiranga',...   \n",
       "\n",
       "                       Created At Retweet  \n",
       "0  Fri Aug 19 15:12:33 +0000 2022    None  "
      ]
     },
     "execution_count": 255,
     "metadata": {},
     "output_type": "execute_result"
    }
   ],
   "source": [
    "df = pd.DataFrame(data, columns=columns)\n",
    "df"
   ]
  },
  {
   "cell_type": "code",
   "execution_count": 256,
   "id": "7ce9ff87",
   "metadata": {
    "scrolled": false
   },
   "outputs": [
    {
     "data": {
      "text/plain": [
       "[['Shubham40918010',\n",
       "  'jatt saab',\n",
       "  'RT @Shaurya121095: #MadeInKashmirTiranga making a mark all over #India for #HarGharTiranga #AzadiKaAmritMahotsav ❣️🇮🇳\\nAssam, Manipur, MP, R…',\n",
       "  {'hashtags': [{'text': 'MadeInKashmirTiranga', 'indices': [19, 40]},\n",
       "    {'text': 'India', 'indices': [64, 70]},\n",
       "    {'text': 'HarGharTiranga', 'indices': [75, 90]},\n",
       "    {'text': 'AzadiKaAmritMahotsav', 'indices': [91, 112]}],\n",
       "   'symbols': [],\n",
       "   'user_mentions': [{'screen_name': 'Shaurya121095',\n",
       "     'name': 'Shaurya',\n",
       "     'id': 1366679021203857413,\n",
       "     'id_str': '1366679021203857413',\n",
       "     'indices': [3, 17]}],\n",
       "   'urls': []},\n",
       "  'Fri Aug 19 15:12:33 +0000 2022',\n",
       "  None]]"
      ]
     },
     "execution_count": 256,
     "metadata": {},
     "output_type": "execute_result"
    }
   ],
   "source": [
    "data"
   ]
  },
  {
   "cell_type": "markdown",
   "id": "5086a630",
   "metadata": {},
   "source": [
    "## Extracting User Mentions and Retweet Status"
   ]
  },
  {
   "cell_type": "code",
   "execution_count": 257,
   "id": "2cdba43c",
   "metadata": {},
   "outputs": [],
   "source": [
    "for i in range(len(data)):\n",
    "    \n",
    "    #extracting mentions\n",
    "    \n",
    "    tempMention=[data[i][3]['user_mentions'][j]['name'] for j in range(len(data[i][3]['user_mentions']))]\n",
    "    #print(tempMention)\n",
    "    data[i][3]=tempMention\n",
    "    \n",
    "    #extracting retweet status and updating tweet content\n",
    "    tempTxt=data[i][2][:2]\n",
    "    if tempTxt==\"RT\":\n",
    "        data[i][5]=1\n",
    "        data[i][2]=data[i][2][3:]\n",
    "    else:\n",
    "        data[i][5]=0"
   ]
  },
  {
   "cell_type": "code",
   "execution_count": 258,
   "id": "458decaf",
   "metadata": {},
   "outputs": [
    {
     "data": {
      "text/html": [
       "<div>\n",
       "<style scoped>\n",
       "    .dataframe tbody tr th:only-of-type {\n",
       "        vertical-align: middle;\n",
       "    }\n",
       "\n",
       "    .dataframe tbody tr th {\n",
       "        vertical-align: top;\n",
       "    }\n",
       "\n",
       "    .dataframe thead th {\n",
       "        text-align: right;\n",
       "    }\n",
       "</style>\n",
       "<table border=\"1\" class=\"dataframe\">\n",
       "  <thead>\n",
       "    <tr style=\"text-align: right;\">\n",
       "      <th></th>\n",
       "      <th>UserID</th>\n",
       "      <th>Name</th>\n",
       "      <th>Tweet</th>\n",
       "      <th>Mentions</th>\n",
       "      <th>Created At</th>\n",
       "      <th>Retweet</th>\n",
       "    </tr>\n",
       "  </thead>\n",
       "  <tbody>\n",
       "    <tr>\n",
       "      <th>0</th>\n",
       "      <td>Shubham40918010</td>\n",
       "      <td>jatt saab</td>\n",
       "      <td>@Shaurya121095: #MadeInKashmirTiranga making a...</td>\n",
       "      <td>[Shaurya]</td>\n",
       "      <td>Fri Aug 19 15:12:33 +0000 2022</td>\n",
       "      <td>1</td>\n",
       "    </tr>\n",
       "  </tbody>\n",
       "</table>\n",
       "</div>"
      ],
      "text/plain": [
       "            UserID       Name  \\\n",
       "0  Shubham40918010  jatt saab   \n",
       "\n",
       "                                               Tweet   Mentions  \\\n",
       "0  @Shaurya121095: #MadeInKashmirTiranga making a...  [Shaurya]   \n",
       "\n",
       "                       Created At  Retweet  \n",
       "0  Fri Aug 19 15:12:33 +0000 2022        1  "
      ]
     },
     "execution_count": 258,
     "metadata": {},
     "output_type": "execute_result"
    }
   ],
   "source": [
    "df = pd.DataFrame(data, columns=columns)\n",
    "df"
   ]
  }
 ],
 "metadata": {
  "kernelspec": {
   "display_name": "Python 3 (ipykernel)",
   "language": "python",
   "name": "python3"
  },
  "language_info": {
   "codemirror_mode": {
    "name": "ipython",
    "version": 3
   },
   "file_extension": ".py",
   "mimetype": "text/x-python",
   "name": "python",
   "nbconvert_exporter": "python",
   "pygments_lexer": "ipython3",
   "version": "3.9.13"
  }
 },
 "nbformat": 4,
 "nbformat_minor": 5
}
