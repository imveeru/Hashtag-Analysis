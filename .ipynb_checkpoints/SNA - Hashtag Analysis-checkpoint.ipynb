{
 "cells": [
  {
   "cell_type": "markdown",
   "id": "1dc4abf9",
   "metadata": {},
   "source": [
    "# Hashtag Analysis"
   ]
  },
  {
   "cell_type": "markdown",
   "id": "68292e7d",
   "metadata": {},
   "source": [
    "## Importing Packages"
   ]
  },
  {
   "cell_type": "code",
   "execution_count": 394,
   "id": "d3a2c643",
   "metadata": {},
   "outputs": [],
   "source": [
    "import tweepy\n",
    "import configparser\n",
    "import pandas as pd"
   ]
  },
  {
   "cell_type": "markdown",
   "id": "11bf1f03",
   "metadata": {},
   "source": [
    "## Initial Configurations"
   ]
  },
  {
   "cell_type": "code",
   "execution_count": 395,
   "id": "2efad5a2",
   "metadata": {},
   "outputs": [
    {
     "data": {
      "text/plain": [
       "['config.ini']"
      ]
     },
     "execution_count": 395,
     "metadata": {},
     "output_type": "execute_result"
    }
   ],
   "source": [
    "config = configparser.ConfigParser()\n",
    "config.read('config.ini')"
   ]
  },
  {
   "cell_type": "code",
   "execution_count": 396,
   "id": "6db0eade",
   "metadata": {},
   "outputs": [],
   "source": [
    "api_key = config['twitter']['api_key']\n",
    "api_key_secret = config['twitter']['api_key_secret']"
   ]
  },
  {
   "cell_type": "code",
   "execution_count": 397,
   "id": "98673dd3",
   "metadata": {
    "scrolled": false
   },
   "outputs": [],
   "source": [
    "auth = tweepy.OAuth2AppHandler(\n",
    "    api_key ,\n",
    "    api_key_secret\n",
    ")\n",
    "api = tweepy.API(auth)"
   ]
  },
  {
   "cell_type": "markdown",
   "id": "5230d265",
   "metadata": {},
   "source": [
    "## Fetching Data"
   ]
  },
  {
   "cell_type": "code",
   "execution_count": 398,
   "id": "da110812",
   "metadata": {},
   "outputs": [],
   "source": [
    "keywords = '#HarGharTiranga'\n",
    "limit=1"
   ]
  },
  {
   "cell_type": "code",
   "execution_count": 399,
   "id": "3a0189c6",
   "metadata": {},
   "outputs": [],
   "source": [
    "tweets = tweepy.Cursor(api.search_tweets, q=keywords, count=100, tweet_mode='extended').items(limit)"
   ]
  },
  {
   "cell_type": "code",
   "execution_count": 400,
   "id": "7949635f",
   "metadata": {},
   "outputs": [
    {
     "data": {
      "text/plain": [
       "<tweepy.cursor.ItemIterator at 0x280b4eb5cd0>"
      ]
     },
     "execution_count": 400,
     "metadata": {},
     "output_type": "execute_result"
    }
   ],
   "source": [
    "tweets"
   ]
  },
  {
   "cell_type": "code",
   "execution_count": 401,
   "id": "09dca9ee",
   "metadata": {},
   "outputs": [],
   "source": [
    "columns = ['UserID', 'Name', 'Tweet', 'Mentions','Created At','Retweet', 'Likes','Location']\n",
    "data = []"
   ]
  },
  {
   "cell_type": "code",
   "execution_count": 402,
   "id": "6e23103e",
   "metadata": {
    "scrolled": false
   },
   "outputs": [
    {
     "name": "stdout",
     "output_type": "stream",
     "text": [
      "{'created_at': 'Fri Aug 19 15:35:29 +0000 2022', 'id': 1560651673915510784, 'id_str': '1560651673915510784', 'full_text': \"RT @LamaLines: What's the use of showing fake #nationalism when you actually don't #value it?!\\n\\nFor the sake of #social #media #PROMOTION a…\", 'truncated': False, 'display_text_range': [0, 140], 'entities': {'hashtags': [{'text': 'nationalism', 'indices': [46, 58]}, {'text': 'value', 'indices': [83, 89]}, {'text': 'social', 'indices': [112, 119]}, {'text': 'media', 'indices': [120, 126]}, {'text': 'PROMOTION', 'indices': [127, 137]}], 'symbols': [], 'user_mentions': [{'screen_name': 'LamaLines', 'name': 'Lama Lines', 'id': 1534766988433985536, 'id_str': '1534766988433985536', 'indices': [3, 13]}], 'urls': []}, 'metadata': {'iso_language_code': 'en', 'result_type': 'recent'}, 'source': '<a href=\"http://twitter.com/download/android\" rel=\"nofollow\">Twitter for Android</a>', 'in_reply_to_status_id': None, 'in_reply_to_status_id_str': None, 'in_reply_to_user_id': None, 'in_reply_to_user_id_str': None, 'in_reply_to_screen_name': None, 'user': {'id': 1582033448, 'id_str': '1582033448', 'name': 'பா. அரவிந்த் திருவாரூர்', 'screen_name': 'aravindh_87', 'location': 'Thiruvarur, Tamilnadu', 'description': 'மாவட்ட ஒருங்கிணைப்பாளர்- தகவல்தொழில்நுட்ப அணி', 'url': 'https://t.co/sxgRVvCsvN', 'entities': {'url': {'urls': [{'url': 'https://t.co/sxgRVvCsvN', 'expanded_url': 'https://www.facebook.com/aravindh.bala.14', 'display_url': 'facebook.com/aravindh.bala.…', 'indices': [0, 23]}]}, 'description': {'urls': []}}, 'protected': False, 'followers_count': 9475, 'friends_count': 3024, 'listed_count': 5, 'created_at': 'Wed Jul 10 02:47:17 +0000 2013', 'favourites_count': 162735, 'utc_offset': None, 'time_zone': None, 'geo_enabled': True, 'verified': False, 'statuses_count': 243164, 'lang': None, 'contributors_enabled': False, 'is_translator': False, 'is_translation_enabled': False, 'profile_background_color': 'C0DEED', 'profile_background_image_url': 'http://abs.twimg.com/images/themes/theme1/bg.png', 'profile_background_image_url_https': 'https://abs.twimg.com/images/themes/theme1/bg.png', 'profile_background_tile': False, 'profile_image_url': 'http://pbs.twimg.com/profile_images/1559501109688823813/2v-6HFnq_normal.jpg', 'profile_image_url_https': 'https://pbs.twimg.com/profile_images/1559501109688823813/2v-6HFnq_normal.jpg', 'profile_banner_url': 'https://pbs.twimg.com/profile_banners/1582033448/1651227405', 'profile_link_color': '1DA1F2', 'profile_sidebar_border_color': 'C0DEED', 'profile_sidebar_fill_color': 'DDEEF6', 'profile_text_color': '333333', 'profile_use_background_image': True, 'has_extended_profile': True, 'default_profile': True, 'default_profile_image': False, 'following': None, 'follow_request_sent': None, 'notifications': None, 'translator_type': 'none', 'withheld_in_countries': []}, 'geo': None, 'coordinates': None, 'place': None, 'contributors': None, 'retweeted_status': {'created_at': 'Fri Aug 19 11:17:24 +0000 2022', 'id': 1560586724991897600, 'id_str': '1560586724991897600', 'full_text': \"What's the use of showing fake #nationalism when you actually don't #value it?!\\n\\nFor the sake of #social #media #PROMOTION and #votes?!\\n\\n#IndiaAt75\\n#IndependenceDay\\n#IndependenceDay2022 #IndependenceDayIndia #Independence #BJP #HarGharTirangaCampaign #HarGharTiranga https://t.co/E2phxYfZax\", 'truncated': False, 'display_text_range': [0, 266], 'entities': {'hashtags': [{'text': 'nationalism', 'indices': [31, 43]}, {'text': 'value', 'indices': [68, 74]}, {'text': 'social', 'indices': [97, 104]}, {'text': 'media', 'indices': [105, 111]}, {'text': 'PROMOTION', 'indices': [112, 122]}, {'text': 'votes', 'indices': [127, 133]}, {'text': 'IndiaAt75', 'indices': [137, 147]}, {'text': 'IndependenceDay', 'indices': [148, 164]}, {'text': 'IndependenceDay2022', 'indices': [165, 185]}, {'text': 'IndependenceDayIndia', 'indices': [186, 207]}, {'text': 'Independence', 'indices': [208, 221]}, {'text': 'BJP', 'indices': [222, 226]}, {'text': 'HarGharTirangaCampaign', 'indices': [227, 250]}, {'text': 'HarGharTiranga', 'indices': [251, 266]}], 'symbols': [], 'user_mentions': [], 'urls': [], 'media': [{'id': 1560586722437918720, 'id_str': '1560586722437918720', 'indices': [267, 290], 'media_url': 'http://pbs.twimg.com/media/FahRWxAacAAu43K.jpg', 'media_url_https': 'https://pbs.twimg.com/media/FahRWxAacAAu43K.jpg', 'url': 'https://t.co/E2phxYfZax', 'display_url': 'pic.twitter.com/E2phxYfZax', 'expanded_url': 'https://twitter.com/LamaLines/status/1560586724991897600/photo/1', 'type': 'photo', 'sizes': {'thumb': {'w': 150, 'h': 150, 'resize': 'crop'}, 'medium': {'w': 1199, 'h': 1200, 'resize': 'fit'}, 'small': {'w': 679, 'h': 680, 'resize': 'fit'}, 'large': {'w': 1279, 'h': 1280, 'resize': 'fit'}}}]}, 'extended_entities': {'media': [{'id': 1560586722437918720, 'id_str': '1560586722437918720', 'indices': [267, 290], 'media_url': 'http://pbs.twimg.com/media/FahRWxAacAAu43K.jpg', 'media_url_https': 'https://pbs.twimg.com/media/FahRWxAacAAu43K.jpg', 'url': 'https://t.co/E2phxYfZax', 'display_url': 'pic.twitter.com/E2phxYfZax', 'expanded_url': 'https://twitter.com/LamaLines/status/1560586724991897600/photo/1', 'type': 'photo', 'sizes': {'thumb': {'w': 150, 'h': 150, 'resize': 'crop'}, 'medium': {'w': 1199, 'h': 1200, 'resize': 'fit'}, 'small': {'w': 679, 'h': 680, 'resize': 'fit'}, 'large': {'w': 1279, 'h': 1280, 'resize': 'fit'}}}]}, 'metadata': {'iso_language_code': 'en', 'result_type': 'recent'}, 'source': '<a href=\"http://twitter.com/download/android\" rel=\"nofollow\">Twitter for Android</a>', 'in_reply_to_status_id': None, 'in_reply_to_status_id_str': None, 'in_reply_to_user_id': None, 'in_reply_to_user_id_str': None, 'in_reply_to_screen_name': None, 'user': {'id': 1534766988433985536, 'id_str': '1534766988433985536', 'name': 'Lama Lines', 'screen_name': 'LamaLines', 'location': 'India', 'description': 'Cartoons by political enthusiasts made for the purpose of conveying editorial commentary on Politics, Politicians, and Current events in India and Global!', 'url': None, 'entities': {'description': {'urls': []}}, 'protected': False, 'followers_count': 499, 'friends_count': 0, 'listed_count': 3, 'created_at': 'Thu Jun 09 05:19:12 +0000 2022', 'favourites_count': 7, 'utc_offset': None, 'time_zone': None, 'geo_enabled': False, 'verified': False, 'statuses_count': 40, 'lang': None, 'contributors_enabled': False, 'is_translator': False, 'is_translation_enabled': False, 'profile_background_color': 'F5F8FA', 'profile_background_image_url': None, 'profile_background_image_url_https': None, 'profile_background_tile': False, 'profile_image_url': 'http://pbs.twimg.com/profile_images/1534767134341218304/JNGCtnfD_normal.jpg', 'profile_image_url_https': 'https://pbs.twimg.com/profile_images/1534767134341218304/JNGCtnfD_normal.jpg', 'profile_banner_url': 'https://pbs.twimg.com/profile_banners/1534766988433985536/1655115441', 'profile_link_color': '1DA1F2', 'profile_sidebar_border_color': 'C0DEED', 'profile_sidebar_fill_color': 'DDEEF6', 'profile_text_color': '333333', 'profile_use_background_image': True, 'has_extended_profile': True, 'default_profile': True, 'default_profile_image': False, 'following': None, 'follow_request_sent': None, 'notifications': None, 'translator_type': 'none', 'withheld_in_countries': []}, 'geo': None, 'coordinates': None, 'place': None, 'contributors': None, 'is_quote_status': False, 'retweet_count': 42, 'favorite_count': 36, 'favorited': False, 'retweeted': False, 'possibly_sensitive': False, 'lang': 'en'}, 'is_quote_status': False, 'retweet_count': 42, 'favorite_count': 0, 'favorited': False, 'retweeted': False, 'lang': 'en'}\n"
     ]
    }
   ],
   "source": [
    "for tweet in tweets:\n",
    "    print(tweet._json)\n",
    "    tweet_mentions=[]\n",
    "    a=tweet.entities\n",
    "#     print(a[0][3]['user_mentions'])\n",
    "    data.append([tweet.user.screen_name, tweet.user.name, tweet.full_text, tweet.entities, tweet.created_at, None, tweet.favorite_count, tweet.user._json[\"location\"]])"
   ]
  },
  {
   "cell_type": "code",
   "execution_count": 403,
   "id": "921332f1",
   "metadata": {
    "scrolled": true
   },
   "outputs": [
    {
     "data": {
      "text/html": [
       "<div>\n",
       "<style scoped>\n",
       "    .dataframe tbody tr th:only-of-type {\n",
       "        vertical-align: middle;\n",
       "    }\n",
       "\n",
       "    .dataframe tbody tr th {\n",
       "        vertical-align: top;\n",
       "    }\n",
       "\n",
       "    .dataframe thead th {\n",
       "        text-align: right;\n",
       "    }\n",
       "</style>\n",
       "<table border=\"1\" class=\"dataframe\">\n",
       "  <thead>\n",
       "    <tr style=\"text-align: right;\">\n",
       "      <th></th>\n",
       "      <th>UserID</th>\n",
       "      <th>Name</th>\n",
       "      <th>Tweet</th>\n",
       "      <th>Mentions</th>\n",
       "      <th>Created At</th>\n",
       "      <th>Retweet</th>\n",
       "      <th>Likes</th>\n",
       "      <th>Location</th>\n",
       "    </tr>\n",
       "  </thead>\n",
       "  <tbody>\n",
       "    <tr>\n",
       "      <th>0</th>\n",
       "      <td>aravindh_87</td>\n",
       "      <td>பா. அரவிந்த் திருவாரூர்</td>\n",
       "      <td>RT @LamaLines: What's the use of showing fake ...</td>\n",
       "      <td>{'hashtags': [{'text': 'nationalism', 'indices...</td>\n",
       "      <td>2022-08-19 15:35:29+00:00</td>\n",
       "      <td>None</td>\n",
       "      <td>0</td>\n",
       "      <td>Thiruvarur, Tamilnadu</td>\n",
       "    </tr>\n",
       "  </tbody>\n",
       "</table>\n",
       "</div>"
      ],
      "text/plain": [
       "        UserID                     Name  \\\n",
       "0  aravindh_87  பா. அரவிந்த் திருவாரூர்   \n",
       "\n",
       "                                               Tweet  \\\n",
       "0  RT @LamaLines: What's the use of showing fake ...   \n",
       "\n",
       "                                            Mentions  \\\n",
       "0  {'hashtags': [{'text': 'nationalism', 'indices...   \n",
       "\n",
       "                 Created At Retweet  Likes               Location  \n",
       "0 2022-08-19 15:35:29+00:00    None      0  Thiruvarur, Tamilnadu  "
      ]
     },
     "execution_count": 403,
     "metadata": {},
     "output_type": "execute_result"
    }
   ],
   "source": [
    "df = pd.DataFrame(data, columns=columns)\n",
    "df"
   ]
  },
  {
   "cell_type": "code",
   "execution_count": 404,
   "id": "7ce9ff87",
   "metadata": {
    "scrolled": false
   },
   "outputs": [
    {
     "data": {
      "text/plain": [
       "[['aravindh_87',\n",
       "  'பா. அரவிந்த் திருவாரூர்',\n",
       "  \"RT @LamaLines: What's the use of showing fake #nationalism when you actually don't #value it?!\\n\\nFor the sake of #social #media #PROMOTION a…\",\n",
       "  {'hashtags': [{'text': 'nationalism', 'indices': [46, 58]},\n",
       "    {'text': 'value', 'indices': [83, 89]},\n",
       "    {'text': 'social', 'indices': [112, 119]},\n",
       "    {'text': 'media', 'indices': [120, 126]},\n",
       "    {'text': 'PROMOTION', 'indices': [127, 137]}],\n",
       "   'symbols': [],\n",
       "   'user_mentions': [{'screen_name': 'LamaLines',\n",
       "     'name': 'Lama Lines',\n",
       "     'id': 1534766988433985536,\n",
       "     'id_str': '1534766988433985536',\n",
       "     'indices': [3, 13]}],\n",
       "   'urls': []},\n",
       "  datetime.datetime(2022, 8, 19, 15, 35, 29, tzinfo=datetime.timezone.utc),\n",
       "  None,\n",
       "  0,\n",
       "  'Thiruvarur, Tamilnadu']]"
      ]
     },
     "execution_count": 404,
     "metadata": {},
     "output_type": "execute_result"
    }
   ],
   "source": [
    "data"
   ]
  },
  {
   "cell_type": "markdown",
   "id": "749a47bc",
   "metadata": {},
   "source": [
    "## Extracting User Mentions and Retweet Status"
   ]
  },
  {
   "cell_type": "code",
   "execution_count": 405,
   "id": "f98a4fee",
   "metadata": {},
   "outputs": [],
   "source": [
    "for i in range(len(data)):\n",
    "    \n",
    "    #extracting mentions\n",
    "    \n",
    "    tempMention=[data[i][3]['user_mentions'][j]['name'] for j in range(len(data[i][3]['user_mentions']))]\n",
    "    #print(tempMention)\n",
    "    data[i][3]=tempMention\n",
    "    \n",
    "    #extracting retweet status and updating tweet content\n",
    "    tempTxt=data[i][2][:2]\n",
    "    if tempTxt==\"RT\":\n",
    "        data[i][5]=1\n",
    "        data[i][2]=data[i][2][3:]\n",
    "    else:\n",
    "        data[i][5]=0"
   ]
  },
  {
   "cell_type": "code",
   "execution_count": 406,
   "id": "46a96124",
   "metadata": {},
   "outputs": [
    {
     "data": {
      "text/html": [
       "<div>\n",
       "<style scoped>\n",
       "    .dataframe tbody tr th:only-of-type {\n",
       "        vertical-align: middle;\n",
       "    }\n",
       "\n",
       "    .dataframe tbody tr th {\n",
       "        vertical-align: top;\n",
       "    }\n",
       "\n",
       "    .dataframe thead th {\n",
       "        text-align: right;\n",
       "    }\n",
       "</style>\n",
       "<table border=\"1\" class=\"dataframe\">\n",
       "  <thead>\n",
       "    <tr style=\"text-align: right;\">\n",
       "      <th></th>\n",
       "      <th>UserID</th>\n",
       "      <th>Name</th>\n",
       "      <th>Tweet</th>\n",
       "      <th>Mentions</th>\n",
       "      <th>Created At</th>\n",
       "      <th>Retweet</th>\n",
       "      <th>Likes</th>\n",
       "      <th>Location</th>\n",
       "    </tr>\n",
       "  </thead>\n",
       "  <tbody>\n",
       "    <tr>\n",
       "      <th>0</th>\n",
       "      <td>aravindh_87</td>\n",
       "      <td>பா. அரவிந்த் திருவாரூர்</td>\n",
       "      <td>@LamaLines: What's the use of showing fake #na...</td>\n",
       "      <td>[Lama Lines]</td>\n",
       "      <td>2022-08-19 15:35:29+00:00</td>\n",
       "      <td>1</td>\n",
       "      <td>0</td>\n",
       "      <td>Thiruvarur, Tamilnadu</td>\n",
       "    </tr>\n",
       "  </tbody>\n",
       "</table>\n",
       "</div>"
      ],
      "text/plain": [
       "        UserID                     Name  \\\n",
       "0  aravindh_87  பா. அரவிந்த் திருவாரூர்   \n",
       "\n",
       "                                               Tweet      Mentions  \\\n",
       "0  @LamaLines: What's the use of showing fake #na...  [Lama Lines]   \n",
       "\n",
       "                 Created At  Retweet  Likes               Location  \n",
       "0 2022-08-19 15:35:29+00:00        1      0  Thiruvarur, Tamilnadu  "
      ]
     },
     "execution_count": 406,
     "metadata": {},
     "output_type": "execute_result"
    }
   ],
   "source": [
    "df = pd.DataFrame(data, columns=columns)\n",
    "df"
   ]
  }
 ],
 "metadata": {
  "kernelspec": {
   "display_name": "Python 3 (ipykernel)",
   "language": "python",
   "name": "python3"
  },
  "language_info": {
   "codemirror_mode": {
    "name": "ipython",
    "version": 3
   },
   "file_extension": ".py",
   "mimetype": "text/x-python",
   "name": "python",
   "nbconvert_exporter": "python",
   "pygments_lexer": "ipython3",
   "version": "3.9.13"
  }
 },
 "nbformat": 4,
 "nbformat_minor": 5
}
