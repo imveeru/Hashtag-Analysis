{
 "cells": [
  {
   "cell_type": "markdown",
   "id": "b6738858",
   "metadata": {},
   "source": [
    "# Hashtag Analysis"
   ]
  },
  {
   "cell_type": "markdown",
   "id": "da12efa9",
   "metadata": {},
   "source": [
    "## Importing Packages"
   ]
  },
  {
   "cell_type": "code",
   "execution_count": 337,
   "id": "d3a2c643",
   "metadata": {},
   "outputs": [],
   "source": [
    "import tweepy\n",
    "import configparser\n",
    "import pandas as pd"
   ]
  },
  {
   "cell_type": "markdown",
   "id": "c28484da",
   "metadata": {},
   "source": [
    "## Initial Configurations"
   ]
  },
  {
   "cell_type": "code",
   "execution_count": 338,
   "id": "2efad5a2",
   "metadata": {},
   "outputs": [
    {
     "data": {
      "text/plain": [
       "['config.ini']"
      ]
     },
     "execution_count": 338,
     "metadata": {},
     "output_type": "execute_result"
    }
   ],
   "source": [
    "config = configparser.ConfigParser()\n",
    "config.read('config.ini')"
   ]
  },
  {
   "cell_type": "code",
   "execution_count": 339,
   "id": "6db0eade",
   "metadata": {},
   "outputs": [],
   "source": [
    "api_key = config['twitter']['api_key']\n",
    "api_key_secret = config['twitter']['api_key_secret']"
   ]
  },
  {
   "cell_type": "code",
   "execution_count": 340,
   "id": "98673dd3",
   "metadata": {
    "scrolled": false
   },
   "outputs": [],
   "source": [
    "auth = tweepy.OAuth2AppHandler(\n",
    "    api_key ,\n",
    "    api_key_secret\n",
    ")\n",
    "api = tweepy.API(auth)"
   ]
  },
  {
   "cell_type": "markdown",
   "id": "ef84cc94",
   "metadata": {},
   "source": [
    "## Fetching Data"
   ]
  },
  {
   "cell_type": "code",
   "execution_count": 341,
   "id": "da110812",
   "metadata": {},
   "outputs": [],
   "source": [
    "keywords = '#HarGharTiranga'\n",
    "limit=1"
   ]
  },
  {
   "cell_type": "code",
   "execution_count": 342,
   "id": "3a0189c6",
   "metadata": {},
   "outputs": [],
   "source": [
    "tweets = tweepy.Cursor(api.search_tweets, q=keywords, count=100, tweet_mode='extended').items(limit)"
   ]
  },
  {
   "cell_type": "code",
   "execution_count": 343,
   "id": "7949635f",
   "metadata": {},
   "outputs": [
    {
     "data": {
      "text/plain": [
       "<tweepy.cursor.ItemIterator at 0x280b27f68b0>"
      ]
     },
     "execution_count": 343,
     "metadata": {},
     "output_type": "execute_result"
    }
   ],
   "source": [
    "tweets"
   ]
  },
  {
   "cell_type": "code",
   "execution_count": 344,
   "id": "09dca9ee",
   "metadata": {},
   "outputs": [],
   "source": [
    "columns = ['UserID', 'Name', 'Tweet', 'Mentions','Created At','Retweet','Location']\n",
    "data = []"
   ]
  },
  {
   "cell_type": "code",
   "execution_count": 345,
   "id": "6e23103e",
   "metadata": {
    "scrolled": false
   },
   "outputs": [
    {
     "name": "stdout",
     "output_type": "stream",
     "text": [
      "{'created_at': 'Fri Aug 19 15:21:19 +0000 2022', 'id': 1560648109402705920, 'id_str': '1560648109402705920', 'full_text': 'RT @nyk_west: 75th Independence Day celebrated in all 18 Blocks of NYK West Singhbhum Jharkhand \\n#AzadiKaAmritMahotsav\\n#HarGharTiranga \\n@Ny…', 'truncated': False, 'display_text_range': [0, 140], 'entities': {'hashtags': [{'text': 'AzadiKaAmritMahotsav', 'indices': [97, 118]}, {'text': 'HarGharTiranga', 'indices': [119, 134]}], 'symbols': [], 'user_mentions': [{'screen_name': 'nyk_west', 'name': 'Nyk West Singhbhum', 'id': 1315602962354331648, 'id_str': '1315602962354331648', 'indices': [3, 12]}], 'urls': []}, 'metadata': {'iso_language_code': 'en', 'result_type': 'recent'}, 'source': '<a href=\"http://twitter.com/download/android\" rel=\"nofollow\">Twitter for Android</a>', 'in_reply_to_status_id': None, 'in_reply_to_status_id_str': None, 'in_reply_to_user_id': None, 'in_reply_to_user_id_str': None, 'in_reply_to_screen_name': None, 'user': {'id': 1414586085074632709, 'id_str': '1414586085074632709', 'name': 'JOGESHWAR SINGH', 'screen_name': 'JOGESHW71844208', 'location': '', 'description': 'My name is JOGESHWAR SINGH .\\nI belong from village Patiyar .\\nPanchayat Runghikicha.\\nBlock Anandpur.\\nDist West singh bhum Jharkhand.\\nRecently I am NYV ANANDPUR', 'url': None, 'entities': {'description': {'urls': []}}, 'protected': False, 'followers_count': 38, 'friends_count': 21, 'listed_count': 0, 'created_at': 'Mon Jul 12 14:04:43 +0000 2021', 'favourites_count': 2467, 'utc_offset': None, 'time_zone': None, 'geo_enabled': False, 'verified': False, 'statuses_count': 2207, 'lang': None, 'contributors_enabled': False, 'is_translator': False, 'is_translation_enabled': False, 'profile_background_color': 'F5F8FA', 'profile_background_image_url': None, 'profile_background_image_url_https': None, 'profile_background_tile': False, 'profile_image_url': 'http://pbs.twimg.com/profile_images/1414587021100605441/b23cPEtT_normal.jpg', 'profile_image_url_https': 'https://pbs.twimg.com/profile_images/1414587021100605441/b23cPEtT_normal.jpg', 'profile_link_color': '1DA1F2', 'profile_sidebar_border_color': 'C0DEED', 'profile_sidebar_fill_color': 'DDEEF6', 'profile_text_color': '333333', 'profile_use_background_image': True, 'has_extended_profile': True, 'default_profile': True, 'default_profile_image': False, 'following': None, 'follow_request_sent': None, 'notifications': None, 'translator_type': 'none', 'withheld_in_countries': []}, 'geo': None, 'coordinates': None, 'place': None, 'contributors': None, 'retweeted_status': {'created_at': 'Tue Aug 16 07:55:50 +0000 2022', 'id': 1559448835587702791, 'id_str': '1559448835587702791', 'full_text': '75th Independence Day celebrated in all 18 Blocks of NYK West Singhbhum Jharkhand \\n#AzadiKaAmritMahotsav\\n#HarGharTiranga \\n@Nyksindia @NyksSo @sanjayjavin @PMOIndia\\n@ianuragthakur @YASMinistry @NisithPramanik\\n@NITKM2021 https://t.co/732GYeLFY8', 'truncated': False, 'display_text_range': [0, 218], 'entities': {'hashtags': [{'text': 'AzadiKaAmritMahotsav', 'indices': [83, 104]}, {'text': 'HarGharTiranga', 'indices': [105, 120]}], 'symbols': [], 'user_mentions': [{'screen_name': 'Nyksindia', 'name': 'NYKS India', 'id': 1854369001, 'id_str': '1854369001', 'indices': [122, 132]}, {'screen_name': 'NyksSo', 'name': 'NYKS JHARKHAND SO', 'id': 1315654995941879813, 'id_str': '1315654995941879813', 'indices': [133, 140]}, {'screen_name': 'sanjayjavin', 'name': 'Sanjay Kumar', 'id': 101021297, 'id_str': '101021297', 'indices': [141, 153]}, {'screen_name': 'PMOIndia', 'name': 'PMO India', 'id': 471741741, 'id_str': '471741741', 'indices': [154, 163]}, {'screen_name': 'ianuragthakur', 'name': 'Anurag Thakur', 'id': 381949397, 'id_str': '381949397', 'indices': [164, 178]}, {'screen_name': 'YASMinistry', 'name': 'YAS Ministry', 'id': 2364049800, 'id_str': '2364049800', 'indices': [179, 191]}, {'screen_name': 'NisithPramanik', 'name': 'Nisith Pramanik', 'id': 1123921541228638208, 'id_str': '1123921541228638208', 'indices': [192, 207]}, {'screen_name': 'NITKM2021', 'name': 'Nitesh Kumar Mishra', 'id': 1433079063984230408, 'id_str': '1433079063984230408', 'indices': [208, 218]}], 'urls': [], 'media': [{'id': 1559448819909402626, 'id_str': '1559448819909402626', 'indices': [219, 242], 'media_url': 'http://pbs.twimg.com/media/FaRGcHwaIAIeviu.jpg', 'media_url_https': 'https://pbs.twimg.com/media/FaRGcHwaIAIeviu.jpg', 'url': 'https://t.co/732GYeLFY8', 'display_url': 'pic.twitter.com/732GYeLFY8', 'expanded_url': 'https://twitter.com/nyk_west/status/1559448835587702791/photo/1', 'type': 'photo', 'sizes': {'small': {'w': 680, 'h': 510, 'resize': 'fit'}, 'medium': {'w': 1040, 'h': 780, 'resize': 'fit'}, 'thumb': {'w': 150, 'h': 150, 'resize': 'crop'}, 'large': {'w': 1040, 'h': 780, 'resize': 'fit'}}}]}, 'extended_entities': {'media': [{'id': 1559448819909402626, 'id_str': '1559448819909402626', 'indices': [219, 242], 'media_url': 'http://pbs.twimg.com/media/FaRGcHwaIAIeviu.jpg', 'media_url_https': 'https://pbs.twimg.com/media/FaRGcHwaIAIeviu.jpg', 'url': 'https://t.co/732GYeLFY8', 'display_url': 'pic.twitter.com/732GYeLFY8', 'expanded_url': 'https://twitter.com/nyk_west/status/1559448835587702791/photo/1', 'type': 'photo', 'sizes': {'small': {'w': 680, 'h': 510, 'resize': 'fit'}, 'medium': {'w': 1040, 'h': 780, 'resize': 'fit'}, 'thumb': {'w': 150, 'h': 150, 'resize': 'crop'}, 'large': {'w': 1040, 'h': 780, 'resize': 'fit'}}}, {'id': 1559448819976536064, 'id_str': '1559448819976536064', 'indices': [219, 242], 'media_url': 'http://pbs.twimg.com/media/FaRGcIAagAAi705.jpg', 'media_url_https': 'https://pbs.twimg.com/media/FaRGcIAagAAi705.jpg', 'url': 'https://t.co/732GYeLFY8', 'display_url': 'pic.twitter.com/732GYeLFY8', 'expanded_url': 'https://twitter.com/nyk_west/status/1559448835587702791/photo/1', 'type': 'photo', 'sizes': {'small': {'w': 680, 'h': 510, 'resize': 'fit'}, 'thumb': {'w': 150, 'h': 150, 'resize': 'crop'}, 'medium': {'w': 1040, 'h': 780, 'resize': 'fit'}, 'large': {'w': 1040, 'h': 780, 'resize': 'fit'}}}, {'id': 1559448820005892096, 'id_str': '1559448820005892096', 'indices': [219, 242], 'media_url': 'http://pbs.twimg.com/media/FaRGcIHacAAIxAi.jpg', 'media_url_https': 'https://pbs.twimg.com/media/FaRGcIHacAAIxAi.jpg', 'url': 'https://t.co/732GYeLFY8', 'display_url': 'pic.twitter.com/732GYeLFY8', 'expanded_url': 'https://twitter.com/nyk_west/status/1559448835587702791/photo/1', 'type': 'photo', 'sizes': {'thumb': {'w': 150, 'h': 150, 'resize': 'crop'}, 'medium': {'w': 1040, 'h': 780, 'resize': 'fit'}, 'small': {'w': 680, 'h': 510, 'resize': 'fit'}, 'large': {'w': 1040, 'h': 780, 'resize': 'fit'}}}, {'id': 1559448819934597121, 'id_str': '1559448819934597121', 'indices': [219, 242], 'media_url': 'http://pbs.twimg.com/media/FaRGcH2akAEsHo6.jpg', 'media_url_https': 'https://pbs.twimg.com/media/FaRGcH2akAEsHo6.jpg', 'url': 'https://t.co/732GYeLFY8', 'display_url': 'pic.twitter.com/732GYeLFY8', 'expanded_url': 'https://twitter.com/nyk_west/status/1559448835587702791/photo/1', 'type': 'photo', 'sizes': {'thumb': {'w': 150, 'h': 150, 'resize': 'crop'}, 'medium': {'w': 1156, 'h': 534, 'resize': 'fit'}, 'large': {'w': 1156, 'h': 534, 'resize': 'fit'}, 'small': {'w': 680, 'h': 314, 'resize': 'fit'}}}]}, 'metadata': {'iso_language_code': 'en', 'result_type': 'recent'}, 'source': '<a href=\"https://mobile.twitter.com\" rel=\"nofollow\">Twitter Web App</a>', 'in_reply_to_status_id': None, 'in_reply_to_status_id_str': None, 'in_reply_to_user_id': None, 'in_reply_to_user_id_str': None, 'in_reply_to_screen_name': None, 'user': {'id': 1315602962354331648, 'id_str': '1315602962354331648', 'name': 'Nyk West Singhbhum', 'screen_name': 'nyk_west', 'location': '', 'description': 'Official Twitter Account of Nehru Yuva Kendra Sangathan West Singhbhum Chaibasa Jharkhand', 'url': 'https://t.co/A7B4OPsDa0', 'entities': {'url': {'urls': [{'url': 'https://t.co/A7B4OPsDa0', 'expanded_url': 'http://www.nyks.nic.in', 'display_url': 'nyks.nic.in', 'indices': [0, 23]}]}, 'description': {'urls': []}}, 'protected': False, 'followers_count': 955, 'friends_count': 412, 'listed_count': 0, 'created_at': 'Mon Oct 12 10:39:52 +0000 2020', 'favourites_count': 1783, 'utc_offset': None, 'time_zone': None, 'geo_enabled': False, 'verified': False, 'statuses_count': 2545, 'lang': None, 'contributors_enabled': False, 'is_translator': False, 'is_translation_enabled': False, 'profile_background_color': 'F5F8FA', 'profile_background_image_url': None, 'profile_background_image_url_https': None, 'profile_background_tile': False, 'profile_image_url': 'http://pbs.twimg.com/profile_images/1554663000204001280/RQFcbHJK_normal.jpg', 'profile_image_url_https': 'https://pbs.twimg.com/profile_images/1554663000204001280/RQFcbHJK_normal.jpg', 'profile_banner_url': 'https://pbs.twimg.com/profile_banners/1315602962354331648/1634710588', 'profile_link_color': '1DA1F2', 'profile_sidebar_border_color': 'C0DEED', 'profile_sidebar_fill_color': 'DDEEF6', 'profile_text_color': '333333', 'profile_use_background_image': True, 'has_extended_profile': True, 'default_profile': True, 'default_profile_image': False, 'following': None, 'follow_request_sent': None, 'notifications': None, 'translator_type': 'none', 'withheld_in_countries': []}, 'geo': None, 'coordinates': None, 'place': None, 'contributors': None, 'is_quote_status': False, 'retweet_count': 6, 'favorite_count': 6, 'favorited': False, 'retweeted': False, 'possibly_sensitive': False, 'lang': 'en'}, 'is_quote_status': False, 'retweet_count': 6, 'favorite_count': 0, 'favorited': False, 'retweeted': False, 'lang': 'en'}\n"
     ]
    }
   ],
   "source": [
    "for tweet in tweets:\n",
    "    print(tweet._json)\n",
    "    tweet_mentions=[]\n",
    "    a=tweet.entities\n",
    "#     print(a[0][3]['user_mentions'])\n",
    "    data.append([tweet.user.screen_name, tweet.user.name, tweet.full_text, tweet.entities,tweet._json[\"created_at\"], None,tweet.user._json[\"location\"]])"
   ]
  },
  {
   "cell_type": "code",
   "execution_count": 346,
   "id": "921332f1",
   "metadata": {
    "scrolled": true
   },
   "outputs": [
    {
     "data": {
      "text/html": [
       "<div>\n",
       "<style scoped>\n",
       "    .dataframe tbody tr th:only-of-type {\n",
       "        vertical-align: middle;\n",
       "    }\n",
       "\n",
       "    .dataframe tbody tr th {\n",
       "        vertical-align: top;\n",
       "    }\n",
       "\n",
       "    .dataframe thead th {\n",
       "        text-align: right;\n",
       "    }\n",
       "</style>\n",
       "<table border=\"1\" class=\"dataframe\">\n",
       "  <thead>\n",
       "    <tr style=\"text-align: right;\">\n",
       "      <th></th>\n",
       "      <th>UserID</th>\n",
       "      <th>Name</th>\n",
       "      <th>Tweet</th>\n",
       "      <th>Mentions</th>\n",
       "      <th>Created At</th>\n",
       "      <th>Retweet</th>\n",
       "      <th>Location</th>\n",
       "    </tr>\n",
       "  </thead>\n",
       "  <tbody>\n",
       "    <tr>\n",
       "      <th>0</th>\n",
       "      <td>JOGESHW71844208</td>\n",
       "      <td>JOGESHWAR SINGH</td>\n",
       "      <td>RT @nyk_west: 75th Independence Day celebrated...</td>\n",
       "      <td>{'hashtags': [{'text': 'AzadiKaAmritMahotsav',...</td>\n",
       "      <td>Fri Aug 19 15:21:19 +0000 2022</td>\n",
       "      <td>None</td>\n",
       "      <td></td>\n",
       "    </tr>\n",
       "  </tbody>\n",
       "</table>\n",
       "</div>"
      ],
      "text/plain": [
       "            UserID             Name  \\\n",
       "0  JOGESHW71844208  JOGESHWAR SINGH   \n",
       "\n",
       "                                               Tweet  \\\n",
       "0  RT @nyk_west: 75th Independence Day celebrated...   \n",
       "\n",
       "                                            Mentions  \\\n",
       "0  {'hashtags': [{'text': 'AzadiKaAmritMahotsav',...   \n",
       "\n",
       "                       Created At Retweet Location  \n",
       "0  Fri Aug 19 15:21:19 +0000 2022    None           "
      ]
     },
     "execution_count": 346,
     "metadata": {},
     "output_type": "execute_result"
    }
   ],
   "source": [
    "df = pd.DataFrame(data, columns=columns)\n",
    "df"
   ]
  },
  {
   "cell_type": "code",
   "execution_count": 347,
   "id": "7ce9ff87",
   "metadata": {
    "scrolled": false
   },
   "outputs": [
    {
     "data": {
      "text/plain": [
       "[['JOGESHW71844208',\n",
       "  'JOGESHWAR SINGH',\n",
       "  'RT @nyk_west: 75th Independence Day celebrated in all 18 Blocks of NYK West Singhbhum Jharkhand \\n#AzadiKaAmritMahotsav\\n#HarGharTiranga \\n@Ny…',\n",
       "  {'hashtags': [{'text': 'AzadiKaAmritMahotsav', 'indices': [97, 118]},\n",
       "    {'text': 'HarGharTiranga', 'indices': [119, 134]}],\n",
       "   'symbols': [],\n",
       "   'user_mentions': [{'screen_name': 'nyk_west',\n",
       "     'name': 'Nyk West Singhbhum',\n",
       "     'id': 1315602962354331648,\n",
       "     'id_str': '1315602962354331648',\n",
       "     'indices': [3, 12]}],\n",
       "   'urls': []},\n",
       "  'Fri Aug 19 15:21:19 +0000 2022',\n",
       "  None,\n",
       "  '']]"
      ]
     },
     "execution_count": 347,
     "metadata": {},
     "output_type": "execute_result"
    }
   ],
   "source": [
    "data"
   ]
  },
  {
   "cell_type": "markdown",
   "id": "d8d382d3",
   "metadata": {},
   "source": [
    "## Extracting User Mentions and Retweet Status"
   ]
  },
  {
   "cell_type": "code",
   "execution_count": 348,
   "id": "37a4701e",
   "metadata": {},
   "outputs": [],
   "source": [
    "for i in range(len(data)):\n",
    "    \n",
    "    #extracting mentions\n",
    "    \n",
    "    tempMention=[data[i][3]['user_mentions'][j]['name'] for j in range(len(data[i][3]['user_mentions']))]\n",
    "    #print(tempMention)\n",
    "    data[i][3]=tempMention\n",
    "    \n",
    "    #extracting retweet status and updating tweet content\n",
    "    tempTxt=data[i][2][:2]\n",
    "    if tempTxt==\"RT\":\n",
    "        data[i][5]=1\n",
    "        data[i][2]=data[i][2][3:]\n",
    "    else:\n",
    "        data[i][5]=0"
   ]
  },
  {
   "cell_type": "code",
   "execution_count": 349,
   "id": "25aa6022",
   "metadata": {},
   "outputs": [
    {
     "data": {
      "text/html": [
       "<div>\n",
       "<style scoped>\n",
       "    .dataframe tbody tr th:only-of-type {\n",
       "        vertical-align: middle;\n",
       "    }\n",
       "\n",
       "    .dataframe tbody tr th {\n",
       "        vertical-align: top;\n",
       "    }\n",
       "\n",
       "    .dataframe thead th {\n",
       "        text-align: right;\n",
       "    }\n",
       "</style>\n",
       "<table border=\"1\" class=\"dataframe\">\n",
       "  <thead>\n",
       "    <tr style=\"text-align: right;\">\n",
       "      <th></th>\n",
       "      <th>UserID</th>\n",
       "      <th>Name</th>\n",
       "      <th>Tweet</th>\n",
       "      <th>Mentions</th>\n",
       "      <th>Created At</th>\n",
       "      <th>Retweet</th>\n",
       "      <th>Location</th>\n",
       "    </tr>\n",
       "  </thead>\n",
       "  <tbody>\n",
       "    <tr>\n",
       "      <th>0</th>\n",
       "      <td>JOGESHW71844208</td>\n",
       "      <td>JOGESHWAR SINGH</td>\n",
       "      <td>@nyk_west: 75th Independence Day celebrated in...</td>\n",
       "      <td>[Nyk West Singhbhum]</td>\n",
       "      <td>Fri Aug 19 15:21:19 +0000 2022</td>\n",
       "      <td>1</td>\n",
       "      <td></td>\n",
       "    </tr>\n",
       "  </tbody>\n",
       "</table>\n",
       "</div>"
      ],
      "text/plain": [
       "            UserID             Name  \\\n",
       "0  JOGESHW71844208  JOGESHWAR SINGH   \n",
       "\n",
       "                                               Tweet              Mentions  \\\n",
       "0  @nyk_west: 75th Independence Day celebrated in...  [Nyk West Singhbhum]   \n",
       "\n",
       "                       Created At  Retweet Location  \n",
       "0  Fri Aug 19 15:21:19 +0000 2022        1           "
      ]
     },
     "execution_count": 349,
     "metadata": {},
     "output_type": "execute_result"
    }
   ],
   "source": [
    "df = pd.DataFrame(data, columns=columns)\n",
    "df"
   ]
  }
 ],
 "metadata": {
  "kernelspec": {
   "display_name": "Python 3 (ipykernel)",
   "language": "python",
   "name": "python3"
  },
  "language_info": {
   "codemirror_mode": {
    "name": "ipython",
    "version": 3
   },
   "file_extension": ".py",
   "mimetype": "text/x-python",
   "name": "python",
   "nbconvert_exporter": "python",
   "pygments_lexer": "ipython3",
   "version": "3.9.13"
  }
 },
 "nbformat": 4,
 "nbformat_minor": 5
}
