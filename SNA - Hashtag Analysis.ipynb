{
 "cells": [
  {
   "cell_type": "markdown",
   "id": "80daa5bc",
   "metadata": {},
   "source": [
    "# Hashtag Analysis"
   ]
  },
  {
   "cell_type": "markdown",
   "id": "76bd0841",
   "metadata": {},
   "source": [
    "## Importing Packages"
   ]
  },
  {
   "cell_type": "code",
   "execution_count": 28,
   "id": "d3a2c643",
   "metadata": {},
   "outputs": [],
   "source": [
    "import tweepy\n",
    "import configparser\n",
    "import pandas as pd"
   ]
  },
  {
   "cell_type": "markdown",
   "id": "4c63791c",
   "metadata": {},
   "source": [
    "## Initial Configurations"
   ]
  },
  {
   "cell_type": "code",
   "execution_count": 29,
   "id": "2efad5a2",
   "metadata": {},
   "outputs": [
    {
     "data": {
      "text/plain": [
       "['config.ini']"
      ]
     },
     "execution_count": 29,
     "metadata": {},
     "output_type": "execute_result"
    }
   ],
   "source": [
    "config = configparser.ConfigParser()\n",
    "config.read('config.ini')"
   ]
  },
  {
   "cell_type": "code",
   "execution_count": 30,
   "id": "6db0eade",
   "metadata": {},
   "outputs": [],
   "source": [
    "api_key = config['twitter']['api_key']\n",
    "api_key_secret = config['twitter']['api_key_secret']"
   ]
  },
  {
   "cell_type": "code",
   "execution_count": 31,
   "id": "98673dd3",
   "metadata": {
    "scrolled": false
   },
   "outputs": [],
   "source": [
    "auth = tweepy.OAuth2AppHandler(\n",
    "    api_key ,\n",
    "    api_key_secret\n",
    ")\n",
    "api = tweepy.API(auth)"
   ]
  },
  {
   "cell_type": "code",
   "execution_count": 32,
   "id": "da110812",
   "metadata": {},
   "outputs": [],
   "source": [
    "keywords = '#HarGharTiranga'\n",
    "limit=1"
   ]
  },
  {
   "cell_type": "code",
   "execution_count": 33,
   "id": "3a0189c6",
   "metadata": {},
   "outputs": [],
   "source": [
    "tweets = tweepy.Cursor(api.search_tweets, q=keywords, count=100, tweet_mode='extended').items(limit)"
   ]
  },
  {
   "cell_type": "code",
   "execution_count": 34,
   "id": "7949635f",
   "metadata": {},
   "outputs": [
    {
     "data": {
      "text/plain": [
       "<tweepy.cursor.ItemIterator at 0x280a5440e50>"
      ]
     },
     "execution_count": 34,
     "metadata": {},
     "output_type": "execute_result"
    }
   ],
   "source": [
    "tweets"
   ]
  },
  {
   "cell_type": "code",
   "execution_count": 35,
   "id": "09dca9ee",
   "metadata": {},
   "outputs": [],
   "source": [
    "columns = ['UserID', 'Name', 'Tweet', 'Mentions']\n",
    "data = []"
   ]
  },
  {
   "cell_type": "code",
   "execution_count": 36,
   "id": "6e23103e",
   "metadata": {
    "scrolled": false
   },
   "outputs": [
    {
     "name": "stdout",
     "output_type": "stream",
     "text": [
      "Status(_api=<tweepy.api.API object at 0x00000280A4A78D60>, _json={'created_at': 'Fri Aug 19 14:49:57 +0000 2022', 'id': 1560640215441494017, 'id_str': '1560640215441494017', 'full_text': 'RT @Nyksindia: आज़ादी के अमृत महोत्सव में देश के प्रति अपने प्रेम को दर्शायें, और इस साल 13 से 15 अगस्त तक चलने वाले #HarGharTiranga अभियान…', 'truncated': False, 'display_text_range': [0, 140], 'entities': {'hashtags': [{'text': 'HarGharTiranga', 'indices': [117, 132]}], 'symbols': [], 'user_mentions': [{'screen_name': 'Nyksindia', 'name': 'NYKS India', 'id': 1854369001, 'id_str': '1854369001', 'indices': [3, 13]}], 'urls': []}, 'metadata': {'iso_language_code': 'hi', 'result_type': 'recent'}, 'source': '<a href=\"https://mobile.twitter.com\" rel=\"nofollow\">Twitter Web App</a>', 'in_reply_to_status_id': None, 'in_reply_to_status_id_str': None, 'in_reply_to_user_id': None, 'in_reply_to_user_id_str': None, 'in_reply_to_screen_name': None, 'user': {'id': 1539902398340005888, 'id_str': '1539902398340005888', 'name': 'Aditi Rana', 'screen_name': 'AditiRa1502', 'location': 'Una Himachal Pradesh', 'description': 'Be happy', 'url': None, 'entities': {'description': {'urls': []}}, 'protected': False, 'followers_count': 25, 'friends_count': 43, 'listed_count': 0, 'created_at': 'Thu Jun 23 09:25:32 +0000 2022', 'favourites_count': 1189, 'utc_offset': None, 'time_zone': None, 'geo_enabled': False, 'verified': False, 'statuses_count': 969, 'lang': None, 'contributors_enabled': False, 'is_translator': False, 'is_translation_enabled': False, 'profile_background_color': 'F5F8FA', 'profile_background_image_url': None, 'profile_background_image_url_https': None, 'profile_background_tile': False, 'profile_image_url': 'http://pbs.twimg.com/profile_images/1540565257562705920/BCR_934O_normal.jpg', 'profile_image_url_https': 'https://pbs.twimg.com/profile_images/1540565257562705920/BCR_934O_normal.jpg', 'profile_link_color': '1DA1F2', 'profile_sidebar_border_color': 'C0DEED', 'profile_sidebar_fill_color': 'DDEEF6', 'profile_text_color': '333333', 'profile_use_background_image': True, 'has_extended_profile': True, 'default_profile': True, 'default_profile_image': False, 'following': None, 'follow_request_sent': None, 'notifications': None, 'translator_type': 'none', 'withheld_in_countries': []}, 'geo': None, 'coordinates': None, 'place': None, 'contributors': None, 'retweeted_status': {'created_at': 'Thu Aug 11 11:58:19 +0000 2022', 'id': 1557697920493047810, 'id_str': '1557697920493047810', 'full_text': 'आज़ादी के अमृत महोत्सव में देश के प्रति अपने प्रेम को दर्शायें, और इस साल 13 से 15 अगस्त तक चलने वाले #HarGharTiranga अभियान में अपने घर पर तिरंगा फहरायें और https://t.co/CfjbXOgtkN पर लोकेशन को पिन करें।\\n\\n#JaiHind #IndiaAt75 https://t.co/qFAymIlagm', 'truncated': False, 'display_text_range': [0, 225], 'entities': {'hashtags': [{'text': 'HarGharTiranga', 'indices': [102, 117]}, {'text': 'JaiHind', 'indices': [206, 214]}, {'text': 'IndiaAt75', 'indices': [215, 225]}], 'symbols': [], 'user_mentions': [], 'urls': [{'url': 'https://t.co/CfjbXOgtkN', 'expanded_url': 'http://harghartiranga.com', 'display_url': 'harghartiranga.com', 'indices': [158, 181]}], 'media': [{'id': 1557697908115636224, 'id_str': '1557697908115636224', 'indices': [226, 249], 'media_url': 'http://pbs.twimg.com/media/FZ4N_pCaAAA6kmq.jpg', 'media_url_https': 'https://pbs.twimg.com/media/FZ4N_pCaAAA6kmq.jpg', 'url': 'https://t.co/qFAymIlagm', 'display_url': 'pic.twitter.com/qFAymIlagm', 'expanded_url': 'https://twitter.com/Nyksindia/status/1557697920493047810/photo/1', 'type': 'photo', 'sizes': {'thumb': {'w': 150, 'h': 150, 'resize': 'crop'}, 'small': {'w': 680, 'h': 680, 'resize': 'fit'}, 'large': {'w': 1200, 'h': 1200, 'resize': 'fit'}, 'medium': {'w': 1200, 'h': 1200, 'resize': 'fit'}}}]}, 'extended_entities': {'media': [{'id': 1557697908115636224, 'id_str': '1557697908115636224', 'indices': [226, 249], 'media_url': 'http://pbs.twimg.com/media/FZ4N_pCaAAA6kmq.jpg', 'media_url_https': 'https://pbs.twimg.com/media/FZ4N_pCaAAA6kmq.jpg', 'url': 'https://t.co/qFAymIlagm', 'display_url': 'pic.twitter.com/qFAymIlagm', 'expanded_url': 'https://twitter.com/Nyksindia/status/1557697920493047810/photo/1', 'type': 'photo', 'sizes': {'thumb': {'w': 150, 'h': 150, 'resize': 'crop'}, 'small': {'w': 680, 'h': 680, 'resize': 'fit'}, 'large': {'w': 1200, 'h': 1200, 'resize': 'fit'}, 'medium': {'w': 1200, 'h': 1200, 'resize': 'fit'}}}]}, 'metadata': {'iso_language_code': 'hi', 'result_type': 'recent'}, 'source': '<a href=\"http://twitter.com/download/android\" rel=\"nofollow\">Twitter for Android</a>', 'in_reply_to_status_id': None, 'in_reply_to_status_id_str': None, 'in_reply_to_user_id': None, 'in_reply_to_user_id_str': None, 'in_reply_to_screen_name': None, 'user': {'id': 1854369001, 'id_str': '1854369001', 'name': 'NYKS India', 'screen_name': 'Nyksindia', 'location': 'India', 'description': 'Nehru Yuva Kendra Sangathan\\nAutonomous organization under Ministry of Youth Affairs and Sports, Government of India', 'url': 'https://t.co/otjjayFuPH', 'entities': {'url': {'urls': [{'url': 'https://t.co/otjjayFuPH', 'expanded_url': 'http://www.nyks.nic.in', 'display_url': 'nyks.nic.in', 'indices': [0, 23]}]}, 'description': {'urls': []}}, 'protected': False, 'followers_count': 65438, 'friends_count': 968, 'listed_count': 23, 'created_at': 'Wed Sep 11 13:29:46 +0000 2013', 'favourites_count': 8932, 'utc_offset': None, 'time_zone': None, 'geo_enabled': True, 'verified': True, 'statuses_count': 31488, 'lang': None, 'contributors_enabled': False, 'is_translator': False, 'is_translation_enabled': False, 'profile_background_color': '000000', 'profile_background_image_url': 'http://abs.twimg.com/images/themes/theme11/bg.gif', 'profile_background_image_url_https': 'https://abs.twimg.com/images/themes/theme11/bg.gif', 'profile_background_tile': False, 'profile_image_url': 'http://pbs.twimg.com/profile_images/1554712079071776768/0dqg63vu_normal.jpg', 'profile_image_url_https': 'https://pbs.twimg.com/profile_images/1554712079071776768/0dqg63vu_normal.jpg', 'profile_banner_url': 'https://pbs.twimg.com/profile_banners/1854369001/1658488793', 'profile_link_color': '89C9FA', 'profile_sidebar_border_color': '000000', 'profile_sidebar_fill_color': '000000', 'profile_text_color': '000000', 'profile_use_background_image': False, 'has_extended_profile': True, 'default_profile': False, 'default_profile_image': False, 'following': None, 'follow_request_sent': None, 'notifications': None, 'translator_type': 'none', 'withheld_in_countries': []}, 'geo': None, 'coordinates': None, 'place': None, 'contributors': None, 'is_quote_status': False, 'retweet_count': 359, 'favorite_count': 448, 'favorited': False, 'retweeted': False, 'possibly_sensitive': False, 'lang': 'hi'}, 'is_quote_status': False, 'retweet_count': 359, 'favorite_count': 0, 'favorited': False, 'retweeted': False, 'lang': 'hi'}, created_at=datetime.datetime(2022, 8, 19, 14, 49, 57, tzinfo=datetime.timezone.utc), id=1560640215441494017, id_str='1560640215441494017', full_text='RT @Nyksindia: आज़ादी के अमृत महोत्सव में देश के प्रति अपने प्रेम को दर्शायें, और इस साल 13 से 15 अगस्त तक चलने वाले #HarGharTiranga अभियान…', truncated=False, display_text_range=[0, 140], entities={'hashtags': [{'text': 'HarGharTiranga', 'indices': [117, 132]}], 'symbols': [], 'user_mentions': [{'screen_name': 'Nyksindia', 'name': 'NYKS India', 'id': 1854369001, 'id_str': '1854369001', 'indices': [3, 13]}], 'urls': []}, metadata={'iso_language_code': 'hi', 'result_type': 'recent'}, source='Twitter Web App', source_url='https://mobile.twitter.com', in_reply_to_status_id=None, in_reply_to_status_id_str=None, in_reply_to_user_id=None, in_reply_to_user_id_str=None, in_reply_to_screen_name=None, author=User(_api=<tweepy.api.API object at 0x00000280A4A78D60>, _json={'id': 1539902398340005888, 'id_str': '1539902398340005888', 'name': 'Aditi Rana', 'screen_name': 'AditiRa1502', 'location': 'Una Himachal Pradesh', 'description': 'Be happy', 'url': None, 'entities': {'description': {'urls': []}}, 'protected': False, 'followers_count': 25, 'friends_count': 43, 'listed_count': 0, 'created_at': 'Thu Jun 23 09:25:32 +0000 2022', 'favourites_count': 1189, 'utc_offset': None, 'time_zone': None, 'geo_enabled': False, 'verified': False, 'statuses_count': 969, 'lang': None, 'contributors_enabled': False, 'is_translator': False, 'is_translation_enabled': False, 'profile_background_color': 'F5F8FA', 'profile_background_image_url': None, 'profile_background_image_url_https': None, 'profile_background_tile': False, 'profile_image_url': 'http://pbs.twimg.com/profile_images/1540565257562705920/BCR_934O_normal.jpg', 'profile_image_url_https': 'https://pbs.twimg.com/profile_images/1540565257562705920/BCR_934O_normal.jpg', 'profile_link_color': '1DA1F2', 'profile_sidebar_border_color': 'C0DEED', 'profile_sidebar_fill_color': 'DDEEF6', 'profile_text_color': '333333', 'profile_use_background_image': True, 'has_extended_profile': True, 'default_profile': True, 'default_profile_image': False, 'following': None, 'follow_request_sent': None, 'notifications': None, 'translator_type': 'none', 'withheld_in_countries': []}, id=1539902398340005888, id_str='1539902398340005888', name='Aditi Rana', screen_name='AditiRa1502', location='Una Himachal Pradesh', description='Be happy', url=None, entities={'description': {'urls': []}}, protected=False, followers_count=25, friends_count=43, listed_count=0, created_at=datetime.datetime(2022, 6, 23, 9, 25, 32, tzinfo=datetime.timezone.utc), favourites_count=1189, utc_offset=None, time_zone=None, geo_enabled=False, verified=False, statuses_count=969, lang=None, contributors_enabled=False, is_translator=False, is_translation_enabled=False, profile_background_color='F5F8FA', profile_background_image_url=None, profile_background_image_url_https=None, profile_background_tile=False, profile_image_url='http://pbs.twimg.com/profile_images/1540565257562705920/BCR_934O_normal.jpg', profile_image_url_https='https://pbs.twimg.com/profile_images/1540565257562705920/BCR_934O_normal.jpg', profile_link_color='1DA1F2', profile_sidebar_border_color='C0DEED', profile_sidebar_fill_color='DDEEF6', profile_text_color='333333', profile_use_background_image=True, has_extended_profile=True, default_profile=True, default_profile_image=False, following=False, follow_request_sent=None, notifications=None, translator_type='none', withheld_in_countries=[]), user=User(_api=<tweepy.api.API object at 0x00000280A4A78D60>, _json={'id': 1539902398340005888, 'id_str': '1539902398340005888', 'name': 'Aditi Rana', 'screen_name': 'AditiRa1502', 'location': 'Una Himachal Pradesh', 'description': 'Be happy', 'url': None, 'entities': {'description': {'urls': []}}, 'protected': False, 'followers_count': 25, 'friends_count': 43, 'listed_count': 0, 'created_at': 'Thu Jun 23 09:25:32 +0000 2022', 'favourites_count': 1189, 'utc_offset': None, 'time_zone': None, 'geo_enabled': False, 'verified': False, 'statuses_count': 969, 'lang': None, 'contributors_enabled': False, 'is_translator': False, 'is_translation_enabled': False, 'profile_background_color': 'F5F8FA', 'profile_background_image_url': None, 'profile_background_image_url_https': None, 'profile_background_tile': False, 'profile_image_url': 'http://pbs.twimg.com/profile_images/1540565257562705920/BCR_934O_normal.jpg', 'profile_image_url_https': 'https://pbs.twimg.com/profile_images/1540565257562705920/BCR_934O_normal.jpg', 'profile_link_color': '1DA1F2', 'profile_sidebar_border_color': 'C0DEED', 'profile_sidebar_fill_color': 'DDEEF6', 'profile_text_color': '333333', 'profile_use_background_image': True, 'has_extended_profile': True, 'default_profile': True, 'default_profile_image': False, 'following': None, 'follow_request_sent': None, 'notifications': None, 'translator_type': 'none', 'withheld_in_countries': []}, id=1539902398340005888, id_str='1539902398340005888', name='Aditi Rana', screen_name='AditiRa1502', location='Una Himachal Pradesh', description='Be happy', url=None, entities={'description': {'urls': []}}, protected=False, followers_count=25, friends_count=43, listed_count=0, created_at=datetime.datetime(2022, 6, 23, 9, 25, 32, tzinfo=datetime.timezone.utc), favourites_count=1189, utc_offset=None, time_zone=None, geo_enabled=False, verified=False, statuses_count=969, lang=None, contributors_enabled=False, is_translator=False, is_translation_enabled=False, profile_background_color='F5F8FA', profile_background_image_url=None, profile_background_image_url_https=None, profile_background_tile=False, profile_image_url='http://pbs.twimg.com/profile_images/1540565257562705920/BCR_934O_normal.jpg', profile_image_url_https='https://pbs.twimg.com/profile_images/1540565257562705920/BCR_934O_normal.jpg', profile_link_color='1DA1F2', profile_sidebar_border_color='C0DEED', profile_sidebar_fill_color='DDEEF6', profile_text_color='333333', profile_use_background_image=True, has_extended_profile=True, default_profile=True, default_profile_image=False, following=False, follow_request_sent=None, notifications=None, translator_type='none', withheld_in_countries=[]), geo=None, coordinates=None, place=None, contributors=None, retweeted_status=Status(_api=<tweepy.api.API object at 0x00000280A4A78D60>, _json={'created_at': 'Thu Aug 11 11:58:19 +0000 2022', 'id': 1557697920493047810, 'id_str': '1557697920493047810', 'full_text': 'आज़ादी के अमृत महोत्सव में देश के प्रति अपने प्रेम को दर्शायें, और इस साल 13 से 15 अगस्त तक चलने वाले #HarGharTiranga अभियान में अपने घर पर तिरंगा फहरायें और https://t.co/CfjbXOgtkN पर लोकेशन को पिन करें।\\n\\n#JaiHind #IndiaAt75 https://t.co/qFAymIlagm', 'truncated': False, 'display_text_range': [0, 225], 'entities': {'hashtags': [{'text': 'HarGharTiranga', 'indices': [102, 117]}, {'text': 'JaiHind', 'indices': [206, 214]}, {'text': 'IndiaAt75', 'indices': [215, 225]}], 'symbols': [], 'user_mentions': [], 'urls': [{'url': 'https://t.co/CfjbXOgtkN', 'expanded_url': 'http://harghartiranga.com', 'display_url': 'harghartiranga.com', 'indices': [158, 181]}], 'media': [{'id': 1557697908115636224, 'id_str': '1557697908115636224', 'indices': [226, 249], 'media_url': 'http://pbs.twimg.com/media/FZ4N_pCaAAA6kmq.jpg', 'media_url_https': 'https://pbs.twimg.com/media/FZ4N_pCaAAA6kmq.jpg', 'url': 'https://t.co/qFAymIlagm', 'display_url': 'pic.twitter.com/qFAymIlagm', 'expanded_url': 'https://twitter.com/Nyksindia/status/1557697920493047810/photo/1', 'type': 'photo', 'sizes': {'thumb': {'w': 150, 'h': 150, 'resize': 'crop'}, 'small': {'w': 680, 'h': 680, 'resize': 'fit'}, 'large': {'w': 1200, 'h': 1200, 'resize': 'fit'}, 'medium': {'w': 1200, 'h': 1200, 'resize': 'fit'}}}]}, 'extended_entities': {'media': [{'id': 1557697908115636224, 'id_str': '1557697908115636224', 'indices': [226, 249], 'media_url': 'http://pbs.twimg.com/media/FZ4N_pCaAAA6kmq.jpg', 'media_url_https': 'https://pbs.twimg.com/media/FZ4N_pCaAAA6kmq.jpg', 'url': 'https://t.co/qFAymIlagm', 'display_url': 'pic.twitter.com/qFAymIlagm', 'expanded_url': 'https://twitter.com/Nyksindia/status/1557697920493047810/photo/1', 'type': 'photo', 'sizes': {'thumb': {'w': 150, 'h': 150, 'resize': 'crop'}, 'small': {'w': 680, 'h': 680, 'resize': 'fit'}, 'large': {'w': 1200, 'h': 1200, 'resize': 'fit'}, 'medium': {'w': 1200, 'h': 1200, 'resize': 'fit'}}}]}, 'metadata': {'iso_language_code': 'hi', 'result_type': 'recent'}, 'source': '<a href=\"http://twitter.com/download/android\" rel=\"nofollow\">Twitter for Android</a>', 'in_reply_to_status_id': None, 'in_reply_to_status_id_str': None, 'in_reply_to_user_id': None, 'in_reply_to_user_id_str': None, 'in_reply_to_screen_name': None, 'user': {'id': 1854369001, 'id_str': '1854369001', 'name': 'NYKS India', 'screen_name': 'Nyksindia', 'location': 'India', 'description': 'Nehru Yuva Kendra Sangathan\\nAutonomous organization under Ministry of Youth Affairs and Sports, Government of India', 'url': 'https://t.co/otjjayFuPH', 'entities': {'url': {'urls': [{'url': 'https://t.co/otjjayFuPH', 'expanded_url': 'http://www.nyks.nic.in', 'display_url': 'nyks.nic.in', 'indices': [0, 23]}]}, 'description': {'urls': []}}, 'protected': False, 'followers_count': 65438, 'friends_count': 968, 'listed_count': 23, 'created_at': 'Wed Sep 11 13:29:46 +0000 2013', 'favourites_count': 8932, 'utc_offset': None, 'time_zone': None, 'geo_enabled': True, 'verified': True, 'statuses_count': 31488, 'lang': None, 'contributors_enabled': False, 'is_translator': False, 'is_translation_enabled': False, 'profile_background_color': '000000', 'profile_background_image_url': 'http://abs.twimg.com/images/themes/theme11/bg.gif', 'profile_background_image_url_https': 'https://abs.twimg.com/images/themes/theme11/bg.gif', 'profile_background_tile': False, 'profile_image_url': 'http://pbs.twimg.com/profile_images/1554712079071776768/0dqg63vu_normal.jpg', 'profile_image_url_https': 'https://pbs.twimg.com/profile_images/1554712079071776768/0dqg63vu_normal.jpg', 'profile_banner_url': 'https://pbs.twimg.com/profile_banners/1854369001/1658488793', 'profile_link_color': '89C9FA', 'profile_sidebar_border_color': '000000', 'profile_sidebar_fill_color': '000000', 'profile_text_color': '000000', 'profile_use_background_image': False, 'has_extended_profile': True, 'default_profile': False, 'default_profile_image': False, 'following': None, 'follow_request_sent': None, 'notifications': None, 'translator_type': 'none', 'withheld_in_countries': []}, 'geo': None, 'coordinates': None, 'place': None, 'contributors': None, 'is_quote_status': False, 'retweet_count': 359, 'favorite_count': 448, 'favorited': False, 'retweeted': False, 'possibly_sensitive': False, 'lang': 'hi'}, created_at=datetime.datetime(2022, 8, 11, 11, 58, 19, tzinfo=datetime.timezone.utc), id=1557697920493047810, id_str='1557697920493047810', full_text='आज़ादी के अमृत महोत्सव में देश के प्रति अपने प्रेम को दर्शायें, और इस साल 13 से 15 अगस्त तक चलने वाले #HarGharTiranga अभियान में अपने घर पर तिरंगा फहरायें और https://t.co/CfjbXOgtkN पर लोकेशन को पिन करें।\\n\\n#JaiHind #IndiaAt75 https://t.co/qFAymIlagm', truncated=False, display_text_range=[0, 225], entities={'hashtags': [{'text': 'HarGharTiranga', 'indices': [102, 117]}, {'text': 'JaiHind', 'indices': [206, 214]}, {'text': 'IndiaAt75', 'indices': [215, 225]}], 'symbols': [], 'user_mentions': [], 'urls': [{'url': 'https://t.co/CfjbXOgtkN', 'expanded_url': 'http://harghartiranga.com', 'display_url': 'harghartiranga.com', 'indices': [158, 181]}], 'media': [{'id': 1557697908115636224, 'id_str': '1557697908115636224', 'indices': [226, 249], 'media_url': 'http://pbs.twimg.com/media/FZ4N_pCaAAA6kmq.jpg', 'media_url_https': 'https://pbs.twimg.com/media/FZ4N_pCaAAA6kmq.jpg', 'url': 'https://t.co/qFAymIlagm', 'display_url': 'pic.twitter.com/qFAymIlagm', 'expanded_url': 'https://twitter.com/Nyksindia/status/1557697920493047810/photo/1', 'type': 'photo', 'sizes': {'thumb': {'w': 150, 'h': 150, 'resize': 'crop'}, 'small': {'w': 680, 'h': 680, 'resize': 'fit'}, 'large': {'w': 1200, 'h': 1200, 'resize': 'fit'}, 'medium': {'w': 1200, 'h': 1200, 'resize': 'fit'}}}]}, extended_entities={'media': [{'id': 1557697908115636224, 'id_str': '1557697908115636224', 'indices': [226, 249], 'media_url': 'http://pbs.twimg.com/media/FZ4N_pCaAAA6kmq.jpg', 'media_url_https': 'https://pbs.twimg.com/media/FZ4N_pCaAAA6kmq.jpg', 'url': 'https://t.co/qFAymIlagm', 'display_url': 'pic.twitter.com/qFAymIlagm', 'expanded_url': 'https://twitter.com/Nyksindia/status/1557697920493047810/photo/1', 'type': 'photo', 'sizes': {'thumb': {'w': 150, 'h': 150, 'resize': 'crop'}, 'small': {'w': 680, 'h': 680, 'resize': 'fit'}, 'large': {'w': 1200, 'h': 1200, 'resize': 'fit'}, 'medium': {'w': 1200, 'h': 1200, 'resize': 'fit'}}}]}, metadata={'iso_language_code': 'hi', 'result_type': 'recent'}, source='Twitter for Android', source_url='http://twitter.com/download/android', in_reply_to_status_id=None, in_reply_to_status_id_str=None, in_reply_to_user_id=None, in_reply_to_user_id_str=None, in_reply_to_screen_name=None, author=User(_api=<tweepy.api.API object at 0x00000280A4A78D60>, _json={'id': 1854369001, 'id_str': '1854369001', 'name': 'NYKS India', 'screen_name': 'Nyksindia', 'location': 'India', 'description': 'Nehru Yuva Kendra Sangathan\\nAutonomous organization under Ministry of Youth Affairs and Sports, Government of India', 'url': 'https://t.co/otjjayFuPH', 'entities': {'url': {'urls': [{'url': 'https://t.co/otjjayFuPH', 'expanded_url': 'http://www.nyks.nic.in', 'display_url': 'nyks.nic.in', 'indices': [0, 23]}]}, 'description': {'urls': []}}, 'protected': False, 'followers_count': 65438, 'friends_count': 968, 'listed_count': 23, 'created_at': 'Wed Sep 11 13:29:46 +0000 2013', 'favourites_count': 8932, 'utc_offset': None, 'time_zone': None, 'geo_enabled': True, 'verified': True, 'statuses_count': 31488, 'lang': None, 'contributors_enabled': False, 'is_translator': False, 'is_translation_enabled': False, 'profile_background_color': '000000', 'profile_background_image_url': 'http://abs.twimg.com/images/themes/theme11/bg.gif', 'profile_background_image_url_https': 'https://abs.twimg.com/images/themes/theme11/bg.gif', 'profile_background_tile': False, 'profile_image_url': 'http://pbs.twimg.com/profile_images/1554712079071776768/0dqg63vu_normal.jpg', 'profile_image_url_https': 'https://pbs.twimg.com/profile_images/1554712079071776768/0dqg63vu_normal.jpg', 'profile_banner_url': 'https://pbs.twimg.com/profile_banners/1854369001/1658488793', 'profile_link_color': '89C9FA', 'profile_sidebar_border_color': '000000', 'profile_sidebar_fill_color': '000000', 'profile_text_color': '000000', 'profile_use_background_image': False, 'has_extended_profile': True, 'default_profile': False, 'default_profile_image': False, 'following': None, 'follow_request_sent': None, 'notifications': None, 'translator_type': 'none', 'withheld_in_countries': []}, id=1854369001, id_str='1854369001', name='NYKS India', screen_name='Nyksindia', location='India', description='Nehru Yuva Kendra Sangathan\\nAutonomous organization under Ministry of Youth Affairs and Sports, Government of India', url='https://t.co/otjjayFuPH', entities={'url': {'urls': [{'url': 'https://t.co/otjjayFuPH', 'expanded_url': 'http://www.nyks.nic.in', 'display_url': 'nyks.nic.in', 'indices': [0, 23]}]}, 'description': {'urls': []}}, protected=False, followers_count=65438, friends_count=968, listed_count=23, created_at=datetime.datetime(2013, 9, 11, 13, 29, 46, tzinfo=datetime.timezone.utc), favourites_count=8932, utc_offset=None, time_zone=None, geo_enabled=True, verified=True, statuses_count=31488, lang=None, contributors_enabled=False, is_translator=False, is_translation_enabled=False, profile_background_color='000000', profile_background_image_url='http://abs.twimg.com/images/themes/theme11/bg.gif', profile_background_image_url_https='https://abs.twimg.com/images/themes/theme11/bg.gif', profile_background_tile=False, profile_image_url='http://pbs.twimg.com/profile_images/1554712079071776768/0dqg63vu_normal.jpg', profile_image_url_https='https://pbs.twimg.com/profile_images/1554712079071776768/0dqg63vu_normal.jpg', profile_banner_url='https://pbs.twimg.com/profile_banners/1854369001/1658488793', profile_link_color='89C9FA', profile_sidebar_border_color='000000', profile_sidebar_fill_color='000000', profile_text_color='000000', profile_use_background_image=False, has_extended_profile=True, default_profile=False, default_profile_image=False, following=False, follow_request_sent=None, notifications=None, translator_type='none', withheld_in_countries=[]), user=User(_api=<tweepy.api.API object at 0x00000280A4A78D60>, _json={'id': 1854369001, 'id_str': '1854369001', 'name': 'NYKS India', 'screen_name': 'Nyksindia', 'location': 'India', 'description': 'Nehru Yuva Kendra Sangathan\\nAutonomous organization under Ministry of Youth Affairs and Sports, Government of India', 'url': 'https://t.co/otjjayFuPH', 'entities': {'url': {'urls': [{'url': 'https://t.co/otjjayFuPH', 'expanded_url': 'http://www.nyks.nic.in', 'display_url': 'nyks.nic.in', 'indices': [0, 23]}]}, 'description': {'urls': []}}, 'protected': False, 'followers_count': 65438, 'friends_count': 968, 'listed_count': 23, 'created_at': 'Wed Sep 11 13:29:46 +0000 2013', 'favourites_count': 8932, 'utc_offset': None, 'time_zone': None, 'geo_enabled': True, 'verified': True, 'statuses_count': 31488, 'lang': None, 'contributors_enabled': False, 'is_translator': False, 'is_translation_enabled': False, 'profile_background_color': '000000', 'profile_background_image_url': 'http://abs.twimg.com/images/themes/theme11/bg.gif', 'profile_background_image_url_https': 'https://abs.twimg.com/images/themes/theme11/bg.gif', 'profile_background_tile': False, 'profile_image_url': 'http://pbs.twimg.com/profile_images/1554712079071776768/0dqg63vu_normal.jpg', 'profile_image_url_https': 'https://pbs.twimg.com/profile_images/1554712079071776768/0dqg63vu_normal.jpg', 'profile_banner_url': 'https://pbs.twimg.com/profile_banners/1854369001/1658488793', 'profile_link_color': '89C9FA', 'profile_sidebar_border_color': '000000', 'profile_sidebar_fill_color': '000000', 'profile_text_color': '000000', 'profile_use_background_image': False, 'has_extended_profile': True, 'default_profile': False, 'default_profile_image': False, 'following': None, 'follow_request_sent': None, 'notifications': None, 'translator_type': 'none', 'withheld_in_countries': []}, id=1854369001, id_str='1854369001', name='NYKS India', screen_name='Nyksindia', location='India', description='Nehru Yuva Kendra Sangathan\\nAutonomous organization under Ministry of Youth Affairs and Sports, Government of India', url='https://t.co/otjjayFuPH', entities={'url': {'urls': [{'url': 'https://t.co/otjjayFuPH', 'expanded_url': 'http://www.nyks.nic.in', 'display_url': 'nyks.nic.in', 'indices': [0, 23]}]}, 'description': {'urls': []}}, protected=False, followers_count=65438, friends_count=968, listed_count=23, created_at=datetime.datetime(2013, 9, 11, 13, 29, 46, tzinfo=datetime.timezone.utc), favourites_count=8932, utc_offset=None, time_zone=None, geo_enabled=True, verified=True, statuses_count=31488, lang=None, contributors_enabled=False, is_translator=False, is_translation_enabled=False, profile_background_color='000000', profile_background_image_url='http://abs.twimg.com/images/themes/theme11/bg.gif', profile_background_image_url_https='https://abs.twimg.com/images/themes/theme11/bg.gif', profile_background_tile=False, profile_image_url='http://pbs.twimg.com/profile_images/1554712079071776768/0dqg63vu_normal.jpg', profile_image_url_https='https://pbs.twimg.com/profile_images/1554712079071776768/0dqg63vu_normal.jpg', profile_banner_url='https://pbs.twimg.com/profile_banners/1854369001/1658488793', profile_link_color='89C9FA', profile_sidebar_border_color='000000', profile_sidebar_fill_color='000000', profile_text_color='000000', profile_use_background_image=False, has_extended_profile=True, default_profile=False, default_profile_image=False, following=False, follow_request_sent=None, notifications=None, translator_type='none', withheld_in_countries=[]), geo=None, coordinates=None, place=None, contributors=None, is_quote_status=False, retweet_count=359, favorite_count=448, favorited=False, retweeted=False, possibly_sensitive=False, lang='hi'), is_quote_status=False, retweet_count=359, favorite_count=0, favorited=False, retweeted=False, lang='hi')\n"
     ]
    }
   ],
   "source": [
    "for tweet in tweets:\n",
    "    print(tweet)\n",
    "    tweet_mentions=[]\n",
    "    a=tweet.entities\n",
    "#     print(a[0][3]['user_mentions'])\n",
    "    data.append([tweet.user.screen_name, tweet.user.name, tweet.full_text, tweet.entities])"
   ]
  },
  {
   "cell_type": "code",
   "execution_count": 37,
   "id": "921332f1",
   "metadata": {},
   "outputs": [
    {
     "data": {
      "text/html": [
       "<div>\n",
       "<style scoped>\n",
       "    .dataframe tbody tr th:only-of-type {\n",
       "        vertical-align: middle;\n",
       "    }\n",
       "\n",
       "    .dataframe tbody tr th {\n",
       "        vertical-align: top;\n",
       "    }\n",
       "\n",
       "    .dataframe thead th {\n",
       "        text-align: right;\n",
       "    }\n",
       "</style>\n",
       "<table border=\"1\" class=\"dataframe\">\n",
       "  <thead>\n",
       "    <tr style=\"text-align: right;\">\n",
       "      <th></th>\n",
       "      <th>UserID</th>\n",
       "      <th>Name</th>\n",
       "      <th>Tweet</th>\n",
       "      <th>Mentions</th>\n",
       "    </tr>\n",
       "  </thead>\n",
       "  <tbody>\n",
       "    <tr>\n",
       "      <th>0</th>\n",
       "      <td>AditiRa1502</td>\n",
       "      <td>Aditi Rana</td>\n",
       "      <td>RT @Nyksindia: आज़ादी के अमृत महोत्सव में देश ...</td>\n",
       "      <td>{'hashtags': [{'text': 'HarGharTiranga', 'indi...</td>\n",
       "    </tr>\n",
       "  </tbody>\n",
       "</table>\n",
       "</div>"
      ],
      "text/plain": [
       "        UserID        Name                                              Tweet  \\\n",
       "0  AditiRa1502  Aditi Rana  RT @Nyksindia: आज़ादी के अमृत महोत्सव में देश ...   \n",
       "\n",
       "                                            Mentions  \n",
       "0  {'hashtags': [{'text': 'HarGharTiranga', 'indi...  "
      ]
     },
     "execution_count": 37,
     "metadata": {},
     "output_type": "execute_result"
    }
   ],
   "source": [
    "df = pd.DataFrame(data, columns=columns)\n",
    "df"
   ]
  },
  {
   "cell_type": "code",
   "execution_count": 38,
   "id": "7ce9ff87",
   "metadata": {},
   "outputs": [
    {
     "data": {
      "text/plain": [
       "[['AditiRa1502',\n",
       "  'Aditi Rana',\n",
       "  'RT @Nyksindia: आज़ादी के अमृत महोत्सव में देश के प्रति अपने प्रेम को दर्शायें, और इस साल 13 से 15 अगस्त तक चलने वाले #HarGharTiranga अभियान…',\n",
       "  {'hashtags': [{'text': 'HarGharTiranga', 'indices': [117, 132]}],\n",
       "   'symbols': [],\n",
       "   'user_mentions': [{'screen_name': 'Nyksindia',\n",
       "     'name': 'NYKS India',\n",
       "     'id': 1854369001,\n",
       "     'id_str': '1854369001',\n",
       "     'indices': [3, 13]}],\n",
       "   'urls': []}]]"
      ]
     },
     "execution_count": 38,
     "metadata": {},
     "output_type": "execute_result"
    }
   ],
   "source": [
    "data"
   ]
  },
  {
   "cell_type": "code",
   "execution_count": 39,
   "id": "d5a4e3b8",
   "metadata": {},
   "outputs": [
    {
     "data": {
      "text/plain": [
       "['NYKS India']"
      ]
     },
     "execution_count": 39,
     "metadata": {},
     "output_type": "execute_result"
    }
   ],
   "source": [
    "a=[data[0][3]['user_mentions'][i]['name'] for i in range(len(data[0][3]['user_mentions']))]\n",
    "a"
   ]
  },
  {
   "cell_type": "code",
   "execution_count": 40,
   "id": "8b4db784",
   "metadata": {},
   "outputs": [
    {
     "name": "stdout",
     "output_type": "stream",
     "text": [
      "['NYKS India']\n"
     ]
    }
   ],
   "source": [
    "for i in range(len(data)):\n",
    "    tempMention=[data[i][3]['user_mentions'][i]['name'] for i in range(len(data[0][3]['user_mentions']))]\n",
    "    print(tempMention)\n",
    "    data[i][3]=tempMention"
   ]
  },
  {
   "cell_type": "code",
   "execution_count": 41,
   "id": "98bea36a",
   "metadata": {},
   "outputs": [
    {
     "data": {
      "text/plain": [
       "[['AditiRa1502',\n",
       "  'Aditi Rana',\n",
       "  'RT @Nyksindia: आज़ादी के अमृत महोत्सव में देश के प्रति अपने प्रेम को दर्शायें, और इस साल 13 से 15 अगस्त तक चलने वाले #HarGharTiranga अभियान…',\n",
       "  ['NYKS India']]]"
      ]
     },
     "execution_count": 41,
     "metadata": {},
     "output_type": "execute_result"
    }
   ],
   "source": [
    "data"
   ]
  },
  {
   "cell_type": "code",
   "execution_count": 42,
   "id": "9932742c",
   "metadata": {},
   "outputs": [
    {
     "data": {
      "text/html": [
       "<div>\n",
       "<style scoped>\n",
       "    .dataframe tbody tr th:only-of-type {\n",
       "        vertical-align: middle;\n",
       "    }\n",
       "\n",
       "    .dataframe tbody tr th {\n",
       "        vertical-align: top;\n",
       "    }\n",
       "\n",
       "    .dataframe thead th {\n",
       "        text-align: right;\n",
       "    }\n",
       "</style>\n",
       "<table border=\"1\" class=\"dataframe\">\n",
       "  <thead>\n",
       "    <tr style=\"text-align: right;\">\n",
       "      <th></th>\n",
       "      <th>UserID</th>\n",
       "      <th>Name</th>\n",
       "      <th>Tweet</th>\n",
       "      <th>Mentions</th>\n",
       "    </tr>\n",
       "  </thead>\n",
       "  <tbody>\n",
       "    <tr>\n",
       "      <th>0</th>\n",
       "      <td>AditiRa1502</td>\n",
       "      <td>Aditi Rana</td>\n",
       "      <td>RT @Nyksindia: आज़ादी के अमृत महोत्सव में देश ...</td>\n",
       "      <td>[NYKS India]</td>\n",
       "    </tr>\n",
       "  </tbody>\n",
       "</table>\n",
       "</div>"
      ],
      "text/plain": [
       "        UserID        Name                                              Tweet  \\\n",
       "0  AditiRa1502  Aditi Rana  RT @Nyksindia: आज़ादी के अमृत महोत्सव में देश ...   \n",
       "\n",
       "       Mentions  \n",
       "0  [NYKS India]  "
      ]
     },
     "execution_count": 42,
     "metadata": {},
     "output_type": "execute_result"
    }
   ],
   "source": [
    "df = pd.DataFrame(data, columns=columns)\n",
    "df"
   ]
  }
 ],
 "metadata": {
  "kernelspec": {
   "display_name": "Python 3 (ipykernel)",
   "language": "python",
   "name": "python3"
  },
  "language_info": {
   "codemirror_mode": {
    "name": "ipython",
    "version": 3
   },
   "file_extension": ".py",
   "mimetype": "text/x-python",
   "name": "python",
   "nbconvert_exporter": "python",
   "pygments_lexer": "ipython3",
   "version": "3.9.13"
  }
 },
 "nbformat": 4,
 "nbformat_minor": 5
}
