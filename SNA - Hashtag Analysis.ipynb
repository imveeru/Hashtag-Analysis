{
 "cells": [
  {
   "cell_type": "markdown",
   "id": "f2ca9d68",
   "metadata": {},
   "source": [
    "# Hashtag Analysis"
   ]
  },
  {
   "cell_type": "markdown",
   "id": "84077793",
   "metadata": {},
   "source": [
    "## Importing Packages"
   ]
  },
  {
   "cell_type": "code",
   "execution_count": 94,
   "id": "d3a2c643",
   "metadata": {},
   "outputs": [],
   "source": [
    "import tweepy\n",
    "import configparser\n",
    "import pandas as pd"
   ]
  },
  {
   "cell_type": "markdown",
   "id": "f2770373",
   "metadata": {},
   "source": [
    "## Initial Configurations"
   ]
  },
  {
   "cell_type": "code",
   "execution_count": 95,
   "id": "2efad5a2",
   "metadata": {},
   "outputs": [
    {
     "data": {
      "text/plain": [
       "['config.ini']"
      ]
     },
     "execution_count": 95,
     "metadata": {},
     "output_type": "execute_result"
    }
   ],
   "source": [
    "config = configparser.ConfigParser()\n",
    "config.read('config.ini')"
   ]
  },
  {
   "cell_type": "code",
   "execution_count": 96,
   "id": "6db0eade",
   "metadata": {},
   "outputs": [],
   "source": [
    "api_key = config['twitter']['api_key']\n",
    "api_key_secret = config['twitter']['api_key_secret']"
   ]
  },
  {
   "cell_type": "code",
   "execution_count": 109,
   "id": "98673dd3",
   "metadata": {
    "scrolled": false
   },
   "outputs": [],
   "source": [
    "auth = tweepy.OAuth2AppHandler(\n",
    "    api_key ,\n",
    "    api_key_secret\n",
    ")\n",
    "api = tweepy.API(auth)"
   ]
  },
  {
   "cell_type": "markdown",
   "id": "bf3f42b2",
   "metadata": {},
   "source": [
    "## Fetching Data"
   ]
  },
  {
   "cell_type": "code",
   "execution_count": 130,
   "id": "da110812",
   "metadata": {},
   "outputs": [],
   "source": [
    "keywords = '#HarGharTiranga'\n",
    "limit=1"
   ]
  },
  {
   "cell_type": "code",
   "execution_count": 149,
   "id": "3a0189c6",
   "metadata": {},
   "outputs": [],
   "source": [
    "tweets = tweepy.Cursor(api.search_tweets, q=keywords, count=100, tweet_mode='extended').items(limit)"
   ]
  },
  {
   "cell_type": "code",
   "execution_count": 150,
   "id": "7949635f",
   "metadata": {},
   "outputs": [
    {
     "data": {
      "text/plain": [
       "<tweepy.cursor.ItemIterator at 0x280aa0b0820>"
      ]
     },
     "execution_count": 150,
     "metadata": {},
     "output_type": "execute_result"
    }
   ],
   "source": [
    "tweets"
   ]
  },
  {
   "cell_type": "code",
   "execution_count": 151,
   "id": "09dca9ee",
   "metadata": {},
   "outputs": [],
   "source": [
    "columns = ['UserID', 'Name', 'Tweet', 'Mentions','Created At']\n",
    "data = []"
   ]
  },
  {
   "cell_type": "code",
   "execution_count": 152,
   "id": "6e23103e",
   "metadata": {
    "scrolled": false
   },
   "outputs": [
    {
     "name": "stdout",
     "output_type": "stream",
     "text": [
      "Status(_api=<tweepy.api.API object at 0x00000280A675E640>, _json={'created_at': 'Fri Aug 19 15:01:50 +0000 2022', 'id': 1560643205795680258, 'id_str': '1560643205795680258', 'full_text': 'RT @NykHyderabad: Glimpses of Freedom Run under Swatantra Bharat Vajrotsavalu organised by Dist. Administration, #Hyderabad at Gymkhana Gro…', 'truncated': False, 'display_text_range': [0, 140], 'entities': {'hashtags': [{'text': 'Hyderabad', 'indices': [113, 123]}], 'symbols': [], 'user_mentions': [{'screen_name': 'NykHyderabad', 'name': 'NYK Hyderabad #AmritMahostav🇮🇳', 'id': 1144865454940311554, 'id_str': '1144865454940311554', 'indices': [3, 16]}], 'urls': []}, 'metadata': {'iso_language_code': 'et', 'result_type': 'recent'}, 'source': '<a href=\"http://twitter.com/download/android\" rel=\"nofollow\">Twitter for Android</a>', 'in_reply_to_status_id': None, 'in_reply_to_status_id_str': None, 'in_reply_to_user_id': None, 'in_reply_to_user_id_str': None, 'in_reply_to_screen_name': None, 'user': {'id': 1540671401136246785, 'id_str': '1540671401136246785', 'name': 'Abhisagar6798', 'screen_name': 'abhisagar6798', 'location': '', 'description': '', 'url': None, 'entities': {'description': {'urls': []}}, 'protected': False, 'followers_count': 6, 'friends_count': 11, 'listed_count': 0, 'created_at': 'Sat Jun 25 12:21:17 +0000 2022', 'favourites_count': 432, 'utc_offset': None, 'time_zone': None, 'geo_enabled': False, 'verified': False, 'statuses_count': 433, 'lang': None, 'contributors_enabled': False, 'is_translator': False, 'is_translation_enabled': False, 'profile_background_color': 'F5F8FA', 'profile_background_image_url': None, 'profile_background_image_url_https': None, 'profile_background_tile': False, 'profile_image_url': 'http://abs.twimg.com/sticky/default_profile_images/default_profile_normal.png', 'profile_image_url_https': 'https://abs.twimg.com/sticky/default_profile_images/default_profile_normal.png', 'profile_link_color': '1DA1F2', 'profile_sidebar_border_color': 'C0DEED', 'profile_sidebar_fill_color': 'DDEEF6', 'profile_text_color': '333333', 'profile_use_background_image': True, 'has_extended_profile': True, 'default_profile': True, 'default_profile_image': True, 'following': None, 'follow_request_sent': None, 'notifications': None, 'translator_type': 'none', 'withheld_in_countries': []}, 'geo': None, 'coordinates': None, 'place': None, 'contributors': None, 'retweeted_status': {'created_at': 'Sun Aug 14 23:00:27 +0000 2022', 'id': 1558951713905999872, 'id_str': '1558951713905999872', 'full_text': 'Glimpses of Freedom Run under Swatantra Bharat Vajrotsavalu organised by Dist. Administration, #Hyderabad at Gymkhana Ground, #Secunderabad\\n#HarGharTiranga \\n#AzadiKaAmritMahotsov \\n@Nyksindia @YASMinistry @ianuragthakur @sanjayjavin @NisithPramanik @StatedirectorT @AirHyderabad https://t.co/IT0rO3LtDB', 'truncated': False, 'display_text_range': [0, 277], 'entities': {'hashtags': [{'text': 'Hyderabad', 'indices': [95, 105]}, {'text': 'Secunderabad', 'indices': [126, 139]}, {'text': 'HarGharTiranga', 'indices': [140, 155]}, {'text': 'AzadiKaAmritMahotsov', 'indices': [157, 178]}], 'symbols': [], 'user_mentions': [{'screen_name': 'Nyksindia', 'name': 'NYKS India', 'id': 1854369001, 'id_str': '1854369001', 'indices': [180, 190]}, {'screen_name': 'YASMinistry', 'name': 'YAS Ministry', 'id': 2364049800, 'id_str': '2364049800', 'indices': [191, 203]}, {'screen_name': 'ianuragthakur', 'name': 'Anurag Thakur', 'id': 381949397, 'id_str': '381949397', 'indices': [204, 218]}, {'screen_name': 'sanjayjavin', 'name': 'Sanjay Kumar', 'id': 101021297, 'id_str': '101021297', 'indices': [219, 231]}, {'screen_name': 'NisithPramanik', 'name': 'Nisith Pramanik', 'id': 1123921541228638208, 'id_str': '1123921541228638208', 'indices': [232, 247]}, {'screen_name': 'StatedirectorT', 'name': 'statedirectorTS', 'id': 1418466849671417864, 'id_str': '1418466849671417864', 'indices': [248, 263]}, {'screen_name': 'AirHyderabad', 'name': 'AIR HYDERABAD 🇮🇳', 'id': 4197265813, 'id_str': '4197265813', 'indices': [264, 277]}], 'urls': [], 'media': [{'id': 1558951645068804099, 'id_str': '1558951645068804099', 'indices': [278, 301], 'media_url': 'http://pbs.twimg.com/media/FaKCQvJWQAMGyAp.jpg', 'media_url_https': 'https://pbs.twimg.com/media/FaKCQvJWQAMGyAp.jpg', 'url': 'https://t.co/IT0rO3LtDB', 'display_url': 'pic.twitter.com/IT0rO3LtDB', 'expanded_url': 'https://twitter.com/NykHyderabad/status/1558951713905999872/photo/1', 'type': 'photo', 'sizes': {'large': {'w': 2048, 'h': 1536, 'resize': 'fit'}, 'thumb': {'w': 150, 'h': 150, 'resize': 'crop'}, 'medium': {'w': 1200, 'h': 900, 'resize': 'fit'}, 'small': {'w': 680, 'h': 510, 'resize': 'fit'}}}]}, 'extended_entities': {'media': [{'id': 1558951645068804099, 'id_str': '1558951645068804099', 'indices': [278, 301], 'media_url': 'http://pbs.twimg.com/media/FaKCQvJWQAMGyAp.jpg', 'media_url_https': 'https://pbs.twimg.com/media/FaKCQvJWQAMGyAp.jpg', 'url': 'https://t.co/IT0rO3LtDB', 'display_url': 'pic.twitter.com/IT0rO3LtDB', 'expanded_url': 'https://twitter.com/NykHyderabad/status/1558951713905999872/photo/1', 'type': 'photo', 'sizes': {'large': {'w': 2048, 'h': 1536, 'resize': 'fit'}, 'thumb': {'w': 150, 'h': 150, 'resize': 'crop'}, 'medium': {'w': 1200, 'h': 900, 'resize': 'fit'}, 'small': {'w': 680, 'h': 510, 'resize': 'fit'}}}, {'id': 1558951670335389696, 'id_str': '1558951670335389696', 'indices': [278, 301], 'media_url': 'http://pbs.twimg.com/media/FaKCSNRXwAAmcWu.jpg', 'media_url_https': 'https://pbs.twimg.com/media/FaKCSNRXwAAmcWu.jpg', 'url': 'https://t.co/IT0rO3LtDB', 'display_url': 'pic.twitter.com/IT0rO3LtDB', 'expanded_url': 'https://twitter.com/NykHyderabad/status/1558951713905999872/photo/1', 'type': 'photo', 'sizes': {'thumb': {'w': 150, 'h': 150, 'resize': 'crop'}, 'large': {'w': 2048, 'h': 1536, 'resize': 'fit'}, 'small': {'w': 680, 'h': 510, 'resize': 'fit'}, 'medium': {'w': 1200, 'h': 900, 'resize': 'fit'}}}, {'id': 1558951695186640896, 'id_str': '1558951695186640896', 'indices': [278, 301], 'media_url': 'http://pbs.twimg.com/media/FaKCTp2XwAAe24W.jpg', 'media_url_https': 'https://pbs.twimg.com/media/FaKCTp2XwAAe24W.jpg', 'url': 'https://t.co/IT0rO3LtDB', 'display_url': 'pic.twitter.com/IT0rO3LtDB', 'expanded_url': 'https://twitter.com/NykHyderabad/status/1558951713905999872/photo/1', 'type': 'photo', 'sizes': {'thumb': {'w': 150, 'h': 150, 'resize': 'crop'}, 'large': {'w': 1156, 'h': 521, 'resize': 'fit'}, 'small': {'w': 680, 'h': 306, 'resize': 'fit'}, 'medium': {'w': 1156, 'h': 521, 'resize': 'fit'}}}, {'id': 1558951705437511687, 'id_str': '1558951705437511687', 'indices': [278, 301], 'media_url': 'http://pbs.twimg.com/media/FaKCUQCXoAcP1fI.jpg', 'media_url_https': 'https://pbs.twimg.com/media/FaKCUQCXoAcP1fI.jpg', 'url': 'https://t.co/IT0rO3LtDB', 'display_url': 'pic.twitter.com/IT0rO3LtDB', 'expanded_url': 'https://twitter.com/NykHyderabad/status/1558951713905999872/photo/1', 'type': 'photo', 'sizes': {'thumb': {'w': 150, 'h': 150, 'resize': 'crop'}, 'large': {'w': 1024, 'h': 461, 'resize': 'fit'}, 'small': {'w': 680, 'h': 306, 'resize': 'fit'}, 'medium': {'w': 1024, 'h': 461, 'resize': 'fit'}}}]}, 'metadata': {'iso_language_code': 'et', 'result_type': 'recent'}, 'source': '<a href=\"http://twitter.com/download/android\" rel=\"nofollow\">Twitter for Android</a>', 'in_reply_to_status_id': None, 'in_reply_to_status_id_str': None, 'in_reply_to_user_id': None, 'in_reply_to_user_id_str': None, 'in_reply_to_screen_name': None, 'user': {'id': 1144865454940311554, 'id_str': '1144865454940311554', 'name': 'NYK Hyderabad #AmritMahostav🇮🇳', 'screen_name': 'NykHyderabad', 'location': 'Old Malakpet, Hyderabad', 'description': 'Nehru Yuva Kendra, Hyderabad\\nKendra Code: 7602\\n\\nContact: 040-2415 1275\\n\\nO/o @nyksindia @yasministry', 'url': 'https://t.co/ToM9ymg270', 'entities': {'url': {'urls': [{'url': 'https://t.co/ToM9ymg270', 'expanded_url': 'http://nyks.nic.in', 'display_url': 'nyks.nic.in', 'indices': [0, 23]}]}, 'description': {'urls': []}}, 'protected': False, 'followers_count': 970, 'friends_count': 874, 'listed_count': 0, 'created_at': 'Sat Jun 29 07:09:29 +0000 2019', 'favourites_count': 6037, 'utc_offset': None, 'time_zone': None, 'geo_enabled': True, 'verified': False, 'statuses_count': 1374, 'lang': None, 'contributors_enabled': False, 'is_translator': False, 'is_translation_enabled': False, 'profile_background_color': 'F5F8FA', 'profile_background_image_url': None, 'profile_background_image_url_https': None, 'profile_background_tile': False, 'profile_image_url': 'http://pbs.twimg.com/profile_images/1554399415900594176/mC5B3jRC_normal.jpg', 'profile_image_url_https': 'https://pbs.twimg.com/profile_images/1554399415900594176/mC5B3jRC_normal.jpg', 'profile_banner_url': 'https://pbs.twimg.com/profile_banners/1144865454940311554/1637871834', 'profile_link_color': '1DA1F2', 'profile_sidebar_border_color': 'C0DEED', 'profile_sidebar_fill_color': 'DDEEF6', 'profile_text_color': '333333', 'profile_use_background_image': True, 'has_extended_profile': False, 'default_profile': True, 'default_profile_image': False, 'following': None, 'follow_request_sent': None, 'notifications': None, 'translator_type': 'none', 'withheld_in_countries': []}, 'geo': None, 'coordinates': None, 'place': None, 'contributors': None, 'is_quote_status': False, 'retweet_count': 60, 'favorite_count': 93, 'favorited': False, 'retweeted': False, 'possibly_sensitive': False, 'lang': 'et'}, 'is_quote_status': False, 'retweet_count': 60, 'favorite_count': 0, 'favorited': False, 'retweeted': False, 'lang': 'et'}, created_at=datetime.datetime(2022, 8, 19, 15, 1, 50, tzinfo=datetime.timezone.utc), id=1560643205795680258, id_str='1560643205795680258', full_text='RT @NykHyderabad: Glimpses of Freedom Run under Swatantra Bharat Vajrotsavalu organised by Dist. Administration, #Hyderabad at Gymkhana Gro…', truncated=False, display_text_range=[0, 140], entities={'hashtags': [{'text': 'Hyderabad', 'indices': [113, 123]}], 'symbols': [], 'user_mentions': [{'screen_name': 'NykHyderabad', 'name': 'NYK Hyderabad #AmritMahostav🇮🇳', 'id': 1144865454940311554, 'id_str': '1144865454940311554', 'indices': [3, 16]}], 'urls': []}, metadata={'iso_language_code': 'et', 'result_type': 'recent'}, source='Twitter for Android', source_url='http://twitter.com/download/android', in_reply_to_status_id=None, in_reply_to_status_id_str=None, in_reply_to_user_id=None, in_reply_to_user_id_str=None, in_reply_to_screen_name=None, author=User(_api=<tweepy.api.API object at 0x00000280A675E640>, _json={'id': 1540671401136246785, 'id_str': '1540671401136246785', 'name': 'Abhisagar6798', 'screen_name': 'abhisagar6798', 'location': '', 'description': '', 'url': None, 'entities': {'description': {'urls': []}}, 'protected': False, 'followers_count': 6, 'friends_count': 11, 'listed_count': 0, 'created_at': 'Sat Jun 25 12:21:17 +0000 2022', 'favourites_count': 432, 'utc_offset': None, 'time_zone': None, 'geo_enabled': False, 'verified': False, 'statuses_count': 433, 'lang': None, 'contributors_enabled': False, 'is_translator': False, 'is_translation_enabled': False, 'profile_background_color': 'F5F8FA', 'profile_background_image_url': None, 'profile_background_image_url_https': None, 'profile_background_tile': False, 'profile_image_url': 'http://abs.twimg.com/sticky/default_profile_images/default_profile_normal.png', 'profile_image_url_https': 'https://abs.twimg.com/sticky/default_profile_images/default_profile_normal.png', 'profile_link_color': '1DA1F2', 'profile_sidebar_border_color': 'C0DEED', 'profile_sidebar_fill_color': 'DDEEF6', 'profile_text_color': '333333', 'profile_use_background_image': True, 'has_extended_profile': True, 'default_profile': True, 'default_profile_image': True, 'following': None, 'follow_request_sent': None, 'notifications': None, 'translator_type': 'none', 'withheld_in_countries': []}, id=1540671401136246785, id_str='1540671401136246785', name='Abhisagar6798', screen_name='abhisagar6798', location='', description='', url=None, entities={'description': {'urls': []}}, protected=False, followers_count=6, friends_count=11, listed_count=0, created_at=datetime.datetime(2022, 6, 25, 12, 21, 17, tzinfo=datetime.timezone.utc), favourites_count=432, utc_offset=None, time_zone=None, geo_enabled=False, verified=False, statuses_count=433, lang=None, contributors_enabled=False, is_translator=False, is_translation_enabled=False, profile_background_color='F5F8FA', profile_background_image_url=None, profile_background_image_url_https=None, profile_background_tile=False, profile_image_url='http://abs.twimg.com/sticky/default_profile_images/default_profile_normal.png', profile_image_url_https='https://abs.twimg.com/sticky/default_profile_images/default_profile_normal.png', profile_link_color='1DA1F2', profile_sidebar_border_color='C0DEED', profile_sidebar_fill_color='DDEEF6', profile_text_color='333333', profile_use_background_image=True, has_extended_profile=True, default_profile=True, default_profile_image=True, following=False, follow_request_sent=None, notifications=None, translator_type='none', withheld_in_countries=[]), user=User(_api=<tweepy.api.API object at 0x00000280A675E640>, _json={'id': 1540671401136246785, 'id_str': '1540671401136246785', 'name': 'Abhisagar6798', 'screen_name': 'abhisagar6798', 'location': '', 'description': '', 'url': None, 'entities': {'description': {'urls': []}}, 'protected': False, 'followers_count': 6, 'friends_count': 11, 'listed_count': 0, 'created_at': 'Sat Jun 25 12:21:17 +0000 2022', 'favourites_count': 432, 'utc_offset': None, 'time_zone': None, 'geo_enabled': False, 'verified': False, 'statuses_count': 433, 'lang': None, 'contributors_enabled': False, 'is_translator': False, 'is_translation_enabled': False, 'profile_background_color': 'F5F8FA', 'profile_background_image_url': None, 'profile_background_image_url_https': None, 'profile_background_tile': False, 'profile_image_url': 'http://abs.twimg.com/sticky/default_profile_images/default_profile_normal.png', 'profile_image_url_https': 'https://abs.twimg.com/sticky/default_profile_images/default_profile_normal.png', 'profile_link_color': '1DA1F2', 'profile_sidebar_border_color': 'C0DEED', 'profile_sidebar_fill_color': 'DDEEF6', 'profile_text_color': '333333', 'profile_use_background_image': True, 'has_extended_profile': True, 'default_profile': True, 'default_profile_image': True, 'following': None, 'follow_request_sent': None, 'notifications': None, 'translator_type': 'none', 'withheld_in_countries': []}, id=1540671401136246785, id_str='1540671401136246785', name='Abhisagar6798', screen_name='abhisagar6798', location='', description='', url=None, entities={'description': {'urls': []}}, protected=False, followers_count=6, friends_count=11, listed_count=0, created_at=datetime.datetime(2022, 6, 25, 12, 21, 17, tzinfo=datetime.timezone.utc), favourites_count=432, utc_offset=None, time_zone=None, geo_enabled=False, verified=False, statuses_count=433, lang=None, contributors_enabled=False, is_translator=False, is_translation_enabled=False, profile_background_color='F5F8FA', profile_background_image_url=None, profile_background_image_url_https=None, profile_background_tile=False, profile_image_url='http://abs.twimg.com/sticky/default_profile_images/default_profile_normal.png', profile_image_url_https='https://abs.twimg.com/sticky/default_profile_images/default_profile_normal.png', profile_link_color='1DA1F2', profile_sidebar_border_color='C0DEED', profile_sidebar_fill_color='DDEEF6', profile_text_color='333333', profile_use_background_image=True, has_extended_profile=True, default_profile=True, default_profile_image=True, following=False, follow_request_sent=None, notifications=None, translator_type='none', withheld_in_countries=[]), geo=None, coordinates=None, place=None, contributors=None, retweeted_status=Status(_api=<tweepy.api.API object at 0x00000280A675E640>, _json={'created_at': 'Sun Aug 14 23:00:27 +0000 2022', 'id': 1558951713905999872, 'id_str': '1558951713905999872', 'full_text': 'Glimpses of Freedom Run under Swatantra Bharat Vajrotsavalu organised by Dist. Administration, #Hyderabad at Gymkhana Ground, #Secunderabad\\n#HarGharTiranga \\n#AzadiKaAmritMahotsov \\n@Nyksindia @YASMinistry @ianuragthakur @sanjayjavin @NisithPramanik @StatedirectorT @AirHyderabad https://t.co/IT0rO3LtDB', 'truncated': False, 'display_text_range': [0, 277], 'entities': {'hashtags': [{'text': 'Hyderabad', 'indices': [95, 105]}, {'text': 'Secunderabad', 'indices': [126, 139]}, {'text': 'HarGharTiranga', 'indices': [140, 155]}, {'text': 'AzadiKaAmritMahotsov', 'indices': [157, 178]}], 'symbols': [], 'user_mentions': [{'screen_name': 'Nyksindia', 'name': 'NYKS India', 'id': 1854369001, 'id_str': '1854369001', 'indices': [180, 190]}, {'screen_name': 'YASMinistry', 'name': 'YAS Ministry', 'id': 2364049800, 'id_str': '2364049800', 'indices': [191, 203]}, {'screen_name': 'ianuragthakur', 'name': 'Anurag Thakur', 'id': 381949397, 'id_str': '381949397', 'indices': [204, 218]}, {'screen_name': 'sanjayjavin', 'name': 'Sanjay Kumar', 'id': 101021297, 'id_str': '101021297', 'indices': [219, 231]}, {'screen_name': 'NisithPramanik', 'name': 'Nisith Pramanik', 'id': 1123921541228638208, 'id_str': '1123921541228638208', 'indices': [232, 247]}, {'screen_name': 'StatedirectorT', 'name': 'statedirectorTS', 'id': 1418466849671417864, 'id_str': '1418466849671417864', 'indices': [248, 263]}, {'screen_name': 'AirHyderabad', 'name': 'AIR HYDERABAD 🇮🇳', 'id': 4197265813, 'id_str': '4197265813', 'indices': [264, 277]}], 'urls': [], 'media': [{'id': 1558951645068804099, 'id_str': '1558951645068804099', 'indices': [278, 301], 'media_url': 'http://pbs.twimg.com/media/FaKCQvJWQAMGyAp.jpg', 'media_url_https': 'https://pbs.twimg.com/media/FaKCQvJWQAMGyAp.jpg', 'url': 'https://t.co/IT0rO3LtDB', 'display_url': 'pic.twitter.com/IT0rO3LtDB', 'expanded_url': 'https://twitter.com/NykHyderabad/status/1558951713905999872/photo/1', 'type': 'photo', 'sizes': {'large': {'w': 2048, 'h': 1536, 'resize': 'fit'}, 'thumb': {'w': 150, 'h': 150, 'resize': 'crop'}, 'medium': {'w': 1200, 'h': 900, 'resize': 'fit'}, 'small': {'w': 680, 'h': 510, 'resize': 'fit'}}}]}, 'extended_entities': {'media': [{'id': 1558951645068804099, 'id_str': '1558951645068804099', 'indices': [278, 301], 'media_url': 'http://pbs.twimg.com/media/FaKCQvJWQAMGyAp.jpg', 'media_url_https': 'https://pbs.twimg.com/media/FaKCQvJWQAMGyAp.jpg', 'url': 'https://t.co/IT0rO3LtDB', 'display_url': 'pic.twitter.com/IT0rO3LtDB', 'expanded_url': 'https://twitter.com/NykHyderabad/status/1558951713905999872/photo/1', 'type': 'photo', 'sizes': {'large': {'w': 2048, 'h': 1536, 'resize': 'fit'}, 'thumb': {'w': 150, 'h': 150, 'resize': 'crop'}, 'medium': {'w': 1200, 'h': 900, 'resize': 'fit'}, 'small': {'w': 680, 'h': 510, 'resize': 'fit'}}}, {'id': 1558951670335389696, 'id_str': '1558951670335389696', 'indices': [278, 301], 'media_url': 'http://pbs.twimg.com/media/FaKCSNRXwAAmcWu.jpg', 'media_url_https': 'https://pbs.twimg.com/media/FaKCSNRXwAAmcWu.jpg', 'url': 'https://t.co/IT0rO3LtDB', 'display_url': 'pic.twitter.com/IT0rO3LtDB', 'expanded_url': 'https://twitter.com/NykHyderabad/status/1558951713905999872/photo/1', 'type': 'photo', 'sizes': {'thumb': {'w': 150, 'h': 150, 'resize': 'crop'}, 'large': {'w': 2048, 'h': 1536, 'resize': 'fit'}, 'small': {'w': 680, 'h': 510, 'resize': 'fit'}, 'medium': {'w': 1200, 'h': 900, 'resize': 'fit'}}}, {'id': 1558951695186640896, 'id_str': '1558951695186640896', 'indices': [278, 301], 'media_url': 'http://pbs.twimg.com/media/FaKCTp2XwAAe24W.jpg', 'media_url_https': 'https://pbs.twimg.com/media/FaKCTp2XwAAe24W.jpg', 'url': 'https://t.co/IT0rO3LtDB', 'display_url': 'pic.twitter.com/IT0rO3LtDB', 'expanded_url': 'https://twitter.com/NykHyderabad/status/1558951713905999872/photo/1', 'type': 'photo', 'sizes': {'thumb': {'w': 150, 'h': 150, 'resize': 'crop'}, 'large': {'w': 1156, 'h': 521, 'resize': 'fit'}, 'small': {'w': 680, 'h': 306, 'resize': 'fit'}, 'medium': {'w': 1156, 'h': 521, 'resize': 'fit'}}}, {'id': 1558951705437511687, 'id_str': '1558951705437511687', 'indices': [278, 301], 'media_url': 'http://pbs.twimg.com/media/FaKCUQCXoAcP1fI.jpg', 'media_url_https': 'https://pbs.twimg.com/media/FaKCUQCXoAcP1fI.jpg', 'url': 'https://t.co/IT0rO3LtDB', 'display_url': 'pic.twitter.com/IT0rO3LtDB', 'expanded_url': 'https://twitter.com/NykHyderabad/status/1558951713905999872/photo/1', 'type': 'photo', 'sizes': {'thumb': {'w': 150, 'h': 150, 'resize': 'crop'}, 'large': {'w': 1024, 'h': 461, 'resize': 'fit'}, 'small': {'w': 680, 'h': 306, 'resize': 'fit'}, 'medium': {'w': 1024, 'h': 461, 'resize': 'fit'}}}]}, 'metadata': {'iso_language_code': 'et', 'result_type': 'recent'}, 'source': '<a href=\"http://twitter.com/download/android\" rel=\"nofollow\">Twitter for Android</a>', 'in_reply_to_status_id': None, 'in_reply_to_status_id_str': None, 'in_reply_to_user_id': None, 'in_reply_to_user_id_str': None, 'in_reply_to_screen_name': None, 'user': {'id': 1144865454940311554, 'id_str': '1144865454940311554', 'name': 'NYK Hyderabad #AmritMahostav🇮🇳', 'screen_name': 'NykHyderabad', 'location': 'Old Malakpet, Hyderabad', 'description': 'Nehru Yuva Kendra, Hyderabad\\nKendra Code: 7602\\n\\nContact: 040-2415 1275\\n\\nO/o @nyksindia @yasministry', 'url': 'https://t.co/ToM9ymg270', 'entities': {'url': {'urls': [{'url': 'https://t.co/ToM9ymg270', 'expanded_url': 'http://nyks.nic.in', 'display_url': 'nyks.nic.in', 'indices': [0, 23]}]}, 'description': {'urls': []}}, 'protected': False, 'followers_count': 970, 'friends_count': 874, 'listed_count': 0, 'created_at': 'Sat Jun 29 07:09:29 +0000 2019', 'favourites_count': 6037, 'utc_offset': None, 'time_zone': None, 'geo_enabled': True, 'verified': False, 'statuses_count': 1374, 'lang': None, 'contributors_enabled': False, 'is_translator': False, 'is_translation_enabled': False, 'profile_background_color': 'F5F8FA', 'profile_background_image_url': None, 'profile_background_image_url_https': None, 'profile_background_tile': False, 'profile_image_url': 'http://pbs.twimg.com/profile_images/1554399415900594176/mC5B3jRC_normal.jpg', 'profile_image_url_https': 'https://pbs.twimg.com/profile_images/1554399415900594176/mC5B3jRC_normal.jpg', 'profile_banner_url': 'https://pbs.twimg.com/profile_banners/1144865454940311554/1637871834', 'profile_link_color': '1DA1F2', 'profile_sidebar_border_color': 'C0DEED', 'profile_sidebar_fill_color': 'DDEEF6', 'profile_text_color': '333333', 'profile_use_background_image': True, 'has_extended_profile': False, 'default_profile': True, 'default_profile_image': False, 'following': None, 'follow_request_sent': None, 'notifications': None, 'translator_type': 'none', 'withheld_in_countries': []}, 'geo': None, 'coordinates': None, 'place': None, 'contributors': None, 'is_quote_status': False, 'retweet_count': 60, 'favorite_count': 93, 'favorited': False, 'retweeted': False, 'possibly_sensitive': False, 'lang': 'et'}, created_at=datetime.datetime(2022, 8, 14, 23, 0, 27, tzinfo=datetime.timezone.utc), id=1558951713905999872, id_str='1558951713905999872', full_text='Glimpses of Freedom Run under Swatantra Bharat Vajrotsavalu organised by Dist. Administration, #Hyderabad at Gymkhana Ground, #Secunderabad\\n#HarGharTiranga \\n#AzadiKaAmritMahotsov \\n@Nyksindia @YASMinistry @ianuragthakur @sanjayjavin @NisithPramanik @StatedirectorT @AirHyderabad https://t.co/IT0rO3LtDB', truncated=False, display_text_range=[0, 277], entities={'hashtags': [{'text': 'Hyderabad', 'indices': [95, 105]}, {'text': 'Secunderabad', 'indices': [126, 139]}, {'text': 'HarGharTiranga', 'indices': [140, 155]}, {'text': 'AzadiKaAmritMahotsov', 'indices': [157, 178]}], 'symbols': [], 'user_mentions': [{'screen_name': 'Nyksindia', 'name': 'NYKS India', 'id': 1854369001, 'id_str': '1854369001', 'indices': [180, 190]}, {'screen_name': 'YASMinistry', 'name': 'YAS Ministry', 'id': 2364049800, 'id_str': '2364049800', 'indices': [191, 203]}, {'screen_name': 'ianuragthakur', 'name': 'Anurag Thakur', 'id': 381949397, 'id_str': '381949397', 'indices': [204, 218]}, {'screen_name': 'sanjayjavin', 'name': 'Sanjay Kumar', 'id': 101021297, 'id_str': '101021297', 'indices': [219, 231]}, {'screen_name': 'NisithPramanik', 'name': 'Nisith Pramanik', 'id': 1123921541228638208, 'id_str': '1123921541228638208', 'indices': [232, 247]}, {'screen_name': 'StatedirectorT', 'name': 'statedirectorTS', 'id': 1418466849671417864, 'id_str': '1418466849671417864', 'indices': [248, 263]}, {'screen_name': 'AirHyderabad', 'name': 'AIR HYDERABAD 🇮🇳', 'id': 4197265813, 'id_str': '4197265813', 'indices': [264, 277]}], 'urls': [], 'media': [{'id': 1558951645068804099, 'id_str': '1558951645068804099', 'indices': [278, 301], 'media_url': 'http://pbs.twimg.com/media/FaKCQvJWQAMGyAp.jpg', 'media_url_https': 'https://pbs.twimg.com/media/FaKCQvJWQAMGyAp.jpg', 'url': 'https://t.co/IT0rO3LtDB', 'display_url': 'pic.twitter.com/IT0rO3LtDB', 'expanded_url': 'https://twitter.com/NykHyderabad/status/1558951713905999872/photo/1', 'type': 'photo', 'sizes': {'large': {'w': 2048, 'h': 1536, 'resize': 'fit'}, 'thumb': {'w': 150, 'h': 150, 'resize': 'crop'}, 'medium': {'w': 1200, 'h': 900, 'resize': 'fit'}, 'small': {'w': 680, 'h': 510, 'resize': 'fit'}}}]}, extended_entities={'media': [{'id': 1558951645068804099, 'id_str': '1558951645068804099', 'indices': [278, 301], 'media_url': 'http://pbs.twimg.com/media/FaKCQvJWQAMGyAp.jpg', 'media_url_https': 'https://pbs.twimg.com/media/FaKCQvJWQAMGyAp.jpg', 'url': 'https://t.co/IT0rO3LtDB', 'display_url': 'pic.twitter.com/IT0rO3LtDB', 'expanded_url': 'https://twitter.com/NykHyderabad/status/1558951713905999872/photo/1', 'type': 'photo', 'sizes': {'large': {'w': 2048, 'h': 1536, 'resize': 'fit'}, 'thumb': {'w': 150, 'h': 150, 'resize': 'crop'}, 'medium': {'w': 1200, 'h': 900, 'resize': 'fit'}, 'small': {'w': 680, 'h': 510, 'resize': 'fit'}}}, {'id': 1558951670335389696, 'id_str': '1558951670335389696', 'indices': [278, 301], 'media_url': 'http://pbs.twimg.com/media/FaKCSNRXwAAmcWu.jpg', 'media_url_https': 'https://pbs.twimg.com/media/FaKCSNRXwAAmcWu.jpg', 'url': 'https://t.co/IT0rO3LtDB', 'display_url': 'pic.twitter.com/IT0rO3LtDB', 'expanded_url': 'https://twitter.com/NykHyderabad/status/1558951713905999872/photo/1', 'type': 'photo', 'sizes': {'thumb': {'w': 150, 'h': 150, 'resize': 'crop'}, 'large': {'w': 2048, 'h': 1536, 'resize': 'fit'}, 'small': {'w': 680, 'h': 510, 'resize': 'fit'}, 'medium': {'w': 1200, 'h': 900, 'resize': 'fit'}}}, {'id': 1558951695186640896, 'id_str': '1558951695186640896', 'indices': [278, 301], 'media_url': 'http://pbs.twimg.com/media/FaKCTp2XwAAe24W.jpg', 'media_url_https': 'https://pbs.twimg.com/media/FaKCTp2XwAAe24W.jpg', 'url': 'https://t.co/IT0rO3LtDB', 'display_url': 'pic.twitter.com/IT0rO3LtDB', 'expanded_url': 'https://twitter.com/NykHyderabad/status/1558951713905999872/photo/1', 'type': 'photo', 'sizes': {'thumb': {'w': 150, 'h': 150, 'resize': 'crop'}, 'large': {'w': 1156, 'h': 521, 'resize': 'fit'}, 'small': {'w': 680, 'h': 306, 'resize': 'fit'}, 'medium': {'w': 1156, 'h': 521, 'resize': 'fit'}}}, {'id': 1558951705437511687, 'id_str': '1558951705437511687', 'indices': [278, 301], 'media_url': 'http://pbs.twimg.com/media/FaKCUQCXoAcP1fI.jpg', 'media_url_https': 'https://pbs.twimg.com/media/FaKCUQCXoAcP1fI.jpg', 'url': 'https://t.co/IT0rO3LtDB', 'display_url': 'pic.twitter.com/IT0rO3LtDB', 'expanded_url': 'https://twitter.com/NykHyderabad/status/1558951713905999872/photo/1', 'type': 'photo', 'sizes': {'thumb': {'w': 150, 'h': 150, 'resize': 'crop'}, 'large': {'w': 1024, 'h': 461, 'resize': 'fit'}, 'small': {'w': 680, 'h': 306, 'resize': 'fit'}, 'medium': {'w': 1024, 'h': 461, 'resize': 'fit'}}}]}, metadata={'iso_language_code': 'et', 'result_type': 'recent'}, source='Twitter for Android', source_url='http://twitter.com/download/android', in_reply_to_status_id=None, in_reply_to_status_id_str=None, in_reply_to_user_id=None, in_reply_to_user_id_str=None, in_reply_to_screen_name=None, author=User(_api=<tweepy.api.API object at 0x00000280A675E640>, _json={'id': 1144865454940311554, 'id_str': '1144865454940311554', 'name': 'NYK Hyderabad #AmritMahostav🇮🇳', 'screen_name': 'NykHyderabad', 'location': 'Old Malakpet, Hyderabad', 'description': 'Nehru Yuva Kendra, Hyderabad\\nKendra Code: 7602\\n\\nContact: 040-2415 1275\\n\\nO/o @nyksindia @yasministry', 'url': 'https://t.co/ToM9ymg270', 'entities': {'url': {'urls': [{'url': 'https://t.co/ToM9ymg270', 'expanded_url': 'http://nyks.nic.in', 'display_url': 'nyks.nic.in', 'indices': [0, 23]}]}, 'description': {'urls': []}}, 'protected': False, 'followers_count': 970, 'friends_count': 874, 'listed_count': 0, 'created_at': 'Sat Jun 29 07:09:29 +0000 2019', 'favourites_count': 6037, 'utc_offset': None, 'time_zone': None, 'geo_enabled': True, 'verified': False, 'statuses_count': 1374, 'lang': None, 'contributors_enabled': False, 'is_translator': False, 'is_translation_enabled': False, 'profile_background_color': 'F5F8FA', 'profile_background_image_url': None, 'profile_background_image_url_https': None, 'profile_background_tile': False, 'profile_image_url': 'http://pbs.twimg.com/profile_images/1554399415900594176/mC5B3jRC_normal.jpg', 'profile_image_url_https': 'https://pbs.twimg.com/profile_images/1554399415900594176/mC5B3jRC_normal.jpg', 'profile_banner_url': 'https://pbs.twimg.com/profile_banners/1144865454940311554/1637871834', 'profile_link_color': '1DA1F2', 'profile_sidebar_border_color': 'C0DEED', 'profile_sidebar_fill_color': 'DDEEF6', 'profile_text_color': '333333', 'profile_use_background_image': True, 'has_extended_profile': False, 'default_profile': True, 'default_profile_image': False, 'following': None, 'follow_request_sent': None, 'notifications': None, 'translator_type': 'none', 'withheld_in_countries': []}, id=1144865454940311554, id_str='1144865454940311554', name='NYK Hyderabad #AmritMahostav🇮🇳', screen_name='NykHyderabad', location='Old Malakpet, Hyderabad', description='Nehru Yuva Kendra, Hyderabad\\nKendra Code: 7602\\n\\nContact: 040-2415 1275\\n\\nO/o @nyksindia @yasministry', url='https://t.co/ToM9ymg270', entities={'url': {'urls': [{'url': 'https://t.co/ToM9ymg270', 'expanded_url': 'http://nyks.nic.in', 'display_url': 'nyks.nic.in', 'indices': [0, 23]}]}, 'description': {'urls': []}}, protected=False, followers_count=970, friends_count=874, listed_count=0, created_at=datetime.datetime(2019, 6, 29, 7, 9, 29, tzinfo=datetime.timezone.utc), favourites_count=6037, utc_offset=None, time_zone=None, geo_enabled=True, verified=False, statuses_count=1374, lang=None, contributors_enabled=False, is_translator=False, is_translation_enabled=False, profile_background_color='F5F8FA', profile_background_image_url=None, profile_background_image_url_https=None, profile_background_tile=False, profile_image_url='http://pbs.twimg.com/profile_images/1554399415900594176/mC5B3jRC_normal.jpg', profile_image_url_https='https://pbs.twimg.com/profile_images/1554399415900594176/mC5B3jRC_normal.jpg', profile_banner_url='https://pbs.twimg.com/profile_banners/1144865454940311554/1637871834', profile_link_color='1DA1F2', profile_sidebar_border_color='C0DEED', profile_sidebar_fill_color='DDEEF6', profile_text_color='333333', profile_use_background_image=True, has_extended_profile=False, default_profile=True, default_profile_image=False, following=False, follow_request_sent=None, notifications=None, translator_type='none', withheld_in_countries=[]), user=User(_api=<tweepy.api.API object at 0x00000280A675E640>, _json={'id': 1144865454940311554, 'id_str': '1144865454940311554', 'name': 'NYK Hyderabad #AmritMahostav🇮🇳', 'screen_name': 'NykHyderabad', 'location': 'Old Malakpet, Hyderabad', 'description': 'Nehru Yuva Kendra, Hyderabad\\nKendra Code: 7602\\n\\nContact: 040-2415 1275\\n\\nO/o @nyksindia @yasministry', 'url': 'https://t.co/ToM9ymg270', 'entities': {'url': {'urls': [{'url': 'https://t.co/ToM9ymg270', 'expanded_url': 'http://nyks.nic.in', 'display_url': 'nyks.nic.in', 'indices': [0, 23]}]}, 'description': {'urls': []}}, 'protected': False, 'followers_count': 970, 'friends_count': 874, 'listed_count': 0, 'created_at': 'Sat Jun 29 07:09:29 +0000 2019', 'favourites_count': 6037, 'utc_offset': None, 'time_zone': None, 'geo_enabled': True, 'verified': False, 'statuses_count': 1374, 'lang': None, 'contributors_enabled': False, 'is_translator': False, 'is_translation_enabled': False, 'profile_background_color': 'F5F8FA', 'profile_background_image_url': None, 'profile_background_image_url_https': None, 'profile_background_tile': False, 'profile_image_url': 'http://pbs.twimg.com/profile_images/1554399415900594176/mC5B3jRC_normal.jpg', 'profile_image_url_https': 'https://pbs.twimg.com/profile_images/1554399415900594176/mC5B3jRC_normal.jpg', 'profile_banner_url': 'https://pbs.twimg.com/profile_banners/1144865454940311554/1637871834', 'profile_link_color': '1DA1F2', 'profile_sidebar_border_color': 'C0DEED', 'profile_sidebar_fill_color': 'DDEEF6', 'profile_text_color': '333333', 'profile_use_background_image': True, 'has_extended_profile': False, 'default_profile': True, 'default_profile_image': False, 'following': None, 'follow_request_sent': None, 'notifications': None, 'translator_type': 'none', 'withheld_in_countries': []}, id=1144865454940311554, id_str='1144865454940311554', name='NYK Hyderabad #AmritMahostav🇮🇳', screen_name='NykHyderabad', location='Old Malakpet, Hyderabad', description='Nehru Yuva Kendra, Hyderabad\\nKendra Code: 7602\\n\\nContact: 040-2415 1275\\n\\nO/o @nyksindia @yasministry', url='https://t.co/ToM9ymg270', entities={'url': {'urls': [{'url': 'https://t.co/ToM9ymg270', 'expanded_url': 'http://nyks.nic.in', 'display_url': 'nyks.nic.in', 'indices': [0, 23]}]}, 'description': {'urls': []}}, protected=False, followers_count=970, friends_count=874, listed_count=0, created_at=datetime.datetime(2019, 6, 29, 7, 9, 29, tzinfo=datetime.timezone.utc), favourites_count=6037, utc_offset=None, time_zone=None, geo_enabled=True, verified=False, statuses_count=1374, lang=None, contributors_enabled=False, is_translator=False, is_translation_enabled=False, profile_background_color='F5F8FA', profile_background_image_url=None, profile_background_image_url_https=None, profile_background_tile=False, profile_image_url='http://pbs.twimg.com/profile_images/1554399415900594176/mC5B3jRC_normal.jpg', profile_image_url_https='https://pbs.twimg.com/profile_images/1554399415900594176/mC5B3jRC_normal.jpg', profile_banner_url='https://pbs.twimg.com/profile_banners/1144865454940311554/1637871834', profile_link_color='1DA1F2', profile_sidebar_border_color='C0DEED', profile_sidebar_fill_color='DDEEF6', profile_text_color='333333', profile_use_background_image=True, has_extended_profile=False, default_profile=True, default_profile_image=False, following=False, follow_request_sent=None, notifications=None, translator_type='none', withheld_in_countries=[]), geo=None, coordinates=None, place=None, contributors=None, is_quote_status=False, retweet_count=60, favorite_count=93, favorited=False, retweeted=False, possibly_sensitive=False, lang='et'), is_quote_status=False, retweet_count=60, favorite_count=0, favorited=False, retweeted=False, lang='et')\n"
     ]
    }
   ],
   "source": [
    "for tweet in tweets:\n",
    "    print(tweet)\n",
    "    tweet_mentions=[]\n",
    "    a=tweet.entities\n",
    "#     print(a[0][3]['user_mentions'])\n",
    "    data.append([tweet.user.screen_name, tweet.user.name, tweet.full_text, tweet.entities,tweet._json[\"created_at\"]])"
   ]
  },
  {
   "cell_type": "code",
   "execution_count": 153,
   "id": "921332f1",
   "metadata": {},
   "outputs": [
    {
     "data": {
      "text/html": [
       "<div>\n",
       "<style scoped>\n",
       "    .dataframe tbody tr th:only-of-type {\n",
       "        vertical-align: middle;\n",
       "    }\n",
       "\n",
       "    .dataframe tbody tr th {\n",
       "        vertical-align: top;\n",
       "    }\n",
       "\n",
       "    .dataframe thead th {\n",
       "        text-align: right;\n",
       "    }\n",
       "</style>\n",
       "<table border=\"1\" class=\"dataframe\">\n",
       "  <thead>\n",
       "    <tr style=\"text-align: right;\">\n",
       "      <th></th>\n",
       "      <th>UserID</th>\n",
       "      <th>Name</th>\n",
       "      <th>Tweet</th>\n",
       "      <th>Mentions</th>\n",
       "      <th>Created At</th>\n",
       "    </tr>\n",
       "  </thead>\n",
       "  <tbody>\n",
       "    <tr>\n",
       "      <th>0</th>\n",
       "      <td>abhisagar6798</td>\n",
       "      <td>Abhisagar6798</td>\n",
       "      <td>RT @NykHyderabad: Glimpses of Freedom Run unde...</td>\n",
       "      <td>{'hashtags': [{'text': 'Hyderabad', 'indices':...</td>\n",
       "      <td>Fri Aug 19 15:01:50 +0000 2022</td>\n",
       "    </tr>\n",
       "  </tbody>\n",
       "</table>\n",
       "</div>"
      ],
      "text/plain": [
       "          UserID           Name  \\\n",
       "0  abhisagar6798  Abhisagar6798   \n",
       "\n",
       "                                               Tweet  \\\n",
       "0  RT @NykHyderabad: Glimpses of Freedom Run unde...   \n",
       "\n",
       "                                            Mentions  \\\n",
       "0  {'hashtags': [{'text': 'Hyderabad', 'indices':...   \n",
       "\n",
       "                       Created At  \n",
       "0  Fri Aug 19 15:01:50 +0000 2022  "
      ]
     },
     "execution_count": 153,
     "metadata": {},
     "output_type": "execute_result"
    }
   ],
   "source": [
    "df = pd.DataFrame(data, columns=columns)\n",
    "df"
   ]
  },
  {
   "cell_type": "code",
   "execution_count": 154,
   "id": "7ce9ff87",
   "metadata": {
    "scrolled": false
   },
   "outputs": [
    {
     "data": {
      "text/plain": [
       "[['abhisagar6798',\n",
       "  'Abhisagar6798',\n",
       "  'RT @NykHyderabad: Glimpses of Freedom Run under Swatantra Bharat Vajrotsavalu organised by Dist. Administration, #Hyderabad at Gymkhana Gro…',\n",
       "  {'hashtags': [{'text': 'Hyderabad', 'indices': [113, 123]}],\n",
       "   'symbols': [],\n",
       "   'user_mentions': [{'screen_name': 'NykHyderabad',\n",
       "     'name': 'NYK Hyderabad #AmritMahostav🇮🇳',\n",
       "     'id': 1144865454940311554,\n",
       "     'id_str': '1144865454940311554',\n",
       "     'indices': [3, 16]}],\n",
       "   'urls': []},\n",
       "  'Fri Aug 19 15:01:50 +0000 2022']]"
      ]
     },
     "execution_count": 154,
     "metadata": {},
     "output_type": "execute_result"
    }
   ],
   "source": [
    "data"
   ]
  },
  {
   "cell_type": "markdown",
   "id": "b0389556",
   "metadata": {},
   "source": [
    "## Extracting User Mentions"
   ]
  },
  {
   "cell_type": "code",
   "execution_count": 155,
   "id": "50831f52",
   "metadata": {},
   "outputs": [
    {
     "name": "stdout",
     "output_type": "stream",
     "text": [
      "['NYK Hyderabad #AmritMahostav🇮🇳']\n"
     ]
    }
   ],
   "source": [
    "for i in range(len(data)):\n",
    "    tempMention=[data[i][3]['user_mentions'][j]['name'] for j in range(len(data[i][3]['user_mentions']))]\n",
    "    print(tempMention)\n",
    "    data[i][3]=tempMention"
   ]
  },
  {
   "cell_type": "code",
   "execution_count": 156,
   "id": "bfaf8d54",
   "metadata": {},
   "outputs": [
    {
     "data": {
      "text/html": [
       "<div>\n",
       "<style scoped>\n",
       "    .dataframe tbody tr th:only-of-type {\n",
       "        vertical-align: middle;\n",
       "    }\n",
       "\n",
       "    .dataframe tbody tr th {\n",
       "        vertical-align: top;\n",
       "    }\n",
       "\n",
       "    .dataframe thead th {\n",
       "        text-align: right;\n",
       "    }\n",
       "</style>\n",
       "<table border=\"1\" class=\"dataframe\">\n",
       "  <thead>\n",
       "    <tr style=\"text-align: right;\">\n",
       "      <th></th>\n",
       "      <th>UserID</th>\n",
       "      <th>Name</th>\n",
       "      <th>Tweet</th>\n",
       "      <th>Mentions</th>\n",
       "      <th>Created At</th>\n",
       "    </tr>\n",
       "  </thead>\n",
       "  <tbody>\n",
       "    <tr>\n",
       "      <th>0</th>\n",
       "      <td>abhisagar6798</td>\n",
       "      <td>Abhisagar6798</td>\n",
       "      <td>RT @NykHyderabad: Glimpses of Freedom Run unde...</td>\n",
       "      <td>[NYK Hyderabad #AmritMahostav🇮🇳]</td>\n",
       "      <td>Fri Aug 19 15:01:50 +0000 2022</td>\n",
       "    </tr>\n",
       "  </tbody>\n",
       "</table>\n",
       "</div>"
      ],
      "text/plain": [
       "          UserID           Name  \\\n",
       "0  abhisagar6798  Abhisagar6798   \n",
       "\n",
       "                                               Tweet  \\\n",
       "0  RT @NykHyderabad: Glimpses of Freedom Run unde...   \n",
       "\n",
       "                           Mentions                      Created At  \n",
       "0  [NYK Hyderabad #AmritMahostav🇮🇳]  Fri Aug 19 15:01:50 +0000 2022  "
      ]
     },
     "execution_count": 156,
     "metadata": {},
     "output_type": "execute_result"
    }
   ],
   "source": [
    "df = pd.DataFrame(data, columns=columns)\n",
    "df"
   ]
  }
 ],
 "metadata": {
  "kernelspec": {
   "display_name": "Python 3 (ipykernel)",
   "language": "python",
   "name": "python3"
  },
  "language_info": {
   "codemirror_mode": {
    "name": "ipython",
    "version": 3
   },
   "file_extension": ".py",
   "mimetype": "text/x-python",
   "name": "python",
   "nbconvert_exporter": "python",
   "pygments_lexer": "ipython3",
   "version": "3.9.13"
  }
 },
 "nbformat": 4,
 "nbformat_minor": 5
}
