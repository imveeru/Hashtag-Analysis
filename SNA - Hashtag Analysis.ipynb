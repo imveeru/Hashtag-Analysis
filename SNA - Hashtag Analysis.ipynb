{
 "cells": [
  {
   "cell_type": "code",
   "execution_count": 67,
   "id": "f786dd13",
   "metadata": {},
   "outputs": [],
   "source": [
    "import tweepy\n",
    "import configparser\n",
    "import pandas as pd"
   ]
  },
  {
   "cell_type": "code",
   "execution_count": 68,
   "id": "a8c5edc3",
   "metadata": {},
   "outputs": [
    {
     "data": {
      "text/plain": [
       "['config.ini']"
      ]
     },
     "execution_count": 68,
     "metadata": {},
     "output_type": "execute_result"
    }
   ],
   "source": [
    "config = configparser.ConfigParser()\n",
    "config.read('config.ini')"
   ]
  },
  {
   "cell_type": "code",
   "execution_count": 69,
   "id": "203b3fff",
   "metadata": {},
   "outputs": [],
   "source": [
    "api_key = config['twitter']['api_key']\n",
    "api_key_secret = config['twitter']['api_key_secret']"
   ]
  },
  {
   "cell_type": "code",
   "execution_count": 70,
   "id": "c69aa73e",
   "metadata": {},
   "outputs": [],
   "source": [
    "auth = tweepy.OAuth2AppHandler(\n",
    "    api_key ,\n",
    "    api_key_secret\n",
    ")\n",
    "api = tweepy.API(auth)"
   ]
  },
  {
   "cell_type": "code",
   "execution_count": 142,
   "id": "6335bbf7",
   "metadata": {},
   "outputs": [],
   "source": [
    "keywords = '#HarGharTiranga'\n",
    "limit=1"
   ]
  },
  {
   "cell_type": "code",
   "execution_count": 156,
   "id": "2da011a7",
   "metadata": {},
   "outputs": [],
   "source": [
    "tweets = tweepy.Cursor(api.search_tweets, q=keywords, count=100, tweet_mode='extended').items(limit)"
   ]
  },
  {
   "cell_type": "code",
   "execution_count": 157,
   "id": "b3f2eebd",
   "metadata": {},
   "outputs": [
    {
     "data": {
      "text/plain": [
       "<tweepy.cursor.ItemIterator at 0x222e9230160>"
      ]
     },
     "execution_count": 157,
     "metadata": {},
     "output_type": "execute_result"
    }
   ],
   "source": [
    "tweets"
   ]
  },
  {
   "cell_type": "code",
   "execution_count": 158,
   "id": "a026e131",
   "metadata": {},
   "outputs": [],
   "source": [
    "columns = ['UserID', 'Name', 'Tweet', 'Mentions']\n",
    "data = []"
   ]
  },
  {
   "cell_type": "code",
   "execution_count": 159,
   "id": "4b48b0e2",
   "metadata": {},
   "outputs": [
    {
     "data": {
      "text/plain": [
       "'ShefVaidya'"
      ]
     },
     "execution_count": 159,
     "metadata": {},
     "output_type": "execute_result"
    }
   ],
   "source": [
    "df[\"Mentions\"][0]['user_mentions'][0]['screen_name']"
   ]
  },
  {
   "cell_type": "code",
   "execution_count": 160,
   "id": "fd17a9f9",
   "metadata": {
    "scrolled": false
   },
   "outputs": [
    {
     "name": "stdout",
     "output_type": "stream",
     "text": [
      "Status(_api=<tweepy.api.API object at 0x00000222E2747AC0>, _json={'created_at': 'Fri Aug 12 21:03:21 +0000 2022', 'id': 1558197469086814208, 'id_str': '1558197469086814208', 'full_text': 'RT @GauravAgrawaal: चंडीगढ़ में खालिस्तानी आतंकवादी गुरुपतवंत सिंह पन्नू के घर पर फहराया गया तिरंगा। गुरपतवंत सिंह पन्नू पिछले कुछ दिनों से…', 'truncated': False, 'display_text_range': [0, 140], 'entities': {'hashtags': [], 'symbols': [], 'user_mentions': [{'screen_name': 'GauravAgrawaal', 'name': 'Gaurav Agrawal', 'id': 209663295, 'id_str': '209663295', 'indices': [3, 18]}], 'urls': []}, 'metadata': {'iso_language_code': 'hi', 'result_type': 'recent'}, 'source': '<a href=\"http://twitter.com/download/android\" rel=\"nofollow\">Twitter for Android</a>', 'in_reply_to_status_id': None, 'in_reply_to_status_id_str': None, 'in_reply_to_user_id': None, 'in_reply_to_user_id_str': None, 'in_reply_to_screen_name': None, 'user': {'id': 1120548237771804672, 'id_str': '1120548237771804672', 'name': 'पिंटू चौबे(राष्ट्रवादी)🇮🇳🇮🇳🇮🇳', 'screen_name': 'Choubey108PK', 'location': '', 'description': '#मैं हिन्दू हूँ और हिंदुत्व ही मेरी पहचान है।\\nप्यार करो अपने देश और सेना से।', 'url': None, 'entities': {'description': {'urls': []}}, 'protected': False, 'followers_count': 181, 'friends_count': 2170, 'listed_count': 0, 'created_at': 'Tue Apr 23 04:41:33 +0000 2019', 'favourites_count': 2001, 'utc_offset': None, 'time_zone': None, 'geo_enabled': False, 'verified': False, 'statuses_count': 22222, 'lang': None, 'contributors_enabled': False, 'is_translator': False, 'is_translation_enabled': False, 'profile_background_color': 'F5F8FA', 'profile_background_image_url': None, 'profile_background_image_url_https': None, 'profile_background_tile': False, 'profile_image_url': 'http://pbs.twimg.com/profile_images/1557992269419986944/ViBgaBZF_normal.jpg', 'profile_image_url_https': 'https://pbs.twimg.com/profile_images/1557992269419986944/ViBgaBZF_normal.jpg', 'profile_banner_url': 'https://pbs.twimg.com/profile_banners/1120548237771804672/1605360662', 'profile_link_color': '1DA1F2', 'profile_sidebar_border_color': 'C0DEED', 'profile_sidebar_fill_color': 'DDEEF6', 'profile_text_color': '333333', 'profile_use_background_image': True, 'has_extended_profile': True, 'default_profile': True, 'default_profile_image': False, 'following': None, 'follow_request_sent': None, 'notifications': None, 'translator_type': 'none', 'withheld_in_countries': []}, 'geo': None, 'coordinates': None, 'place': None, 'contributors': None, 'retweeted_status': {'created_at': 'Fri Aug 12 07:10:53 +0000 2022', 'id': 1557987974150705154, 'id_str': '1557987974150705154', 'full_text': 'चंडीगढ़ में खालिस्तानी आतंकवादी गुरुपतवंत सिंह पन्नू के घर पर फहराया गया तिरंगा। गुरपतवंत सिंह पन्नू पिछले कुछ दिनों से पंजाब के लोगों को फोन करके तिरंगा झंडा ना लगाने के लिए भड़का रहा था। आज उसी के घर पर तिरंगा फहरा दिया गया।\\n\\n#Tiranga #HarGharTiranga https://t.co/YiXYwfDm7e', 'truncated': False, 'display_text_range': [0, 252], 'entities': {'hashtags': [{'text': 'Tiranga', 'indices': [228, 236]}, {'text': 'HarGharTiranga', 'indices': [237, 252]}], 'symbols': [], 'user_mentions': [], 'urls': [], 'media': [{'id': 1557987469454241792, 'id_str': '1557987469454241792', 'indices': [253, 276], 'media_url': 'http://pbs.twimg.com/ext_tw_video_thumb/1557987469454241792/pu/img/Azgy9pFTwGB-ws0R.jpg', 'media_url_https': 'https://pbs.twimg.com/ext_tw_video_thumb/1557987469454241792/pu/img/Azgy9pFTwGB-ws0R.jpg', 'url': 'https://t.co/YiXYwfDm7e', 'display_url': 'pic.twitter.com/YiXYwfDm7e', 'expanded_url': 'https://twitter.com/GauravAgrawaal/status/1557987974150705154/video/1', 'type': 'photo', 'sizes': {'thumb': {'w': 150, 'h': 150, 'resize': 'crop'}, 'small': {'w': 640, 'h': 352, 'resize': 'fit'}, 'medium': {'w': 640, 'h': 352, 'resize': 'fit'}, 'large': {'w': 640, 'h': 352, 'resize': 'fit'}}}]}, 'extended_entities': {'media': [{'id': 1557987469454241792, 'id_str': '1557987469454241792', 'indices': [253, 276], 'media_url': 'http://pbs.twimg.com/ext_tw_video_thumb/1557987469454241792/pu/img/Azgy9pFTwGB-ws0R.jpg', 'media_url_https': 'https://pbs.twimg.com/ext_tw_video_thumb/1557987469454241792/pu/img/Azgy9pFTwGB-ws0R.jpg', 'url': 'https://t.co/YiXYwfDm7e', 'display_url': 'pic.twitter.com/YiXYwfDm7e', 'expanded_url': 'https://twitter.com/GauravAgrawaal/status/1557987974150705154/video/1', 'type': 'video', 'sizes': {'thumb': {'w': 150, 'h': 150, 'resize': 'crop'}, 'small': {'w': 640, 'h': 352, 'resize': 'fit'}, 'medium': {'w': 640, 'h': 352, 'resize': 'fit'}, 'large': {'w': 640, 'h': 352, 'resize': 'fit'}}, 'video_info': {'aspect_ratio': [20, 11], 'duration_millis': 98622, 'variants': [{'bitrate': 832000, 'content_type': 'video/mp4', 'url': 'https://video.twimg.com/ext_tw_video/1557987469454241792/pu/vid/640x352/uQboXoz4Q9-_fQw4.mp4?tag=12'}, {'content_type': 'application/x-mpegURL', 'url': 'https://video.twimg.com/ext_tw_video/1557987469454241792/pu/pl/cMR1JxGFXNht91HA.m3u8?tag=12&container=fmp4'}, {'bitrate': 256000, 'content_type': 'video/mp4', 'url': 'https://video.twimg.com/ext_tw_video/1557987469454241792/pu/vid/490x270/Jp1WLWS1yQRmvv3u.mp4?tag=12'}]}, 'additional_media_info': {'monetizable': False}}]}, 'metadata': {'iso_language_code': 'hi', 'result_type': 'recent'}, 'source': '<a href=\"http://twitter.com/download/android\" rel=\"nofollow\">Twitter for Android</a>', 'in_reply_to_status_id': None, 'in_reply_to_status_id_str': None, 'in_reply_to_user_id': None, 'in_reply_to_user_id_str': None, 'in_reply_to_screen_name': None, 'user': {'id': 209663295, 'id_str': '209663295', 'name': 'Gaurav Agrawal', 'screen_name': 'GauravAgrawaal', 'location': 'India', 'description': 'Media Personality @Tv9Bharatvarsh', 'url': 'https://t.co/9nJD3PiKAG', 'entities': {'url': {'urls': [{'url': 'https://t.co/9nJD3PiKAG', 'expanded_url': 'https://www.tv9hindi.com/author/gaurav', 'display_url': 'tv9hindi.com/author/gaurav', 'indices': [0, 23]}]}, 'description': {'urls': []}}, 'protected': False, 'followers_count': 5738, 'friends_count': 1405, 'listed_count': 17, 'created_at': 'Fri Oct 29 17:00:55 +0000 2010', 'favourites_count': 22124, 'utc_offset': None, 'time_zone': None, 'geo_enabled': True, 'verified': True, 'statuses_count': 16347, 'lang': None, 'contributors_enabled': False, 'is_translator': False, 'is_translation_enabled': False, 'profile_background_color': '7A7A0A', 'profile_background_image_url': 'http://abs.twimg.com/images/themes/theme1/bg.png', 'profile_background_image_url_https': 'https://abs.twimg.com/images/themes/theme1/bg.png', 'profile_background_tile': False, 'profile_image_url': 'http://pbs.twimg.com/profile_images/1554667871153795072/e2fcTMNg_normal.jpg', 'profile_image_url_https': 'https://pbs.twimg.com/profile_images/1554667871153795072/e2fcTMNg_normal.jpg', 'profile_banner_url': 'https://pbs.twimg.com/profile_banners/209663295/1657386225', 'profile_link_color': '981CEB', 'profile_sidebar_border_color': 'C0DEED', 'profile_sidebar_fill_color': 'DDEEF6', 'profile_text_color': '200C63', 'profile_use_background_image': False, 'has_extended_profile': True, 'default_profile': False, 'default_profile_image': False, 'following': None, 'follow_request_sent': None, 'notifications': None, 'translator_type': 'none', 'withheld_in_countries': []}, 'geo': None, 'coordinates': None, 'place': None, 'contributors': None, 'is_quote_status': False, 'retweet_count': 47, 'favorite_count': 108, 'favorited': False, 'retweeted': False, 'possibly_sensitive': False, 'lang': 'hi'}, 'is_quote_status': False, 'retweet_count': 47, 'favorite_count': 0, 'favorited': False, 'retweeted': False, 'lang': 'hi'}, created_at=datetime.datetime(2022, 8, 12, 21, 3, 21, tzinfo=datetime.timezone.utc), id=1558197469086814208, id_str='1558197469086814208', full_text='RT @GauravAgrawaal: चंडीगढ़ में खालिस्तानी आतंकवादी गुरुपतवंत सिंह पन्नू के घर पर फहराया गया तिरंगा। गुरपतवंत सिंह पन्नू पिछले कुछ दिनों से…', truncated=False, display_text_range=[0, 140], entities={'hashtags': [], 'symbols': [], 'user_mentions': [{'screen_name': 'GauravAgrawaal', 'name': 'Gaurav Agrawal', 'id': 209663295, 'id_str': '209663295', 'indices': [3, 18]}], 'urls': []}, metadata={'iso_language_code': 'hi', 'result_type': 'recent'}, source='Twitter for Android', source_url='http://twitter.com/download/android', in_reply_to_status_id=None, in_reply_to_status_id_str=None, in_reply_to_user_id=None, in_reply_to_user_id_str=None, in_reply_to_screen_name=None, author=User(_api=<tweepy.api.API object at 0x00000222E2747AC0>, _json={'id': 1120548237771804672, 'id_str': '1120548237771804672', 'name': 'पिंटू चौबे(राष्ट्रवादी)🇮🇳🇮🇳🇮🇳', 'screen_name': 'Choubey108PK', 'location': '', 'description': '#मैं हिन्दू हूँ और हिंदुत्व ही मेरी पहचान है।\\nप्यार करो अपने देश और सेना से।', 'url': None, 'entities': {'description': {'urls': []}}, 'protected': False, 'followers_count': 181, 'friends_count': 2170, 'listed_count': 0, 'created_at': 'Tue Apr 23 04:41:33 +0000 2019', 'favourites_count': 2001, 'utc_offset': None, 'time_zone': None, 'geo_enabled': False, 'verified': False, 'statuses_count': 22222, 'lang': None, 'contributors_enabled': False, 'is_translator': False, 'is_translation_enabled': False, 'profile_background_color': 'F5F8FA', 'profile_background_image_url': None, 'profile_background_image_url_https': None, 'profile_background_tile': False, 'profile_image_url': 'http://pbs.twimg.com/profile_images/1557992269419986944/ViBgaBZF_normal.jpg', 'profile_image_url_https': 'https://pbs.twimg.com/profile_images/1557992269419986944/ViBgaBZF_normal.jpg', 'profile_banner_url': 'https://pbs.twimg.com/profile_banners/1120548237771804672/1605360662', 'profile_link_color': '1DA1F2', 'profile_sidebar_border_color': 'C0DEED', 'profile_sidebar_fill_color': 'DDEEF6', 'profile_text_color': '333333', 'profile_use_background_image': True, 'has_extended_profile': True, 'default_profile': True, 'default_profile_image': False, 'following': None, 'follow_request_sent': None, 'notifications': None, 'translator_type': 'none', 'withheld_in_countries': []}, id=1120548237771804672, id_str='1120548237771804672', name='पिंटू चौबे(राष्ट्रवादी)🇮🇳🇮🇳🇮🇳', screen_name='Choubey108PK', location='', description='#मैं हिन्दू हूँ और हिंदुत्व ही मेरी पहचान है।\\nप्यार करो अपने देश और सेना से।', url=None, entities={'description': {'urls': []}}, protected=False, followers_count=181, friends_count=2170, listed_count=0, created_at=datetime.datetime(2019, 4, 23, 4, 41, 33, tzinfo=datetime.timezone.utc), favourites_count=2001, utc_offset=None, time_zone=None, geo_enabled=False, verified=False, statuses_count=22222, lang=None, contributors_enabled=False, is_translator=False, is_translation_enabled=False, profile_background_color='F5F8FA', profile_background_image_url=None, profile_background_image_url_https=None, profile_background_tile=False, profile_image_url='http://pbs.twimg.com/profile_images/1557992269419986944/ViBgaBZF_normal.jpg', profile_image_url_https='https://pbs.twimg.com/profile_images/1557992269419986944/ViBgaBZF_normal.jpg', profile_banner_url='https://pbs.twimg.com/profile_banners/1120548237771804672/1605360662', profile_link_color='1DA1F2', profile_sidebar_border_color='C0DEED', profile_sidebar_fill_color='DDEEF6', profile_text_color='333333', profile_use_background_image=True, has_extended_profile=True, default_profile=True, default_profile_image=False, following=False, follow_request_sent=None, notifications=None, translator_type='none', withheld_in_countries=[]), user=User(_api=<tweepy.api.API object at 0x00000222E2747AC0>, _json={'id': 1120548237771804672, 'id_str': '1120548237771804672', 'name': 'पिंटू चौबे(राष्ट्रवादी)🇮🇳🇮🇳🇮🇳', 'screen_name': 'Choubey108PK', 'location': '', 'description': '#मैं हिन्दू हूँ और हिंदुत्व ही मेरी पहचान है।\\nप्यार करो अपने देश और सेना से।', 'url': None, 'entities': {'description': {'urls': []}}, 'protected': False, 'followers_count': 181, 'friends_count': 2170, 'listed_count': 0, 'created_at': 'Tue Apr 23 04:41:33 +0000 2019', 'favourites_count': 2001, 'utc_offset': None, 'time_zone': None, 'geo_enabled': False, 'verified': False, 'statuses_count': 22222, 'lang': None, 'contributors_enabled': False, 'is_translator': False, 'is_translation_enabled': False, 'profile_background_color': 'F5F8FA', 'profile_background_image_url': None, 'profile_background_image_url_https': None, 'profile_background_tile': False, 'profile_image_url': 'http://pbs.twimg.com/profile_images/1557992269419986944/ViBgaBZF_normal.jpg', 'profile_image_url_https': 'https://pbs.twimg.com/profile_images/1557992269419986944/ViBgaBZF_normal.jpg', 'profile_banner_url': 'https://pbs.twimg.com/profile_banners/1120548237771804672/1605360662', 'profile_link_color': '1DA1F2', 'profile_sidebar_border_color': 'C0DEED', 'profile_sidebar_fill_color': 'DDEEF6', 'profile_text_color': '333333', 'profile_use_background_image': True, 'has_extended_profile': True, 'default_profile': True, 'default_profile_image': False, 'following': None, 'follow_request_sent': None, 'notifications': None, 'translator_type': 'none', 'withheld_in_countries': []}, id=1120548237771804672, id_str='1120548237771804672', name='पिंटू चौबे(राष्ट्रवादी)🇮🇳🇮🇳🇮🇳', screen_name='Choubey108PK', location='', description='#मैं हिन्दू हूँ और हिंदुत्व ही मेरी पहचान है।\\nप्यार करो अपने देश और सेना से।', url=None, entities={'description': {'urls': []}}, protected=False, followers_count=181, friends_count=2170, listed_count=0, created_at=datetime.datetime(2019, 4, 23, 4, 41, 33, tzinfo=datetime.timezone.utc), favourites_count=2001, utc_offset=None, time_zone=None, geo_enabled=False, verified=False, statuses_count=22222, lang=None, contributors_enabled=False, is_translator=False, is_translation_enabled=False, profile_background_color='F5F8FA', profile_background_image_url=None, profile_background_image_url_https=None, profile_background_tile=False, profile_image_url='http://pbs.twimg.com/profile_images/1557992269419986944/ViBgaBZF_normal.jpg', profile_image_url_https='https://pbs.twimg.com/profile_images/1557992269419986944/ViBgaBZF_normal.jpg', profile_banner_url='https://pbs.twimg.com/profile_banners/1120548237771804672/1605360662', profile_link_color='1DA1F2', profile_sidebar_border_color='C0DEED', profile_sidebar_fill_color='DDEEF6', profile_text_color='333333', profile_use_background_image=True, has_extended_profile=True, default_profile=True, default_profile_image=False, following=False, follow_request_sent=None, notifications=None, translator_type='none', withheld_in_countries=[]), geo=None, coordinates=None, place=None, contributors=None, retweeted_status=Status(_api=<tweepy.api.API object at 0x00000222E2747AC0>, _json={'created_at': 'Fri Aug 12 07:10:53 +0000 2022', 'id': 1557987974150705154, 'id_str': '1557987974150705154', 'full_text': 'चंडीगढ़ में खालिस्तानी आतंकवादी गुरुपतवंत सिंह पन्नू के घर पर फहराया गया तिरंगा। गुरपतवंत सिंह पन्नू पिछले कुछ दिनों से पंजाब के लोगों को फोन करके तिरंगा झंडा ना लगाने के लिए भड़का रहा था। आज उसी के घर पर तिरंगा फहरा दिया गया।\\n\\n#Tiranga #HarGharTiranga https://t.co/YiXYwfDm7e', 'truncated': False, 'display_text_range': [0, 252], 'entities': {'hashtags': [{'text': 'Tiranga', 'indices': [228, 236]}, {'text': 'HarGharTiranga', 'indices': [237, 252]}], 'symbols': [], 'user_mentions': [], 'urls': [], 'media': [{'id': 1557987469454241792, 'id_str': '1557987469454241792', 'indices': [253, 276], 'media_url': 'http://pbs.twimg.com/ext_tw_video_thumb/1557987469454241792/pu/img/Azgy9pFTwGB-ws0R.jpg', 'media_url_https': 'https://pbs.twimg.com/ext_tw_video_thumb/1557987469454241792/pu/img/Azgy9pFTwGB-ws0R.jpg', 'url': 'https://t.co/YiXYwfDm7e', 'display_url': 'pic.twitter.com/YiXYwfDm7e', 'expanded_url': 'https://twitter.com/GauravAgrawaal/status/1557987974150705154/video/1', 'type': 'photo', 'sizes': {'thumb': {'w': 150, 'h': 150, 'resize': 'crop'}, 'small': {'w': 640, 'h': 352, 'resize': 'fit'}, 'medium': {'w': 640, 'h': 352, 'resize': 'fit'}, 'large': {'w': 640, 'h': 352, 'resize': 'fit'}}}]}, 'extended_entities': {'media': [{'id': 1557987469454241792, 'id_str': '1557987469454241792', 'indices': [253, 276], 'media_url': 'http://pbs.twimg.com/ext_tw_video_thumb/1557987469454241792/pu/img/Azgy9pFTwGB-ws0R.jpg', 'media_url_https': 'https://pbs.twimg.com/ext_tw_video_thumb/1557987469454241792/pu/img/Azgy9pFTwGB-ws0R.jpg', 'url': 'https://t.co/YiXYwfDm7e', 'display_url': 'pic.twitter.com/YiXYwfDm7e', 'expanded_url': 'https://twitter.com/GauravAgrawaal/status/1557987974150705154/video/1', 'type': 'video', 'sizes': {'thumb': {'w': 150, 'h': 150, 'resize': 'crop'}, 'small': {'w': 640, 'h': 352, 'resize': 'fit'}, 'medium': {'w': 640, 'h': 352, 'resize': 'fit'}, 'large': {'w': 640, 'h': 352, 'resize': 'fit'}}, 'video_info': {'aspect_ratio': [20, 11], 'duration_millis': 98622, 'variants': [{'bitrate': 832000, 'content_type': 'video/mp4', 'url': 'https://video.twimg.com/ext_tw_video/1557987469454241792/pu/vid/640x352/uQboXoz4Q9-_fQw4.mp4?tag=12'}, {'content_type': 'application/x-mpegURL', 'url': 'https://video.twimg.com/ext_tw_video/1557987469454241792/pu/pl/cMR1JxGFXNht91HA.m3u8?tag=12&container=fmp4'}, {'bitrate': 256000, 'content_type': 'video/mp4', 'url': 'https://video.twimg.com/ext_tw_video/1557987469454241792/pu/vid/490x270/Jp1WLWS1yQRmvv3u.mp4?tag=12'}]}, 'additional_media_info': {'monetizable': False}}]}, 'metadata': {'iso_language_code': 'hi', 'result_type': 'recent'}, 'source': '<a href=\"http://twitter.com/download/android\" rel=\"nofollow\">Twitter for Android</a>', 'in_reply_to_status_id': None, 'in_reply_to_status_id_str': None, 'in_reply_to_user_id': None, 'in_reply_to_user_id_str': None, 'in_reply_to_screen_name': None, 'user': {'id': 209663295, 'id_str': '209663295', 'name': 'Gaurav Agrawal', 'screen_name': 'GauravAgrawaal', 'location': 'India', 'description': 'Media Personality @Tv9Bharatvarsh', 'url': 'https://t.co/9nJD3PiKAG', 'entities': {'url': {'urls': [{'url': 'https://t.co/9nJD3PiKAG', 'expanded_url': 'https://www.tv9hindi.com/author/gaurav', 'display_url': 'tv9hindi.com/author/gaurav', 'indices': [0, 23]}]}, 'description': {'urls': []}}, 'protected': False, 'followers_count': 5738, 'friends_count': 1405, 'listed_count': 17, 'created_at': 'Fri Oct 29 17:00:55 +0000 2010', 'favourites_count': 22124, 'utc_offset': None, 'time_zone': None, 'geo_enabled': True, 'verified': True, 'statuses_count': 16347, 'lang': None, 'contributors_enabled': False, 'is_translator': False, 'is_translation_enabled': False, 'profile_background_color': '7A7A0A', 'profile_background_image_url': 'http://abs.twimg.com/images/themes/theme1/bg.png', 'profile_background_image_url_https': 'https://abs.twimg.com/images/themes/theme1/bg.png', 'profile_background_tile': False, 'profile_image_url': 'http://pbs.twimg.com/profile_images/1554667871153795072/e2fcTMNg_normal.jpg', 'profile_image_url_https': 'https://pbs.twimg.com/profile_images/1554667871153795072/e2fcTMNg_normal.jpg', 'profile_banner_url': 'https://pbs.twimg.com/profile_banners/209663295/1657386225', 'profile_link_color': '981CEB', 'profile_sidebar_border_color': 'C0DEED', 'profile_sidebar_fill_color': 'DDEEF6', 'profile_text_color': '200C63', 'profile_use_background_image': False, 'has_extended_profile': True, 'default_profile': False, 'default_profile_image': False, 'following': None, 'follow_request_sent': None, 'notifications': None, 'translator_type': 'none', 'withheld_in_countries': []}, 'geo': None, 'coordinates': None, 'place': None, 'contributors': None, 'is_quote_status': False, 'retweet_count': 47, 'favorite_count': 108, 'favorited': False, 'retweeted': False, 'possibly_sensitive': False, 'lang': 'hi'}, created_at=datetime.datetime(2022, 8, 12, 7, 10, 53, tzinfo=datetime.timezone.utc), id=1557987974150705154, id_str='1557987974150705154', full_text='चंडीगढ़ में खालिस्तानी आतंकवादी गुरुपतवंत सिंह पन्नू के घर पर फहराया गया तिरंगा। गुरपतवंत सिंह पन्नू पिछले कुछ दिनों से पंजाब के लोगों को फोन करके तिरंगा झंडा ना लगाने के लिए भड़का रहा था। आज उसी के घर पर तिरंगा फहरा दिया गया।\\n\\n#Tiranga #HarGharTiranga https://t.co/YiXYwfDm7e', truncated=False, display_text_range=[0, 252], entities={'hashtags': [{'text': 'Tiranga', 'indices': [228, 236]}, {'text': 'HarGharTiranga', 'indices': [237, 252]}], 'symbols': [], 'user_mentions': [], 'urls': [], 'media': [{'id': 1557987469454241792, 'id_str': '1557987469454241792', 'indices': [253, 276], 'media_url': 'http://pbs.twimg.com/ext_tw_video_thumb/1557987469454241792/pu/img/Azgy9pFTwGB-ws0R.jpg', 'media_url_https': 'https://pbs.twimg.com/ext_tw_video_thumb/1557987469454241792/pu/img/Azgy9pFTwGB-ws0R.jpg', 'url': 'https://t.co/YiXYwfDm7e', 'display_url': 'pic.twitter.com/YiXYwfDm7e', 'expanded_url': 'https://twitter.com/GauravAgrawaal/status/1557987974150705154/video/1', 'type': 'photo', 'sizes': {'thumb': {'w': 150, 'h': 150, 'resize': 'crop'}, 'small': {'w': 640, 'h': 352, 'resize': 'fit'}, 'medium': {'w': 640, 'h': 352, 'resize': 'fit'}, 'large': {'w': 640, 'h': 352, 'resize': 'fit'}}}]}, extended_entities={'media': [{'id': 1557987469454241792, 'id_str': '1557987469454241792', 'indices': [253, 276], 'media_url': 'http://pbs.twimg.com/ext_tw_video_thumb/1557987469454241792/pu/img/Azgy9pFTwGB-ws0R.jpg', 'media_url_https': 'https://pbs.twimg.com/ext_tw_video_thumb/1557987469454241792/pu/img/Azgy9pFTwGB-ws0R.jpg', 'url': 'https://t.co/YiXYwfDm7e', 'display_url': 'pic.twitter.com/YiXYwfDm7e', 'expanded_url': 'https://twitter.com/GauravAgrawaal/status/1557987974150705154/video/1', 'type': 'video', 'sizes': {'thumb': {'w': 150, 'h': 150, 'resize': 'crop'}, 'small': {'w': 640, 'h': 352, 'resize': 'fit'}, 'medium': {'w': 640, 'h': 352, 'resize': 'fit'}, 'large': {'w': 640, 'h': 352, 'resize': 'fit'}}, 'video_info': {'aspect_ratio': [20, 11], 'duration_millis': 98622, 'variants': [{'bitrate': 832000, 'content_type': 'video/mp4', 'url': 'https://video.twimg.com/ext_tw_video/1557987469454241792/pu/vid/640x352/uQboXoz4Q9-_fQw4.mp4?tag=12'}, {'content_type': 'application/x-mpegURL', 'url': 'https://video.twimg.com/ext_tw_video/1557987469454241792/pu/pl/cMR1JxGFXNht91HA.m3u8?tag=12&container=fmp4'}, {'bitrate': 256000, 'content_type': 'video/mp4', 'url': 'https://video.twimg.com/ext_tw_video/1557987469454241792/pu/vid/490x270/Jp1WLWS1yQRmvv3u.mp4?tag=12'}]}, 'additional_media_info': {'monetizable': False}}]}, metadata={'iso_language_code': 'hi', 'result_type': 'recent'}, source='Twitter for Android', source_url='http://twitter.com/download/android', in_reply_to_status_id=None, in_reply_to_status_id_str=None, in_reply_to_user_id=None, in_reply_to_user_id_str=None, in_reply_to_screen_name=None, author=User(_api=<tweepy.api.API object at 0x00000222E2747AC0>, _json={'id': 209663295, 'id_str': '209663295', 'name': 'Gaurav Agrawal', 'screen_name': 'GauravAgrawaal', 'location': 'India', 'description': 'Media Personality @Tv9Bharatvarsh', 'url': 'https://t.co/9nJD3PiKAG', 'entities': {'url': {'urls': [{'url': 'https://t.co/9nJD3PiKAG', 'expanded_url': 'https://www.tv9hindi.com/author/gaurav', 'display_url': 'tv9hindi.com/author/gaurav', 'indices': [0, 23]}]}, 'description': {'urls': []}}, 'protected': False, 'followers_count': 5738, 'friends_count': 1405, 'listed_count': 17, 'created_at': 'Fri Oct 29 17:00:55 +0000 2010', 'favourites_count': 22124, 'utc_offset': None, 'time_zone': None, 'geo_enabled': True, 'verified': True, 'statuses_count': 16347, 'lang': None, 'contributors_enabled': False, 'is_translator': False, 'is_translation_enabled': False, 'profile_background_color': '7A7A0A', 'profile_background_image_url': 'http://abs.twimg.com/images/themes/theme1/bg.png', 'profile_background_image_url_https': 'https://abs.twimg.com/images/themes/theme1/bg.png', 'profile_background_tile': False, 'profile_image_url': 'http://pbs.twimg.com/profile_images/1554667871153795072/e2fcTMNg_normal.jpg', 'profile_image_url_https': 'https://pbs.twimg.com/profile_images/1554667871153795072/e2fcTMNg_normal.jpg', 'profile_banner_url': 'https://pbs.twimg.com/profile_banners/209663295/1657386225', 'profile_link_color': '981CEB', 'profile_sidebar_border_color': 'C0DEED', 'profile_sidebar_fill_color': 'DDEEF6', 'profile_text_color': '200C63', 'profile_use_background_image': False, 'has_extended_profile': True, 'default_profile': False, 'default_profile_image': False, 'following': None, 'follow_request_sent': None, 'notifications': None, 'translator_type': 'none', 'withheld_in_countries': []}, id=209663295, id_str='209663295', name='Gaurav Agrawal', screen_name='GauravAgrawaal', location='India', description='Media Personality @Tv9Bharatvarsh', url='https://t.co/9nJD3PiKAG', entities={'url': {'urls': [{'url': 'https://t.co/9nJD3PiKAG', 'expanded_url': 'https://www.tv9hindi.com/author/gaurav', 'display_url': 'tv9hindi.com/author/gaurav', 'indices': [0, 23]}]}, 'description': {'urls': []}}, protected=False, followers_count=5738, friends_count=1405, listed_count=17, created_at=datetime.datetime(2010, 10, 29, 17, 0, 55, tzinfo=datetime.timezone.utc), favourites_count=22124, utc_offset=None, time_zone=None, geo_enabled=True, verified=True, statuses_count=16347, lang=None, contributors_enabled=False, is_translator=False, is_translation_enabled=False, profile_background_color='7A7A0A', profile_background_image_url='http://abs.twimg.com/images/themes/theme1/bg.png', profile_background_image_url_https='https://abs.twimg.com/images/themes/theme1/bg.png', profile_background_tile=False, profile_image_url='http://pbs.twimg.com/profile_images/1554667871153795072/e2fcTMNg_normal.jpg', profile_image_url_https='https://pbs.twimg.com/profile_images/1554667871153795072/e2fcTMNg_normal.jpg', profile_banner_url='https://pbs.twimg.com/profile_banners/209663295/1657386225', profile_link_color='981CEB', profile_sidebar_border_color='C0DEED', profile_sidebar_fill_color='DDEEF6', profile_text_color='200C63', profile_use_background_image=False, has_extended_profile=True, default_profile=False, default_profile_image=False, following=False, follow_request_sent=None, notifications=None, translator_type='none', withheld_in_countries=[]), user=User(_api=<tweepy.api.API object at 0x00000222E2747AC0>, _json={'id': 209663295, 'id_str': '209663295', 'name': 'Gaurav Agrawal', 'screen_name': 'GauravAgrawaal', 'location': 'India', 'description': 'Media Personality @Tv9Bharatvarsh', 'url': 'https://t.co/9nJD3PiKAG', 'entities': {'url': {'urls': [{'url': 'https://t.co/9nJD3PiKAG', 'expanded_url': 'https://www.tv9hindi.com/author/gaurav', 'display_url': 'tv9hindi.com/author/gaurav', 'indices': [0, 23]}]}, 'description': {'urls': []}}, 'protected': False, 'followers_count': 5738, 'friends_count': 1405, 'listed_count': 17, 'created_at': 'Fri Oct 29 17:00:55 +0000 2010', 'favourites_count': 22124, 'utc_offset': None, 'time_zone': None, 'geo_enabled': True, 'verified': True, 'statuses_count': 16347, 'lang': None, 'contributors_enabled': False, 'is_translator': False, 'is_translation_enabled': False, 'profile_background_color': '7A7A0A', 'profile_background_image_url': 'http://abs.twimg.com/images/themes/theme1/bg.png', 'profile_background_image_url_https': 'https://abs.twimg.com/images/themes/theme1/bg.png', 'profile_background_tile': False, 'profile_image_url': 'http://pbs.twimg.com/profile_images/1554667871153795072/e2fcTMNg_normal.jpg', 'profile_image_url_https': 'https://pbs.twimg.com/profile_images/1554667871153795072/e2fcTMNg_normal.jpg', 'profile_banner_url': 'https://pbs.twimg.com/profile_banners/209663295/1657386225', 'profile_link_color': '981CEB', 'profile_sidebar_border_color': 'C0DEED', 'profile_sidebar_fill_color': 'DDEEF6', 'profile_text_color': '200C63', 'profile_use_background_image': False, 'has_extended_profile': True, 'default_profile': False, 'default_profile_image': False, 'following': None, 'follow_request_sent': None, 'notifications': None, 'translator_type': 'none', 'withheld_in_countries': []}, id=209663295, id_str='209663295', name='Gaurav Agrawal', screen_name='GauravAgrawaal', location='India', description='Media Personality @Tv9Bharatvarsh', url='https://t.co/9nJD3PiKAG', entities={'url': {'urls': [{'url': 'https://t.co/9nJD3PiKAG', 'expanded_url': 'https://www.tv9hindi.com/author/gaurav', 'display_url': 'tv9hindi.com/author/gaurav', 'indices': [0, 23]}]}, 'description': {'urls': []}}, protected=False, followers_count=5738, friends_count=1405, listed_count=17, created_at=datetime.datetime(2010, 10, 29, 17, 0, 55, tzinfo=datetime.timezone.utc), favourites_count=22124, utc_offset=None, time_zone=None, geo_enabled=True, verified=True, statuses_count=16347, lang=None, contributors_enabled=False, is_translator=False, is_translation_enabled=False, profile_background_color='7A7A0A', profile_background_image_url='http://abs.twimg.com/images/themes/theme1/bg.png', profile_background_image_url_https='https://abs.twimg.com/images/themes/theme1/bg.png', profile_background_tile=False, profile_image_url='http://pbs.twimg.com/profile_images/1554667871153795072/e2fcTMNg_normal.jpg', profile_image_url_https='https://pbs.twimg.com/profile_images/1554667871153795072/e2fcTMNg_normal.jpg', profile_banner_url='https://pbs.twimg.com/profile_banners/209663295/1657386225', profile_link_color='981CEB', profile_sidebar_border_color='C0DEED', profile_sidebar_fill_color='DDEEF6', profile_text_color='200C63', profile_use_background_image=False, has_extended_profile=True, default_profile=False, default_profile_image=False, following=False, follow_request_sent=None, notifications=None, translator_type='none', withheld_in_countries=[]), geo=None, coordinates=None, place=None, contributors=None, is_quote_status=False, retweet_count=47, favorite_count=108, favorited=False, retweeted=False, possibly_sensitive=False, lang='hi'), is_quote_status=False, retweet_count=47, favorite_count=0, favorited=False, retweeted=False, lang='hi')\n"
     ]
    },
    {
     "ename": "TypeError",
     "evalue": "string indices must be integers",
     "output_type": "error",
     "traceback": [
      "\u001b[1;31m---------------------------------------------------------------------------\u001b[0m",
      "\u001b[1;31mTypeError\u001b[0m                                 Traceback (most recent call last)",
      "\u001b[1;32m~\\AppData\\Local\\Temp/ipykernel_24884/2446378316.py\u001b[0m in \u001b[0;36m<module>\u001b[1;34m\u001b[0m\n\u001b[0;32m      1\u001b[0m \u001b[1;32mfor\u001b[0m \u001b[0mtweet\u001b[0m \u001b[1;32min\u001b[0m \u001b[0mtweets\u001b[0m\u001b[1;33m:\u001b[0m\u001b[1;33m\u001b[0m\u001b[1;33m\u001b[0m\u001b[0m\n\u001b[0;32m      2\u001b[0m     \u001b[0mprint\u001b[0m\u001b[1;33m(\u001b[0m\u001b[0mtweet\u001b[0m\u001b[1;33m)\u001b[0m\u001b[1;33m\u001b[0m\u001b[1;33m\u001b[0m\u001b[0m\n\u001b[1;32m----> 3\u001b[1;33m     \u001b[0mdata\u001b[0m\u001b[1;33m.\u001b[0m\u001b[0mappend\u001b[0m\u001b[1;33m(\u001b[0m\u001b[1;33m[\u001b[0m\u001b[0mtweet\u001b[0m\u001b[1;33m.\u001b[0m\u001b[0muser\u001b[0m\u001b[1;33m.\u001b[0m\u001b[0mscreen_name\u001b[0m\u001b[1;33m,\u001b[0m \u001b[0mtweet\u001b[0m\u001b[1;33m.\u001b[0m\u001b[0muser\u001b[0m\u001b[1;33m.\u001b[0m\u001b[0mname\u001b[0m\u001b[1;33m,\u001b[0m \u001b[0mtweet\u001b[0m\u001b[1;33m.\u001b[0m\u001b[0mfull_text\u001b[0m\u001b[1;33m,\u001b[0m \u001b[1;33m[\u001b[0m\u001b[0mm\u001b[0m\u001b[1;33m[\u001b[0m\u001b[1;34m'Mentions'\u001b[0m\u001b[1;33m]\u001b[0m\u001b[1;33m[\u001b[0m\u001b[1;36m0\u001b[0m\u001b[1;33m]\u001b[0m\u001b[1;33m[\u001b[0m\u001b[1;34m'user_mentions'\u001b[0m\u001b[1;33m]\u001b[0m\u001b[1;33m[\u001b[0m\u001b[1;36m0\u001b[0m\u001b[1;33m]\u001b[0m\u001b[1;33m[\u001b[0m\u001b[1;34m'screen_name'\u001b[0m\u001b[1;33m]\u001b[0m \u001b[1;32mfor\u001b[0m \u001b[0mm\u001b[0m \u001b[1;32min\u001b[0m \u001b[0mtweet\u001b[0m\u001b[1;33m.\u001b[0m\u001b[0mentities\u001b[0m\u001b[1;33m]\u001b[0m\u001b[1;33m]\u001b[0m\u001b[1;33m)\u001b[0m\u001b[1;33m\u001b[0m\u001b[1;33m\u001b[0m\u001b[0m\n\u001b[0m",
      "\u001b[1;32m~\\AppData\\Local\\Temp/ipykernel_24884/2446378316.py\u001b[0m in \u001b[0;36m<listcomp>\u001b[1;34m(.0)\u001b[0m\n\u001b[0;32m      1\u001b[0m \u001b[1;32mfor\u001b[0m \u001b[0mtweet\u001b[0m \u001b[1;32min\u001b[0m \u001b[0mtweets\u001b[0m\u001b[1;33m:\u001b[0m\u001b[1;33m\u001b[0m\u001b[1;33m\u001b[0m\u001b[0m\n\u001b[0;32m      2\u001b[0m     \u001b[0mprint\u001b[0m\u001b[1;33m(\u001b[0m\u001b[0mtweet\u001b[0m\u001b[1;33m)\u001b[0m\u001b[1;33m\u001b[0m\u001b[1;33m\u001b[0m\u001b[0m\n\u001b[1;32m----> 3\u001b[1;33m     \u001b[0mdata\u001b[0m\u001b[1;33m.\u001b[0m\u001b[0mappend\u001b[0m\u001b[1;33m(\u001b[0m\u001b[1;33m[\u001b[0m\u001b[0mtweet\u001b[0m\u001b[1;33m.\u001b[0m\u001b[0muser\u001b[0m\u001b[1;33m.\u001b[0m\u001b[0mscreen_name\u001b[0m\u001b[1;33m,\u001b[0m \u001b[0mtweet\u001b[0m\u001b[1;33m.\u001b[0m\u001b[0muser\u001b[0m\u001b[1;33m.\u001b[0m\u001b[0mname\u001b[0m\u001b[1;33m,\u001b[0m \u001b[0mtweet\u001b[0m\u001b[1;33m.\u001b[0m\u001b[0mfull_text\u001b[0m\u001b[1;33m,\u001b[0m \u001b[1;33m[\u001b[0m\u001b[0mm\u001b[0m\u001b[1;33m[\u001b[0m\u001b[1;34m'Mentions'\u001b[0m\u001b[1;33m]\u001b[0m\u001b[1;33m[\u001b[0m\u001b[1;36m0\u001b[0m\u001b[1;33m]\u001b[0m\u001b[1;33m[\u001b[0m\u001b[1;34m'user_mentions'\u001b[0m\u001b[1;33m]\u001b[0m\u001b[1;33m[\u001b[0m\u001b[1;36m0\u001b[0m\u001b[1;33m]\u001b[0m\u001b[1;33m[\u001b[0m\u001b[1;34m'screen_name'\u001b[0m\u001b[1;33m]\u001b[0m \u001b[1;32mfor\u001b[0m \u001b[0mm\u001b[0m \u001b[1;32min\u001b[0m \u001b[0mtweet\u001b[0m\u001b[1;33m.\u001b[0m\u001b[0mentities\u001b[0m\u001b[1;33m]\u001b[0m\u001b[1;33m]\u001b[0m\u001b[1;33m)\u001b[0m\u001b[1;33m\u001b[0m\u001b[1;33m\u001b[0m\u001b[0m\n\u001b[0m",
      "\u001b[1;31mTypeError\u001b[0m: string indices must be integers"
     ]
    }
   ],
   "source": [
    "for tweet in tweets:\n",
    "    print(tweet)\n",
    "    data.append([tweet.user.screen_name, tweet.user.name, tweet.full_text, [m[0['Mentions'][0]['user_mentions'][0]['screen_name'] for m in tweet.entities]])"
   ]
  },
  {
   "cell_type": "code",
   "execution_count": null,
   "id": "f2bbcaf4",
   "metadata": {},
   "outputs": [],
   "source": [
    "df = pd.DataFrame(data, columns=columns)\n",
    "df"
   ]
  }
 ],
 "metadata": {
  "kernelspec": {
   "display_name": "Python 3 (ipykernel)",
   "language": "python",
   "name": "python3"
  },
  "language_info": {
   "codemirror_mode": {
    "name": "ipython",
    "version": 3
   },
   "file_extension": ".py",
   "mimetype": "text/x-python",
   "name": "python",
   "nbconvert_exporter": "python",
   "pygments_lexer": "ipython3",
   "version": "3.9.13"
  }
 },
 "nbformat": 4,
 "nbformat_minor": 5
}
