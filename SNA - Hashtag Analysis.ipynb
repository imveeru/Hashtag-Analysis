{
 "cells": [
  {
   "cell_type": "code",
   "execution_count": 67,
   "id": "d3a2c643",
   "metadata": {},
   "outputs": [],
   "source": [
    "import tweepy\n",
    "import configparser\n",
    "import pandas as pd"
   ]
  },
  {
   "cell_type": "code",
   "execution_count": 68,
   "id": "2efad5a2",
   "metadata": {},
   "outputs": [
    {
     "data": {
      "text/plain": [
       "['config.ini']"
      ]
     },
     "execution_count": 68,
     "metadata": {},
     "output_type": "execute_result"
    }
   ],
   "source": [
    "config = configparser.ConfigParser()\n",
    "config.read('config.ini')"
   ]
  },
  {
   "cell_type": "code",
   "execution_count": 69,
   "id": "6db0eade",
   "metadata": {},
   "outputs": [],
   "source": [
    "api_key = config['twitter']['api_key']\n",
    "api_key_secret = config['twitter']['api_key_secret']"
   ]
  },
  {
   "cell_type": "code",
   "execution_count": 70,
   "id": "98673dd3",
   "metadata": {},
   "outputs": [],
   "source": [
    "auth = tweepy.OAuth2AppHandler(\n",
    "    api_key ,\n",
    "    api_key_secret\n",
    ")\n",
    "api = tweepy.API(auth)"
   ]
  },
  {
   "cell_type": "code",
   "execution_count": 142,
   "id": "da110812",
   "metadata": {},
   "outputs": [],
   "source": [
    "keywords = '#HarGharTiranga'\n",
    "limit=1"
   ]
  },
  {
   "cell_type": "code",
   "execution_count": 205,
   "id": "3a0189c6",
   "metadata": {},
   "outputs": [],
   "source": [
    "tweets = tweepy.Cursor(api.search_tweets, q=keywords, count=100, tweet_mode='extended').items(limit)"
   ]
  },
  {
   "cell_type": "code",
   "execution_count": 200,
   "id": "7949635f",
   "metadata": {},
   "outputs": [
    {
     "data": {
      "text/plain": [
       "<tweepy.cursor.ItemIterator at 0x222eb8410d0>"
      ]
     },
     "execution_count": 200,
     "metadata": {},
     "output_type": "execute_result"
    }
   ],
   "source": [
    "tweets"
   ]
  },
  {
   "cell_type": "code",
   "execution_count": 201,
   "id": "09dca9ee",
   "metadata": {},
   "outputs": [],
   "source": [
    "columns = ['UserID', 'Name', 'Tweet', 'Mentions']\n",
    "data = []"
   ]
  },
  {
   "cell_type": "code",
   "execution_count": 206,
   "id": "6e23103e",
   "metadata": {
    "scrolled": false
   },
   "outputs": [
    {
     "name": "stdout",
     "output_type": "stream",
     "text": [
      "Status(_api=<tweepy.api.API object at 0x00000222E2747AC0>, _json={'created_at': 'Fri Aug 12 21:13:21 +0000 2022', 'id': 1558199985703100416, 'id_str': '1558199985703100416', 'full_text': 'RT @ChairmanKvic: श्री गांधी आश्रम तिरंगा की समय पर आपूर्ति के लिए प्रतिबद्घ है और लगातार कार्य कर रहे है। 3/3\\n\\n#HarGharTiranga #Khadi', 'truncated': False, 'display_text_range': [0, 134], 'entities': {'hashtags': [{'text': 'HarGharTiranga', 'indices': [112, 127]}, {'text': 'Khadi', 'indices': [128, 134]}], 'symbols': [], 'user_mentions': [{'screen_name': 'ChairmanKvic', 'name': 'Chairman, KVIC', 'id': 4446051765, 'id_str': '4446051765', 'indices': [3, 16]}], 'urls': []}, 'metadata': {'iso_language_code': 'hi', 'result_type': 'recent'}, 'source': '<a href=\"https://mobile.twitter.com\" rel=\"nofollow\">Twitter Web App</a>', 'in_reply_to_status_id': None, 'in_reply_to_status_id_str': None, 'in_reply_to_user_id': None, 'in_reply_to_user_id_str': None, 'in_reply_to_screen_name': None, 'user': {'id': 1407287627351420928, 'id_str': '1407287627351420928', 'name': 'अनुज नाग भाजपाई', 'screen_name': 'Anujnagbjp', 'location': 'Varanasi, India', 'description': 'राष्ट्र प्रथम🇮🇳//केवल कमल🌷//भारत बन रहा विश्वगुरु🚩', 'url': 'https://t.co/zS34kuuMbC', 'entities': {'url': {'urls': [{'url': 'https://t.co/zS34kuuMbC', 'expanded_url': 'http://bjp.org', 'display_url': 'bjp.org', 'indices': [0, 23]}]}, 'description': {'urls': []}}, 'protected': False, 'followers_count': 249, 'friends_count': 266, 'listed_count': 0, 'created_at': 'Tue Jun 22 10:42:21 +0000 2021', 'favourites_count': 25549, 'utc_offset': None, 'time_zone': None, 'geo_enabled': False, 'verified': False, 'statuses_count': 64692, 'lang': None, 'contributors_enabled': False, 'is_translator': False, 'is_translation_enabled': False, 'profile_background_color': 'F5F8FA', 'profile_background_image_url': None, 'profile_background_image_url_https': None, 'profile_background_tile': False, 'profile_image_url': 'http://pbs.twimg.com/profile_images/1418374100553138179/1aI3V4Db_normal.jpg', 'profile_image_url_https': 'https://pbs.twimg.com/profile_images/1418374100553138179/1aI3V4Db_normal.jpg', 'profile_banner_url': 'https://pbs.twimg.com/profile_banners/1407287627351420928/1637266604', 'profile_link_color': '1DA1F2', 'profile_sidebar_border_color': 'C0DEED', 'profile_sidebar_fill_color': 'DDEEF6', 'profile_text_color': '333333', 'profile_use_background_image': True, 'has_extended_profile': True, 'default_profile': True, 'default_profile_image': False, 'following': None, 'follow_request_sent': None, 'notifications': None, 'translator_type': 'none', 'withheld_in_countries': []}, 'geo': None, 'coordinates': None, 'place': None, 'contributors': None, 'retweeted_status': {'created_at': 'Fri Aug 12 07:12:54 +0000 2022', 'id': 1557988482370326529, 'id_str': '1557988482370326529', 'full_text': 'श्री गांधी आश्रम तिरंगा की समय पर आपूर्ति के लिए प्रतिबद्घ है और लगातार कार्य कर रहे है। 3/3\\n\\n#HarGharTiranga #Khadi', 'truncated': False, 'display_text_range': [0, 116], 'entities': {'hashtags': [{'text': 'HarGharTiranga', 'indices': [94, 109]}, {'text': 'Khadi', 'indices': [110, 116]}], 'symbols': [], 'user_mentions': [], 'urls': []}, 'metadata': {'iso_language_code': 'hi', 'result_type': 'recent'}, 'source': '<a href=\"https://mobile.twitter.com\" rel=\"nofollow\">Twitter Web App</a>', 'in_reply_to_status_id': 1557988480113733634, 'in_reply_to_status_id_str': '1557988480113733634', 'in_reply_to_user_id': 4446051765, 'in_reply_to_user_id_str': '4446051765', 'in_reply_to_screen_name': 'ChairmanKvic', 'user': {'id': 4446051765, 'id_str': '4446051765', 'name': 'Chairman, KVIC', 'screen_name': 'ChairmanKvic', 'location': 'New Delhi', 'description': 'Chairman, KVIC', 'url': None, 'entities': {'description': {'urls': []}}, 'protected': False, 'followers_count': 8806, 'friends_count': 53, 'listed_count': 29, 'created_at': 'Fri Dec 11 07:33:40 +0000 2015', 'favourites_count': 820, 'utc_offset': None, 'time_zone': None, 'geo_enabled': False, 'verified': True, 'statuses_count': 1941, 'lang': None, 'contributors_enabled': False, 'is_translator': False, 'is_translation_enabled': False, 'profile_background_color': '000000', 'profile_background_image_url': 'http://abs.twimg.com/images/themes/theme1/bg.png', 'profile_background_image_url_https': 'https://abs.twimg.com/images/themes/theme1/bg.png', 'profile_background_tile': False, 'profile_image_url': 'http://pbs.twimg.com/profile_images/1554307758672920577/uqgc90kE_normal.jpg', 'profile_image_url_https': 'https://pbs.twimg.com/profile_images/1554307758672920577/uqgc90kE_normal.jpg', 'profile_banner_url': 'https://pbs.twimg.com/profile_banners/4446051765/1600581191', 'profile_link_color': '9266CC', 'profile_sidebar_border_color': '000000', 'profile_sidebar_fill_color': '000000', 'profile_text_color': '000000', 'profile_use_background_image': False, 'has_extended_profile': False, 'default_profile': False, 'default_profile_image': False, 'following': None, 'follow_request_sent': None, 'notifications': None, 'translator_type': 'none', 'withheld_in_countries': []}, 'geo': None, 'coordinates': None, 'place': None, 'contributors': None, 'is_quote_status': False, 'retweet_count': 122, 'favorite_count': 24, 'favorited': False, 'retweeted': False, 'lang': 'hi'}, 'is_quote_status': False, 'retweet_count': 122, 'favorite_count': 0, 'favorited': False, 'retweeted': False, 'lang': 'hi'}, created_at=datetime.datetime(2022, 8, 12, 21, 13, 21, tzinfo=datetime.timezone.utc), id=1558199985703100416, id_str='1558199985703100416', full_text='RT @ChairmanKvic: श्री गांधी आश्रम तिरंगा की समय पर आपूर्ति के लिए प्रतिबद्घ है और लगातार कार्य कर रहे है। 3/3\\n\\n#HarGharTiranga #Khadi', truncated=False, display_text_range=[0, 134], entities={'hashtags': [{'text': 'HarGharTiranga', 'indices': [112, 127]}, {'text': 'Khadi', 'indices': [128, 134]}], 'symbols': [], 'user_mentions': [{'screen_name': 'ChairmanKvic', 'name': 'Chairman, KVIC', 'id': 4446051765, 'id_str': '4446051765', 'indices': [3, 16]}], 'urls': []}, metadata={'iso_language_code': 'hi', 'result_type': 'recent'}, source='Twitter Web App', source_url='https://mobile.twitter.com', in_reply_to_status_id=None, in_reply_to_status_id_str=None, in_reply_to_user_id=None, in_reply_to_user_id_str=None, in_reply_to_screen_name=None, author=User(_api=<tweepy.api.API object at 0x00000222E2747AC0>, _json={'id': 1407287627351420928, 'id_str': '1407287627351420928', 'name': 'अनुज नाग भाजपाई', 'screen_name': 'Anujnagbjp', 'location': 'Varanasi, India', 'description': 'राष्ट्र प्रथम🇮🇳//केवल कमल🌷//भारत बन रहा विश्वगुरु🚩', 'url': 'https://t.co/zS34kuuMbC', 'entities': {'url': {'urls': [{'url': 'https://t.co/zS34kuuMbC', 'expanded_url': 'http://bjp.org', 'display_url': 'bjp.org', 'indices': [0, 23]}]}, 'description': {'urls': []}}, 'protected': False, 'followers_count': 249, 'friends_count': 266, 'listed_count': 0, 'created_at': 'Tue Jun 22 10:42:21 +0000 2021', 'favourites_count': 25549, 'utc_offset': None, 'time_zone': None, 'geo_enabled': False, 'verified': False, 'statuses_count': 64692, 'lang': None, 'contributors_enabled': False, 'is_translator': False, 'is_translation_enabled': False, 'profile_background_color': 'F5F8FA', 'profile_background_image_url': None, 'profile_background_image_url_https': None, 'profile_background_tile': False, 'profile_image_url': 'http://pbs.twimg.com/profile_images/1418374100553138179/1aI3V4Db_normal.jpg', 'profile_image_url_https': 'https://pbs.twimg.com/profile_images/1418374100553138179/1aI3V4Db_normal.jpg', 'profile_banner_url': 'https://pbs.twimg.com/profile_banners/1407287627351420928/1637266604', 'profile_link_color': '1DA1F2', 'profile_sidebar_border_color': 'C0DEED', 'profile_sidebar_fill_color': 'DDEEF6', 'profile_text_color': '333333', 'profile_use_background_image': True, 'has_extended_profile': True, 'default_profile': True, 'default_profile_image': False, 'following': None, 'follow_request_sent': None, 'notifications': None, 'translator_type': 'none', 'withheld_in_countries': []}, id=1407287627351420928, id_str='1407287627351420928', name='अनुज नाग भाजपाई', screen_name='Anujnagbjp', location='Varanasi, India', description='राष्ट्र प्रथम🇮🇳//केवल कमल🌷//भारत बन रहा विश्वगुरु🚩', url='https://t.co/zS34kuuMbC', entities={'url': {'urls': [{'url': 'https://t.co/zS34kuuMbC', 'expanded_url': 'http://bjp.org', 'display_url': 'bjp.org', 'indices': [0, 23]}]}, 'description': {'urls': []}}, protected=False, followers_count=249, friends_count=266, listed_count=0, created_at=datetime.datetime(2021, 6, 22, 10, 42, 21, tzinfo=datetime.timezone.utc), favourites_count=25549, utc_offset=None, time_zone=None, geo_enabled=False, verified=False, statuses_count=64692, lang=None, contributors_enabled=False, is_translator=False, is_translation_enabled=False, profile_background_color='F5F8FA', profile_background_image_url=None, profile_background_image_url_https=None, profile_background_tile=False, profile_image_url='http://pbs.twimg.com/profile_images/1418374100553138179/1aI3V4Db_normal.jpg', profile_image_url_https='https://pbs.twimg.com/profile_images/1418374100553138179/1aI3V4Db_normal.jpg', profile_banner_url='https://pbs.twimg.com/profile_banners/1407287627351420928/1637266604', profile_link_color='1DA1F2', profile_sidebar_border_color='C0DEED', profile_sidebar_fill_color='DDEEF6', profile_text_color='333333', profile_use_background_image=True, has_extended_profile=True, default_profile=True, default_profile_image=False, following=False, follow_request_sent=None, notifications=None, translator_type='none', withheld_in_countries=[]), user=User(_api=<tweepy.api.API object at 0x00000222E2747AC0>, _json={'id': 1407287627351420928, 'id_str': '1407287627351420928', 'name': 'अनुज नाग भाजपाई', 'screen_name': 'Anujnagbjp', 'location': 'Varanasi, India', 'description': 'राष्ट्र प्रथम🇮🇳//केवल कमल🌷//भारत बन रहा विश्वगुरु🚩', 'url': 'https://t.co/zS34kuuMbC', 'entities': {'url': {'urls': [{'url': 'https://t.co/zS34kuuMbC', 'expanded_url': 'http://bjp.org', 'display_url': 'bjp.org', 'indices': [0, 23]}]}, 'description': {'urls': []}}, 'protected': False, 'followers_count': 249, 'friends_count': 266, 'listed_count': 0, 'created_at': 'Tue Jun 22 10:42:21 +0000 2021', 'favourites_count': 25549, 'utc_offset': None, 'time_zone': None, 'geo_enabled': False, 'verified': False, 'statuses_count': 64692, 'lang': None, 'contributors_enabled': False, 'is_translator': False, 'is_translation_enabled': False, 'profile_background_color': 'F5F8FA', 'profile_background_image_url': None, 'profile_background_image_url_https': None, 'profile_background_tile': False, 'profile_image_url': 'http://pbs.twimg.com/profile_images/1418374100553138179/1aI3V4Db_normal.jpg', 'profile_image_url_https': 'https://pbs.twimg.com/profile_images/1418374100553138179/1aI3V4Db_normal.jpg', 'profile_banner_url': 'https://pbs.twimg.com/profile_banners/1407287627351420928/1637266604', 'profile_link_color': '1DA1F2', 'profile_sidebar_border_color': 'C0DEED', 'profile_sidebar_fill_color': 'DDEEF6', 'profile_text_color': '333333', 'profile_use_background_image': True, 'has_extended_profile': True, 'default_profile': True, 'default_profile_image': False, 'following': None, 'follow_request_sent': None, 'notifications': None, 'translator_type': 'none', 'withheld_in_countries': []}, id=1407287627351420928, id_str='1407287627351420928', name='अनुज नाग भाजपाई', screen_name='Anujnagbjp', location='Varanasi, India', description='राष्ट्र प्रथम🇮🇳//केवल कमल🌷//भारत बन रहा विश्वगुरु🚩', url='https://t.co/zS34kuuMbC', entities={'url': {'urls': [{'url': 'https://t.co/zS34kuuMbC', 'expanded_url': 'http://bjp.org', 'display_url': 'bjp.org', 'indices': [0, 23]}]}, 'description': {'urls': []}}, protected=False, followers_count=249, friends_count=266, listed_count=0, created_at=datetime.datetime(2021, 6, 22, 10, 42, 21, tzinfo=datetime.timezone.utc), favourites_count=25549, utc_offset=None, time_zone=None, geo_enabled=False, verified=False, statuses_count=64692, lang=None, contributors_enabled=False, is_translator=False, is_translation_enabled=False, profile_background_color='F5F8FA', profile_background_image_url=None, profile_background_image_url_https=None, profile_background_tile=False, profile_image_url='http://pbs.twimg.com/profile_images/1418374100553138179/1aI3V4Db_normal.jpg', profile_image_url_https='https://pbs.twimg.com/profile_images/1418374100553138179/1aI3V4Db_normal.jpg', profile_banner_url='https://pbs.twimg.com/profile_banners/1407287627351420928/1637266604', profile_link_color='1DA1F2', profile_sidebar_border_color='C0DEED', profile_sidebar_fill_color='DDEEF6', profile_text_color='333333', profile_use_background_image=True, has_extended_profile=True, default_profile=True, default_profile_image=False, following=False, follow_request_sent=None, notifications=None, translator_type='none', withheld_in_countries=[]), geo=None, coordinates=None, place=None, contributors=None, retweeted_status=Status(_api=<tweepy.api.API object at 0x00000222E2747AC0>, _json={'created_at': 'Fri Aug 12 07:12:54 +0000 2022', 'id': 1557988482370326529, 'id_str': '1557988482370326529', 'full_text': 'श्री गांधी आश्रम तिरंगा की समय पर आपूर्ति के लिए प्रतिबद्घ है और लगातार कार्य कर रहे है। 3/3\\n\\n#HarGharTiranga #Khadi', 'truncated': False, 'display_text_range': [0, 116], 'entities': {'hashtags': [{'text': 'HarGharTiranga', 'indices': [94, 109]}, {'text': 'Khadi', 'indices': [110, 116]}], 'symbols': [], 'user_mentions': [], 'urls': []}, 'metadata': {'iso_language_code': 'hi', 'result_type': 'recent'}, 'source': '<a href=\"https://mobile.twitter.com\" rel=\"nofollow\">Twitter Web App</a>', 'in_reply_to_status_id': 1557988480113733634, 'in_reply_to_status_id_str': '1557988480113733634', 'in_reply_to_user_id': 4446051765, 'in_reply_to_user_id_str': '4446051765', 'in_reply_to_screen_name': 'ChairmanKvic', 'user': {'id': 4446051765, 'id_str': '4446051765', 'name': 'Chairman, KVIC', 'screen_name': 'ChairmanKvic', 'location': 'New Delhi', 'description': 'Chairman, KVIC', 'url': None, 'entities': {'description': {'urls': []}}, 'protected': False, 'followers_count': 8806, 'friends_count': 53, 'listed_count': 29, 'created_at': 'Fri Dec 11 07:33:40 +0000 2015', 'favourites_count': 820, 'utc_offset': None, 'time_zone': None, 'geo_enabled': False, 'verified': True, 'statuses_count': 1941, 'lang': None, 'contributors_enabled': False, 'is_translator': False, 'is_translation_enabled': False, 'profile_background_color': '000000', 'profile_background_image_url': 'http://abs.twimg.com/images/themes/theme1/bg.png', 'profile_background_image_url_https': 'https://abs.twimg.com/images/themes/theme1/bg.png', 'profile_background_tile': False, 'profile_image_url': 'http://pbs.twimg.com/profile_images/1554307758672920577/uqgc90kE_normal.jpg', 'profile_image_url_https': 'https://pbs.twimg.com/profile_images/1554307758672920577/uqgc90kE_normal.jpg', 'profile_banner_url': 'https://pbs.twimg.com/profile_banners/4446051765/1600581191', 'profile_link_color': '9266CC', 'profile_sidebar_border_color': '000000', 'profile_sidebar_fill_color': '000000', 'profile_text_color': '000000', 'profile_use_background_image': False, 'has_extended_profile': False, 'default_profile': False, 'default_profile_image': False, 'following': None, 'follow_request_sent': None, 'notifications': None, 'translator_type': 'none', 'withheld_in_countries': []}, 'geo': None, 'coordinates': None, 'place': None, 'contributors': None, 'is_quote_status': False, 'retweet_count': 122, 'favorite_count': 24, 'favorited': False, 'retweeted': False, 'lang': 'hi'}, created_at=datetime.datetime(2022, 8, 12, 7, 12, 54, tzinfo=datetime.timezone.utc), id=1557988482370326529, id_str='1557988482370326529', full_text='श्री गांधी आश्रम तिरंगा की समय पर आपूर्ति के लिए प्रतिबद्घ है और लगातार कार्य कर रहे है। 3/3\\n\\n#HarGharTiranga #Khadi', truncated=False, display_text_range=[0, 116], entities={'hashtags': [{'text': 'HarGharTiranga', 'indices': [94, 109]}, {'text': 'Khadi', 'indices': [110, 116]}], 'symbols': [], 'user_mentions': [], 'urls': []}, metadata={'iso_language_code': 'hi', 'result_type': 'recent'}, source='Twitter Web App', source_url='https://mobile.twitter.com', in_reply_to_status_id=1557988480113733634, in_reply_to_status_id_str='1557988480113733634', in_reply_to_user_id=4446051765, in_reply_to_user_id_str='4446051765', in_reply_to_screen_name='ChairmanKvic', author=User(_api=<tweepy.api.API object at 0x00000222E2747AC0>, _json={'id': 4446051765, 'id_str': '4446051765', 'name': 'Chairman, KVIC', 'screen_name': 'ChairmanKvic', 'location': 'New Delhi', 'description': 'Chairman, KVIC', 'url': None, 'entities': {'description': {'urls': []}}, 'protected': False, 'followers_count': 8806, 'friends_count': 53, 'listed_count': 29, 'created_at': 'Fri Dec 11 07:33:40 +0000 2015', 'favourites_count': 820, 'utc_offset': None, 'time_zone': None, 'geo_enabled': False, 'verified': True, 'statuses_count': 1941, 'lang': None, 'contributors_enabled': False, 'is_translator': False, 'is_translation_enabled': False, 'profile_background_color': '000000', 'profile_background_image_url': 'http://abs.twimg.com/images/themes/theme1/bg.png', 'profile_background_image_url_https': 'https://abs.twimg.com/images/themes/theme1/bg.png', 'profile_background_tile': False, 'profile_image_url': 'http://pbs.twimg.com/profile_images/1554307758672920577/uqgc90kE_normal.jpg', 'profile_image_url_https': 'https://pbs.twimg.com/profile_images/1554307758672920577/uqgc90kE_normal.jpg', 'profile_banner_url': 'https://pbs.twimg.com/profile_banners/4446051765/1600581191', 'profile_link_color': '9266CC', 'profile_sidebar_border_color': '000000', 'profile_sidebar_fill_color': '000000', 'profile_text_color': '000000', 'profile_use_background_image': False, 'has_extended_profile': False, 'default_profile': False, 'default_profile_image': False, 'following': None, 'follow_request_sent': None, 'notifications': None, 'translator_type': 'none', 'withheld_in_countries': []}, id=4446051765, id_str='4446051765', name='Chairman, KVIC', screen_name='ChairmanKvic', location='New Delhi', description='Chairman, KVIC', url=None, entities={'description': {'urls': []}}, protected=False, followers_count=8806, friends_count=53, listed_count=29, created_at=datetime.datetime(2015, 12, 11, 7, 33, 40, tzinfo=datetime.timezone.utc), favourites_count=820, utc_offset=None, time_zone=None, geo_enabled=False, verified=True, statuses_count=1941, lang=None, contributors_enabled=False, is_translator=False, is_translation_enabled=False, profile_background_color='000000', profile_background_image_url='http://abs.twimg.com/images/themes/theme1/bg.png', profile_background_image_url_https='https://abs.twimg.com/images/themes/theme1/bg.png', profile_background_tile=False, profile_image_url='http://pbs.twimg.com/profile_images/1554307758672920577/uqgc90kE_normal.jpg', profile_image_url_https='https://pbs.twimg.com/profile_images/1554307758672920577/uqgc90kE_normal.jpg', profile_banner_url='https://pbs.twimg.com/profile_banners/4446051765/1600581191', profile_link_color='9266CC', profile_sidebar_border_color='000000', profile_sidebar_fill_color='000000', profile_text_color='000000', profile_use_background_image=False, has_extended_profile=False, default_profile=False, default_profile_image=False, following=False, follow_request_sent=None, notifications=None, translator_type='none', withheld_in_countries=[]), user=User(_api=<tweepy.api.API object at 0x00000222E2747AC0>, _json={'id': 4446051765, 'id_str': '4446051765', 'name': 'Chairman, KVIC', 'screen_name': 'ChairmanKvic', 'location': 'New Delhi', 'description': 'Chairman, KVIC', 'url': None, 'entities': {'description': {'urls': []}}, 'protected': False, 'followers_count': 8806, 'friends_count': 53, 'listed_count': 29, 'created_at': 'Fri Dec 11 07:33:40 +0000 2015', 'favourites_count': 820, 'utc_offset': None, 'time_zone': None, 'geo_enabled': False, 'verified': True, 'statuses_count': 1941, 'lang': None, 'contributors_enabled': False, 'is_translator': False, 'is_translation_enabled': False, 'profile_background_color': '000000', 'profile_background_image_url': 'http://abs.twimg.com/images/themes/theme1/bg.png', 'profile_background_image_url_https': 'https://abs.twimg.com/images/themes/theme1/bg.png', 'profile_background_tile': False, 'profile_image_url': 'http://pbs.twimg.com/profile_images/1554307758672920577/uqgc90kE_normal.jpg', 'profile_image_url_https': 'https://pbs.twimg.com/profile_images/1554307758672920577/uqgc90kE_normal.jpg', 'profile_banner_url': 'https://pbs.twimg.com/profile_banners/4446051765/1600581191', 'profile_link_color': '9266CC', 'profile_sidebar_border_color': '000000', 'profile_sidebar_fill_color': '000000', 'profile_text_color': '000000', 'profile_use_background_image': False, 'has_extended_profile': False, 'default_profile': False, 'default_profile_image': False, 'following': None, 'follow_request_sent': None, 'notifications': None, 'translator_type': 'none', 'withheld_in_countries': []}, id=4446051765, id_str='4446051765', name='Chairman, KVIC', screen_name='ChairmanKvic', location='New Delhi', description='Chairman, KVIC', url=None, entities={'description': {'urls': []}}, protected=False, followers_count=8806, friends_count=53, listed_count=29, created_at=datetime.datetime(2015, 12, 11, 7, 33, 40, tzinfo=datetime.timezone.utc), favourites_count=820, utc_offset=None, time_zone=None, geo_enabled=False, verified=True, statuses_count=1941, lang=None, contributors_enabled=False, is_translator=False, is_translation_enabled=False, profile_background_color='000000', profile_background_image_url='http://abs.twimg.com/images/themes/theme1/bg.png', profile_background_image_url_https='https://abs.twimg.com/images/themes/theme1/bg.png', profile_background_tile=False, profile_image_url='http://pbs.twimg.com/profile_images/1554307758672920577/uqgc90kE_normal.jpg', profile_image_url_https='https://pbs.twimg.com/profile_images/1554307758672920577/uqgc90kE_normal.jpg', profile_banner_url='https://pbs.twimg.com/profile_banners/4446051765/1600581191', profile_link_color='9266CC', profile_sidebar_border_color='000000', profile_sidebar_fill_color='000000', profile_text_color='000000', profile_use_background_image=False, has_extended_profile=False, default_profile=False, default_profile_image=False, following=False, follow_request_sent=None, notifications=None, translator_type='none', withheld_in_countries=[]), geo=None, coordinates=None, place=None, contributors=None, is_quote_status=False, retweet_count=122, favorite_count=24, favorited=False, retweeted=False, lang='hi'), is_quote_status=False, retweet_count=122, favorite_count=0, favorited=False, retweeted=False, lang='hi')\n"
     ]
    }
   ],
   "source": [
    "for tweet in tweets:\n",
    "    print(tweet)\n",
    "    tweet_mentions=[]\n",
    "    a=tweet.entities\n",
    "#     print(a[0][3]['user_mentions'])\n",
    "    data.append([tweet.user.screen_name, tweet.user.name, tweet.full_text, tweet.entities])"
   ]
  },
  {
   "cell_type": "code",
   "execution_count": 207,
   "id": "921332f1",
   "metadata": {},
   "outputs": [
    {
     "data": {
      "text/html": [
       "<div>\n",
       "<style scoped>\n",
       "    .dataframe tbody tr th:only-of-type {\n",
       "        vertical-align: middle;\n",
       "    }\n",
       "\n",
       "    .dataframe tbody tr th {\n",
       "        vertical-align: top;\n",
       "    }\n",
       "\n",
       "    .dataframe thead th {\n",
       "        text-align: right;\n",
       "    }\n",
       "</style>\n",
       "<table border=\"1\" class=\"dataframe\">\n",
       "  <thead>\n",
       "    <tr style=\"text-align: right;\">\n",
       "      <th></th>\n",
       "      <th>UserID</th>\n",
       "      <th>Name</th>\n",
       "      <th>Tweet</th>\n",
       "      <th>Mentions</th>\n",
       "    </tr>\n",
       "  </thead>\n",
       "  <tbody>\n",
       "    <tr>\n",
       "      <th>0</th>\n",
       "      <td>Anujnagbjp</td>\n",
       "      <td>अनुज नाग भाजपाई</td>\n",
       "      <td>RT @ChairmanKvic: श्री गांधी आश्रम तिरंगा की स...</td>\n",
       "      <td>{'hashtags': [{'text': 'HarGharTiranga', 'indi...</td>\n",
       "    </tr>\n",
       "  </tbody>\n",
       "</table>\n",
       "</div>"
      ],
      "text/plain": [
       "       UserID             Name  \\\n",
       "0  Anujnagbjp  अनुज नाग भाजपाई   \n",
       "\n",
       "                                               Tweet  \\\n",
       "0  RT @ChairmanKvic: श्री गांधी आश्रम तिरंगा की स...   \n",
       "\n",
       "                                            Mentions  \n",
       "0  {'hashtags': [{'text': 'HarGharTiranga', 'indi...  "
      ]
     },
     "execution_count": 207,
     "metadata": {},
     "output_type": "execute_result"
    }
   ],
   "source": [
    "df = pd.DataFrame(data, columns=columns)\n",
    "df"
   ]
  },
  {
   "cell_type": "code",
   "execution_count": 210,
   "id": "7ce9ff87",
   "metadata": {},
   "outputs": [
    {
     "data": {
      "text/plain": [
       "[['Anujnagbjp',\n",
       "  'अनुज नाग भाजपाई',\n",
       "  'RT @ChairmanKvic: श्री गांधी आश्रम तिरंगा की समय पर आपूर्ति के लिए प्रतिबद्घ है और लगातार कार्य कर रहे है। 3/3\\n\\n#HarGharTiranga #Khadi',\n",
       "  {'hashtags': [{'text': 'HarGharTiranga', 'indices': [112, 127]},\n",
       "    {'text': 'Khadi', 'indices': [128, 134]}],\n",
       "   'symbols': [],\n",
       "   'user_mentions': [{'screen_name': 'ChairmanKvic',\n",
       "     'name': 'Chairman, KVIC',\n",
       "     'id': 4446051765,\n",
       "     'id_str': '4446051765',\n",
       "     'indices': [3, 16]}],\n",
       "   'urls': []}]]"
      ]
     },
     "execution_count": 210,
     "metadata": {},
     "output_type": "execute_result"
    }
   ],
   "source": [
    "data"
   ]
  },
  {
   "cell_type": "code",
   "execution_count": 209,
   "id": "d5a4e3b8",
   "metadata": {},
   "outputs": [
    {
     "data": {
      "text/plain": [
       "[{'screen_name': 'ChairmanKvic',\n",
       "  'name': 'Chairman, KVIC',\n",
       "  'id': 4446051765,\n",
       "  'id_str': '4446051765',\n",
       "  'indices': [3, 16]}]"
      ]
     },
     "execution_count": 209,
     "metadata": {},
     "output_type": "execute_result"
    }
   ],
   "source": [
    "data[0][3]['user_mentions']"
   ]
  }
 ],
 "metadata": {
  "kernelspec": {
   "display_name": "Python 3 (ipykernel)",
   "language": "python",
   "name": "python3"
  },
  "language_info": {
   "codemirror_mode": {
    "name": "ipython",
    "version": 3
   },
   "file_extension": ".py",
   "mimetype": "text/x-python",
   "name": "python",
   "nbconvert_exporter": "python",
   "pygments_lexer": "ipython3",
   "version": "3.9.13"
  }
 },
 "nbformat": 4,
 "nbformat_minor": 5
}
