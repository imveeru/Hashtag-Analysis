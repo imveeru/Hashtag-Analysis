{
 "cells": [
  {
   "cell_type": "markdown",
   "id": "7fc8257a",
   "metadata": {},
   "source": [
    "# Hashtag Analysis"
   ]
  },
  {
   "cell_type": "markdown",
   "id": "428115ef",
   "metadata": {},
   "source": [
    "## Importing Packages"
   ]
  },
  {
   "cell_type": "code",
   "execution_count": 233,
   "id": "d3a2c643",
   "metadata": {},
   "outputs": [],
   "source": [
    "import tweepy\n",
    "import configparser\n",
    "import pandas as pd"
   ]
  },
  {
   "cell_type": "markdown",
   "id": "77ecbda0",
   "metadata": {},
   "source": [
    "## Initial Configurations"
   ]
  },
  {
   "cell_type": "code",
   "execution_count": 234,
   "id": "2efad5a2",
   "metadata": {},
   "outputs": [
    {
     "data": {
      "text/plain": [
       "['config.ini']"
      ]
     },
     "execution_count": 234,
     "metadata": {},
     "output_type": "execute_result"
    }
   ],
   "source": [
    "config = configparser.ConfigParser()\n",
    "config.read('config.ini')"
   ]
  },
  {
   "cell_type": "code",
   "execution_count": 235,
   "id": "6db0eade",
   "metadata": {},
   "outputs": [],
   "source": [
    "api_key = config['twitter']['api_key']\n",
    "api_key_secret = config['twitter']['api_key_secret']"
   ]
  },
  {
   "cell_type": "code",
   "execution_count": 236,
   "id": "98673dd3",
   "metadata": {
    "scrolled": false
   },
   "outputs": [],
   "source": [
    "auth = tweepy.OAuth2AppHandler(\n",
    "    api_key ,\n",
    "    api_key_secret\n",
    ")\n",
    "api = tweepy.API(auth)"
   ]
  },
  {
   "cell_type": "markdown",
   "id": "0c131204",
   "metadata": {},
   "source": [
    "## Fetching Data"
   ]
  },
  {
   "cell_type": "code",
   "execution_count": 237,
   "id": "da110812",
   "metadata": {},
   "outputs": [],
   "source": [
    "keywords = '#HarGharTiranga'\n",
    "limit=1"
   ]
  },
  {
   "cell_type": "code",
   "execution_count": 238,
   "id": "3a0189c6",
   "metadata": {},
   "outputs": [],
   "source": [
    "tweets = tweepy.Cursor(api.search_tweets, q=keywords, count=100, tweet_mode='extended').items(limit)"
   ]
  },
  {
   "cell_type": "code",
   "execution_count": 239,
   "id": "7949635f",
   "metadata": {},
   "outputs": [
    {
     "data": {
      "text/plain": [
       "<tweepy.cursor.ItemIterator at 0x280adab2910>"
      ]
     },
     "execution_count": 239,
     "metadata": {},
     "output_type": "execute_result"
    }
   ],
   "source": [
    "tweets"
   ]
  },
  {
   "cell_type": "code",
   "execution_count": 240,
   "id": "09dca9ee",
   "metadata": {},
   "outputs": [],
   "source": [
    "columns = ['UserID', 'Name', 'Tweet', 'Mentions','Created At','Retweet']\n",
    "data = []"
   ]
  },
  {
   "cell_type": "code",
   "execution_count": 241,
   "id": "6e23103e",
   "metadata": {
    "scrolled": true
   },
   "outputs": [
    {
     "name": "stdout",
     "output_type": "stream",
     "text": [
      "Status(_api=<tweepy.api.API object at 0x00000280AC7F38B0>, _json={'created_at': 'Fri Aug 19 15:10:38 +0000 2022', 'id': 1560645422687092742, 'id_str': '1560645422687092742', 'full_text': 'RT @centralbank_in: Buy your dream house with the convenient and low-interest Cent Home loans.\\n\\n#HomeLoans\\n#HarGharTiranga\\n#AzadiKaAmritMah…', 'truncated': False, 'display_text_range': [0, 140], 'entities': {'hashtags': [{'text': 'HomeLoans', 'indices': [96, 106]}, {'text': 'HarGharTiranga', 'indices': [107, 122]}], 'symbols': [], 'user_mentions': [{'screen_name': 'centralbank_in', 'name': 'Central Bank of India', 'id': 2801707687, 'id_str': '2801707687', 'indices': [3, 18]}], 'urls': []}, 'metadata': {'iso_language_code': 'en', 'result_type': 'recent'}, 'source': '<a href=\"http://twitter.com/download/iphone\" rel=\"nofollow\">Twitter for iPhone</a>', 'in_reply_to_status_id': None, 'in_reply_to_status_id_str': None, 'in_reply_to_user_id': None, 'in_reply_to_user_id_str': None, 'in_reply_to_screen_name': None, 'user': {'id': 741917311297302528, 'id_str': '741917311297302528', 'name': 'Dr Harshad', 'screen_name': 'DrChirutkar', 'location': 'Gujarat, India', 'description': 'Techno~Banker with PhD in Electronics', 'url': None, 'entities': {'description': {'urls': []}}, 'protected': False, 'followers_count': 75, 'friends_count': 36, 'listed_count': 0, 'created_at': 'Sun Jun 12 08:57:25 +0000 2016', 'favourites_count': 2186, 'utc_offset': None, 'time_zone': None, 'geo_enabled': False, 'verified': False, 'statuses_count': 1675, 'lang': None, 'contributors_enabled': False, 'is_translator': False, 'is_translation_enabled': False, 'profile_background_color': 'F5F8FA', 'profile_background_image_url': None, 'profile_background_image_url_https': None, 'profile_background_tile': False, 'profile_image_url': 'http://pbs.twimg.com/profile_images/1533637820686172160/90coYmjO_normal.jpg', 'profile_image_url_https': 'https://pbs.twimg.com/profile_images/1533637820686172160/90coYmjO_normal.jpg', 'profile_banner_url': 'https://pbs.twimg.com/profile_banners/741917311297302528/1654482812', 'profile_link_color': '1DA1F2', 'profile_sidebar_border_color': 'C0DEED', 'profile_sidebar_fill_color': 'DDEEF6', 'profile_text_color': '333333', 'profile_use_background_image': True, 'has_extended_profile': True, 'default_profile': True, 'default_profile_image': False, 'following': None, 'follow_request_sent': None, 'notifications': None, 'translator_type': 'none', 'withheld_in_countries': []}, 'geo': None, 'coordinates': None, 'place': None, 'contributors': None, 'retweeted_status': {'created_at': 'Fri Aug 19 03:00:36 +0000 2022', 'id': 1560461703887949826, 'id_str': '1560461703887949826', 'full_text': 'Buy your dream house with the convenient and low-interest Cent Home loans.\\n\\n#HomeLoans\\n#HarGharTiranga\\n#AzadiKaAmritMahotsav\\n#CentralToYouSince1911 https://t.co/wqCz8gXkcH', 'truncated': False, 'display_text_range': [0, 147], 'entities': {'hashtags': [{'text': 'HomeLoans', 'indices': [76, 86]}, {'text': 'HarGharTiranga', 'indices': [87, 102]}, {'text': 'AzadiKaAmritMahotsav', 'indices': [103, 124]}, {'text': 'CentralToYouSince1911', 'indices': [125, 147]}], 'symbols': [], 'user_mentions': [], 'urls': [], 'media': [{'id': 1560461593074343939, 'id_str': '1560461593074343939', 'indices': [148, 171], 'media_url': 'http://pbs.twimg.com/media/FaffjRzWIAMITEB.jpg', 'media_url_https': 'https://pbs.twimg.com/media/FaffjRzWIAMITEB.jpg', 'url': 'https://t.co/wqCz8gXkcH', 'display_url': 'pic.twitter.com/wqCz8gXkcH', 'expanded_url': 'https://twitter.com/centralbank_in/status/1560461703887949826/photo/1', 'type': 'photo', 'sizes': {'small': {'w': 680, 'h': 680, 'resize': 'fit'}, 'thumb': {'w': 150, 'h': 150, 'resize': 'crop'}, 'large': {'w': 1280, 'h': 1280, 'resize': 'fit'}, 'medium': {'w': 1200, 'h': 1200, 'resize': 'fit'}}}]}, 'extended_entities': {'media': [{'id': 1560461593074343939, 'id_str': '1560461593074343939', 'indices': [148, 171], 'media_url': 'http://pbs.twimg.com/media/FaffjRzWIAMITEB.jpg', 'media_url_https': 'https://pbs.twimg.com/media/FaffjRzWIAMITEB.jpg', 'url': 'https://t.co/wqCz8gXkcH', 'display_url': 'pic.twitter.com/wqCz8gXkcH', 'expanded_url': 'https://twitter.com/centralbank_in/status/1560461703887949826/photo/1', 'type': 'photo', 'sizes': {'small': {'w': 680, 'h': 680, 'resize': 'fit'}, 'thumb': {'w': 150, 'h': 150, 'resize': 'crop'}, 'large': {'w': 1280, 'h': 1280, 'resize': 'fit'}, 'medium': {'w': 1200, 'h': 1200, 'resize': 'fit'}}}]}, 'metadata': {'iso_language_code': 'en', 'result_type': 'recent'}, 'source': '<a href=\"http://simplify360.com\" rel=\"nofollow\">Social360</a>', 'in_reply_to_status_id': None, 'in_reply_to_status_id_str': None, 'in_reply_to_user_id': None, 'in_reply_to_user_id_str': None, 'in_reply_to_screen_name': None, 'user': {'id': 2801707687, 'id_str': '2801707687', 'name': 'Central Bank of India', 'screen_name': 'centralbank_in', 'location': 'India', 'description': 'Welcome to The Official Twitter handle of Central Bank of India. Bank offers a wide range of products and services. Please join us to know more.', 'url': 'https://t.co/8qEcNUxCBw', 'entities': {'url': {'urls': [{'url': 'https://t.co/8qEcNUxCBw', 'expanded_url': 'https://www.centralbankofindia.co.in/', 'display_url': 'centralbankofindia.co.in', 'indices': [0, 23]}]}, 'description': {'urls': []}}, 'protected': False, 'followers_count': 63415, 'friends_count': 8, 'listed_count': 151, 'created_at': 'Wed Sep 10 12:06:41 +0000 2014', 'favourites_count': 259, 'utc_offset': None, 'time_zone': None, 'geo_enabled': False, 'verified': True, 'statuses_count': 28279, 'lang': None, 'contributors_enabled': False, 'is_translator': False, 'is_translation_enabled': False, 'profile_background_color': 'CF0F40', 'profile_background_image_url': 'http://abs.twimg.com/images/themes/theme1/bg.png', 'profile_background_image_url_https': 'https://abs.twimg.com/images/themes/theme1/bg.png', 'profile_background_tile': False, 'profile_image_url': 'http://pbs.twimg.com/profile_images/889430761295667200/jx4F5quN_normal.jpg', 'profile_image_url_https': 'https://pbs.twimg.com/profile_images/889430761295667200/jx4F5quN_normal.jpg', 'profile_banner_url': 'https://pbs.twimg.com/profile_banners/2801707687/1660908022', 'profile_link_color': '006FB6', 'profile_sidebar_border_color': 'FFFFFF', 'profile_sidebar_fill_color': 'DDEEF6', 'profile_text_color': '333333', 'profile_use_background_image': True, 'has_extended_profile': True, 'default_profile': False, 'default_profile_image': False, 'following': None, 'follow_request_sent': None, 'notifications': None, 'translator_type': 'none', 'withheld_in_countries': []}, 'geo': None, 'coordinates': None, 'place': None, 'contributors': None, 'is_quote_status': False, 'retweet_count': 147, 'favorite_count': 298, 'favorited': False, 'retweeted': False, 'possibly_sensitive': False, 'lang': 'en'}, 'is_quote_status': False, 'retweet_count': 147, 'favorite_count': 0, 'favorited': False, 'retweeted': False, 'lang': 'en'}, created_at=datetime.datetime(2022, 8, 19, 15, 10, 38, tzinfo=datetime.timezone.utc), id=1560645422687092742, id_str='1560645422687092742', full_text='RT @centralbank_in: Buy your dream house with the convenient and low-interest Cent Home loans.\\n\\n#HomeLoans\\n#HarGharTiranga\\n#AzadiKaAmritMah…', truncated=False, display_text_range=[0, 140], entities={'hashtags': [{'text': 'HomeLoans', 'indices': [96, 106]}, {'text': 'HarGharTiranga', 'indices': [107, 122]}], 'symbols': [], 'user_mentions': [{'screen_name': 'centralbank_in', 'name': 'Central Bank of India', 'id': 2801707687, 'id_str': '2801707687', 'indices': [3, 18]}], 'urls': []}, metadata={'iso_language_code': 'en', 'result_type': 'recent'}, source='Twitter for iPhone', source_url='http://twitter.com/download/iphone', in_reply_to_status_id=None, in_reply_to_status_id_str=None, in_reply_to_user_id=None, in_reply_to_user_id_str=None, in_reply_to_screen_name=None, author=User(_api=<tweepy.api.API object at 0x00000280AC7F38B0>, _json={'id': 741917311297302528, 'id_str': '741917311297302528', 'name': 'Dr Harshad', 'screen_name': 'DrChirutkar', 'location': 'Gujarat, India', 'description': 'Techno~Banker with PhD in Electronics', 'url': None, 'entities': {'description': {'urls': []}}, 'protected': False, 'followers_count': 75, 'friends_count': 36, 'listed_count': 0, 'created_at': 'Sun Jun 12 08:57:25 +0000 2016', 'favourites_count': 2186, 'utc_offset': None, 'time_zone': None, 'geo_enabled': False, 'verified': False, 'statuses_count': 1675, 'lang': None, 'contributors_enabled': False, 'is_translator': False, 'is_translation_enabled': False, 'profile_background_color': 'F5F8FA', 'profile_background_image_url': None, 'profile_background_image_url_https': None, 'profile_background_tile': False, 'profile_image_url': 'http://pbs.twimg.com/profile_images/1533637820686172160/90coYmjO_normal.jpg', 'profile_image_url_https': 'https://pbs.twimg.com/profile_images/1533637820686172160/90coYmjO_normal.jpg', 'profile_banner_url': 'https://pbs.twimg.com/profile_banners/741917311297302528/1654482812', 'profile_link_color': '1DA1F2', 'profile_sidebar_border_color': 'C0DEED', 'profile_sidebar_fill_color': 'DDEEF6', 'profile_text_color': '333333', 'profile_use_background_image': True, 'has_extended_profile': True, 'default_profile': True, 'default_profile_image': False, 'following': None, 'follow_request_sent': None, 'notifications': None, 'translator_type': 'none', 'withheld_in_countries': []}, id=741917311297302528, id_str='741917311297302528', name='Dr Harshad', screen_name='DrChirutkar', location='Gujarat, India', description='Techno~Banker with PhD in Electronics', url=None, entities={'description': {'urls': []}}, protected=False, followers_count=75, friends_count=36, listed_count=0, created_at=datetime.datetime(2016, 6, 12, 8, 57, 25, tzinfo=datetime.timezone.utc), favourites_count=2186, utc_offset=None, time_zone=None, geo_enabled=False, verified=False, statuses_count=1675, lang=None, contributors_enabled=False, is_translator=False, is_translation_enabled=False, profile_background_color='F5F8FA', profile_background_image_url=None, profile_background_image_url_https=None, profile_background_tile=False, profile_image_url='http://pbs.twimg.com/profile_images/1533637820686172160/90coYmjO_normal.jpg', profile_image_url_https='https://pbs.twimg.com/profile_images/1533637820686172160/90coYmjO_normal.jpg', profile_banner_url='https://pbs.twimg.com/profile_banners/741917311297302528/1654482812', profile_link_color='1DA1F2', profile_sidebar_border_color='C0DEED', profile_sidebar_fill_color='DDEEF6', profile_text_color='333333', profile_use_background_image=True, has_extended_profile=True, default_profile=True, default_profile_image=False, following=False, follow_request_sent=None, notifications=None, translator_type='none', withheld_in_countries=[]), user=User(_api=<tweepy.api.API object at 0x00000280AC7F38B0>, _json={'id': 741917311297302528, 'id_str': '741917311297302528', 'name': 'Dr Harshad', 'screen_name': 'DrChirutkar', 'location': 'Gujarat, India', 'description': 'Techno~Banker with PhD in Electronics', 'url': None, 'entities': {'description': {'urls': []}}, 'protected': False, 'followers_count': 75, 'friends_count': 36, 'listed_count': 0, 'created_at': 'Sun Jun 12 08:57:25 +0000 2016', 'favourites_count': 2186, 'utc_offset': None, 'time_zone': None, 'geo_enabled': False, 'verified': False, 'statuses_count': 1675, 'lang': None, 'contributors_enabled': False, 'is_translator': False, 'is_translation_enabled': False, 'profile_background_color': 'F5F8FA', 'profile_background_image_url': None, 'profile_background_image_url_https': None, 'profile_background_tile': False, 'profile_image_url': 'http://pbs.twimg.com/profile_images/1533637820686172160/90coYmjO_normal.jpg', 'profile_image_url_https': 'https://pbs.twimg.com/profile_images/1533637820686172160/90coYmjO_normal.jpg', 'profile_banner_url': 'https://pbs.twimg.com/profile_banners/741917311297302528/1654482812', 'profile_link_color': '1DA1F2', 'profile_sidebar_border_color': 'C0DEED', 'profile_sidebar_fill_color': 'DDEEF6', 'profile_text_color': '333333', 'profile_use_background_image': True, 'has_extended_profile': True, 'default_profile': True, 'default_profile_image': False, 'following': None, 'follow_request_sent': None, 'notifications': None, 'translator_type': 'none', 'withheld_in_countries': []}, id=741917311297302528, id_str='741917311297302528', name='Dr Harshad', screen_name='DrChirutkar', location='Gujarat, India', description='Techno~Banker with PhD in Electronics', url=None, entities={'description': {'urls': []}}, protected=False, followers_count=75, friends_count=36, listed_count=0, created_at=datetime.datetime(2016, 6, 12, 8, 57, 25, tzinfo=datetime.timezone.utc), favourites_count=2186, utc_offset=None, time_zone=None, geo_enabled=False, verified=False, statuses_count=1675, lang=None, contributors_enabled=False, is_translator=False, is_translation_enabled=False, profile_background_color='F5F8FA', profile_background_image_url=None, profile_background_image_url_https=None, profile_background_tile=False, profile_image_url='http://pbs.twimg.com/profile_images/1533637820686172160/90coYmjO_normal.jpg', profile_image_url_https='https://pbs.twimg.com/profile_images/1533637820686172160/90coYmjO_normal.jpg', profile_banner_url='https://pbs.twimg.com/profile_banners/741917311297302528/1654482812', profile_link_color='1DA1F2', profile_sidebar_border_color='C0DEED', profile_sidebar_fill_color='DDEEF6', profile_text_color='333333', profile_use_background_image=True, has_extended_profile=True, default_profile=True, default_profile_image=False, following=False, follow_request_sent=None, notifications=None, translator_type='none', withheld_in_countries=[]), geo=None, coordinates=None, place=None, contributors=None, retweeted_status=Status(_api=<tweepy.api.API object at 0x00000280AC7F38B0>, _json={'created_at': 'Fri Aug 19 03:00:36 +0000 2022', 'id': 1560461703887949826, 'id_str': '1560461703887949826', 'full_text': 'Buy your dream house with the convenient and low-interest Cent Home loans.\\n\\n#HomeLoans\\n#HarGharTiranga\\n#AzadiKaAmritMahotsav\\n#CentralToYouSince1911 https://t.co/wqCz8gXkcH', 'truncated': False, 'display_text_range': [0, 147], 'entities': {'hashtags': [{'text': 'HomeLoans', 'indices': [76, 86]}, {'text': 'HarGharTiranga', 'indices': [87, 102]}, {'text': 'AzadiKaAmritMahotsav', 'indices': [103, 124]}, {'text': 'CentralToYouSince1911', 'indices': [125, 147]}], 'symbols': [], 'user_mentions': [], 'urls': [], 'media': [{'id': 1560461593074343939, 'id_str': '1560461593074343939', 'indices': [148, 171], 'media_url': 'http://pbs.twimg.com/media/FaffjRzWIAMITEB.jpg', 'media_url_https': 'https://pbs.twimg.com/media/FaffjRzWIAMITEB.jpg', 'url': 'https://t.co/wqCz8gXkcH', 'display_url': 'pic.twitter.com/wqCz8gXkcH', 'expanded_url': 'https://twitter.com/centralbank_in/status/1560461703887949826/photo/1', 'type': 'photo', 'sizes': {'small': {'w': 680, 'h': 680, 'resize': 'fit'}, 'thumb': {'w': 150, 'h': 150, 'resize': 'crop'}, 'large': {'w': 1280, 'h': 1280, 'resize': 'fit'}, 'medium': {'w': 1200, 'h': 1200, 'resize': 'fit'}}}]}, 'extended_entities': {'media': [{'id': 1560461593074343939, 'id_str': '1560461593074343939', 'indices': [148, 171], 'media_url': 'http://pbs.twimg.com/media/FaffjRzWIAMITEB.jpg', 'media_url_https': 'https://pbs.twimg.com/media/FaffjRzWIAMITEB.jpg', 'url': 'https://t.co/wqCz8gXkcH', 'display_url': 'pic.twitter.com/wqCz8gXkcH', 'expanded_url': 'https://twitter.com/centralbank_in/status/1560461703887949826/photo/1', 'type': 'photo', 'sizes': {'small': {'w': 680, 'h': 680, 'resize': 'fit'}, 'thumb': {'w': 150, 'h': 150, 'resize': 'crop'}, 'large': {'w': 1280, 'h': 1280, 'resize': 'fit'}, 'medium': {'w': 1200, 'h': 1200, 'resize': 'fit'}}}]}, 'metadata': {'iso_language_code': 'en', 'result_type': 'recent'}, 'source': '<a href=\"http://simplify360.com\" rel=\"nofollow\">Social360</a>', 'in_reply_to_status_id': None, 'in_reply_to_status_id_str': None, 'in_reply_to_user_id': None, 'in_reply_to_user_id_str': None, 'in_reply_to_screen_name': None, 'user': {'id': 2801707687, 'id_str': '2801707687', 'name': 'Central Bank of India', 'screen_name': 'centralbank_in', 'location': 'India', 'description': 'Welcome to The Official Twitter handle of Central Bank of India. Bank offers a wide range of products and services. Please join us to know more.', 'url': 'https://t.co/8qEcNUxCBw', 'entities': {'url': {'urls': [{'url': 'https://t.co/8qEcNUxCBw', 'expanded_url': 'https://www.centralbankofindia.co.in/', 'display_url': 'centralbankofindia.co.in', 'indices': [0, 23]}]}, 'description': {'urls': []}}, 'protected': False, 'followers_count': 63415, 'friends_count': 8, 'listed_count': 151, 'created_at': 'Wed Sep 10 12:06:41 +0000 2014', 'favourites_count': 259, 'utc_offset': None, 'time_zone': None, 'geo_enabled': False, 'verified': True, 'statuses_count': 28279, 'lang': None, 'contributors_enabled': False, 'is_translator': False, 'is_translation_enabled': False, 'profile_background_color': 'CF0F40', 'profile_background_image_url': 'http://abs.twimg.com/images/themes/theme1/bg.png', 'profile_background_image_url_https': 'https://abs.twimg.com/images/themes/theme1/bg.png', 'profile_background_tile': False, 'profile_image_url': 'http://pbs.twimg.com/profile_images/889430761295667200/jx4F5quN_normal.jpg', 'profile_image_url_https': 'https://pbs.twimg.com/profile_images/889430761295667200/jx4F5quN_normal.jpg', 'profile_banner_url': 'https://pbs.twimg.com/profile_banners/2801707687/1660908022', 'profile_link_color': '006FB6', 'profile_sidebar_border_color': 'FFFFFF', 'profile_sidebar_fill_color': 'DDEEF6', 'profile_text_color': '333333', 'profile_use_background_image': True, 'has_extended_profile': True, 'default_profile': False, 'default_profile_image': False, 'following': None, 'follow_request_sent': None, 'notifications': None, 'translator_type': 'none', 'withheld_in_countries': []}, 'geo': None, 'coordinates': None, 'place': None, 'contributors': None, 'is_quote_status': False, 'retweet_count': 147, 'favorite_count': 298, 'favorited': False, 'retweeted': False, 'possibly_sensitive': False, 'lang': 'en'}, created_at=datetime.datetime(2022, 8, 19, 3, 0, 36, tzinfo=datetime.timezone.utc), id=1560461703887949826, id_str='1560461703887949826', full_text='Buy your dream house with the convenient and low-interest Cent Home loans.\\n\\n#HomeLoans\\n#HarGharTiranga\\n#AzadiKaAmritMahotsav\\n#CentralToYouSince1911 https://t.co/wqCz8gXkcH', truncated=False, display_text_range=[0, 147], entities={'hashtags': [{'text': 'HomeLoans', 'indices': [76, 86]}, {'text': 'HarGharTiranga', 'indices': [87, 102]}, {'text': 'AzadiKaAmritMahotsav', 'indices': [103, 124]}, {'text': 'CentralToYouSince1911', 'indices': [125, 147]}], 'symbols': [], 'user_mentions': [], 'urls': [], 'media': [{'id': 1560461593074343939, 'id_str': '1560461593074343939', 'indices': [148, 171], 'media_url': 'http://pbs.twimg.com/media/FaffjRzWIAMITEB.jpg', 'media_url_https': 'https://pbs.twimg.com/media/FaffjRzWIAMITEB.jpg', 'url': 'https://t.co/wqCz8gXkcH', 'display_url': 'pic.twitter.com/wqCz8gXkcH', 'expanded_url': 'https://twitter.com/centralbank_in/status/1560461703887949826/photo/1', 'type': 'photo', 'sizes': {'small': {'w': 680, 'h': 680, 'resize': 'fit'}, 'thumb': {'w': 150, 'h': 150, 'resize': 'crop'}, 'large': {'w': 1280, 'h': 1280, 'resize': 'fit'}, 'medium': {'w': 1200, 'h': 1200, 'resize': 'fit'}}}]}, extended_entities={'media': [{'id': 1560461593074343939, 'id_str': '1560461593074343939', 'indices': [148, 171], 'media_url': 'http://pbs.twimg.com/media/FaffjRzWIAMITEB.jpg', 'media_url_https': 'https://pbs.twimg.com/media/FaffjRzWIAMITEB.jpg', 'url': 'https://t.co/wqCz8gXkcH', 'display_url': 'pic.twitter.com/wqCz8gXkcH', 'expanded_url': 'https://twitter.com/centralbank_in/status/1560461703887949826/photo/1', 'type': 'photo', 'sizes': {'small': {'w': 680, 'h': 680, 'resize': 'fit'}, 'thumb': {'w': 150, 'h': 150, 'resize': 'crop'}, 'large': {'w': 1280, 'h': 1280, 'resize': 'fit'}, 'medium': {'w': 1200, 'h': 1200, 'resize': 'fit'}}}]}, metadata={'iso_language_code': 'en', 'result_type': 'recent'}, source='Social360', source_url='http://simplify360.com', in_reply_to_status_id=None, in_reply_to_status_id_str=None, in_reply_to_user_id=None, in_reply_to_user_id_str=None, in_reply_to_screen_name=None, author=User(_api=<tweepy.api.API object at 0x00000280AC7F38B0>, _json={'id': 2801707687, 'id_str': '2801707687', 'name': 'Central Bank of India', 'screen_name': 'centralbank_in', 'location': 'India', 'description': 'Welcome to The Official Twitter handle of Central Bank of India. Bank offers a wide range of products and services. Please join us to know more.', 'url': 'https://t.co/8qEcNUxCBw', 'entities': {'url': {'urls': [{'url': 'https://t.co/8qEcNUxCBw', 'expanded_url': 'https://www.centralbankofindia.co.in/', 'display_url': 'centralbankofindia.co.in', 'indices': [0, 23]}]}, 'description': {'urls': []}}, 'protected': False, 'followers_count': 63415, 'friends_count': 8, 'listed_count': 151, 'created_at': 'Wed Sep 10 12:06:41 +0000 2014', 'favourites_count': 259, 'utc_offset': None, 'time_zone': None, 'geo_enabled': False, 'verified': True, 'statuses_count': 28279, 'lang': None, 'contributors_enabled': False, 'is_translator': False, 'is_translation_enabled': False, 'profile_background_color': 'CF0F40', 'profile_background_image_url': 'http://abs.twimg.com/images/themes/theme1/bg.png', 'profile_background_image_url_https': 'https://abs.twimg.com/images/themes/theme1/bg.png', 'profile_background_tile': False, 'profile_image_url': 'http://pbs.twimg.com/profile_images/889430761295667200/jx4F5quN_normal.jpg', 'profile_image_url_https': 'https://pbs.twimg.com/profile_images/889430761295667200/jx4F5quN_normal.jpg', 'profile_banner_url': 'https://pbs.twimg.com/profile_banners/2801707687/1660908022', 'profile_link_color': '006FB6', 'profile_sidebar_border_color': 'FFFFFF', 'profile_sidebar_fill_color': 'DDEEF6', 'profile_text_color': '333333', 'profile_use_background_image': True, 'has_extended_profile': True, 'default_profile': False, 'default_profile_image': False, 'following': None, 'follow_request_sent': None, 'notifications': None, 'translator_type': 'none', 'withheld_in_countries': []}, id=2801707687, id_str='2801707687', name='Central Bank of India', screen_name='centralbank_in', location='India', description='Welcome to The Official Twitter handle of Central Bank of India. Bank offers a wide range of products and services. Please join us to know more.', url='https://t.co/8qEcNUxCBw', entities={'url': {'urls': [{'url': 'https://t.co/8qEcNUxCBw', 'expanded_url': 'https://www.centralbankofindia.co.in/', 'display_url': 'centralbankofindia.co.in', 'indices': [0, 23]}]}, 'description': {'urls': []}}, protected=False, followers_count=63415, friends_count=8, listed_count=151, created_at=datetime.datetime(2014, 9, 10, 12, 6, 41, tzinfo=datetime.timezone.utc), favourites_count=259, utc_offset=None, time_zone=None, geo_enabled=False, verified=True, statuses_count=28279, lang=None, contributors_enabled=False, is_translator=False, is_translation_enabled=False, profile_background_color='CF0F40', profile_background_image_url='http://abs.twimg.com/images/themes/theme1/bg.png', profile_background_image_url_https='https://abs.twimg.com/images/themes/theme1/bg.png', profile_background_tile=False, profile_image_url='http://pbs.twimg.com/profile_images/889430761295667200/jx4F5quN_normal.jpg', profile_image_url_https='https://pbs.twimg.com/profile_images/889430761295667200/jx4F5quN_normal.jpg', profile_banner_url='https://pbs.twimg.com/profile_banners/2801707687/1660908022', profile_link_color='006FB6', profile_sidebar_border_color='FFFFFF', profile_sidebar_fill_color='DDEEF6', profile_text_color='333333', profile_use_background_image=True, has_extended_profile=True, default_profile=False, default_profile_image=False, following=False, follow_request_sent=None, notifications=None, translator_type='none', withheld_in_countries=[]), user=User(_api=<tweepy.api.API object at 0x00000280AC7F38B0>, _json={'id': 2801707687, 'id_str': '2801707687', 'name': 'Central Bank of India', 'screen_name': 'centralbank_in', 'location': 'India', 'description': 'Welcome to The Official Twitter handle of Central Bank of India. Bank offers a wide range of products and services. Please join us to know more.', 'url': 'https://t.co/8qEcNUxCBw', 'entities': {'url': {'urls': [{'url': 'https://t.co/8qEcNUxCBw', 'expanded_url': 'https://www.centralbankofindia.co.in/', 'display_url': 'centralbankofindia.co.in', 'indices': [0, 23]}]}, 'description': {'urls': []}}, 'protected': False, 'followers_count': 63415, 'friends_count': 8, 'listed_count': 151, 'created_at': 'Wed Sep 10 12:06:41 +0000 2014', 'favourites_count': 259, 'utc_offset': None, 'time_zone': None, 'geo_enabled': False, 'verified': True, 'statuses_count': 28279, 'lang': None, 'contributors_enabled': False, 'is_translator': False, 'is_translation_enabled': False, 'profile_background_color': 'CF0F40', 'profile_background_image_url': 'http://abs.twimg.com/images/themes/theme1/bg.png', 'profile_background_image_url_https': 'https://abs.twimg.com/images/themes/theme1/bg.png', 'profile_background_tile': False, 'profile_image_url': 'http://pbs.twimg.com/profile_images/889430761295667200/jx4F5quN_normal.jpg', 'profile_image_url_https': 'https://pbs.twimg.com/profile_images/889430761295667200/jx4F5quN_normal.jpg', 'profile_banner_url': 'https://pbs.twimg.com/profile_banners/2801707687/1660908022', 'profile_link_color': '006FB6', 'profile_sidebar_border_color': 'FFFFFF', 'profile_sidebar_fill_color': 'DDEEF6', 'profile_text_color': '333333', 'profile_use_background_image': True, 'has_extended_profile': True, 'default_profile': False, 'default_profile_image': False, 'following': None, 'follow_request_sent': None, 'notifications': None, 'translator_type': 'none', 'withheld_in_countries': []}, id=2801707687, id_str='2801707687', name='Central Bank of India', screen_name='centralbank_in', location='India', description='Welcome to The Official Twitter handle of Central Bank of India. Bank offers a wide range of products and services. Please join us to know more.', url='https://t.co/8qEcNUxCBw', entities={'url': {'urls': [{'url': 'https://t.co/8qEcNUxCBw', 'expanded_url': 'https://www.centralbankofindia.co.in/', 'display_url': 'centralbankofindia.co.in', 'indices': [0, 23]}]}, 'description': {'urls': []}}, protected=False, followers_count=63415, friends_count=8, listed_count=151, created_at=datetime.datetime(2014, 9, 10, 12, 6, 41, tzinfo=datetime.timezone.utc), favourites_count=259, utc_offset=None, time_zone=None, geo_enabled=False, verified=True, statuses_count=28279, lang=None, contributors_enabled=False, is_translator=False, is_translation_enabled=False, profile_background_color='CF0F40', profile_background_image_url='http://abs.twimg.com/images/themes/theme1/bg.png', profile_background_image_url_https='https://abs.twimg.com/images/themes/theme1/bg.png', profile_background_tile=False, profile_image_url='http://pbs.twimg.com/profile_images/889430761295667200/jx4F5quN_normal.jpg', profile_image_url_https='https://pbs.twimg.com/profile_images/889430761295667200/jx4F5quN_normal.jpg', profile_banner_url='https://pbs.twimg.com/profile_banners/2801707687/1660908022', profile_link_color='006FB6', profile_sidebar_border_color='FFFFFF', profile_sidebar_fill_color='DDEEF6', profile_text_color='333333', profile_use_background_image=True, has_extended_profile=True, default_profile=False, default_profile_image=False, following=False, follow_request_sent=None, notifications=None, translator_type='none', withheld_in_countries=[]), geo=None, coordinates=None, place=None, contributors=None, is_quote_status=False, retweet_count=147, favorite_count=298, favorited=False, retweeted=False, possibly_sensitive=False, lang='en'), is_quote_status=False, retweet_count=147, favorite_count=0, favorited=False, retweeted=False, lang='en')\n"
     ]
    }
   ],
   "source": [
    "for tweet in tweets:\n",
    "    print(tweet)\n",
    "    tweet_mentions=[]\n",
    "    a=tweet.entities\n",
    "#     print(a[0][3]['user_mentions'])\n",
    "    data.append([tweet.user.screen_name, tweet.user.name, tweet.full_text, tweet.entities,tweet._json[\"created_at\"], None])"
   ]
  },
  {
   "cell_type": "code",
   "execution_count": 242,
   "id": "921332f1",
   "metadata": {},
   "outputs": [
    {
     "data": {
      "text/html": [
       "<div>\n",
       "<style scoped>\n",
       "    .dataframe tbody tr th:only-of-type {\n",
       "        vertical-align: middle;\n",
       "    }\n",
       "\n",
       "    .dataframe tbody tr th {\n",
       "        vertical-align: top;\n",
       "    }\n",
       "\n",
       "    .dataframe thead th {\n",
       "        text-align: right;\n",
       "    }\n",
       "</style>\n",
       "<table border=\"1\" class=\"dataframe\">\n",
       "  <thead>\n",
       "    <tr style=\"text-align: right;\">\n",
       "      <th></th>\n",
       "      <th>UserID</th>\n",
       "      <th>Name</th>\n",
       "      <th>Tweet</th>\n",
       "      <th>Mentions</th>\n",
       "      <th>Created At</th>\n",
       "      <th>Retweet</th>\n",
       "    </tr>\n",
       "  </thead>\n",
       "  <tbody>\n",
       "    <tr>\n",
       "      <th>0</th>\n",
       "      <td>DrChirutkar</td>\n",
       "      <td>Dr Harshad</td>\n",
       "      <td>RT @centralbank_in: Buy your dream house with ...</td>\n",
       "      <td>{'hashtags': [{'text': 'HomeLoans', 'indices':...</td>\n",
       "      <td>Fri Aug 19 15:10:38 +0000 2022</td>\n",
       "      <td>None</td>\n",
       "    </tr>\n",
       "  </tbody>\n",
       "</table>\n",
       "</div>"
      ],
      "text/plain": [
       "        UserID        Name                                              Tweet  \\\n",
       "0  DrChirutkar  Dr Harshad  RT @centralbank_in: Buy your dream house with ...   \n",
       "\n",
       "                                            Mentions  \\\n",
       "0  {'hashtags': [{'text': 'HomeLoans', 'indices':...   \n",
       "\n",
       "                       Created At Retweet  \n",
       "0  Fri Aug 19 15:10:38 +0000 2022    None  "
      ]
     },
     "execution_count": 242,
     "metadata": {},
     "output_type": "execute_result"
    }
   ],
   "source": [
    "df = pd.DataFrame(data, columns=columns)\n",
    "df"
   ]
  },
  {
   "cell_type": "code",
   "execution_count": 243,
   "id": "7ce9ff87",
   "metadata": {
    "scrolled": false
   },
   "outputs": [
    {
     "data": {
      "text/plain": [
       "[['DrChirutkar',\n",
       "  'Dr Harshad',\n",
       "  'RT @centralbank_in: Buy your dream house with the convenient and low-interest Cent Home loans.\\n\\n#HomeLoans\\n#HarGharTiranga\\n#AzadiKaAmritMah…',\n",
       "  {'hashtags': [{'text': 'HomeLoans', 'indices': [96, 106]},\n",
       "    {'text': 'HarGharTiranga', 'indices': [107, 122]}],\n",
       "   'symbols': [],\n",
       "   'user_mentions': [{'screen_name': 'centralbank_in',\n",
       "     'name': 'Central Bank of India',\n",
       "     'id': 2801707687,\n",
       "     'id_str': '2801707687',\n",
       "     'indices': [3, 18]}],\n",
       "   'urls': []},\n",
       "  'Fri Aug 19 15:10:38 +0000 2022',\n",
       "  None]]"
      ]
     },
     "execution_count": 243,
     "metadata": {},
     "output_type": "execute_result"
    }
   ],
   "source": [
    "data"
   ]
  },
  {
   "cell_type": "markdown",
   "id": "6f2f0e2a",
   "metadata": {},
   "source": [
    "## Extracting User Mentions and Retweet Status"
   ]
  },
  {
   "cell_type": "code",
   "execution_count": 244,
   "id": "44006fa2",
   "metadata": {},
   "outputs": [],
   "source": [
    "for i in range(len(data)):\n",
    "    \n",
    "    #extracting mentions\n",
    "    \n",
    "    tempMention=[data[i][3]['user_mentions'][j]['name'] for j in range(len(data[i][3]['user_mentions']))]\n",
    "    #print(tempMention)\n",
    "    data[i][3]=tempMention\n",
    "    \n",
    "    #extracting retweet status and updating tweet content\n",
    "    tempTxt=data[i][2][:2]\n",
    "    if tempTxt==\"RT\":\n",
    "        data[i][5]=1\n",
    "        data[i][2]=data[i][2][3:]\n",
    "    else:\n",
    "        data[i][5]=0"
   ]
  },
  {
   "cell_type": "code",
   "execution_count": 245,
   "id": "8696ec84",
   "metadata": {},
   "outputs": [
    {
     "data": {
      "text/html": [
       "<div>\n",
       "<style scoped>\n",
       "    .dataframe tbody tr th:only-of-type {\n",
       "        vertical-align: middle;\n",
       "    }\n",
       "\n",
       "    .dataframe tbody tr th {\n",
       "        vertical-align: top;\n",
       "    }\n",
       "\n",
       "    .dataframe thead th {\n",
       "        text-align: right;\n",
       "    }\n",
       "</style>\n",
       "<table border=\"1\" class=\"dataframe\">\n",
       "  <thead>\n",
       "    <tr style=\"text-align: right;\">\n",
       "      <th></th>\n",
       "      <th>UserID</th>\n",
       "      <th>Name</th>\n",
       "      <th>Tweet</th>\n",
       "      <th>Mentions</th>\n",
       "      <th>Created At</th>\n",
       "      <th>Retweet</th>\n",
       "    </tr>\n",
       "  </thead>\n",
       "  <tbody>\n",
       "    <tr>\n",
       "      <th>0</th>\n",
       "      <td>DrChirutkar</td>\n",
       "      <td>Dr Harshad</td>\n",
       "      <td>@centralbank_in: Buy your dream house with the...</td>\n",
       "      <td>[Central Bank of India]</td>\n",
       "      <td>Fri Aug 19 15:10:38 +0000 2022</td>\n",
       "      <td>1</td>\n",
       "    </tr>\n",
       "  </tbody>\n",
       "</table>\n",
       "</div>"
      ],
      "text/plain": [
       "        UserID        Name                                              Tweet  \\\n",
       "0  DrChirutkar  Dr Harshad  @centralbank_in: Buy your dream house with the...   \n",
       "\n",
       "                  Mentions                      Created At  Retweet  \n",
       "0  [Central Bank of India]  Fri Aug 19 15:10:38 +0000 2022        1  "
      ]
     },
     "execution_count": 245,
     "metadata": {},
     "output_type": "execute_result"
    }
   ],
   "source": [
    "df = pd.DataFrame(data, columns=columns)\n",
    "df"
   ]
  }
 ],
 "metadata": {
  "kernelspec": {
   "display_name": "Python 3 (ipykernel)",
   "language": "python",
   "name": "python3"
  },
  "language_info": {
   "codemirror_mode": {
    "name": "ipython",
    "version": 3
   },
   "file_extension": ".py",
   "mimetype": "text/x-python",
   "name": "python",
   "nbconvert_exporter": "python",
   "pygments_lexer": "ipython3",
   "version": "3.9.13"
  }
 },
 "nbformat": 4,
 "nbformat_minor": 5
}
