{
 "cells": [
  {
   "cell_type": "code",
   "execution_count": 67,
   "id": "6194e62d",
   "metadata": {},
   "outputs": [],
   "source": [
    "import tweepy\n",
    "import configparser\n",
    "import pandas as pd"
   ]
  },
  {
   "cell_type": "code",
   "execution_count": 68,
   "id": "d3065bb5",
   "metadata": {},
   "outputs": [
    {
     "data": {
      "text/plain": [
       "['config.ini']"
      ]
     },
     "execution_count": 68,
     "metadata": {},
     "output_type": "execute_result"
    }
   ],
   "source": [
    "config = configparser.ConfigParser()\n",
    "config.read('config.ini')"
   ]
  },
  {
   "cell_type": "code",
   "execution_count": 69,
   "id": "b9f04a78",
   "metadata": {},
   "outputs": [],
   "source": [
    "api_key = config['twitter']['api_key']\n",
    "api_key_secret = config['twitter']['api_key_secret']"
   ]
  },
  {
   "cell_type": "code",
   "execution_count": 70,
   "id": "c1290c36",
   "metadata": {},
   "outputs": [],
   "source": [
    "auth = tweepy.OAuth2AppHandler(\n",
    "    api_key ,\n",
    "    api_key_secret\n",
    ")\n",
    "api = tweepy.API(auth)"
   ]
  },
  {
   "cell_type": "code",
   "execution_count": 89,
   "id": "425ec537",
   "metadata": {},
   "outputs": [],
   "source": [
    "keywords = '#HarGharTiranga'\n",
    "limit=1"
   ]
  },
  {
   "cell_type": "code",
   "execution_count": 90,
   "id": "5e994abb",
   "metadata": {},
   "outputs": [],
   "source": [
    "tweets = tweepy.Cursor(api.search_tweets, q=keywords, count=100, tweet_mode='extended').items(limit)"
   ]
  },
  {
   "cell_type": "code",
   "execution_count": 91,
   "id": "5d1ce7bb",
   "metadata": {},
   "outputs": [
    {
     "data": {
      "text/plain": [
       "<tweepy.cursor.ItemIterator at 0x222e4154610>"
      ]
     },
     "execution_count": 91,
     "metadata": {},
     "output_type": "execute_result"
    }
   ],
   "source": [
    "tweets"
   ]
  },
  {
   "cell_type": "code",
   "execution_count": 92,
   "id": "5b9d5fbc",
   "metadata": {},
   "outputs": [],
   "source": [
    "columns = ['User', 'Tweet']\n",
    "data = []"
   ]
  },
  {
   "cell_type": "code",
   "execution_count": 93,
   "id": "59cb63b1",
   "metadata": {
    "scrolled": false
   },
   "outputs": [
    {
     "name": "stdout",
     "output_type": "stream",
     "text": [
      "Status(_api=<tweepy.api.API object at 0x00000222E2747AC0>, _json={'created_at': 'Fri Aug 12 20:46:36 +0000 2022', 'id': 1558193255719661568, 'id_str': '1558193255719661568', 'full_text': 'RT @112UttarPradesh: आज फिर आकाश मुस्कुरा रहा है,\\nक्योंकि मेरे भारत का तिरंगा लहरा रहा है!\\n#HarGharTiranga \\n#AzadiKaAmritMahotsav \\n#Call112…', 'truncated': False, 'display_text_range': [0, 140], 'entities': {'hashtags': [{'text': 'HarGharTiranga', 'indices': [91, 106]}, {'text': 'AzadiKaAmritMahotsav', 'indices': [108, 129]}, {'text': 'Call112', 'indices': [131, 139]}], 'symbols': [], 'user_mentions': [{'screen_name': '112UttarPradesh', 'name': 'Call 112', 'id': 754903076474068993, 'id_str': '754903076474068993', 'indices': [3, 19]}], 'urls': []}, 'metadata': {'iso_language_code': 'hi', 'result_type': 'recent'}, 'source': '<a href=\"http://twitter.com/download/android\" rel=\"nofollow\">Twitter for Android</a>', 'in_reply_to_status_id': None, 'in_reply_to_status_id_str': None, 'in_reply_to_user_id': None, 'in_reply_to_user_id_str': None, 'in_reply_to_screen_name': None, 'user': {'id': 1459819469321097217, 'id_str': '1459819469321097217', 'name': 'NAVNEET Pal', 'screen_name': 'NAVNEET22742726', 'location': 'Indira Nagar, Rae Bareily', 'description': 'मै समाज सेवा में अपने को हमेशा तत्पर समर्पित करता रहता हूं और समाज सेवा के साथ,मै एक विद्यार्थी भी हूं।', 'url': None, 'entities': {'description': {'urls': []}}, 'protected': False, 'followers_count': 349, 'friends_count': 151, 'listed_count': 0, 'created_at': 'Sun Nov 14 09:44:36 +0000 2021', 'favourites_count': 2565, 'utc_offset': None, 'time_zone': None, 'geo_enabled': True, 'verified': False, 'statuses_count': 1719, 'lang': None, 'contributors_enabled': False, 'is_translator': False, 'is_translation_enabled': False, 'profile_background_color': 'F5F8FA', 'profile_background_image_url': None, 'profile_background_image_url_https': None, 'profile_background_tile': False, 'profile_image_url': 'http://pbs.twimg.com/profile_images/1558182518972911616/6cmXisuB_normal.jpg', 'profile_image_url_https': 'https://pbs.twimg.com/profile_images/1558182518972911616/6cmXisuB_normal.jpg', 'profile_banner_url': 'https://pbs.twimg.com/profile_banners/1459819469321097217/1660336974', 'profile_link_color': '1DA1F2', 'profile_sidebar_border_color': 'C0DEED', 'profile_sidebar_fill_color': 'DDEEF6', 'profile_text_color': '333333', 'profile_use_background_image': True, 'has_extended_profile': True, 'default_profile': True, 'default_profile_image': False, 'following': None, 'follow_request_sent': None, 'notifications': None, 'translator_type': 'none', 'withheld_in_countries': []}, 'geo': None, 'coordinates': None, 'place': None, 'contributors': None, 'retweeted_status': {'created_at': 'Fri Aug 12 08:53:30 +0000 2022', 'id': 1558013799097323520, 'id_str': '1558013799097323520', 'full_text': 'आज फिर आकाश मुस्कुरा रहा है,\\nक्योंकि मेरे भारत का तिरंगा लहरा रहा है!\\n#HarGharTiranga \\n#AzadiKaAmritMahotsav \\n#Call112 \\n#UP112 \\n\\n@Uppolice @UPGovt @homeupgov https://t.co/yub0Us7IJA', 'truncated': False, 'display_text_range': [0, 157], 'entities': {'hashtags': [{'text': 'HarGharTiranga', 'indices': [70, 85]}, {'text': 'AzadiKaAmritMahotsav', 'indices': [87, 108]}, {'text': 'Call112', 'indices': [110, 118]}, {'text': 'UP112', 'indices': [120, 126]}], 'symbols': [], 'user_mentions': [{'screen_name': 'Uppolice', 'name': 'UP POLICE', 'id': 1271749327, 'id_str': '1271749327', 'indices': [129, 138]}, {'screen_name': 'UPGovt', 'name': 'Government of UP', 'id': 2588841246, 'id_str': '2588841246', 'indices': [139, 146]}, {'screen_name': 'homeupgov', 'name': 'HOME DEPARTMENT UP', 'id': 3313144356, 'id_str': '3313144356', 'indices': [147, 157]}], 'urls': [], 'media': [{'id': 1558013370087149569, 'id_str': '1558013370087149569', 'indices': [158, 181], 'media_url': 'http://pbs.twimg.com/ext_tw_video_thumb/1558013370087149569/pu/img/ESoze5byaSB44tHD.jpg', 'media_url_https': 'https://pbs.twimg.com/ext_tw_video_thumb/1558013370087149569/pu/img/ESoze5byaSB44tHD.jpg', 'url': 'https://t.co/yub0Us7IJA', 'display_url': 'pic.twitter.com/yub0Us7IJA', 'expanded_url': 'https://twitter.com/112UttarPradesh/status/1558013799097323520/video/1', 'type': 'photo', 'sizes': {'thumb': {'w': 150, 'h': 150, 'resize': 'crop'}, 'medium': {'w': 1200, 'h': 675, 'resize': 'fit'}, 'small': {'w': 680, 'h': 383, 'resize': 'fit'}, 'large': {'w': 1280, 'h': 720, 'resize': 'fit'}}}]}, 'extended_entities': {'media': [{'id': 1558013370087149569, 'id_str': '1558013370087149569', 'indices': [158, 181], 'media_url': 'http://pbs.twimg.com/ext_tw_video_thumb/1558013370087149569/pu/img/ESoze5byaSB44tHD.jpg', 'media_url_https': 'https://pbs.twimg.com/ext_tw_video_thumb/1558013370087149569/pu/img/ESoze5byaSB44tHD.jpg', 'url': 'https://t.co/yub0Us7IJA', 'display_url': 'pic.twitter.com/yub0Us7IJA', 'expanded_url': 'https://twitter.com/112UttarPradesh/status/1558013799097323520/video/1', 'type': 'video', 'sizes': {'thumb': {'w': 150, 'h': 150, 'resize': 'crop'}, 'medium': {'w': 1200, 'h': 675, 'resize': 'fit'}, 'small': {'w': 680, 'h': 383, 'resize': 'fit'}, 'large': {'w': 1280, 'h': 720, 'resize': 'fit'}}, 'video_info': {'aspect_ratio': [16, 9], 'duration_millis': 67080, 'variants': [{'bitrate': 256000, 'content_type': 'video/mp4', 'url': 'https://video.twimg.com/ext_tw_video/1558013370087149569/pu/vid/480x270/9yd9INblptkyl_jM.mp4?tag=12'}, {'bitrate': 832000, 'content_type': 'video/mp4', 'url': 'https://video.twimg.com/ext_tw_video/1558013370087149569/pu/vid/640x360/RpuyU_OP20AjMxyW.mp4?tag=12'}, {'bitrate': 2176000, 'content_type': 'video/mp4', 'url': 'https://video.twimg.com/ext_tw_video/1558013370087149569/pu/vid/1280x720/UrhjavbWnfKU8Ika.mp4?tag=12'}, {'content_type': 'application/x-mpegURL', 'url': 'https://video.twimg.com/ext_tw_video/1558013370087149569/pu/pl/HwFRmoXDjsqhuQDL.m3u8?tag=12&container=fmp4'}]}, 'additional_media_info': {'monetizable': False}}]}, 'metadata': {'iso_language_code': 'hi', 'result_type': 'recent'}, 'source': '<a href=\"https://mobile.twitter.com\" rel=\"nofollow\">Twitter Web App</a>', 'in_reply_to_status_id': None, 'in_reply_to_status_id_str': None, 'in_reply_to_user_id': None, 'in_reply_to_user_id_str': None, 'in_reply_to_screen_name': None, 'user': {'id': 754903076474068993, 'id_str': '754903076474068993', 'name': 'Call 112', 'screen_name': '112UttarPradesh', 'location': 'Uttar Pradesh, India', 'description': '#Call112 for any immediate assistance from @Uppolice, Fire, Ambulance or other emergency services in Uttar Pradesh.', 'url': 'https://t.co/w3jRSn7atw', 'entities': {'url': {'urls': [{'url': 'https://t.co/w3jRSn7atw', 'expanded_url': 'http://112.up.gov.in', 'display_url': '112.up.gov.in', 'indices': [0, 23]}]}, 'description': {'urls': []}}, 'protected': False, 'followers_count': 690015, 'friends_count': 69, 'listed_count': 231, 'created_at': 'Mon Jul 18 04:58:13 +0000 2016', 'favourites_count': 18666, 'utc_offset': None, 'time_zone': None, 'geo_enabled': True, 'verified': True, 'statuses_count': 212582, 'lang': None, 'contributors_enabled': False, 'is_translator': False, 'is_translation_enabled': False, 'profile_background_color': '000000', 'profile_background_image_url': 'http://abs.twimg.com/images/themes/theme1/bg.png', 'profile_background_image_url_https': 'https://abs.twimg.com/images/themes/theme1/bg.png', 'profile_background_tile': False, 'profile_image_url': 'http://pbs.twimg.com/profile_images/1554083195230236674/uMjgcCuo_normal.jpg', 'profile_image_url_https': 'https://pbs.twimg.com/profile_images/1554083195230236674/uMjgcCuo_normal.jpg', 'profile_banner_url': 'https://pbs.twimg.com/profile_banners/754903076474068993/1659358563', 'profile_link_color': '1B95E0', 'profile_sidebar_border_color': '000000', 'profile_sidebar_fill_color': '000000', 'profile_text_color': '000000', 'profile_use_background_image': False, 'has_extended_profile': False, 'default_profile': False, 'default_profile_image': False, 'following': None, 'follow_request_sent': None, 'notifications': None, 'translator_type': 'none', 'withheld_in_countries': []}, 'geo': None, 'coordinates': None, 'place': None, 'contributors': None, 'is_quote_status': False, 'retweet_count': 48, 'favorite_count': 213, 'favorited': False, 'retweeted': False, 'possibly_sensitive': False, 'lang': 'hi'}, 'is_quote_status': False, 'retweet_count': 48, 'favorite_count': 0, 'favorited': False, 'retweeted': False, 'lang': 'hi'}, created_at=datetime.datetime(2022, 8, 12, 20, 46, 36, tzinfo=datetime.timezone.utc), id=1558193255719661568, id_str='1558193255719661568', full_text='RT @112UttarPradesh: आज फिर आकाश मुस्कुरा रहा है,\\nक्योंकि मेरे भारत का तिरंगा लहरा रहा है!\\n#HarGharTiranga \\n#AzadiKaAmritMahotsav \\n#Call112…', truncated=False, display_text_range=[0, 140], entities={'hashtags': [{'text': 'HarGharTiranga', 'indices': [91, 106]}, {'text': 'AzadiKaAmritMahotsav', 'indices': [108, 129]}, {'text': 'Call112', 'indices': [131, 139]}], 'symbols': [], 'user_mentions': [{'screen_name': '112UttarPradesh', 'name': 'Call 112', 'id': 754903076474068993, 'id_str': '754903076474068993', 'indices': [3, 19]}], 'urls': []}, metadata={'iso_language_code': 'hi', 'result_type': 'recent'}, source='Twitter for Android', source_url='http://twitter.com/download/android', in_reply_to_status_id=None, in_reply_to_status_id_str=None, in_reply_to_user_id=None, in_reply_to_user_id_str=None, in_reply_to_screen_name=None, author=User(_api=<tweepy.api.API object at 0x00000222E2747AC0>, _json={'id': 1459819469321097217, 'id_str': '1459819469321097217', 'name': 'NAVNEET Pal', 'screen_name': 'NAVNEET22742726', 'location': 'Indira Nagar, Rae Bareily', 'description': 'मै समाज सेवा में अपने को हमेशा तत्पर समर्पित करता रहता हूं और समाज सेवा के साथ,मै एक विद्यार्थी भी हूं।', 'url': None, 'entities': {'description': {'urls': []}}, 'protected': False, 'followers_count': 349, 'friends_count': 151, 'listed_count': 0, 'created_at': 'Sun Nov 14 09:44:36 +0000 2021', 'favourites_count': 2565, 'utc_offset': None, 'time_zone': None, 'geo_enabled': True, 'verified': False, 'statuses_count': 1719, 'lang': None, 'contributors_enabled': False, 'is_translator': False, 'is_translation_enabled': False, 'profile_background_color': 'F5F8FA', 'profile_background_image_url': None, 'profile_background_image_url_https': None, 'profile_background_tile': False, 'profile_image_url': 'http://pbs.twimg.com/profile_images/1558182518972911616/6cmXisuB_normal.jpg', 'profile_image_url_https': 'https://pbs.twimg.com/profile_images/1558182518972911616/6cmXisuB_normal.jpg', 'profile_banner_url': 'https://pbs.twimg.com/profile_banners/1459819469321097217/1660336974', 'profile_link_color': '1DA1F2', 'profile_sidebar_border_color': 'C0DEED', 'profile_sidebar_fill_color': 'DDEEF6', 'profile_text_color': '333333', 'profile_use_background_image': True, 'has_extended_profile': True, 'default_profile': True, 'default_profile_image': False, 'following': None, 'follow_request_sent': None, 'notifications': None, 'translator_type': 'none', 'withheld_in_countries': []}, id=1459819469321097217, id_str='1459819469321097217', name='NAVNEET Pal', screen_name='NAVNEET22742726', location='Indira Nagar, Rae Bareily', description='मै समाज सेवा में अपने को हमेशा तत्पर समर्पित करता रहता हूं और समाज सेवा के साथ,मै एक विद्यार्थी भी हूं।', url=None, entities={'description': {'urls': []}}, protected=False, followers_count=349, friends_count=151, listed_count=0, created_at=datetime.datetime(2021, 11, 14, 9, 44, 36, tzinfo=datetime.timezone.utc), favourites_count=2565, utc_offset=None, time_zone=None, geo_enabled=True, verified=False, statuses_count=1719, lang=None, contributors_enabled=False, is_translator=False, is_translation_enabled=False, profile_background_color='F5F8FA', profile_background_image_url=None, profile_background_image_url_https=None, profile_background_tile=False, profile_image_url='http://pbs.twimg.com/profile_images/1558182518972911616/6cmXisuB_normal.jpg', profile_image_url_https='https://pbs.twimg.com/profile_images/1558182518972911616/6cmXisuB_normal.jpg', profile_banner_url='https://pbs.twimg.com/profile_banners/1459819469321097217/1660336974', profile_link_color='1DA1F2', profile_sidebar_border_color='C0DEED', profile_sidebar_fill_color='DDEEF6', profile_text_color='333333', profile_use_background_image=True, has_extended_profile=True, default_profile=True, default_profile_image=False, following=False, follow_request_sent=None, notifications=None, translator_type='none', withheld_in_countries=[]), user=User(_api=<tweepy.api.API object at 0x00000222E2747AC0>, _json={'id': 1459819469321097217, 'id_str': '1459819469321097217', 'name': 'NAVNEET Pal', 'screen_name': 'NAVNEET22742726', 'location': 'Indira Nagar, Rae Bareily', 'description': 'मै समाज सेवा में अपने को हमेशा तत्पर समर्पित करता रहता हूं और समाज सेवा के साथ,मै एक विद्यार्थी भी हूं।', 'url': None, 'entities': {'description': {'urls': []}}, 'protected': False, 'followers_count': 349, 'friends_count': 151, 'listed_count': 0, 'created_at': 'Sun Nov 14 09:44:36 +0000 2021', 'favourites_count': 2565, 'utc_offset': None, 'time_zone': None, 'geo_enabled': True, 'verified': False, 'statuses_count': 1719, 'lang': None, 'contributors_enabled': False, 'is_translator': False, 'is_translation_enabled': False, 'profile_background_color': 'F5F8FA', 'profile_background_image_url': None, 'profile_background_image_url_https': None, 'profile_background_tile': False, 'profile_image_url': 'http://pbs.twimg.com/profile_images/1558182518972911616/6cmXisuB_normal.jpg', 'profile_image_url_https': 'https://pbs.twimg.com/profile_images/1558182518972911616/6cmXisuB_normal.jpg', 'profile_banner_url': 'https://pbs.twimg.com/profile_banners/1459819469321097217/1660336974', 'profile_link_color': '1DA1F2', 'profile_sidebar_border_color': 'C0DEED', 'profile_sidebar_fill_color': 'DDEEF6', 'profile_text_color': '333333', 'profile_use_background_image': True, 'has_extended_profile': True, 'default_profile': True, 'default_profile_image': False, 'following': None, 'follow_request_sent': None, 'notifications': None, 'translator_type': 'none', 'withheld_in_countries': []}, id=1459819469321097217, id_str='1459819469321097217', name='NAVNEET Pal', screen_name='NAVNEET22742726', location='Indira Nagar, Rae Bareily', description='मै समाज सेवा में अपने को हमेशा तत्पर समर्पित करता रहता हूं और समाज सेवा के साथ,मै एक विद्यार्थी भी हूं।', url=None, entities={'description': {'urls': []}}, protected=False, followers_count=349, friends_count=151, listed_count=0, created_at=datetime.datetime(2021, 11, 14, 9, 44, 36, tzinfo=datetime.timezone.utc), favourites_count=2565, utc_offset=None, time_zone=None, geo_enabled=True, verified=False, statuses_count=1719, lang=None, contributors_enabled=False, is_translator=False, is_translation_enabled=False, profile_background_color='F5F8FA', profile_background_image_url=None, profile_background_image_url_https=None, profile_background_tile=False, profile_image_url='http://pbs.twimg.com/profile_images/1558182518972911616/6cmXisuB_normal.jpg', profile_image_url_https='https://pbs.twimg.com/profile_images/1558182518972911616/6cmXisuB_normal.jpg', profile_banner_url='https://pbs.twimg.com/profile_banners/1459819469321097217/1660336974', profile_link_color='1DA1F2', profile_sidebar_border_color='C0DEED', profile_sidebar_fill_color='DDEEF6', profile_text_color='333333', profile_use_background_image=True, has_extended_profile=True, default_profile=True, default_profile_image=False, following=False, follow_request_sent=None, notifications=None, translator_type='none', withheld_in_countries=[]), geo=None, coordinates=None, place=None, contributors=None, retweeted_status=Status(_api=<tweepy.api.API object at 0x00000222E2747AC0>, _json={'created_at': 'Fri Aug 12 08:53:30 +0000 2022', 'id': 1558013799097323520, 'id_str': '1558013799097323520', 'full_text': 'आज फिर आकाश मुस्कुरा रहा है,\\nक्योंकि मेरे भारत का तिरंगा लहरा रहा है!\\n#HarGharTiranga \\n#AzadiKaAmritMahotsav \\n#Call112 \\n#UP112 \\n\\n@Uppolice @UPGovt @homeupgov https://t.co/yub0Us7IJA', 'truncated': False, 'display_text_range': [0, 157], 'entities': {'hashtags': [{'text': 'HarGharTiranga', 'indices': [70, 85]}, {'text': 'AzadiKaAmritMahotsav', 'indices': [87, 108]}, {'text': 'Call112', 'indices': [110, 118]}, {'text': 'UP112', 'indices': [120, 126]}], 'symbols': [], 'user_mentions': [{'screen_name': 'Uppolice', 'name': 'UP POLICE', 'id': 1271749327, 'id_str': '1271749327', 'indices': [129, 138]}, {'screen_name': 'UPGovt', 'name': 'Government of UP', 'id': 2588841246, 'id_str': '2588841246', 'indices': [139, 146]}, {'screen_name': 'homeupgov', 'name': 'HOME DEPARTMENT UP', 'id': 3313144356, 'id_str': '3313144356', 'indices': [147, 157]}], 'urls': [], 'media': [{'id': 1558013370087149569, 'id_str': '1558013370087149569', 'indices': [158, 181], 'media_url': 'http://pbs.twimg.com/ext_tw_video_thumb/1558013370087149569/pu/img/ESoze5byaSB44tHD.jpg', 'media_url_https': 'https://pbs.twimg.com/ext_tw_video_thumb/1558013370087149569/pu/img/ESoze5byaSB44tHD.jpg', 'url': 'https://t.co/yub0Us7IJA', 'display_url': 'pic.twitter.com/yub0Us7IJA', 'expanded_url': 'https://twitter.com/112UttarPradesh/status/1558013799097323520/video/1', 'type': 'photo', 'sizes': {'thumb': {'w': 150, 'h': 150, 'resize': 'crop'}, 'medium': {'w': 1200, 'h': 675, 'resize': 'fit'}, 'small': {'w': 680, 'h': 383, 'resize': 'fit'}, 'large': {'w': 1280, 'h': 720, 'resize': 'fit'}}}]}, 'extended_entities': {'media': [{'id': 1558013370087149569, 'id_str': '1558013370087149569', 'indices': [158, 181], 'media_url': 'http://pbs.twimg.com/ext_tw_video_thumb/1558013370087149569/pu/img/ESoze5byaSB44tHD.jpg', 'media_url_https': 'https://pbs.twimg.com/ext_tw_video_thumb/1558013370087149569/pu/img/ESoze5byaSB44tHD.jpg', 'url': 'https://t.co/yub0Us7IJA', 'display_url': 'pic.twitter.com/yub0Us7IJA', 'expanded_url': 'https://twitter.com/112UttarPradesh/status/1558013799097323520/video/1', 'type': 'video', 'sizes': {'thumb': {'w': 150, 'h': 150, 'resize': 'crop'}, 'medium': {'w': 1200, 'h': 675, 'resize': 'fit'}, 'small': {'w': 680, 'h': 383, 'resize': 'fit'}, 'large': {'w': 1280, 'h': 720, 'resize': 'fit'}}, 'video_info': {'aspect_ratio': [16, 9], 'duration_millis': 67080, 'variants': [{'bitrate': 256000, 'content_type': 'video/mp4', 'url': 'https://video.twimg.com/ext_tw_video/1558013370087149569/pu/vid/480x270/9yd9INblptkyl_jM.mp4?tag=12'}, {'bitrate': 832000, 'content_type': 'video/mp4', 'url': 'https://video.twimg.com/ext_tw_video/1558013370087149569/pu/vid/640x360/RpuyU_OP20AjMxyW.mp4?tag=12'}, {'bitrate': 2176000, 'content_type': 'video/mp4', 'url': 'https://video.twimg.com/ext_tw_video/1558013370087149569/pu/vid/1280x720/UrhjavbWnfKU8Ika.mp4?tag=12'}, {'content_type': 'application/x-mpegURL', 'url': 'https://video.twimg.com/ext_tw_video/1558013370087149569/pu/pl/HwFRmoXDjsqhuQDL.m3u8?tag=12&container=fmp4'}]}, 'additional_media_info': {'monetizable': False}}]}, 'metadata': {'iso_language_code': 'hi', 'result_type': 'recent'}, 'source': '<a href=\"https://mobile.twitter.com\" rel=\"nofollow\">Twitter Web App</a>', 'in_reply_to_status_id': None, 'in_reply_to_status_id_str': None, 'in_reply_to_user_id': None, 'in_reply_to_user_id_str': None, 'in_reply_to_screen_name': None, 'user': {'id': 754903076474068993, 'id_str': '754903076474068993', 'name': 'Call 112', 'screen_name': '112UttarPradesh', 'location': 'Uttar Pradesh, India', 'description': '#Call112 for any immediate assistance from @Uppolice, Fire, Ambulance or other emergency services in Uttar Pradesh.', 'url': 'https://t.co/w3jRSn7atw', 'entities': {'url': {'urls': [{'url': 'https://t.co/w3jRSn7atw', 'expanded_url': 'http://112.up.gov.in', 'display_url': '112.up.gov.in', 'indices': [0, 23]}]}, 'description': {'urls': []}}, 'protected': False, 'followers_count': 690015, 'friends_count': 69, 'listed_count': 231, 'created_at': 'Mon Jul 18 04:58:13 +0000 2016', 'favourites_count': 18666, 'utc_offset': None, 'time_zone': None, 'geo_enabled': True, 'verified': True, 'statuses_count': 212582, 'lang': None, 'contributors_enabled': False, 'is_translator': False, 'is_translation_enabled': False, 'profile_background_color': '000000', 'profile_background_image_url': 'http://abs.twimg.com/images/themes/theme1/bg.png', 'profile_background_image_url_https': 'https://abs.twimg.com/images/themes/theme1/bg.png', 'profile_background_tile': False, 'profile_image_url': 'http://pbs.twimg.com/profile_images/1554083195230236674/uMjgcCuo_normal.jpg', 'profile_image_url_https': 'https://pbs.twimg.com/profile_images/1554083195230236674/uMjgcCuo_normal.jpg', 'profile_banner_url': 'https://pbs.twimg.com/profile_banners/754903076474068993/1659358563', 'profile_link_color': '1B95E0', 'profile_sidebar_border_color': '000000', 'profile_sidebar_fill_color': '000000', 'profile_text_color': '000000', 'profile_use_background_image': False, 'has_extended_profile': False, 'default_profile': False, 'default_profile_image': False, 'following': None, 'follow_request_sent': None, 'notifications': None, 'translator_type': 'none', 'withheld_in_countries': []}, 'geo': None, 'coordinates': None, 'place': None, 'contributors': None, 'is_quote_status': False, 'retweet_count': 48, 'favorite_count': 213, 'favorited': False, 'retweeted': False, 'possibly_sensitive': False, 'lang': 'hi'}, created_at=datetime.datetime(2022, 8, 12, 8, 53, 30, tzinfo=datetime.timezone.utc), id=1558013799097323520, id_str='1558013799097323520', full_text='आज फिर आकाश मुस्कुरा रहा है,\\nक्योंकि मेरे भारत का तिरंगा लहरा रहा है!\\n#HarGharTiranga \\n#AzadiKaAmritMahotsav \\n#Call112 \\n#UP112 \\n\\n@Uppolice @UPGovt @homeupgov https://t.co/yub0Us7IJA', truncated=False, display_text_range=[0, 157], entities={'hashtags': [{'text': 'HarGharTiranga', 'indices': [70, 85]}, {'text': 'AzadiKaAmritMahotsav', 'indices': [87, 108]}, {'text': 'Call112', 'indices': [110, 118]}, {'text': 'UP112', 'indices': [120, 126]}], 'symbols': [], 'user_mentions': [{'screen_name': 'Uppolice', 'name': 'UP POLICE', 'id': 1271749327, 'id_str': '1271749327', 'indices': [129, 138]}, {'screen_name': 'UPGovt', 'name': 'Government of UP', 'id': 2588841246, 'id_str': '2588841246', 'indices': [139, 146]}, {'screen_name': 'homeupgov', 'name': 'HOME DEPARTMENT UP', 'id': 3313144356, 'id_str': '3313144356', 'indices': [147, 157]}], 'urls': [], 'media': [{'id': 1558013370087149569, 'id_str': '1558013370087149569', 'indices': [158, 181], 'media_url': 'http://pbs.twimg.com/ext_tw_video_thumb/1558013370087149569/pu/img/ESoze5byaSB44tHD.jpg', 'media_url_https': 'https://pbs.twimg.com/ext_tw_video_thumb/1558013370087149569/pu/img/ESoze5byaSB44tHD.jpg', 'url': 'https://t.co/yub0Us7IJA', 'display_url': 'pic.twitter.com/yub0Us7IJA', 'expanded_url': 'https://twitter.com/112UttarPradesh/status/1558013799097323520/video/1', 'type': 'photo', 'sizes': {'thumb': {'w': 150, 'h': 150, 'resize': 'crop'}, 'medium': {'w': 1200, 'h': 675, 'resize': 'fit'}, 'small': {'w': 680, 'h': 383, 'resize': 'fit'}, 'large': {'w': 1280, 'h': 720, 'resize': 'fit'}}}]}, extended_entities={'media': [{'id': 1558013370087149569, 'id_str': '1558013370087149569', 'indices': [158, 181], 'media_url': 'http://pbs.twimg.com/ext_tw_video_thumb/1558013370087149569/pu/img/ESoze5byaSB44tHD.jpg', 'media_url_https': 'https://pbs.twimg.com/ext_tw_video_thumb/1558013370087149569/pu/img/ESoze5byaSB44tHD.jpg', 'url': 'https://t.co/yub0Us7IJA', 'display_url': 'pic.twitter.com/yub0Us7IJA', 'expanded_url': 'https://twitter.com/112UttarPradesh/status/1558013799097323520/video/1', 'type': 'video', 'sizes': {'thumb': {'w': 150, 'h': 150, 'resize': 'crop'}, 'medium': {'w': 1200, 'h': 675, 'resize': 'fit'}, 'small': {'w': 680, 'h': 383, 'resize': 'fit'}, 'large': {'w': 1280, 'h': 720, 'resize': 'fit'}}, 'video_info': {'aspect_ratio': [16, 9], 'duration_millis': 67080, 'variants': [{'bitrate': 256000, 'content_type': 'video/mp4', 'url': 'https://video.twimg.com/ext_tw_video/1558013370087149569/pu/vid/480x270/9yd9INblptkyl_jM.mp4?tag=12'}, {'bitrate': 832000, 'content_type': 'video/mp4', 'url': 'https://video.twimg.com/ext_tw_video/1558013370087149569/pu/vid/640x360/RpuyU_OP20AjMxyW.mp4?tag=12'}, {'bitrate': 2176000, 'content_type': 'video/mp4', 'url': 'https://video.twimg.com/ext_tw_video/1558013370087149569/pu/vid/1280x720/UrhjavbWnfKU8Ika.mp4?tag=12'}, {'content_type': 'application/x-mpegURL', 'url': 'https://video.twimg.com/ext_tw_video/1558013370087149569/pu/pl/HwFRmoXDjsqhuQDL.m3u8?tag=12&container=fmp4'}]}, 'additional_media_info': {'monetizable': False}}]}, metadata={'iso_language_code': 'hi', 'result_type': 'recent'}, source='Twitter Web App', source_url='https://mobile.twitter.com', in_reply_to_status_id=None, in_reply_to_status_id_str=None, in_reply_to_user_id=None, in_reply_to_user_id_str=None, in_reply_to_screen_name=None, author=User(_api=<tweepy.api.API object at 0x00000222E2747AC0>, _json={'id': 754903076474068993, 'id_str': '754903076474068993', 'name': 'Call 112', 'screen_name': '112UttarPradesh', 'location': 'Uttar Pradesh, India', 'description': '#Call112 for any immediate assistance from @Uppolice, Fire, Ambulance or other emergency services in Uttar Pradesh.', 'url': 'https://t.co/w3jRSn7atw', 'entities': {'url': {'urls': [{'url': 'https://t.co/w3jRSn7atw', 'expanded_url': 'http://112.up.gov.in', 'display_url': '112.up.gov.in', 'indices': [0, 23]}]}, 'description': {'urls': []}}, 'protected': False, 'followers_count': 690015, 'friends_count': 69, 'listed_count': 231, 'created_at': 'Mon Jul 18 04:58:13 +0000 2016', 'favourites_count': 18666, 'utc_offset': None, 'time_zone': None, 'geo_enabled': True, 'verified': True, 'statuses_count': 212582, 'lang': None, 'contributors_enabled': False, 'is_translator': False, 'is_translation_enabled': False, 'profile_background_color': '000000', 'profile_background_image_url': 'http://abs.twimg.com/images/themes/theme1/bg.png', 'profile_background_image_url_https': 'https://abs.twimg.com/images/themes/theme1/bg.png', 'profile_background_tile': False, 'profile_image_url': 'http://pbs.twimg.com/profile_images/1554083195230236674/uMjgcCuo_normal.jpg', 'profile_image_url_https': 'https://pbs.twimg.com/profile_images/1554083195230236674/uMjgcCuo_normal.jpg', 'profile_banner_url': 'https://pbs.twimg.com/profile_banners/754903076474068993/1659358563', 'profile_link_color': '1B95E0', 'profile_sidebar_border_color': '000000', 'profile_sidebar_fill_color': '000000', 'profile_text_color': '000000', 'profile_use_background_image': False, 'has_extended_profile': False, 'default_profile': False, 'default_profile_image': False, 'following': None, 'follow_request_sent': None, 'notifications': None, 'translator_type': 'none', 'withheld_in_countries': []}, id=754903076474068993, id_str='754903076474068993', name='Call 112', screen_name='112UttarPradesh', location='Uttar Pradesh, India', description='#Call112 for any immediate assistance from @Uppolice, Fire, Ambulance or other emergency services in Uttar Pradesh.', url='https://t.co/w3jRSn7atw', entities={'url': {'urls': [{'url': 'https://t.co/w3jRSn7atw', 'expanded_url': 'http://112.up.gov.in', 'display_url': '112.up.gov.in', 'indices': [0, 23]}]}, 'description': {'urls': []}}, protected=False, followers_count=690015, friends_count=69, listed_count=231, created_at=datetime.datetime(2016, 7, 18, 4, 58, 13, tzinfo=datetime.timezone.utc), favourites_count=18666, utc_offset=None, time_zone=None, geo_enabled=True, verified=True, statuses_count=212582, lang=None, contributors_enabled=False, is_translator=False, is_translation_enabled=False, profile_background_color='000000', profile_background_image_url='http://abs.twimg.com/images/themes/theme1/bg.png', profile_background_image_url_https='https://abs.twimg.com/images/themes/theme1/bg.png', profile_background_tile=False, profile_image_url='http://pbs.twimg.com/profile_images/1554083195230236674/uMjgcCuo_normal.jpg', profile_image_url_https='https://pbs.twimg.com/profile_images/1554083195230236674/uMjgcCuo_normal.jpg', profile_banner_url='https://pbs.twimg.com/profile_banners/754903076474068993/1659358563', profile_link_color='1B95E0', profile_sidebar_border_color='000000', profile_sidebar_fill_color='000000', profile_text_color='000000', profile_use_background_image=False, has_extended_profile=False, default_profile=False, default_profile_image=False, following=False, follow_request_sent=None, notifications=None, translator_type='none', withheld_in_countries=[]), user=User(_api=<tweepy.api.API object at 0x00000222E2747AC0>, _json={'id': 754903076474068993, 'id_str': '754903076474068993', 'name': 'Call 112', 'screen_name': '112UttarPradesh', 'location': 'Uttar Pradesh, India', 'description': '#Call112 for any immediate assistance from @Uppolice, Fire, Ambulance or other emergency services in Uttar Pradesh.', 'url': 'https://t.co/w3jRSn7atw', 'entities': {'url': {'urls': [{'url': 'https://t.co/w3jRSn7atw', 'expanded_url': 'http://112.up.gov.in', 'display_url': '112.up.gov.in', 'indices': [0, 23]}]}, 'description': {'urls': []}}, 'protected': False, 'followers_count': 690015, 'friends_count': 69, 'listed_count': 231, 'created_at': 'Mon Jul 18 04:58:13 +0000 2016', 'favourites_count': 18666, 'utc_offset': None, 'time_zone': None, 'geo_enabled': True, 'verified': True, 'statuses_count': 212582, 'lang': None, 'contributors_enabled': False, 'is_translator': False, 'is_translation_enabled': False, 'profile_background_color': '000000', 'profile_background_image_url': 'http://abs.twimg.com/images/themes/theme1/bg.png', 'profile_background_image_url_https': 'https://abs.twimg.com/images/themes/theme1/bg.png', 'profile_background_tile': False, 'profile_image_url': 'http://pbs.twimg.com/profile_images/1554083195230236674/uMjgcCuo_normal.jpg', 'profile_image_url_https': 'https://pbs.twimg.com/profile_images/1554083195230236674/uMjgcCuo_normal.jpg', 'profile_banner_url': 'https://pbs.twimg.com/profile_banners/754903076474068993/1659358563', 'profile_link_color': '1B95E0', 'profile_sidebar_border_color': '000000', 'profile_sidebar_fill_color': '000000', 'profile_text_color': '000000', 'profile_use_background_image': False, 'has_extended_profile': False, 'default_profile': False, 'default_profile_image': False, 'following': None, 'follow_request_sent': None, 'notifications': None, 'translator_type': 'none', 'withheld_in_countries': []}, id=754903076474068993, id_str='754903076474068993', name='Call 112', screen_name='112UttarPradesh', location='Uttar Pradesh, India', description='#Call112 for any immediate assistance from @Uppolice, Fire, Ambulance or other emergency services in Uttar Pradesh.', url='https://t.co/w3jRSn7atw', entities={'url': {'urls': [{'url': 'https://t.co/w3jRSn7atw', 'expanded_url': 'http://112.up.gov.in', 'display_url': '112.up.gov.in', 'indices': [0, 23]}]}, 'description': {'urls': []}}, protected=False, followers_count=690015, friends_count=69, listed_count=231, created_at=datetime.datetime(2016, 7, 18, 4, 58, 13, tzinfo=datetime.timezone.utc), favourites_count=18666, utc_offset=None, time_zone=None, geo_enabled=True, verified=True, statuses_count=212582, lang=None, contributors_enabled=False, is_translator=False, is_translation_enabled=False, profile_background_color='000000', profile_background_image_url='http://abs.twimg.com/images/themes/theme1/bg.png', profile_background_image_url_https='https://abs.twimg.com/images/themes/theme1/bg.png', profile_background_tile=False, profile_image_url='http://pbs.twimg.com/profile_images/1554083195230236674/uMjgcCuo_normal.jpg', profile_image_url_https='https://pbs.twimg.com/profile_images/1554083195230236674/uMjgcCuo_normal.jpg', profile_banner_url='https://pbs.twimg.com/profile_banners/754903076474068993/1659358563', profile_link_color='1B95E0', profile_sidebar_border_color='000000', profile_sidebar_fill_color='000000', profile_text_color='000000', profile_use_background_image=False, has_extended_profile=False, default_profile=False, default_profile_image=False, following=False, follow_request_sent=None, notifications=None, translator_type='none', withheld_in_countries=[]), geo=None, coordinates=None, place=None, contributors=None, is_quote_status=False, retweet_count=48, favorite_count=213, favorited=False, retweeted=False, possibly_sensitive=False, lang='hi'), is_quote_status=False, retweet_count=48, favorite_count=0, favorited=False, retweeted=False, lang='hi')\n"
     ]
    }
   ],
   "source": [
    "for tweet in tweets:\n",
    "    print(tweet)\n",
    "    data.append([tweet.user.screen_name, tweet.full_text])"
   ]
  },
  {
   "cell_type": "code",
   "execution_count": null,
   "id": "48061c8e",
   "metadata": {},
   "outputs": [],
   "source": []
  },
  {
   "cell_type": "code",
   "execution_count": 88,
   "id": "a6c2d6eb",
   "metadata": {},
   "outputs": [
    {
     "data": {
      "text/html": [
       "<div>\n",
       "<style scoped>\n",
       "    .dataframe tbody tr th:only-of-type {\n",
       "        vertical-align: middle;\n",
       "    }\n",
       "\n",
       "    .dataframe tbody tr th {\n",
       "        vertical-align: top;\n",
       "    }\n",
       "\n",
       "    .dataframe thead th {\n",
       "        text-align: right;\n",
       "    }\n",
       "</style>\n",
       "<table border=\"1\" class=\"dataframe\">\n",
       "  <thead>\n",
       "    <tr style=\"text-align: right;\">\n",
       "      <th></th>\n",
       "      <th>User</th>\n",
       "      <th>Tweet</th>\n",
       "    </tr>\n",
       "  </thead>\n",
       "  <tbody>\n",
       "    <tr>\n",
       "      <th>0</th>\n",
       "      <td>AnOrdinaryOdia</td>\n",
       "      <td>RT @narendramodi: अद्भुत! भारत के भावी कर्णधार...</td>\n",
       "    </tr>\n",
       "    <tr>\n",
       "      <th>1</th>\n",
       "      <td>JyotiBatu</td>\n",
       "      <td>RT @Jprasad55: @SuvenduWB #HarGharTiranga #Har...</td>\n",
       "    </tr>\n",
       "    <tr>\n",
       "      <th>2</th>\n",
       "      <td>udayash44</td>\n",
       "      <td>RT @narendramodi: इस जज्बे को प्रणाम! तिरंगे क...</td>\n",
       "    </tr>\n",
       "    <tr>\n",
       "      <th>3</th>\n",
       "      <td>ChavdaRamji2</td>\n",
       "      <td>RT @AmitThakerBJP: વેજલપુર તિરંગાના રંગે રંગાઇ...</td>\n",
       "    </tr>\n",
       "    <tr>\n",
       "      <th>4</th>\n",
       "      <td>ChavdaRamji2</td>\n",
       "      <td>RT @AmSnehil: #AzadiKaAmritMahotsav #HarGharTi...</td>\n",
       "    </tr>\n",
       "  </tbody>\n",
       "</table>\n",
       "</div>"
      ],
      "text/plain": [
       "             User                                              Tweet\n",
       "0  AnOrdinaryOdia  RT @narendramodi: अद्भुत! भारत के भावी कर्णधार...\n",
       "1       JyotiBatu  RT @Jprasad55: @SuvenduWB #HarGharTiranga #Har...\n",
       "2       udayash44  RT @narendramodi: इस जज्बे को प्रणाम! तिरंगे क...\n",
       "3    ChavdaRamji2  RT @AmitThakerBJP: વેજલપુર તિરંગાના રંગે રંગાઇ...\n",
       "4    ChavdaRamji2  RT @AmSnehil: #AzadiKaAmritMahotsav #HarGharTi..."
      ]
     },
     "execution_count": 88,
     "metadata": {},
     "output_type": "execute_result"
    }
   ],
   "source": [
    "df = pd.DataFrame(data, columns=columns)\n",
    "df"
   ]
  }
 ],
 "metadata": {
  "kernelspec": {
   "display_name": "Python 3 (ipykernel)",
   "language": "python",
   "name": "python3"
  },
  "language_info": {
   "codemirror_mode": {
    "name": "ipython",
    "version": 3
   },
   "file_extension": ".py",
   "mimetype": "text/x-python",
   "name": "python",
   "nbconvert_exporter": "python",
   "pygments_lexer": "ipython3",
   "version": "3.9.13"
  }
 },
 "nbformat": 4,
 "nbformat_minor": 5
}
