{
 "cells": [
  {
   "cell_type": "markdown",
   "id": "f97fa269",
   "metadata": {},
   "source": [
    "# Hashtag Analysis"
   ]
  },
  {
   "cell_type": "markdown",
   "id": "e5cc4439",
   "metadata": {},
   "source": [
    "## Importing Packages"
   ]
  },
  {
   "cell_type": "code",
   "execution_count": 168,
   "id": "d3a2c643",
   "metadata": {},
   "outputs": [],
   "source": [
    "import tweepy\n",
    "import configparser\n",
    "import pandas as pd"
   ]
  },
  {
   "cell_type": "markdown",
   "id": "ed276447",
   "metadata": {},
   "source": [
    "## Initial Configurations"
   ]
  },
  {
   "cell_type": "code",
   "execution_count": 169,
   "id": "2efad5a2",
   "metadata": {},
   "outputs": [
    {
     "data": {
      "text/plain": [
       "['config.ini']"
      ]
     },
     "execution_count": 169,
     "metadata": {},
     "output_type": "execute_result"
    }
   ],
   "source": [
    "config = configparser.ConfigParser()\n",
    "config.read('config.ini')"
   ]
  },
  {
   "cell_type": "code",
   "execution_count": 170,
   "id": "6db0eade",
   "metadata": {},
   "outputs": [],
   "source": [
    "api_key = config['twitter']['api_key']\n",
    "api_key_secret = config['twitter']['api_key_secret']"
   ]
  },
  {
   "cell_type": "code",
   "execution_count": 171,
   "id": "98673dd3",
   "metadata": {
    "scrolled": false
   },
   "outputs": [],
   "source": [
    "auth = tweepy.OAuth2AppHandler(\n",
    "    api_key ,\n",
    "    api_key_secret\n",
    ")\n",
    "api = tweepy.API(auth)"
   ]
  },
  {
   "cell_type": "markdown",
   "id": "9fa61955",
   "metadata": {},
   "source": [
    "## Fetching Data"
   ]
  },
  {
   "cell_type": "code",
   "execution_count": 172,
   "id": "da110812",
   "metadata": {},
   "outputs": [],
   "source": [
    "keywords = '#HarGharTiranga'\n",
    "limit=1"
   ]
  },
  {
   "cell_type": "code",
   "execution_count": 173,
   "id": "3a0189c6",
   "metadata": {},
   "outputs": [],
   "source": [
    "tweets = tweepy.Cursor(api.search_tweets, q=keywords, count=100, tweet_mode='extended').items(limit)"
   ]
  },
  {
   "cell_type": "code",
   "execution_count": 174,
   "id": "7949635f",
   "metadata": {},
   "outputs": [
    {
     "data": {
      "text/plain": [
       "<tweepy.cursor.ItemIterator at 0x280a9a39580>"
      ]
     },
     "execution_count": 174,
     "metadata": {},
     "output_type": "execute_result"
    }
   ],
   "source": [
    "tweets"
   ]
  },
  {
   "cell_type": "code",
   "execution_count": 175,
   "id": "09dca9ee",
   "metadata": {},
   "outputs": [],
   "source": [
    "columns = ['UserID', 'Name', 'Tweet', 'Mentions','Created At','Retweet']\n",
    "data = []"
   ]
  },
  {
   "cell_type": "code",
   "execution_count": 176,
   "id": "6e23103e",
   "metadata": {
    "scrolled": true
   },
   "outputs": [
    {
     "name": "stdout",
     "output_type": "stream",
     "text": [
      "Status(_api=<tweepy.api.API object at 0x00000280A9700D60>, _json={'created_at': 'Fri Aug 19 15:05:04 +0000 2022', 'id': 1560644021113958401, 'id_str': '1560644021113958401', 'full_text': \"RT @XpressOdisha: #IndiaAt75\\n@KIITUniversity and @kissfoundation founder MP @achyuta_samanta and students  join the New Indian Express' #Ha…\", 'truncated': False, 'display_text_range': [0, 140], 'entities': {'hashtags': [{'text': 'IndiaAt75', 'indices': [18, 28]}], 'symbols': [], 'user_mentions': [{'screen_name': 'XpressOdisha', 'name': 'TNIE Odisha', 'id': 1179336322193838080, 'id_str': '1179336322193838080', 'indices': [3, 16]}, {'screen_name': 'KIITUniversity', 'name': 'KIIT - Kalinga Institute of Industrial Technology', 'id': 897726186612248576, 'id_str': '897726186612248576', 'indices': [29, 44]}, {'screen_name': 'kissfoundation', 'name': 'KISS - Kalinga Institute of Social Sciences', 'id': 1408406798, 'id_str': '1408406798', 'indices': [49, 64]}, {'screen_name': 'achyuta_samanta', 'name': 'Achyuta Samanta', 'id': 2887798966, 'id_str': '2887798966', 'indices': [76, 92]}], 'urls': []}, 'metadata': {'iso_language_code': 'en', 'result_type': 'recent'}, 'source': '<a href=\"http://twitter.com/download/android\" rel=\"nofollow\">Twitter for Android</a>', 'in_reply_to_status_id': None, 'in_reply_to_status_id_str': None, 'in_reply_to_user_id': None, 'in_reply_to_user_id_str': None, 'in_reply_to_screen_name': None, 'user': {'id': 1496409568523341824, 'id_str': '1496409568523341824', 'name': 'Chandrabhanu Kundu', 'screen_name': 'Chandra92262517', 'location': '', 'description': 'Self Employed in KIIT University on 2014 years', 'url': None, 'entities': {'description': {'urls': []}}, 'protected': False, 'followers_count': 2, 'friends_count': 2, 'listed_count': 0, 'created_at': 'Wed Feb 23 09:01:19 +0000 2022', 'favourites_count': 854, 'utc_offset': None, 'time_zone': None, 'geo_enabled': False, 'verified': False, 'statuses_count': 856, 'lang': None, 'contributors_enabled': False, 'is_translator': False, 'is_translation_enabled': False, 'profile_background_color': 'F5F8FA', 'profile_background_image_url': None, 'profile_background_image_url_https': None, 'profile_background_tile': False, 'profile_image_url': 'http://pbs.twimg.com/profile_images/1496410080706646017/TkRblDbM_normal.jpg', 'profile_image_url_https': 'https://pbs.twimg.com/profile_images/1496410080706646017/TkRblDbM_normal.jpg', 'profile_link_color': '1DA1F2', 'profile_sidebar_border_color': 'C0DEED', 'profile_sidebar_fill_color': 'DDEEF6', 'profile_text_color': '333333', 'profile_use_background_image': True, 'has_extended_profile': True, 'default_profile': True, 'default_profile_image': False, 'following': None, 'follow_request_sent': None, 'notifications': None, 'translator_type': 'none', 'withheld_in_countries': []}, 'geo': None, 'coordinates': None, 'place': None, 'contributors': None, 'retweeted_status': {'created_at': 'Sun Aug 14 08:50:45 +0000 2022', 'id': 1558737880381399040, 'id_str': '1558737880381399040', 'full_text': \"#IndiaAt75\\n@KIITUniversity and @kissfoundation founder MP @achyuta_samanta and students  join the New Indian Express' #HarGharTiranga Abhiyaan | #Odisha\\n#HarGharTirangaCampaign \\n@NewIndianXpress\\n@HeroMotoCorp @Siba_TNIE #IndependenceDayIndia #IndependenceDay2022 https://t.co/sNoTEzHzeL\", 'truncated': False, 'display_text_range': [0, 262], 'entities': {'hashtags': [{'text': 'IndiaAt75', 'indices': [0, 10]}, {'text': 'HarGharTiranga', 'indices': [118, 133]}, {'text': 'Odisha', 'indices': [145, 152]}, {'text': 'HarGharTirangaCampaign', 'indices': [153, 176]}, {'text': 'IndependenceDayIndia', 'indices': [220, 241]}, {'text': 'IndependenceDay2022', 'indices': [242, 262]}], 'symbols': [], 'user_mentions': [{'screen_name': 'KIITUniversity', 'name': 'KIIT - Kalinga Institute of Industrial Technology', 'id': 897726186612248576, 'id_str': '897726186612248576', 'indices': [11, 26]}, {'screen_name': 'kissfoundation', 'name': 'KISS - Kalinga Institute of Social Sciences', 'id': 1408406798, 'id_str': '1408406798', 'indices': [31, 46]}, {'screen_name': 'achyuta_samanta', 'name': 'Achyuta Samanta', 'id': 2887798966, 'id_str': '2887798966', 'indices': [58, 74]}, {'screen_name': 'NewIndianXpress', 'name': 'The New Indian Express', 'id': 94761188, 'id_str': '94761188', 'indices': [178, 194]}, {'screen_name': 'HeroMotoCorp', 'name': 'Hero MotoCorp', 'id': 351538186, 'id_str': '351538186', 'indices': [195, 208]}, {'screen_name': 'Siba_TNIE', 'name': 'Siba Mohanty', 'id': 2908822933, 'id_str': '2908822933', 'indices': [209, 219]}], 'urls': [], 'media': [{'id': 1558737867370680321, 'id_str': '1558737867370680321', 'indices': [263, 286], 'media_url': 'http://pbs.twimg.com/media/FaG_1PKUUAEYZzV.jpg', 'media_url_https': 'https://pbs.twimg.com/media/FaG_1PKUUAEYZzV.jpg', 'url': 'https://t.co/sNoTEzHzeL', 'display_url': 'pic.twitter.com/sNoTEzHzeL', 'expanded_url': 'https://twitter.com/XpressOdisha/status/1558737880381399040/photo/1', 'type': 'photo', 'sizes': {'thumb': {'w': 150, 'h': 150, 'resize': 'crop'}, 'medium': {'w': 1024, 'h': 682, 'resize': 'fit'}, 'large': {'w': 1024, 'h': 682, 'resize': 'fit'}, 'small': {'w': 680, 'h': 453, 'resize': 'fit'}}}]}, 'extended_entities': {'media': [{'id': 1558737867370680321, 'id_str': '1558737867370680321', 'indices': [263, 286], 'media_url': 'http://pbs.twimg.com/media/FaG_1PKUUAEYZzV.jpg', 'media_url_https': 'https://pbs.twimg.com/media/FaG_1PKUUAEYZzV.jpg', 'url': 'https://t.co/sNoTEzHzeL', 'display_url': 'pic.twitter.com/sNoTEzHzeL', 'expanded_url': 'https://twitter.com/XpressOdisha/status/1558737880381399040/photo/1', 'type': 'photo', 'sizes': {'thumb': {'w': 150, 'h': 150, 'resize': 'crop'}, 'medium': {'w': 1024, 'h': 682, 'resize': 'fit'}, 'large': {'w': 1024, 'h': 682, 'resize': 'fit'}, 'small': {'w': 680, 'h': 453, 'resize': 'fit'}}}, {'id': 1558737874165436418, 'id_str': '1558737874165436418', 'indices': [263, 286], 'media_url': 'http://pbs.twimg.com/media/FaG_1oeUEAIbDpl.jpg', 'media_url_https': 'https://pbs.twimg.com/media/FaG_1oeUEAIbDpl.jpg', 'url': 'https://t.co/sNoTEzHzeL', 'display_url': 'pic.twitter.com/sNoTEzHzeL', 'expanded_url': 'https://twitter.com/XpressOdisha/status/1558737880381399040/photo/1', 'type': 'photo', 'sizes': {'thumb': {'w': 150, 'h': 150, 'resize': 'crop'}, 'medium': {'w': 1024, 'h': 682, 'resize': 'fit'}, 'small': {'w': 680, 'h': 453, 'resize': 'fit'}, 'large': {'w': 1024, 'h': 682, 'resize': 'fit'}}}]}, 'metadata': {'iso_language_code': 'en', 'result_type': 'recent'}, 'source': '<a href=\"http://twitter.com/download/android\" rel=\"nofollow\">Twitter for Android</a>', 'in_reply_to_status_id': None, 'in_reply_to_status_id_str': None, 'in_reply_to_user_id': None, 'in_reply_to_user_id_str': None, 'in_reply_to_screen_name': None, 'user': {'id': 1179336322193838080, 'id_str': '1179336322193838080', 'name': 'TNIE Odisha', 'screen_name': 'XpressOdisha', 'location': 'Bhubaneswar', 'description': 'Official handle of @NewIndianXpress, Odisha. Follow us for latest news and our special reports. You can DM your suggestion and share information.', 'url': 'https://t.co/0zVdgU5FvB', 'entities': {'url': {'urls': [{'url': 'https://t.co/0zVdgU5FvB', 'expanded_url': 'http://www.newindianexpress.com/states/odisha', 'display_url': 'newindianexpress.com/states/odisha', 'indices': [0, 23]}]}, 'description': {'urls': []}}, 'protected': False, 'followers_count': 4996, 'friends_count': 166, 'listed_count': 36, 'created_at': 'Wed Oct 02 10:04:35 +0000 2019', 'favourites_count': 229, 'utc_offset': None, 'time_zone': None, 'geo_enabled': False, 'verified': True, 'statuses_count': 23684, 'lang': None, 'contributors_enabled': False, 'is_translator': False, 'is_translation_enabled': False, 'profile_background_color': 'F5F8FA', 'profile_background_image_url': None, 'profile_background_image_url_https': None, 'profile_background_tile': False, 'profile_image_url': 'http://pbs.twimg.com/profile_images/1191635711956414464/Ka4LMJjH_normal.jpg', 'profile_image_url_https': 'https://pbs.twimg.com/profile_images/1191635711956414464/Ka4LMJjH_normal.jpg', 'profile_banner_url': 'https://pbs.twimg.com/profile_banners/1179336322193838080/1636645183', 'profile_link_color': '1DA1F2', 'profile_sidebar_border_color': 'C0DEED', 'profile_sidebar_fill_color': 'DDEEF6', 'profile_text_color': '333333', 'profile_use_background_image': True, 'has_extended_profile': True, 'default_profile': True, 'default_profile_image': False, 'following': None, 'follow_request_sent': None, 'notifications': None, 'translator_type': 'none', 'withheld_in_countries': []}, 'geo': None, 'coordinates': None, 'place': None, 'contributors': None, 'is_quote_status': False, 'retweet_count': 508, 'favorite_count': 708, 'favorited': False, 'retweeted': False, 'possibly_sensitive': False, 'lang': 'en'}, 'is_quote_status': False, 'retweet_count': 508, 'favorite_count': 0, 'favorited': False, 'retweeted': False, 'lang': 'en'}, created_at=datetime.datetime(2022, 8, 19, 15, 5, 4, tzinfo=datetime.timezone.utc), id=1560644021113958401, id_str='1560644021113958401', full_text=\"RT @XpressOdisha: #IndiaAt75\\n@KIITUniversity and @kissfoundation founder MP @achyuta_samanta and students  join the New Indian Express' #Ha…\", truncated=False, display_text_range=[0, 140], entities={'hashtags': [{'text': 'IndiaAt75', 'indices': [18, 28]}], 'symbols': [], 'user_mentions': [{'screen_name': 'XpressOdisha', 'name': 'TNIE Odisha', 'id': 1179336322193838080, 'id_str': '1179336322193838080', 'indices': [3, 16]}, {'screen_name': 'KIITUniversity', 'name': 'KIIT - Kalinga Institute of Industrial Technology', 'id': 897726186612248576, 'id_str': '897726186612248576', 'indices': [29, 44]}, {'screen_name': 'kissfoundation', 'name': 'KISS - Kalinga Institute of Social Sciences', 'id': 1408406798, 'id_str': '1408406798', 'indices': [49, 64]}, {'screen_name': 'achyuta_samanta', 'name': 'Achyuta Samanta', 'id': 2887798966, 'id_str': '2887798966', 'indices': [76, 92]}], 'urls': []}, metadata={'iso_language_code': 'en', 'result_type': 'recent'}, source='Twitter for Android', source_url='http://twitter.com/download/android', in_reply_to_status_id=None, in_reply_to_status_id_str=None, in_reply_to_user_id=None, in_reply_to_user_id_str=None, in_reply_to_screen_name=None, author=User(_api=<tweepy.api.API object at 0x00000280A9700D60>, _json={'id': 1496409568523341824, 'id_str': '1496409568523341824', 'name': 'Chandrabhanu Kundu', 'screen_name': 'Chandra92262517', 'location': '', 'description': 'Self Employed in KIIT University on 2014 years', 'url': None, 'entities': {'description': {'urls': []}}, 'protected': False, 'followers_count': 2, 'friends_count': 2, 'listed_count': 0, 'created_at': 'Wed Feb 23 09:01:19 +0000 2022', 'favourites_count': 854, 'utc_offset': None, 'time_zone': None, 'geo_enabled': False, 'verified': False, 'statuses_count': 856, 'lang': None, 'contributors_enabled': False, 'is_translator': False, 'is_translation_enabled': False, 'profile_background_color': 'F5F8FA', 'profile_background_image_url': None, 'profile_background_image_url_https': None, 'profile_background_tile': False, 'profile_image_url': 'http://pbs.twimg.com/profile_images/1496410080706646017/TkRblDbM_normal.jpg', 'profile_image_url_https': 'https://pbs.twimg.com/profile_images/1496410080706646017/TkRblDbM_normal.jpg', 'profile_link_color': '1DA1F2', 'profile_sidebar_border_color': 'C0DEED', 'profile_sidebar_fill_color': 'DDEEF6', 'profile_text_color': '333333', 'profile_use_background_image': True, 'has_extended_profile': True, 'default_profile': True, 'default_profile_image': False, 'following': None, 'follow_request_sent': None, 'notifications': None, 'translator_type': 'none', 'withheld_in_countries': []}, id=1496409568523341824, id_str='1496409568523341824', name='Chandrabhanu Kundu', screen_name='Chandra92262517', location='', description='Self Employed in KIIT University on 2014 years', url=None, entities={'description': {'urls': []}}, protected=False, followers_count=2, friends_count=2, listed_count=0, created_at=datetime.datetime(2022, 2, 23, 9, 1, 19, tzinfo=datetime.timezone.utc), favourites_count=854, utc_offset=None, time_zone=None, geo_enabled=False, verified=False, statuses_count=856, lang=None, contributors_enabled=False, is_translator=False, is_translation_enabled=False, profile_background_color='F5F8FA', profile_background_image_url=None, profile_background_image_url_https=None, profile_background_tile=False, profile_image_url='http://pbs.twimg.com/profile_images/1496410080706646017/TkRblDbM_normal.jpg', profile_image_url_https='https://pbs.twimg.com/profile_images/1496410080706646017/TkRblDbM_normal.jpg', profile_link_color='1DA1F2', profile_sidebar_border_color='C0DEED', profile_sidebar_fill_color='DDEEF6', profile_text_color='333333', profile_use_background_image=True, has_extended_profile=True, default_profile=True, default_profile_image=False, following=False, follow_request_sent=None, notifications=None, translator_type='none', withheld_in_countries=[]), user=User(_api=<tweepy.api.API object at 0x00000280A9700D60>, _json={'id': 1496409568523341824, 'id_str': '1496409568523341824', 'name': 'Chandrabhanu Kundu', 'screen_name': 'Chandra92262517', 'location': '', 'description': 'Self Employed in KIIT University on 2014 years', 'url': None, 'entities': {'description': {'urls': []}}, 'protected': False, 'followers_count': 2, 'friends_count': 2, 'listed_count': 0, 'created_at': 'Wed Feb 23 09:01:19 +0000 2022', 'favourites_count': 854, 'utc_offset': None, 'time_zone': None, 'geo_enabled': False, 'verified': False, 'statuses_count': 856, 'lang': None, 'contributors_enabled': False, 'is_translator': False, 'is_translation_enabled': False, 'profile_background_color': 'F5F8FA', 'profile_background_image_url': None, 'profile_background_image_url_https': None, 'profile_background_tile': False, 'profile_image_url': 'http://pbs.twimg.com/profile_images/1496410080706646017/TkRblDbM_normal.jpg', 'profile_image_url_https': 'https://pbs.twimg.com/profile_images/1496410080706646017/TkRblDbM_normal.jpg', 'profile_link_color': '1DA1F2', 'profile_sidebar_border_color': 'C0DEED', 'profile_sidebar_fill_color': 'DDEEF6', 'profile_text_color': '333333', 'profile_use_background_image': True, 'has_extended_profile': True, 'default_profile': True, 'default_profile_image': False, 'following': None, 'follow_request_sent': None, 'notifications': None, 'translator_type': 'none', 'withheld_in_countries': []}, id=1496409568523341824, id_str='1496409568523341824', name='Chandrabhanu Kundu', screen_name='Chandra92262517', location='', description='Self Employed in KIIT University on 2014 years', url=None, entities={'description': {'urls': []}}, protected=False, followers_count=2, friends_count=2, listed_count=0, created_at=datetime.datetime(2022, 2, 23, 9, 1, 19, tzinfo=datetime.timezone.utc), favourites_count=854, utc_offset=None, time_zone=None, geo_enabled=False, verified=False, statuses_count=856, lang=None, contributors_enabled=False, is_translator=False, is_translation_enabled=False, profile_background_color='F5F8FA', profile_background_image_url=None, profile_background_image_url_https=None, profile_background_tile=False, profile_image_url='http://pbs.twimg.com/profile_images/1496410080706646017/TkRblDbM_normal.jpg', profile_image_url_https='https://pbs.twimg.com/profile_images/1496410080706646017/TkRblDbM_normal.jpg', profile_link_color='1DA1F2', profile_sidebar_border_color='C0DEED', profile_sidebar_fill_color='DDEEF6', profile_text_color='333333', profile_use_background_image=True, has_extended_profile=True, default_profile=True, default_profile_image=False, following=False, follow_request_sent=None, notifications=None, translator_type='none', withheld_in_countries=[]), geo=None, coordinates=None, place=None, contributors=None, retweeted_status=Status(_api=<tweepy.api.API object at 0x00000280A9700D60>, _json={'created_at': 'Sun Aug 14 08:50:45 +0000 2022', 'id': 1558737880381399040, 'id_str': '1558737880381399040', 'full_text': \"#IndiaAt75\\n@KIITUniversity and @kissfoundation founder MP @achyuta_samanta and students  join the New Indian Express' #HarGharTiranga Abhiyaan | #Odisha\\n#HarGharTirangaCampaign \\n@NewIndianXpress\\n@HeroMotoCorp @Siba_TNIE #IndependenceDayIndia #IndependenceDay2022 https://t.co/sNoTEzHzeL\", 'truncated': False, 'display_text_range': [0, 262], 'entities': {'hashtags': [{'text': 'IndiaAt75', 'indices': [0, 10]}, {'text': 'HarGharTiranga', 'indices': [118, 133]}, {'text': 'Odisha', 'indices': [145, 152]}, {'text': 'HarGharTirangaCampaign', 'indices': [153, 176]}, {'text': 'IndependenceDayIndia', 'indices': [220, 241]}, {'text': 'IndependenceDay2022', 'indices': [242, 262]}], 'symbols': [], 'user_mentions': [{'screen_name': 'KIITUniversity', 'name': 'KIIT - Kalinga Institute of Industrial Technology', 'id': 897726186612248576, 'id_str': '897726186612248576', 'indices': [11, 26]}, {'screen_name': 'kissfoundation', 'name': 'KISS - Kalinga Institute of Social Sciences', 'id': 1408406798, 'id_str': '1408406798', 'indices': [31, 46]}, {'screen_name': 'achyuta_samanta', 'name': 'Achyuta Samanta', 'id': 2887798966, 'id_str': '2887798966', 'indices': [58, 74]}, {'screen_name': 'NewIndianXpress', 'name': 'The New Indian Express', 'id': 94761188, 'id_str': '94761188', 'indices': [178, 194]}, {'screen_name': 'HeroMotoCorp', 'name': 'Hero MotoCorp', 'id': 351538186, 'id_str': '351538186', 'indices': [195, 208]}, {'screen_name': 'Siba_TNIE', 'name': 'Siba Mohanty', 'id': 2908822933, 'id_str': '2908822933', 'indices': [209, 219]}], 'urls': [], 'media': [{'id': 1558737867370680321, 'id_str': '1558737867370680321', 'indices': [263, 286], 'media_url': 'http://pbs.twimg.com/media/FaG_1PKUUAEYZzV.jpg', 'media_url_https': 'https://pbs.twimg.com/media/FaG_1PKUUAEYZzV.jpg', 'url': 'https://t.co/sNoTEzHzeL', 'display_url': 'pic.twitter.com/sNoTEzHzeL', 'expanded_url': 'https://twitter.com/XpressOdisha/status/1558737880381399040/photo/1', 'type': 'photo', 'sizes': {'thumb': {'w': 150, 'h': 150, 'resize': 'crop'}, 'medium': {'w': 1024, 'h': 682, 'resize': 'fit'}, 'large': {'w': 1024, 'h': 682, 'resize': 'fit'}, 'small': {'w': 680, 'h': 453, 'resize': 'fit'}}}]}, 'extended_entities': {'media': [{'id': 1558737867370680321, 'id_str': '1558737867370680321', 'indices': [263, 286], 'media_url': 'http://pbs.twimg.com/media/FaG_1PKUUAEYZzV.jpg', 'media_url_https': 'https://pbs.twimg.com/media/FaG_1PKUUAEYZzV.jpg', 'url': 'https://t.co/sNoTEzHzeL', 'display_url': 'pic.twitter.com/sNoTEzHzeL', 'expanded_url': 'https://twitter.com/XpressOdisha/status/1558737880381399040/photo/1', 'type': 'photo', 'sizes': {'thumb': {'w': 150, 'h': 150, 'resize': 'crop'}, 'medium': {'w': 1024, 'h': 682, 'resize': 'fit'}, 'large': {'w': 1024, 'h': 682, 'resize': 'fit'}, 'small': {'w': 680, 'h': 453, 'resize': 'fit'}}}, {'id': 1558737874165436418, 'id_str': '1558737874165436418', 'indices': [263, 286], 'media_url': 'http://pbs.twimg.com/media/FaG_1oeUEAIbDpl.jpg', 'media_url_https': 'https://pbs.twimg.com/media/FaG_1oeUEAIbDpl.jpg', 'url': 'https://t.co/sNoTEzHzeL', 'display_url': 'pic.twitter.com/sNoTEzHzeL', 'expanded_url': 'https://twitter.com/XpressOdisha/status/1558737880381399040/photo/1', 'type': 'photo', 'sizes': {'thumb': {'w': 150, 'h': 150, 'resize': 'crop'}, 'medium': {'w': 1024, 'h': 682, 'resize': 'fit'}, 'small': {'w': 680, 'h': 453, 'resize': 'fit'}, 'large': {'w': 1024, 'h': 682, 'resize': 'fit'}}}]}, 'metadata': {'iso_language_code': 'en', 'result_type': 'recent'}, 'source': '<a href=\"http://twitter.com/download/android\" rel=\"nofollow\">Twitter for Android</a>', 'in_reply_to_status_id': None, 'in_reply_to_status_id_str': None, 'in_reply_to_user_id': None, 'in_reply_to_user_id_str': None, 'in_reply_to_screen_name': None, 'user': {'id': 1179336322193838080, 'id_str': '1179336322193838080', 'name': 'TNIE Odisha', 'screen_name': 'XpressOdisha', 'location': 'Bhubaneswar', 'description': 'Official handle of @NewIndianXpress, Odisha. Follow us for latest news and our special reports. You can DM your suggestion and share information.', 'url': 'https://t.co/0zVdgU5FvB', 'entities': {'url': {'urls': [{'url': 'https://t.co/0zVdgU5FvB', 'expanded_url': 'http://www.newindianexpress.com/states/odisha', 'display_url': 'newindianexpress.com/states/odisha', 'indices': [0, 23]}]}, 'description': {'urls': []}}, 'protected': False, 'followers_count': 4996, 'friends_count': 166, 'listed_count': 36, 'created_at': 'Wed Oct 02 10:04:35 +0000 2019', 'favourites_count': 229, 'utc_offset': None, 'time_zone': None, 'geo_enabled': False, 'verified': True, 'statuses_count': 23684, 'lang': None, 'contributors_enabled': False, 'is_translator': False, 'is_translation_enabled': False, 'profile_background_color': 'F5F8FA', 'profile_background_image_url': None, 'profile_background_image_url_https': None, 'profile_background_tile': False, 'profile_image_url': 'http://pbs.twimg.com/profile_images/1191635711956414464/Ka4LMJjH_normal.jpg', 'profile_image_url_https': 'https://pbs.twimg.com/profile_images/1191635711956414464/Ka4LMJjH_normal.jpg', 'profile_banner_url': 'https://pbs.twimg.com/profile_banners/1179336322193838080/1636645183', 'profile_link_color': '1DA1F2', 'profile_sidebar_border_color': 'C0DEED', 'profile_sidebar_fill_color': 'DDEEF6', 'profile_text_color': '333333', 'profile_use_background_image': True, 'has_extended_profile': True, 'default_profile': True, 'default_profile_image': False, 'following': None, 'follow_request_sent': None, 'notifications': None, 'translator_type': 'none', 'withheld_in_countries': []}, 'geo': None, 'coordinates': None, 'place': None, 'contributors': None, 'is_quote_status': False, 'retweet_count': 508, 'favorite_count': 708, 'favorited': False, 'retweeted': False, 'possibly_sensitive': False, 'lang': 'en'}, created_at=datetime.datetime(2022, 8, 14, 8, 50, 45, tzinfo=datetime.timezone.utc), id=1558737880381399040, id_str='1558737880381399040', full_text=\"#IndiaAt75\\n@KIITUniversity and @kissfoundation founder MP @achyuta_samanta and students  join the New Indian Express' #HarGharTiranga Abhiyaan | #Odisha\\n#HarGharTirangaCampaign \\n@NewIndianXpress\\n@HeroMotoCorp @Siba_TNIE #IndependenceDayIndia #IndependenceDay2022 https://t.co/sNoTEzHzeL\", truncated=False, display_text_range=[0, 262], entities={'hashtags': [{'text': 'IndiaAt75', 'indices': [0, 10]}, {'text': 'HarGharTiranga', 'indices': [118, 133]}, {'text': 'Odisha', 'indices': [145, 152]}, {'text': 'HarGharTirangaCampaign', 'indices': [153, 176]}, {'text': 'IndependenceDayIndia', 'indices': [220, 241]}, {'text': 'IndependenceDay2022', 'indices': [242, 262]}], 'symbols': [], 'user_mentions': [{'screen_name': 'KIITUniversity', 'name': 'KIIT - Kalinga Institute of Industrial Technology', 'id': 897726186612248576, 'id_str': '897726186612248576', 'indices': [11, 26]}, {'screen_name': 'kissfoundation', 'name': 'KISS - Kalinga Institute of Social Sciences', 'id': 1408406798, 'id_str': '1408406798', 'indices': [31, 46]}, {'screen_name': 'achyuta_samanta', 'name': 'Achyuta Samanta', 'id': 2887798966, 'id_str': '2887798966', 'indices': [58, 74]}, {'screen_name': 'NewIndianXpress', 'name': 'The New Indian Express', 'id': 94761188, 'id_str': '94761188', 'indices': [178, 194]}, {'screen_name': 'HeroMotoCorp', 'name': 'Hero MotoCorp', 'id': 351538186, 'id_str': '351538186', 'indices': [195, 208]}, {'screen_name': 'Siba_TNIE', 'name': 'Siba Mohanty', 'id': 2908822933, 'id_str': '2908822933', 'indices': [209, 219]}], 'urls': [], 'media': [{'id': 1558737867370680321, 'id_str': '1558737867370680321', 'indices': [263, 286], 'media_url': 'http://pbs.twimg.com/media/FaG_1PKUUAEYZzV.jpg', 'media_url_https': 'https://pbs.twimg.com/media/FaG_1PKUUAEYZzV.jpg', 'url': 'https://t.co/sNoTEzHzeL', 'display_url': 'pic.twitter.com/sNoTEzHzeL', 'expanded_url': 'https://twitter.com/XpressOdisha/status/1558737880381399040/photo/1', 'type': 'photo', 'sizes': {'thumb': {'w': 150, 'h': 150, 'resize': 'crop'}, 'medium': {'w': 1024, 'h': 682, 'resize': 'fit'}, 'large': {'w': 1024, 'h': 682, 'resize': 'fit'}, 'small': {'w': 680, 'h': 453, 'resize': 'fit'}}}]}, extended_entities={'media': [{'id': 1558737867370680321, 'id_str': '1558737867370680321', 'indices': [263, 286], 'media_url': 'http://pbs.twimg.com/media/FaG_1PKUUAEYZzV.jpg', 'media_url_https': 'https://pbs.twimg.com/media/FaG_1PKUUAEYZzV.jpg', 'url': 'https://t.co/sNoTEzHzeL', 'display_url': 'pic.twitter.com/sNoTEzHzeL', 'expanded_url': 'https://twitter.com/XpressOdisha/status/1558737880381399040/photo/1', 'type': 'photo', 'sizes': {'thumb': {'w': 150, 'h': 150, 'resize': 'crop'}, 'medium': {'w': 1024, 'h': 682, 'resize': 'fit'}, 'large': {'w': 1024, 'h': 682, 'resize': 'fit'}, 'small': {'w': 680, 'h': 453, 'resize': 'fit'}}}, {'id': 1558737874165436418, 'id_str': '1558737874165436418', 'indices': [263, 286], 'media_url': 'http://pbs.twimg.com/media/FaG_1oeUEAIbDpl.jpg', 'media_url_https': 'https://pbs.twimg.com/media/FaG_1oeUEAIbDpl.jpg', 'url': 'https://t.co/sNoTEzHzeL', 'display_url': 'pic.twitter.com/sNoTEzHzeL', 'expanded_url': 'https://twitter.com/XpressOdisha/status/1558737880381399040/photo/1', 'type': 'photo', 'sizes': {'thumb': {'w': 150, 'h': 150, 'resize': 'crop'}, 'medium': {'w': 1024, 'h': 682, 'resize': 'fit'}, 'small': {'w': 680, 'h': 453, 'resize': 'fit'}, 'large': {'w': 1024, 'h': 682, 'resize': 'fit'}}}]}, metadata={'iso_language_code': 'en', 'result_type': 'recent'}, source='Twitter for Android', source_url='http://twitter.com/download/android', in_reply_to_status_id=None, in_reply_to_status_id_str=None, in_reply_to_user_id=None, in_reply_to_user_id_str=None, in_reply_to_screen_name=None, author=User(_api=<tweepy.api.API object at 0x00000280A9700D60>, _json={'id': 1179336322193838080, 'id_str': '1179336322193838080', 'name': 'TNIE Odisha', 'screen_name': 'XpressOdisha', 'location': 'Bhubaneswar', 'description': 'Official handle of @NewIndianXpress, Odisha. Follow us for latest news and our special reports. You can DM your suggestion and share information.', 'url': 'https://t.co/0zVdgU5FvB', 'entities': {'url': {'urls': [{'url': 'https://t.co/0zVdgU5FvB', 'expanded_url': 'http://www.newindianexpress.com/states/odisha', 'display_url': 'newindianexpress.com/states/odisha', 'indices': [0, 23]}]}, 'description': {'urls': []}}, 'protected': False, 'followers_count': 4996, 'friends_count': 166, 'listed_count': 36, 'created_at': 'Wed Oct 02 10:04:35 +0000 2019', 'favourites_count': 229, 'utc_offset': None, 'time_zone': None, 'geo_enabled': False, 'verified': True, 'statuses_count': 23684, 'lang': None, 'contributors_enabled': False, 'is_translator': False, 'is_translation_enabled': False, 'profile_background_color': 'F5F8FA', 'profile_background_image_url': None, 'profile_background_image_url_https': None, 'profile_background_tile': False, 'profile_image_url': 'http://pbs.twimg.com/profile_images/1191635711956414464/Ka4LMJjH_normal.jpg', 'profile_image_url_https': 'https://pbs.twimg.com/profile_images/1191635711956414464/Ka4LMJjH_normal.jpg', 'profile_banner_url': 'https://pbs.twimg.com/profile_banners/1179336322193838080/1636645183', 'profile_link_color': '1DA1F2', 'profile_sidebar_border_color': 'C0DEED', 'profile_sidebar_fill_color': 'DDEEF6', 'profile_text_color': '333333', 'profile_use_background_image': True, 'has_extended_profile': True, 'default_profile': True, 'default_profile_image': False, 'following': None, 'follow_request_sent': None, 'notifications': None, 'translator_type': 'none', 'withheld_in_countries': []}, id=1179336322193838080, id_str='1179336322193838080', name='TNIE Odisha', screen_name='XpressOdisha', location='Bhubaneswar', description='Official handle of @NewIndianXpress, Odisha. Follow us for latest news and our special reports. You can DM your suggestion and share information.', url='https://t.co/0zVdgU5FvB', entities={'url': {'urls': [{'url': 'https://t.co/0zVdgU5FvB', 'expanded_url': 'http://www.newindianexpress.com/states/odisha', 'display_url': 'newindianexpress.com/states/odisha', 'indices': [0, 23]}]}, 'description': {'urls': []}}, protected=False, followers_count=4996, friends_count=166, listed_count=36, created_at=datetime.datetime(2019, 10, 2, 10, 4, 35, tzinfo=datetime.timezone.utc), favourites_count=229, utc_offset=None, time_zone=None, geo_enabled=False, verified=True, statuses_count=23684, lang=None, contributors_enabled=False, is_translator=False, is_translation_enabled=False, profile_background_color='F5F8FA', profile_background_image_url=None, profile_background_image_url_https=None, profile_background_tile=False, profile_image_url='http://pbs.twimg.com/profile_images/1191635711956414464/Ka4LMJjH_normal.jpg', profile_image_url_https='https://pbs.twimg.com/profile_images/1191635711956414464/Ka4LMJjH_normal.jpg', profile_banner_url='https://pbs.twimg.com/profile_banners/1179336322193838080/1636645183', profile_link_color='1DA1F2', profile_sidebar_border_color='C0DEED', profile_sidebar_fill_color='DDEEF6', profile_text_color='333333', profile_use_background_image=True, has_extended_profile=True, default_profile=True, default_profile_image=False, following=False, follow_request_sent=None, notifications=None, translator_type='none', withheld_in_countries=[]), user=User(_api=<tweepy.api.API object at 0x00000280A9700D60>, _json={'id': 1179336322193838080, 'id_str': '1179336322193838080', 'name': 'TNIE Odisha', 'screen_name': 'XpressOdisha', 'location': 'Bhubaneswar', 'description': 'Official handle of @NewIndianXpress, Odisha. Follow us for latest news and our special reports. You can DM your suggestion and share information.', 'url': 'https://t.co/0zVdgU5FvB', 'entities': {'url': {'urls': [{'url': 'https://t.co/0zVdgU5FvB', 'expanded_url': 'http://www.newindianexpress.com/states/odisha', 'display_url': 'newindianexpress.com/states/odisha', 'indices': [0, 23]}]}, 'description': {'urls': []}}, 'protected': False, 'followers_count': 4996, 'friends_count': 166, 'listed_count': 36, 'created_at': 'Wed Oct 02 10:04:35 +0000 2019', 'favourites_count': 229, 'utc_offset': None, 'time_zone': None, 'geo_enabled': False, 'verified': True, 'statuses_count': 23684, 'lang': None, 'contributors_enabled': False, 'is_translator': False, 'is_translation_enabled': False, 'profile_background_color': 'F5F8FA', 'profile_background_image_url': None, 'profile_background_image_url_https': None, 'profile_background_tile': False, 'profile_image_url': 'http://pbs.twimg.com/profile_images/1191635711956414464/Ka4LMJjH_normal.jpg', 'profile_image_url_https': 'https://pbs.twimg.com/profile_images/1191635711956414464/Ka4LMJjH_normal.jpg', 'profile_banner_url': 'https://pbs.twimg.com/profile_banners/1179336322193838080/1636645183', 'profile_link_color': '1DA1F2', 'profile_sidebar_border_color': 'C0DEED', 'profile_sidebar_fill_color': 'DDEEF6', 'profile_text_color': '333333', 'profile_use_background_image': True, 'has_extended_profile': True, 'default_profile': True, 'default_profile_image': False, 'following': None, 'follow_request_sent': None, 'notifications': None, 'translator_type': 'none', 'withheld_in_countries': []}, id=1179336322193838080, id_str='1179336322193838080', name='TNIE Odisha', screen_name='XpressOdisha', location='Bhubaneswar', description='Official handle of @NewIndianXpress, Odisha. Follow us for latest news and our special reports. You can DM your suggestion and share information.', url='https://t.co/0zVdgU5FvB', entities={'url': {'urls': [{'url': 'https://t.co/0zVdgU5FvB', 'expanded_url': 'http://www.newindianexpress.com/states/odisha', 'display_url': 'newindianexpress.com/states/odisha', 'indices': [0, 23]}]}, 'description': {'urls': []}}, protected=False, followers_count=4996, friends_count=166, listed_count=36, created_at=datetime.datetime(2019, 10, 2, 10, 4, 35, tzinfo=datetime.timezone.utc), favourites_count=229, utc_offset=None, time_zone=None, geo_enabled=False, verified=True, statuses_count=23684, lang=None, contributors_enabled=False, is_translator=False, is_translation_enabled=False, profile_background_color='F5F8FA', profile_background_image_url=None, profile_background_image_url_https=None, profile_background_tile=False, profile_image_url='http://pbs.twimg.com/profile_images/1191635711956414464/Ka4LMJjH_normal.jpg', profile_image_url_https='https://pbs.twimg.com/profile_images/1191635711956414464/Ka4LMJjH_normal.jpg', profile_banner_url='https://pbs.twimg.com/profile_banners/1179336322193838080/1636645183', profile_link_color='1DA1F2', profile_sidebar_border_color='C0DEED', profile_sidebar_fill_color='DDEEF6', profile_text_color='333333', profile_use_background_image=True, has_extended_profile=True, default_profile=True, default_profile_image=False, following=False, follow_request_sent=None, notifications=None, translator_type='none', withheld_in_countries=[]), geo=None, coordinates=None, place=None, contributors=None, is_quote_status=False, retweet_count=508, favorite_count=708, favorited=False, retweeted=False, possibly_sensitive=False, lang='en'), is_quote_status=False, retweet_count=508, favorite_count=0, favorited=False, retweeted=False, lang='en')\n"
     ]
    }
   ],
   "source": [
    "for tweet in tweets:\n",
    "    print(tweet)\n",
    "    tweet_mentions=[]\n",
    "    a=tweet.entities\n",
    "#     print(a[0][3]['user_mentions'])\n",
    "    data.append([tweet.user.screen_name, tweet.user.name, tweet.full_text, tweet.entities,tweet._json[\"created_at\"], None])"
   ]
  },
  {
   "cell_type": "code",
   "execution_count": 177,
   "id": "921332f1",
   "metadata": {},
   "outputs": [
    {
     "data": {
      "text/html": [
       "<div>\n",
       "<style scoped>\n",
       "    .dataframe tbody tr th:only-of-type {\n",
       "        vertical-align: middle;\n",
       "    }\n",
       "\n",
       "    .dataframe tbody tr th {\n",
       "        vertical-align: top;\n",
       "    }\n",
       "\n",
       "    .dataframe thead th {\n",
       "        text-align: right;\n",
       "    }\n",
       "</style>\n",
       "<table border=\"1\" class=\"dataframe\">\n",
       "  <thead>\n",
       "    <tr style=\"text-align: right;\">\n",
       "      <th></th>\n",
       "      <th>UserID</th>\n",
       "      <th>Name</th>\n",
       "      <th>Tweet</th>\n",
       "      <th>Mentions</th>\n",
       "      <th>Created At</th>\n",
       "      <th>Retweet</th>\n",
       "    </tr>\n",
       "  </thead>\n",
       "  <tbody>\n",
       "    <tr>\n",
       "      <th>0</th>\n",
       "      <td>Chandra92262517</td>\n",
       "      <td>Chandrabhanu Kundu</td>\n",
       "      <td>RT @XpressOdisha: #IndiaAt75\\n@KIITUniversity ...</td>\n",
       "      <td>{'hashtags': [{'text': 'IndiaAt75', 'indices':...</td>\n",
       "      <td>Fri Aug 19 15:05:04 +0000 2022</td>\n",
       "      <td>None</td>\n",
       "    </tr>\n",
       "  </tbody>\n",
       "</table>\n",
       "</div>"
      ],
      "text/plain": [
       "            UserID                Name  \\\n",
       "0  Chandra92262517  Chandrabhanu Kundu   \n",
       "\n",
       "                                               Tweet  \\\n",
       "0  RT @XpressOdisha: #IndiaAt75\\n@KIITUniversity ...   \n",
       "\n",
       "                                            Mentions  \\\n",
       "0  {'hashtags': [{'text': 'IndiaAt75', 'indices':...   \n",
       "\n",
       "                       Created At Retweet  \n",
       "0  Fri Aug 19 15:05:04 +0000 2022    None  "
      ]
     },
     "execution_count": 177,
     "metadata": {},
     "output_type": "execute_result"
    }
   ],
   "source": [
    "df = pd.DataFrame(data, columns=columns)\n",
    "df"
   ]
  },
  {
   "cell_type": "code",
   "execution_count": 178,
   "id": "7ce9ff87",
   "metadata": {
    "scrolled": false
   },
   "outputs": [
    {
     "data": {
      "text/plain": [
       "[['Chandra92262517',\n",
       "  'Chandrabhanu Kundu',\n",
       "  \"RT @XpressOdisha: #IndiaAt75\\n@KIITUniversity and @kissfoundation founder MP @achyuta_samanta and students  join the New Indian Express' #Ha…\",\n",
       "  {'hashtags': [{'text': 'IndiaAt75', 'indices': [18, 28]}],\n",
       "   'symbols': [],\n",
       "   'user_mentions': [{'screen_name': 'XpressOdisha',\n",
       "     'name': 'TNIE Odisha',\n",
       "     'id': 1179336322193838080,\n",
       "     'id_str': '1179336322193838080',\n",
       "     'indices': [3, 16]},\n",
       "    {'screen_name': 'KIITUniversity',\n",
       "     'name': 'KIIT - Kalinga Institute of Industrial Technology',\n",
       "     'id': 897726186612248576,\n",
       "     'id_str': '897726186612248576',\n",
       "     'indices': [29, 44]},\n",
       "    {'screen_name': 'kissfoundation',\n",
       "     'name': 'KISS - Kalinga Institute of Social Sciences',\n",
       "     'id': 1408406798,\n",
       "     'id_str': '1408406798',\n",
       "     'indices': [49, 64]},\n",
       "    {'screen_name': 'achyuta_samanta',\n",
       "     'name': 'Achyuta Samanta',\n",
       "     'id': 2887798966,\n",
       "     'id_str': '2887798966',\n",
       "     'indices': [76, 92]}],\n",
       "   'urls': []},\n",
       "  'Fri Aug 19 15:05:04 +0000 2022',\n",
       "  None]]"
      ]
     },
     "execution_count": 178,
     "metadata": {},
     "output_type": "execute_result"
    }
   ],
   "source": [
    "data"
   ]
  },
  {
   "cell_type": "markdown",
   "id": "7fd062a9",
   "metadata": {},
   "source": [
    "## Extracting User Mentions"
   ]
  },
  {
   "cell_type": "code",
   "execution_count": 179,
   "id": "8e96ec9a",
   "metadata": {},
   "outputs": [
    {
     "name": "stdout",
     "output_type": "stream",
     "text": [
      "['TNIE Odisha', 'KIIT - Kalinga Institute of Industrial Technology', 'KISS - Kalinga Institute of Social Sciences', 'Achyuta Samanta']\n"
     ]
    }
   ],
   "source": [
    "for i in range(len(data)):\n",
    "    tempMention=[data[i][3]['user_mentions'][j]['name'] for j in range(len(data[i][3]['user_mentions']))]\n",
    "    print(tempMention)\n",
    "    data[i][3]=tempMention"
   ]
  },
  {
   "cell_type": "code",
   "execution_count": 180,
   "id": "54551d77",
   "metadata": {},
   "outputs": [
    {
     "data": {
      "text/html": [
       "<div>\n",
       "<style scoped>\n",
       "    .dataframe tbody tr th:only-of-type {\n",
       "        vertical-align: middle;\n",
       "    }\n",
       "\n",
       "    .dataframe tbody tr th {\n",
       "        vertical-align: top;\n",
       "    }\n",
       "\n",
       "    .dataframe thead th {\n",
       "        text-align: right;\n",
       "    }\n",
       "</style>\n",
       "<table border=\"1\" class=\"dataframe\">\n",
       "  <thead>\n",
       "    <tr style=\"text-align: right;\">\n",
       "      <th></th>\n",
       "      <th>UserID</th>\n",
       "      <th>Name</th>\n",
       "      <th>Tweet</th>\n",
       "      <th>Mentions</th>\n",
       "      <th>Created At</th>\n",
       "      <th>Retweet</th>\n",
       "    </tr>\n",
       "  </thead>\n",
       "  <tbody>\n",
       "    <tr>\n",
       "      <th>0</th>\n",
       "      <td>Chandra92262517</td>\n",
       "      <td>Chandrabhanu Kundu</td>\n",
       "      <td>RT @XpressOdisha: #IndiaAt75\\n@KIITUniversity ...</td>\n",
       "      <td>[TNIE Odisha, KIIT - Kalinga Institute of Indu...</td>\n",
       "      <td>Fri Aug 19 15:05:04 +0000 2022</td>\n",
       "      <td>None</td>\n",
       "    </tr>\n",
       "  </tbody>\n",
       "</table>\n",
       "</div>"
      ],
      "text/plain": [
       "            UserID                Name  \\\n",
       "0  Chandra92262517  Chandrabhanu Kundu   \n",
       "\n",
       "                                               Tweet  \\\n",
       "0  RT @XpressOdisha: #IndiaAt75\\n@KIITUniversity ...   \n",
       "\n",
       "                                            Mentions  \\\n",
       "0  [TNIE Odisha, KIIT - Kalinga Institute of Indu...   \n",
       "\n",
       "                       Created At Retweet  \n",
       "0  Fri Aug 19 15:05:04 +0000 2022    None  "
      ]
     },
     "execution_count": 180,
     "metadata": {},
     "output_type": "execute_result"
    }
   ],
   "source": [
    "df = pd.DataFrame(data, columns=columns)\n",
    "df"
   ]
  }
 ],
 "metadata": {
  "kernelspec": {
   "display_name": "Python 3 (ipykernel)",
   "language": "python",
   "name": "python3"
  },
  "language_info": {
   "codemirror_mode": {
    "name": "ipython",
    "version": 3
   },
   "file_extension": ".py",
   "mimetype": "text/x-python",
   "name": "python",
   "nbconvert_exporter": "python",
   "pygments_lexer": "ipython3",
   "version": "3.9.13"
  }
 },
 "nbformat": 4,
 "nbformat_minor": 5
}
