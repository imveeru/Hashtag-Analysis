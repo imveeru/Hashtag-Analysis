{
 "cells": [
  {
   "cell_type": "markdown",
   "id": "241a4fd8",
   "metadata": {},
   "source": [
    "# Hashtag Analysis"
   ]
  },
  {
   "cell_type": "markdown",
   "id": "9eda20bc",
   "metadata": {},
   "source": [
    "## Importing Packages"
   ]
  },
  {
   "cell_type": "code",
   "execution_count": 2,
   "id": "d3a2c643",
   "metadata": {},
   "outputs": [
    {
     "name": "stderr",
     "output_type": "stream",
     "text": [
      "Using state  server backend.\n"
     ]
    }
   ],
   "source": [
    "import tweepy\n",
    "import configparser\n",
    "import pandas as pd\n",
    "import translators as ts"
   ]
  },
  {
   "cell_type": "markdown",
   "id": "33e55eeb",
   "metadata": {},
   "source": [
    "## Initial Configurations"
   ]
  },
  {
   "cell_type": "code",
   "execution_count": 2,
   "id": "2efad5a2",
   "metadata": {},
   "outputs": [
    {
     "data": {
      "text/plain": [
       "['config.ini']"
      ]
     },
     "execution_count": 2,
     "metadata": {},
     "output_type": "execute_result"
    }
   ],
   "source": [
    "config = configparser.ConfigParser()\n",
    "config.read('config.ini')"
   ]
  },
  {
   "cell_type": "code",
   "execution_count": 3,
   "id": "6db0eade",
   "metadata": {},
   "outputs": [],
   "source": [
    "api_key = config['twitter']['api_key']\n",
    "api_key_secret = config['twitter']['api_key_secret']"
   ]
  },
  {
   "cell_type": "code",
   "execution_count": 4,
   "id": "98673dd3",
   "metadata": {
    "scrolled": false
   },
   "outputs": [],
   "source": [
    "auth = tweepy.OAuth2AppHandler(\n",
    "    api_key ,\n",
    "    api_key_secret\n",
    ")\n",
    "api = tweepy.API(auth)"
   ]
  },
  {
   "cell_type": "markdown",
   "id": "4bf5a5ef",
   "metadata": {},
   "source": [
    "## Fetching Data"
   ]
  },
  {
   "cell_type": "code",
   "execution_count": 10,
   "id": "da110812",
   "metadata": {},
   "outputs": [],
   "source": [
    "keywords = '#HarGharTiranga'\n",
    "limit=30000"
   ]
  },
  {
   "cell_type": "code",
   "execution_count": 11,
   "id": "3a0189c6",
   "metadata": {},
   "outputs": [],
   "source": [
    "tweets = tweepy.Cursor(api.search_tweets, q=keywords, count=100, tweet_mode='extended').items(limit)"
   ]
  },
  {
   "cell_type": "code",
   "execution_count": 12,
   "id": "7949635f",
   "metadata": {},
   "outputs": [
    {
     "data": {
      "text/plain": [
       "<tweepy.cursor.ItemIterator at 0x118e92f5c70>"
      ]
     },
     "execution_count": 12,
     "metadata": {},
     "output_type": "execute_result"
    }
   ],
   "source": [
    "tweets"
   ]
  },
  {
   "cell_type": "code",
   "execution_count": 13,
   "id": "09dca9ee",
   "metadata": {},
   "outputs": [],
   "source": [
    "columns = ['UserID', 'Name', 'Tweet', 'Mentions','Created At','Retweet', 'Likes','Location', 'Translated']\n",
    "data = []"
   ]
  },
  {
   "cell_type": "code",
   "execution_count": null,
   "id": "6e23103e",
   "metadata": {
    "scrolled": false
   },
   "outputs": [],
   "source": [
    "for tweet in tweets:\n",
    "    #print(tweet._json)\n",
    "    tweet_mentions=[]\n",
    "    a=tweet.entities\n",
    "    data.append([tweet.user.screen_name, tweet.user.name, tweet.full_text, tweet.entities, tweet.created_at, None, tweet.favorite_count, tweet.user._json[\"location\"],None])"
   ]
  },
  {
   "cell_type": "code",
   "execution_count": 28,
   "id": "921332f1",
   "metadata": {
    "scrolled": true
   },
   "outputs": [
    {
     "data": {
      "text/html": [
       "<div>\n",
       "<style scoped>\n",
       "    .dataframe tbody tr th:only-of-type {\n",
       "        vertical-align: middle;\n",
       "    }\n",
       "\n",
       "    .dataframe tbody tr th {\n",
       "        vertical-align: top;\n",
       "    }\n",
       "\n",
       "    .dataframe thead th {\n",
       "        text-align: right;\n",
       "    }\n",
       "</style>\n",
       "<table border=\"1\" class=\"dataframe\">\n",
       "  <thead>\n",
       "    <tr style=\"text-align: right;\">\n",
       "      <th></th>\n",
       "      <th>UserID</th>\n",
       "      <th>Name</th>\n",
       "      <th>Tweet</th>\n",
       "      <th>Mentions</th>\n",
       "      <th>Created At</th>\n",
       "      <th>Retweet</th>\n",
       "      <th>Likes</th>\n",
       "      <th>Location</th>\n",
       "      <th>Translated</th>\n",
       "    </tr>\n",
       "  </thead>\n",
       "  <tbody>\n",
       "    <tr>\n",
       "      <th>0</th>\n",
       "      <td>KartikDabas7</td>\n",
       "      <td>greatest every</td>\n",
       "      <td>RT @ArtSivasri: Received this picture. This is...</td>\n",
       "      <td>{'hashtags': [{'text': 'HarGharTiranga', 'indi...</td>\n",
       "      <td>2022-09-02 19:18:03+00:00</td>\n",
       "      <td>None</td>\n",
       "      <td>0</td>\n",
       "      <td>India</td>\n",
       "      <td>None</td>\n",
       "    </tr>\n",
       "    <tr>\n",
       "      <th>1</th>\n",
       "      <td>KartikDabas7</td>\n",
       "      <td>greatest every</td>\n",
       "      <td>RT @ArtSivasri: Vande Mataram! Swatantradina n...</td>\n",
       "      <td>{'hashtags': [], 'symbols': [], 'user_mentions...</td>\n",
       "      <td>2022-09-02 19:17:50+00:00</td>\n",
       "      <td>None</td>\n",
       "      <td>0</td>\n",
       "      <td>India</td>\n",
       "      <td>None</td>\n",
       "    </tr>\n",
       "    <tr>\n",
       "      <th>2</th>\n",
       "      <td>skkarthikbjp</td>\n",
       "      <td>Karthikeyan Selvakumar</td>\n",
       "      <td>RT @TNbjpmeenaakshi: #HarGharTirangaCampaign \\...</td>\n",
       "      <td>{'hashtags': [{'text': 'HarGharTirangaCampaign...</td>\n",
       "      <td>2022-09-02 19:17:19+00:00</td>\n",
       "      <td>None</td>\n",
       "      <td>0</td>\n",
       "      <td>Tamil Nadu, India</td>\n",
       "      <td>None</td>\n",
       "    </tr>\n",
       "  </tbody>\n",
       "</table>\n",
       "</div>"
      ],
      "text/plain": [
       "         UserID                    Name  \\\n",
       "0  KartikDabas7          greatest every   \n",
       "1  KartikDabas7          greatest every   \n",
       "2  skkarthikbjp  Karthikeyan Selvakumar   \n",
       "\n",
       "                                               Tweet  \\\n",
       "0  RT @ArtSivasri: Received this picture. This is...   \n",
       "1  RT @ArtSivasri: Vande Mataram! Swatantradina n...   \n",
       "2  RT @TNbjpmeenaakshi: #HarGharTirangaCampaign \\...   \n",
       "\n",
       "                                            Mentions  \\\n",
       "0  {'hashtags': [{'text': 'HarGharTiranga', 'indi...   \n",
       "1  {'hashtags': [], 'symbols': [], 'user_mentions...   \n",
       "2  {'hashtags': [{'text': 'HarGharTirangaCampaign...   \n",
       "\n",
       "                 Created At Retweet  Likes           Location Translated  \n",
       "0 2022-09-02 19:18:03+00:00    None      0             India        None  \n",
       "1 2022-09-02 19:17:50+00:00    None      0             India        None  \n",
       "2 2022-09-02 19:17:19+00:00    None      0  Tamil Nadu, India       None  "
      ]
     },
     "execution_count": 28,
     "metadata": {},
     "output_type": "execute_result"
    }
   ],
   "source": [
    "df = pd.DataFrame(data, columns=columns)\n",
    "df.head(3)"
   ]
  },
  {
   "cell_type": "code",
   "execution_count": null,
   "id": "7ce9ff87",
   "metadata": {
    "scrolled": false
   },
   "outputs": [],
   "source": [
    "#data"
   ]
  },
  {
   "cell_type": "markdown",
   "id": "dbfb201f",
   "metadata": {},
   "source": [
    "## Extracting User Mentions and Retweet Status"
   ]
  },
  {
   "cell_type": "code",
   "execution_count": 31,
   "id": "76348a52",
   "metadata": {},
   "outputs": [
    {
     "ename": "TypeError",
     "evalue": "sequence item 1: expected str instance, NoneType found",
     "output_type": "error",
     "traceback": [
      "\u001b[1;31m---------------------------------------------------------------------------\u001b[0m",
      "\u001b[1;31mTypeError\u001b[0m                                 Traceback (most recent call last)",
      "\u001b[1;32m~\\AppData\\Local\\Temp/ipykernel_27808/832332408.py\u001b[0m in \u001b[0;36m<module>\u001b[1;34m\u001b[0m\n\u001b[0;32m     15\u001b[0m         \u001b[0mdata\u001b[0m\u001b[1;33m[\u001b[0m\u001b[0mi\u001b[0m\u001b[1;33m]\u001b[0m\u001b[1;33m[\u001b[0m\u001b[1;36m5\u001b[0m\u001b[1;33m]\u001b[0m\u001b[1;33m=\u001b[0m\u001b[1;36m0\u001b[0m\u001b[1;33m\u001b[0m\u001b[1;33m\u001b[0m\u001b[0m\n\u001b[0;32m     16\u001b[0m \u001b[1;33m\u001b[0m\u001b[0m\n\u001b[1;32m---> 17\u001b[1;33m     \u001b[0mdata\u001b[0m\u001b[1;33m[\u001b[0m\u001b[0mi\u001b[0m\u001b[1;33m]\u001b[0m\u001b[1;33m[\u001b[0m\u001b[1;36m8\u001b[0m\u001b[1;33m]\u001b[0m\u001b[1;33m=\u001b[0m\u001b[0mts\u001b[0m\u001b[1;33m.\u001b[0m\u001b[0mgoogle\u001b[0m\u001b[1;33m(\u001b[0m\u001b[0mdata\u001b[0m\u001b[1;33m[\u001b[0m\u001b[0mi\u001b[0m\u001b[1;33m]\u001b[0m\u001b[1;33m[\u001b[0m\u001b[1;36m2\u001b[0m\u001b[1;33m]\u001b[0m\u001b[1;33m,\u001b[0m \u001b[0mto_language\u001b[0m\u001b[1;33m=\u001b[0m\u001b[1;34m'en'\u001b[0m\u001b[1;33m)\u001b[0m\u001b[1;33m\u001b[0m\u001b[1;33m\u001b[0m\u001b[0m\n\u001b[0m",
      "\u001b[1;32m~\\AppData\\Local\\Packages\\PythonSoftwareFoundation.Python.3.9_qbz5n2kfra8p0\\LocalCache\\local-packages\\Python39\\site-packages\\translators\\apis.py\u001b[0m in \u001b[0;36mgoogle_api\u001b[1;34m(self, query_text, from_language, to_language, **kwargs)\u001b[0m\n\u001b[0;32m    436\u001b[0m         \u001b[0mtime\u001b[0m\u001b[1;33m.\u001b[0m\u001b[0msleep\u001b[0m\u001b[1;33m(\u001b[0m\u001b[0msleep_seconds\u001b[0m\u001b[1;33m)\u001b[0m\u001b[1;33m\u001b[0m\u001b[1;33m\u001b[0m\u001b[0m\n\u001b[0;32m    437\u001b[0m         \u001b[0mself\u001b[0m\u001b[1;33m.\u001b[0m\u001b[0mquery_count\u001b[0m \u001b[1;33m+=\u001b[0m \u001b[1;36m1\u001b[0m\u001b[1;33m\u001b[0m\u001b[1;33m\u001b[0m\u001b[0m\n\u001b[1;32m--> 438\u001b[1;33m         \u001b[1;32mreturn\u001b[0m \u001b[0mdata\u001b[0m \u001b[1;32mif\u001b[0m \u001b[0mis_detail_result\u001b[0m \u001b[1;32melse\u001b[0m \u001b[1;34m' '\u001b[0m\u001b[1;33m.\u001b[0m\u001b[0mjoin\u001b[0m\u001b[1;33m(\u001b[0m\u001b[1;33m[\u001b[0m\u001b[0mx\u001b[0m\u001b[1;33m[\u001b[0m\u001b[1;36m0\u001b[0m\u001b[1;33m]\u001b[0m \u001b[1;32mfor\u001b[0m \u001b[0mx\u001b[0m \u001b[1;32min\u001b[0m \u001b[1;33m(\u001b[0m\u001b[0mdata\u001b[0m\u001b[1;33m[\u001b[0m\u001b[1;36m1\u001b[0m\u001b[1;33m]\u001b[0m\u001b[1;33m[\u001b[0m\u001b[1;36m0\u001b[0m\u001b[1;33m]\u001b[0m\u001b[1;33m[\u001b[0m\u001b[1;36m0\u001b[0m\u001b[1;33m]\u001b[0m\u001b[1;33m[\u001b[0m\u001b[1;36m5\u001b[0m\u001b[1;33m]\u001b[0m \u001b[1;32mor\u001b[0m \u001b[0mdata\u001b[0m\u001b[1;33m[\u001b[0m\u001b[1;36m1\u001b[0m\u001b[1;33m]\u001b[0m\u001b[1;33m[\u001b[0m\u001b[1;36m0\u001b[0m\u001b[1;33m]\u001b[0m\u001b[1;33m)\u001b[0m\u001b[1;33m]\u001b[0m\u001b[1;33m)\u001b[0m\u001b[1;33m\u001b[0m\u001b[1;33m\u001b[0m\u001b[0m\n\u001b[0m\u001b[0;32m    439\u001b[0m \u001b[1;33m\u001b[0m\u001b[0m\n\u001b[0;32m    440\u001b[0m \u001b[1;33m\u001b[0m\u001b[0m\n",
      "\u001b[1;31mTypeError\u001b[0m: sequence item 1: expected str instance, NoneType found"
     ]
    }
   ],
   "source": [
    "for i in range(len(data)):\n",
    "    \n",
    "    #extracting mentions\n",
    "    \n",
    "    tempMention=[data[i][3]['user_mentions'][j]['name'] for j in range(len(data[i][3]['user_mentions']))]\n",
    "    #print(tempMention)\n",
    "    data[i][3]=tempMention\n",
    "    \n",
    "    #extracting retweet status and updating tweet content\n",
    "    tempTxt=data[i][2][:2]\n",
    "    if tempTxt==\"RT\":\n",
    "        data[i][5]=1\n",
    "        data[i][2]=data[i][2][3:]\n",
    "    else:\n",
    "        data[i][5]=0\n",
    "        "
   ]
  },
  {
   "cell_type": "code",
   "execution_count": 27,
   "id": "e26002ad",
   "metadata": {},
   "outputs": [
    {
     "data": {
      "text/html": [
       "<div>\n",
       "<style scoped>\n",
       "    .dataframe tbody tr th:only-of-type {\n",
       "        vertical-align: middle;\n",
       "    }\n",
       "\n",
       "    .dataframe tbody tr th {\n",
       "        vertical-align: top;\n",
       "    }\n",
       "\n",
       "    .dataframe thead th {\n",
       "        text-align: right;\n",
       "    }\n",
       "</style>\n",
       "<table border=\"1\" class=\"dataframe\">\n",
       "  <thead>\n",
       "    <tr style=\"text-align: right;\">\n",
       "      <th></th>\n",
       "      <th>UserID</th>\n",
       "      <th>Name</th>\n",
       "      <th>Tweet</th>\n",
       "      <th>Mentions</th>\n",
       "      <th>Created At</th>\n",
       "      <th>Retweet</th>\n",
       "      <th>Likes</th>\n",
       "      <th>Location</th>\n",
       "      <th>Translated</th>\n",
       "    </tr>\n",
       "  </thead>\n",
       "  <tbody>\n",
       "    <tr>\n",
       "      <th>0</th>\n",
       "      <td>KartikDabas7</td>\n",
       "      <td>greatest every</td>\n",
       "      <td>RT @ArtSivasri: Received this picture. This is...</td>\n",
       "      <td>{'hashtags': [{'text': 'HarGharTiranga', 'indi...</td>\n",
       "      <td>2022-09-02 19:18:03+00:00</td>\n",
       "      <td>None</td>\n",
       "      <td>0</td>\n",
       "      <td>India</td>\n",
       "      <td>None</td>\n",
       "    </tr>\n",
       "    <tr>\n",
       "      <th>1</th>\n",
       "      <td>KartikDabas7</td>\n",
       "      <td>greatest every</td>\n",
       "      <td>RT @ArtSivasri: Vande Mataram! Swatantradina n...</td>\n",
       "      <td>{'hashtags': [], 'symbols': [], 'user_mentions...</td>\n",
       "      <td>2022-09-02 19:17:50+00:00</td>\n",
       "      <td>None</td>\n",
       "      <td>0</td>\n",
       "      <td>India</td>\n",
       "      <td>None</td>\n",
       "    </tr>\n",
       "    <tr>\n",
       "      <th>2</th>\n",
       "      <td>skkarthikbjp</td>\n",
       "      <td>Karthikeyan Selvakumar</td>\n",
       "      <td>RT @TNbjpmeenaakshi: #HarGharTirangaCampaign \\...</td>\n",
       "      <td>{'hashtags': [{'text': 'HarGharTirangaCampaign...</td>\n",
       "      <td>2022-09-02 19:17:19+00:00</td>\n",
       "      <td>None</td>\n",
       "      <td>0</td>\n",
       "      <td>Tamil Nadu, India</td>\n",
       "      <td>None</td>\n",
       "    </tr>\n",
       "    <tr>\n",
       "      <th>3</th>\n",
       "      <td>RahulVanpully</td>\n",
       "      <td>Rahul</td>\n",
       "      <td>RT @ArtSivasri: Vande Mataram! Swatantradina n...</td>\n",
       "      <td>{'hashtags': [], 'symbols': [], 'user_mentions...</td>\n",
       "      <td>2022-09-02 19:16:49+00:00</td>\n",
       "      <td>None</td>\n",
       "      <td>0</td>\n",
       "      <td>India</td>\n",
       "      <td>None</td>\n",
       "    </tr>\n",
       "    <tr>\n",
       "      <th>4</th>\n",
       "      <td>Nitin1Jain</td>\n",
       "      <td>Namo Nitin Bafna</td>\n",
       "      <td>RT @narendramodi: Azadi Ka Amrit Mahotsav has ...</td>\n",
       "      <td>{'hashtags': [{'text': 'HarGharTiranga', 'indi...</td>\n",
       "      <td>2022-09-02 19:15:30+00:00</td>\n",
       "      <td>None</td>\n",
       "      <td>0</td>\n",
       "      <td>India</td>\n",
       "      <td>None</td>\n",
       "    </tr>\n",
       "    <tr>\n",
       "      <th>...</th>\n",
       "      <td>...</td>\n",
       "      <td>...</td>\n",
       "      <td>...</td>\n",
       "      <td>...</td>\n",
       "      <td>...</td>\n",
       "      <td>...</td>\n",
       "      <td>...</td>\n",
       "      <td>...</td>\n",
       "      <td>...</td>\n",
       "    </tr>\n",
       "    <tr>\n",
       "      <th>35952</th>\n",
       "      <td>Nagaman71001491</td>\n",
       "      <td>Nagamani</td>\n",
       "      <td>RT @mla_sudhakar: ತಮ್ಮ ಉಸಿರು ಉಸಿರಿನಲ್ಲೂ ಸ್ವಾತಂ...</td>\n",
       "      <td>{'hashtags': [], 'symbols': [], 'user_mentions...</td>\n",
       "      <td>2022-08-24 15:42:49+00:00</td>\n",
       "      <td>None</td>\n",
       "      <td>0</td>\n",
       "      <td></td>\n",
       "      <td>None</td>\n",
       "    </tr>\n",
       "    <tr>\n",
       "      <th>35953</th>\n",
       "      <td>leaderpspk02</td>\n",
       "      <td>Shankar</td>\n",
       "      <td>RT @PawanKalyan: In every ‘JanaSena’ meeting w...</td>\n",
       "      <td>{'hashtags': [{'text': 'HarGharTiranga', 'indi...</td>\n",
       "      <td>2022-08-24 15:36:20+00:00</td>\n",
       "      <td>None</td>\n",
       "      <td>0</td>\n",
       "      <td></td>\n",
       "      <td>None</td>\n",
       "    </tr>\n",
       "    <tr>\n",
       "      <th>35954</th>\n",
       "      <td>MDSakib55679963</td>\n",
       "      <td>MD Sakib</td>\n",
       "      <td>RT @Harsimrankang0: #KashmirMainHarGharTiranga...</td>\n",
       "      <td>{'hashtags': [{'text': 'KashmirMainHarGharTira...</td>\n",
       "      <td>2022-08-24 15:25:58+00:00</td>\n",
       "      <td>None</td>\n",
       "      <td>0</td>\n",
       "      <td></td>\n",
       "      <td>None</td>\n",
       "    </tr>\n",
       "    <tr>\n",
       "      <th>35955</th>\n",
       "      <td>somra_hansda834</td>\n",
       "      <td>🔰✝️SØMRĀ HÅÑSDĀ✝️🔰</td>\n",
       "      <td>RT @NSeraikella: Independence Day alongwith #H...</td>\n",
       "      <td>{'hashtags': [{'text': 'HarGharTiranga', 'indi...</td>\n",
       "      <td>2022-08-24 15:15:01+00:00</td>\n",
       "      <td>None</td>\n",
       "      <td>0</td>\n",
       "      <td>Chandil, India</td>\n",
       "      <td>None</td>\n",
       "    </tr>\n",
       "    <tr>\n",
       "      <th>35956</th>\n",
       "      <td>BharatPhonde5</td>\n",
       "      <td>Bharat Phonde</td>\n",
       "      <td>RT @Hardeep93701695: Glimpses of  HarGharTiran...</td>\n",
       "      <td>{'hashtags': [{'text': 'HarGharTiranga', 'indi...</td>\n",
       "      <td>2022-08-24 15:13:15+00:00</td>\n",
       "      <td>None</td>\n",
       "      <td>0</td>\n",
       "      <td></td>\n",
       "      <td>None</td>\n",
       "    </tr>\n",
       "  </tbody>\n",
       "</table>\n",
       "<p>35957 rows × 9 columns</p>\n",
       "</div>"
      ],
      "text/plain": [
       "                UserID                    Name  \\\n",
       "0         KartikDabas7          greatest every   \n",
       "1         KartikDabas7          greatest every   \n",
       "2         skkarthikbjp  Karthikeyan Selvakumar   \n",
       "3        RahulVanpully                   Rahul   \n",
       "4           Nitin1Jain        Namo Nitin Bafna   \n",
       "...                ...                     ...   \n",
       "35952  Nagaman71001491                Nagamani   \n",
       "35953     leaderpspk02                 Shankar   \n",
       "35954  MDSakib55679963                MD Sakib   \n",
       "35955  somra_hansda834      🔰✝️SØMRĀ HÅÑSDĀ✝️🔰   \n",
       "35956    BharatPhonde5           Bharat Phonde   \n",
       "\n",
       "                                                   Tweet  \\\n",
       "0      RT @ArtSivasri: Received this picture. This is...   \n",
       "1      RT @ArtSivasri: Vande Mataram! Swatantradina n...   \n",
       "2      RT @TNbjpmeenaakshi: #HarGharTirangaCampaign \\...   \n",
       "3      RT @ArtSivasri: Vande Mataram! Swatantradina n...   \n",
       "4      RT @narendramodi: Azadi Ka Amrit Mahotsav has ...   \n",
       "...                                                  ...   \n",
       "35952  RT @mla_sudhakar: ತಮ್ಮ ಉಸಿರು ಉಸಿರಿನಲ್ಲೂ ಸ್ವಾತಂ...   \n",
       "35953  RT @PawanKalyan: In every ‘JanaSena’ meeting w...   \n",
       "35954  RT @Harsimrankang0: #KashmirMainHarGharTiranga...   \n",
       "35955  RT @NSeraikella: Independence Day alongwith #H...   \n",
       "35956  RT @Hardeep93701695: Glimpses of  HarGharTiran...   \n",
       "\n",
       "                                                Mentions  \\\n",
       "0      {'hashtags': [{'text': 'HarGharTiranga', 'indi...   \n",
       "1      {'hashtags': [], 'symbols': [], 'user_mentions...   \n",
       "2      {'hashtags': [{'text': 'HarGharTirangaCampaign...   \n",
       "3      {'hashtags': [], 'symbols': [], 'user_mentions...   \n",
       "4      {'hashtags': [{'text': 'HarGharTiranga', 'indi...   \n",
       "...                                                  ...   \n",
       "35952  {'hashtags': [], 'symbols': [], 'user_mentions...   \n",
       "35953  {'hashtags': [{'text': 'HarGharTiranga', 'indi...   \n",
       "35954  {'hashtags': [{'text': 'KashmirMainHarGharTira...   \n",
       "35955  {'hashtags': [{'text': 'HarGharTiranga', 'indi...   \n",
       "35956  {'hashtags': [{'text': 'HarGharTiranga', 'indi...   \n",
       "\n",
       "                     Created At Retweet  Likes           Location Translated  \n",
       "0     2022-09-02 19:18:03+00:00    None      0             India        None  \n",
       "1     2022-09-02 19:17:50+00:00    None      0             India        None  \n",
       "2     2022-09-02 19:17:19+00:00    None      0  Tamil Nadu, India       None  \n",
       "3     2022-09-02 19:16:49+00:00    None      0              India       None  \n",
       "4     2022-09-02 19:15:30+00:00    None      0              India       None  \n",
       "...                         ...     ...    ...                ...        ...  \n",
       "35952 2022-08-24 15:42:49+00:00    None      0                          None  \n",
       "35953 2022-08-24 15:36:20+00:00    None      0                          None  \n",
       "35954 2022-08-24 15:25:58+00:00    None      0                          None  \n",
       "35955 2022-08-24 15:15:01+00:00    None      0     Chandil, India       None  \n",
       "35956 2022-08-24 15:13:15+00:00    None      0                          None  \n",
       "\n",
       "[35957 rows x 9 columns]"
      ]
     },
     "execution_count": 27,
     "metadata": {},
     "output_type": "execute_result"
    }
   ],
   "source": [
    "df = pd.DataFrame(data, columns=columns)\n",
    "df"
   ]
  },
  {
   "cell_type": "code",
   "execution_count": 14,
   "id": "9a523d09",
   "metadata": {},
   "outputs": [],
   "source": [
    "df.to_csv('twitter_data.csv')"
   ]
  },
  {
   "cell_type": "markdown",
   "id": "69671131",
   "metadata": {},
   "source": [
    "### Translating tweets"
   ]
  },
  {
   "cell_type": "code",
   "execution_count": null,
   "id": "71a1ec8e",
   "metadata": {},
   "outputs": [],
   "source": [
    "tweet_text=tweet_df['Tweet']\n",
    "translated=[]\n",
    "\n",
    "for i in range(len(tweet_text)):\n",
    "    if tweet_text[i]!=None:\n",
    "        try:\n",
    "            tempText=ts.google(tweet_text[i])\n",
    "            translated.append(tempText)\n",
    "        except:\n",
    "            print(i)\n",
    "            \n",
    "    else:\n",
    "        print(i)"
   ]
  },
  {
   "cell_type": "code",
   "execution_count": null,
   "id": "65de404c",
   "metadata": {},
   "outputs": [],
   "source": [
    "translated"
   ]
  }
 ],
 "metadata": {
  "kernelspec": {
   "display_name": "Python 3 (ipykernel)",
   "language": "python",
   "name": "python3"
  },
  "language_info": {
   "codemirror_mode": {
    "name": "ipython",
    "version": 3
   },
   "file_extension": ".py",
   "mimetype": "text/x-python",
   "name": "python",
   "nbconvert_exporter": "python",
   "pygments_lexer": "ipython3",
   "version": "3.9.13"
  }
 },
 "nbformat": 4,
 "nbformat_minor": 5
}
